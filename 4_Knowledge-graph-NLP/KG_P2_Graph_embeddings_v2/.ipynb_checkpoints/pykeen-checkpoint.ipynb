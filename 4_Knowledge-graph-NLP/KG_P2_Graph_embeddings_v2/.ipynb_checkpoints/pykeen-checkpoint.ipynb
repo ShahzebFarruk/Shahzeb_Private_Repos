{
 "cells": [
  {
   "cell_type": "code",
   "execution_count": 1,
   "metadata": {},
   "outputs": [],
   "source": [
    "import getpass\n",
    "import os\n",
    "import sys\n",
    "import time\n",
    "\n",
    "import matplotlib.pyplot as plt\n",
    "import pandas as pd\n",
    "import pykeen\n",
    "import torch\n",
    "from pykeen.pipeline import pipeline\n",
    "\n",
    "%matplotlib inline"
   ]
  },
  {
   "cell_type": "code",
   "execution_count": 2,
   "metadata": {},
   "outputs": [
    {
     "name": "stdout",
     "output_type": "stream",
     "text": [
      "3.8.3 (default, Jul  2 2020, 17:30:36) [MSC v.1916 64 bit (AMD64)]\n"
     ]
    }
   ],
   "source": [
    "print(sys.version)"
   ]
  },
  {
   "cell_type": "code",
   "execution_count": 3,
   "metadata": {},
   "outputs": [
    {
     "name": "stdout",
     "output_type": "stream",
     "text": [
      "Sun Mar 14 13:35:38 2021\n"
     ]
    }
   ],
   "source": [
    "print(time.asctime())"
   ]
  },
  {
   "cell_type": "code",
   "execution_count": 4,
   "metadata": {},
   "outputs": [
    {
     "name": "stdout",
     "output_type": "stream",
     "text": [
      "shahz\n"
     ]
    }
   ],
   "source": [
    "\n",
    "print(getpass.getuser())"
   ]
  },
  {
   "cell_type": "code",
   "execution_count": 5,
   "metadata": {},
   "outputs": [
    {
     "name": "stdout",
     "output_type": "stream",
     "text": [
      "1.4.0-UNHASHED\n"
     ]
    }
   ],
   "source": [
    "print(pykeen.get_version(with_git_hash=True))"
   ]
  },
  {
   "cell_type": "code",
   "execution_count": 110,
   "metadata": {
    "scrolled": true
   },
   "outputs": [
    {
     "data": {
      "application/vnd.jupyter.widget-view+json": {
       "model_id": "e97ef331983b4c2a8481f30a1887833f",
       "version_major": 2,
       "version_minor": 0
      },
      "text/plain": [
       "HBox(children=(FloatProgress(value=0.0, description='Training epochs on cpu', style=ProgressStyle(description_…"
      ]
     },
     "metadata": {},
     "output_type": "display_data"
    },
    {
     "data": {
      "application/vnd.jupyter.widget-view+json": {
       "model_id": "",
       "version_major": 2,
       "version_minor": 0
      },
      "text/plain": [
       "HBox(children=(FloatProgress(value=0.0, description='Training batches on cpu', max=7.0, style=ProgressStyle(de…"
      ]
     },
     "metadata": {},
     "output_type": "display_data"
    },
    {
     "data": {
      "application/vnd.jupyter.widget-view+json": {
       "model_id": "",
       "version_major": 2,
       "version_minor": 0
      },
      "text/plain": [
       "HBox(children=(FloatProgress(value=0.0, description='Training batches on cpu', max=7.0, style=ProgressStyle(de…"
      ]
     },
     "metadata": {},
     "output_type": "display_data"
    },
    {
     "data": {
      "application/vnd.jupyter.widget-view+json": {
       "model_id": "",
       "version_major": 2,
       "version_minor": 0
      },
      "text/plain": [
       "HBox(children=(FloatProgress(value=0.0, description='Training batches on cpu', max=7.0, style=ProgressStyle(de…"
      ]
     },
     "metadata": {},
     "output_type": "display_data"
    },
    {
     "data": {
      "application/vnd.jupyter.widget-view+json": {
       "model_id": "",
       "version_major": 2,
       "version_minor": 0
      },
      "text/plain": [
       "HBox(children=(FloatProgress(value=0.0, description='Training batches on cpu', max=7.0, style=ProgressStyle(de…"
      ]
     },
     "metadata": {},
     "output_type": "display_data"
    },
    {
     "data": {
      "application/vnd.jupyter.widget-view+json": {
       "model_id": "",
       "version_major": 2,
       "version_minor": 0
      },
      "text/plain": [
       "HBox(children=(FloatProgress(value=0.0, description='Training batches on cpu', max=7.0, style=ProgressStyle(de…"
      ]
     },
     "metadata": {},
     "output_type": "display_data"
    },
    {
     "data": {
      "application/vnd.jupyter.widget-view+json": {
       "model_id": "",
       "version_major": 2,
       "version_minor": 0
      },
      "text/plain": [
       "HBox(children=(FloatProgress(value=0.0, description='Training batches on cpu', max=7.0, style=ProgressStyle(de…"
      ]
     },
     "metadata": {},
     "output_type": "display_data"
    },
    {
     "data": {
      "application/vnd.jupyter.widget-view+json": {
       "model_id": "",
       "version_major": 2,
       "version_minor": 0
      },
      "text/plain": [
       "HBox(children=(FloatProgress(value=0.0, description='Training batches on cpu', max=7.0, style=ProgressStyle(de…"
      ]
     },
     "metadata": {},
     "output_type": "display_data"
    },
    {
     "data": {
      "application/vnd.jupyter.widget-view+json": {
       "model_id": "",
       "version_major": 2,
       "version_minor": 0
      },
      "text/plain": [
       "HBox(children=(FloatProgress(value=0.0, description='Training batches on cpu', max=7.0, style=ProgressStyle(de…"
      ]
     },
     "metadata": {},
     "output_type": "display_data"
    },
    {
     "data": {
      "application/vnd.jupyter.widget-view+json": {
       "model_id": "",
       "version_major": 2,
       "version_minor": 0
      },
      "text/plain": [
       "HBox(children=(FloatProgress(value=0.0, description='Training batches on cpu', max=7.0, style=ProgressStyle(de…"
      ]
     },
     "metadata": {},
     "output_type": "display_data"
    },
    {
     "data": {
      "application/vnd.jupyter.widget-view+json": {
       "model_id": "",
       "version_major": 2,
       "version_minor": 0
      },
      "text/plain": [
       "HBox(children=(FloatProgress(value=0.0, description='Training batches on cpu', max=7.0, style=ProgressStyle(de…"
      ]
     },
     "metadata": {},
     "output_type": "display_data"
    },
    {
     "data": {
      "application/vnd.jupyter.widget-view+json": {
       "model_id": "",
       "version_major": 2,
       "version_minor": 0
      },
      "text/plain": [
       "HBox(children=(FloatProgress(value=0.0, description='Training batches on cpu', max=7.0, style=ProgressStyle(de…"
      ]
     },
     "metadata": {},
     "output_type": "display_data"
    },
    {
     "data": {
      "application/vnd.jupyter.widget-view+json": {
       "model_id": "",
       "version_major": 2,
       "version_minor": 0
      },
      "text/plain": [
       "HBox(children=(FloatProgress(value=0.0, description='Training batches on cpu', max=7.0, style=ProgressStyle(de…"
      ]
     },
     "metadata": {},
     "output_type": "display_data"
    },
    {
     "data": {
      "application/vnd.jupyter.widget-view+json": {
       "model_id": "",
       "version_major": 2,
       "version_minor": 0
      },
      "text/plain": [
       "HBox(children=(FloatProgress(value=0.0, description='Training batches on cpu', max=7.0, style=ProgressStyle(de…"
      ]
     },
     "metadata": {},
     "output_type": "display_data"
    },
    {
     "data": {
      "application/vnd.jupyter.widget-view+json": {
       "model_id": "",
       "version_major": 2,
       "version_minor": 0
      },
      "text/plain": [
       "HBox(children=(FloatProgress(value=0.0, description='Training batches on cpu', max=7.0, style=ProgressStyle(de…"
      ]
     },
     "metadata": {},
     "output_type": "display_data"
    },
    {
     "data": {
      "application/vnd.jupyter.widget-view+json": {
       "model_id": "",
       "version_major": 2,
       "version_minor": 0
      },
      "text/plain": [
       "HBox(children=(FloatProgress(value=0.0, description='Training batches on cpu', max=7.0, style=ProgressStyle(de…"
      ]
     },
     "metadata": {},
     "output_type": "display_data"
    },
    {
     "data": {
      "application/vnd.jupyter.widget-view+json": {
       "model_id": "",
       "version_major": 2,
       "version_minor": 0
      },
      "text/plain": [
       "HBox(children=(FloatProgress(value=0.0, description='Training batches on cpu', max=7.0, style=ProgressStyle(de…"
      ]
     },
     "metadata": {},
     "output_type": "display_data"
    },
    {
     "data": {
      "application/vnd.jupyter.widget-view+json": {
       "model_id": "",
       "version_major": 2,
       "version_minor": 0
      },
      "text/plain": [
       "HBox(children=(FloatProgress(value=0.0, description='Training batches on cpu', max=7.0, style=ProgressStyle(de…"
      ]
     },
     "metadata": {},
     "output_type": "display_data"
    },
    {
     "data": {
      "application/vnd.jupyter.widget-view+json": {
       "model_id": "",
       "version_major": 2,
       "version_minor": 0
      },
      "text/plain": [
       "HBox(children=(FloatProgress(value=0.0, description='Training batches on cpu', max=7.0, style=ProgressStyle(de…"
      ]
     },
     "metadata": {},
     "output_type": "display_data"
    },
    {
     "data": {
      "application/vnd.jupyter.widget-view+json": {
       "model_id": "",
       "version_major": 2,
       "version_minor": 0
      },
      "text/plain": [
       "HBox(children=(FloatProgress(value=0.0, description='Training batches on cpu', max=7.0, style=ProgressStyle(de…"
      ]
     },
     "metadata": {},
     "output_type": "display_data"
    },
    {
     "data": {
      "application/vnd.jupyter.widget-view+json": {
       "model_id": "",
       "version_major": 2,
       "version_minor": 0
      },
      "text/plain": [
       "HBox(children=(FloatProgress(value=0.0, description='Training batches on cpu', max=7.0, style=ProgressStyle(de…"
      ]
     },
     "metadata": {},
     "output_type": "display_data"
    },
    {
     "data": {
      "application/vnd.jupyter.widget-view+json": {
       "model_id": "",
       "version_major": 2,
       "version_minor": 0
      },
      "text/plain": [
       "HBox(children=(FloatProgress(value=0.0, description='Training batches on cpu', max=7.0, style=ProgressStyle(de…"
      ]
     },
     "metadata": {},
     "output_type": "display_data"
    },
    {
     "data": {
      "application/vnd.jupyter.widget-view+json": {
       "model_id": "",
       "version_major": 2,
       "version_minor": 0
      },
      "text/plain": [
       "HBox(children=(FloatProgress(value=0.0, description='Training batches on cpu', max=7.0, style=ProgressStyle(de…"
      ]
     },
     "metadata": {},
     "output_type": "display_data"
    },
    {
     "data": {
      "application/vnd.jupyter.widget-view+json": {
       "model_id": "",
       "version_major": 2,
       "version_minor": 0
      },
      "text/plain": [
       "HBox(children=(FloatProgress(value=0.0, description='Training batches on cpu', max=7.0, style=ProgressStyle(de…"
      ]
     },
     "metadata": {},
     "output_type": "display_data"
    },
    {
     "data": {
      "application/vnd.jupyter.widget-view+json": {
       "model_id": "",
       "version_major": 2,
       "version_minor": 0
      },
      "text/plain": [
       "HBox(children=(FloatProgress(value=0.0, description='Training batches on cpu', max=7.0, style=ProgressStyle(de…"
      ]
     },
     "metadata": {},
     "output_type": "display_data"
    },
    {
     "data": {
      "application/vnd.jupyter.widget-view+json": {
       "model_id": "",
       "version_major": 2,
       "version_minor": 0
      },
      "text/plain": [
       "HBox(children=(FloatProgress(value=0.0, description='Training batches on cpu', max=7.0, style=ProgressStyle(de…"
      ]
     },
     "metadata": {},
     "output_type": "display_data"
    },
    {
     "data": {
      "application/vnd.jupyter.widget-view+json": {
       "model_id": "",
       "version_major": 2,
       "version_minor": 0
      },
      "text/plain": [
       "HBox(children=(FloatProgress(value=0.0, description='Training batches on cpu', max=7.0, style=ProgressStyle(de…"
      ]
     },
     "metadata": {},
     "output_type": "display_data"
    },
    {
     "data": {
      "application/vnd.jupyter.widget-view+json": {
       "model_id": "",
       "version_major": 2,
       "version_minor": 0
      },
      "text/plain": [
       "HBox(children=(FloatProgress(value=0.0, description='Training batches on cpu', max=7.0, style=ProgressStyle(de…"
      ]
     },
     "metadata": {},
     "output_type": "display_data"
    },
    {
     "data": {
      "application/vnd.jupyter.widget-view+json": {
       "model_id": "",
       "version_major": 2,
       "version_minor": 0
      },
      "text/plain": [
       "HBox(children=(FloatProgress(value=0.0, description='Training batches on cpu', max=7.0, style=ProgressStyle(de…"
      ]
     },
     "metadata": {},
     "output_type": "display_data"
    },
    {
     "data": {
      "application/vnd.jupyter.widget-view+json": {
       "model_id": "",
       "version_major": 2,
       "version_minor": 0
      },
      "text/plain": [
       "HBox(children=(FloatProgress(value=0.0, description='Training batches on cpu', max=7.0, style=ProgressStyle(de…"
      ]
     },
     "metadata": {},
     "output_type": "display_data"
    },
    {
     "data": {
      "application/vnd.jupyter.widget-view+json": {
       "model_id": "",
       "version_major": 2,
       "version_minor": 0
      },
      "text/plain": [
       "HBox(children=(FloatProgress(value=0.0, description='Training batches on cpu', max=7.0, style=ProgressStyle(de…"
      ]
     },
     "metadata": {},
     "output_type": "display_data"
    },
    {
     "data": {
      "application/vnd.jupyter.widget-view+json": {
       "model_id": "",
       "version_major": 2,
       "version_minor": 0
      },
      "text/plain": [
       "HBox(children=(FloatProgress(value=0.0, description='Training batches on cpu', max=7.0, style=ProgressStyle(de…"
      ]
     },
     "metadata": {},
     "output_type": "display_data"
    },
    {
     "data": {
      "application/vnd.jupyter.widget-view+json": {
       "model_id": "",
       "version_major": 2,
       "version_minor": 0
      },
      "text/plain": [
       "HBox(children=(FloatProgress(value=0.0, description='Training batches on cpu', max=7.0, style=ProgressStyle(de…"
      ]
     },
     "metadata": {},
     "output_type": "display_data"
    },
    {
     "data": {
      "application/vnd.jupyter.widget-view+json": {
       "model_id": "",
       "version_major": 2,
       "version_minor": 0
      },
      "text/plain": [
       "HBox(children=(FloatProgress(value=0.0, description='Training batches on cpu', max=7.0, style=ProgressStyle(de…"
      ]
     },
     "metadata": {},
     "output_type": "display_data"
    },
    {
     "data": {
      "application/vnd.jupyter.widget-view+json": {
       "model_id": "",
       "version_major": 2,
       "version_minor": 0
      },
      "text/plain": [
       "HBox(children=(FloatProgress(value=0.0, description='Training batches on cpu', max=7.0, style=ProgressStyle(de…"
      ]
     },
     "metadata": {},
     "output_type": "display_data"
    },
    {
     "data": {
      "application/vnd.jupyter.widget-view+json": {
       "model_id": "",
       "version_major": 2,
       "version_minor": 0
      },
      "text/plain": [
       "HBox(children=(FloatProgress(value=0.0, description='Training batches on cpu', max=7.0, style=ProgressStyle(de…"
      ]
     },
     "metadata": {},
     "output_type": "display_data"
    },
    {
     "data": {
      "application/vnd.jupyter.widget-view+json": {
       "model_id": "",
       "version_major": 2,
       "version_minor": 0
      },
      "text/plain": [
       "HBox(children=(FloatProgress(value=0.0, description='Training batches on cpu', max=7.0, style=ProgressStyle(de…"
      ]
     },
     "metadata": {},
     "output_type": "display_data"
    },
    {
     "data": {
      "application/vnd.jupyter.widget-view+json": {
       "model_id": "",
       "version_major": 2,
       "version_minor": 0
      },
      "text/plain": [
       "HBox(children=(FloatProgress(value=0.0, description='Training batches on cpu', max=7.0, style=ProgressStyle(de…"
      ]
     },
     "metadata": {},
     "output_type": "display_data"
    },
    {
     "data": {
      "application/vnd.jupyter.widget-view+json": {
       "model_id": "",
       "version_major": 2,
       "version_minor": 0
      },
      "text/plain": [
       "HBox(children=(FloatProgress(value=0.0, description='Training batches on cpu', max=7.0, style=ProgressStyle(de…"
      ]
     },
     "metadata": {},
     "output_type": "display_data"
    },
    {
     "data": {
      "application/vnd.jupyter.widget-view+json": {
       "model_id": "",
       "version_major": 2,
       "version_minor": 0
      },
      "text/plain": [
       "HBox(children=(FloatProgress(value=0.0, description='Training batches on cpu', max=7.0, style=ProgressStyle(de…"
      ]
     },
     "metadata": {},
     "output_type": "display_data"
    },
    {
     "data": {
      "application/vnd.jupyter.widget-view+json": {
       "model_id": "",
       "version_major": 2,
       "version_minor": 0
      },
      "text/plain": [
       "HBox(children=(FloatProgress(value=0.0, description='Training batches on cpu', max=7.0, style=ProgressStyle(de…"
      ]
     },
     "metadata": {},
     "output_type": "display_data"
    },
    {
     "data": {
      "application/vnd.jupyter.widget-view+json": {
       "model_id": "",
       "version_major": 2,
       "version_minor": 0
      },
      "text/plain": [
       "HBox(children=(FloatProgress(value=0.0, description='Training batches on cpu', max=7.0, style=ProgressStyle(de…"
      ]
     },
     "metadata": {},
     "output_type": "display_data"
    },
    {
     "data": {
      "application/vnd.jupyter.widget-view+json": {
       "model_id": "",
       "version_major": 2,
       "version_minor": 0
      },
      "text/plain": [
       "HBox(children=(FloatProgress(value=0.0, description='Training batches on cpu', max=7.0, style=ProgressStyle(de…"
      ]
     },
     "metadata": {},
     "output_type": "display_data"
    },
    {
     "data": {
      "application/vnd.jupyter.widget-view+json": {
       "model_id": "",
       "version_major": 2,
       "version_minor": 0
      },
      "text/plain": [
       "HBox(children=(FloatProgress(value=0.0, description='Training batches on cpu', max=7.0, style=ProgressStyle(de…"
      ]
     },
     "metadata": {},
     "output_type": "display_data"
    },
    {
     "data": {
      "application/vnd.jupyter.widget-view+json": {
       "model_id": "",
       "version_major": 2,
       "version_minor": 0
      },
      "text/plain": [
       "HBox(children=(FloatProgress(value=0.0, description='Training batches on cpu', max=7.0, style=ProgressStyle(de…"
      ]
     },
     "metadata": {},
     "output_type": "display_data"
    },
    {
     "data": {
      "application/vnd.jupyter.widget-view+json": {
       "model_id": "",
       "version_major": 2,
       "version_minor": 0
      },
      "text/plain": [
       "HBox(children=(FloatProgress(value=0.0, description='Training batches on cpu', max=7.0, style=ProgressStyle(de…"
      ]
     },
     "metadata": {},
     "output_type": "display_data"
    },
    {
     "data": {
      "application/vnd.jupyter.widget-view+json": {
       "model_id": "",
       "version_major": 2,
       "version_minor": 0
      },
      "text/plain": [
       "HBox(children=(FloatProgress(value=0.0, description='Training batches on cpu', max=7.0, style=ProgressStyle(de…"
      ]
     },
     "metadata": {},
     "output_type": "display_data"
    },
    {
     "data": {
      "application/vnd.jupyter.widget-view+json": {
       "model_id": "",
       "version_major": 2,
       "version_minor": 0
      },
      "text/plain": [
       "HBox(children=(FloatProgress(value=0.0, description='Training batches on cpu', max=7.0, style=ProgressStyle(de…"
      ]
     },
     "metadata": {},
     "output_type": "display_data"
    },
    {
     "data": {
      "application/vnd.jupyter.widget-view+json": {
       "model_id": "",
       "version_major": 2,
       "version_minor": 0
      },
      "text/plain": [
       "HBox(children=(FloatProgress(value=0.0, description='Training batches on cpu', max=7.0, style=ProgressStyle(de…"
      ]
     },
     "metadata": {},
     "output_type": "display_data"
    },
    {
     "data": {
      "application/vnd.jupyter.widget-view+json": {
       "model_id": "",
       "version_major": 2,
       "version_minor": 0
      },
      "text/plain": [
       "HBox(children=(FloatProgress(value=0.0, description='Training batches on cpu', max=7.0, style=ProgressStyle(de…"
      ]
     },
     "metadata": {},
     "output_type": "display_data"
    },
    {
     "data": {
      "application/vnd.jupyter.widget-view+json": {
       "model_id": "",
       "version_major": 2,
       "version_minor": 0
      },
      "text/plain": [
       "HBox(children=(FloatProgress(value=0.0, description='Training batches on cpu', max=7.0, style=ProgressStyle(de…"
      ]
     },
     "metadata": {},
     "output_type": "display_data"
    },
    {
     "data": {
      "application/vnd.jupyter.widget-view+json": {
       "model_id": "",
       "version_major": 2,
       "version_minor": 0
      },
      "text/plain": [
       "HBox(children=(FloatProgress(value=0.0, description='Training batches on cpu', max=7.0, style=ProgressStyle(de…"
      ]
     },
     "metadata": {},
     "output_type": "display_data"
    },
    {
     "data": {
      "application/vnd.jupyter.widget-view+json": {
       "model_id": "",
       "version_major": 2,
       "version_minor": 0
      },
      "text/plain": [
       "HBox(children=(FloatProgress(value=0.0, description='Training batches on cpu', max=7.0, style=ProgressStyle(de…"
      ]
     },
     "metadata": {},
     "output_type": "display_data"
    },
    {
     "data": {
      "application/vnd.jupyter.widget-view+json": {
       "model_id": "",
       "version_major": 2,
       "version_minor": 0
      },
      "text/plain": [
       "HBox(children=(FloatProgress(value=0.0, description='Training batches on cpu', max=7.0, style=ProgressStyle(de…"
      ]
     },
     "metadata": {},
     "output_type": "display_data"
    },
    {
     "data": {
      "application/vnd.jupyter.widget-view+json": {
       "model_id": "",
       "version_major": 2,
       "version_minor": 0
      },
      "text/plain": [
       "HBox(children=(FloatProgress(value=0.0, description='Training batches on cpu', max=7.0, style=ProgressStyle(de…"
      ]
     },
     "metadata": {},
     "output_type": "display_data"
    },
    {
     "data": {
      "application/vnd.jupyter.widget-view+json": {
       "model_id": "",
       "version_major": 2,
       "version_minor": 0
      },
      "text/plain": [
       "HBox(children=(FloatProgress(value=0.0, description='Training batches on cpu', max=7.0, style=ProgressStyle(de…"
      ]
     },
     "metadata": {},
     "output_type": "display_data"
    },
    {
     "data": {
      "application/vnd.jupyter.widget-view+json": {
       "model_id": "",
       "version_major": 2,
       "version_minor": 0
      },
      "text/plain": [
       "HBox(children=(FloatProgress(value=0.0, description='Training batches on cpu', max=7.0, style=ProgressStyle(de…"
      ]
     },
     "metadata": {},
     "output_type": "display_data"
    },
    {
     "data": {
      "application/vnd.jupyter.widget-view+json": {
       "model_id": "",
       "version_major": 2,
       "version_minor": 0
      },
      "text/plain": [
       "HBox(children=(FloatProgress(value=0.0, description='Training batches on cpu', max=7.0, style=ProgressStyle(de…"
      ]
     },
     "metadata": {},
     "output_type": "display_data"
    },
    {
     "data": {
      "application/vnd.jupyter.widget-view+json": {
       "model_id": "",
       "version_major": 2,
       "version_minor": 0
      },
      "text/plain": [
       "HBox(children=(FloatProgress(value=0.0, description='Training batches on cpu', max=7.0, style=ProgressStyle(de…"
      ]
     },
     "metadata": {},
     "output_type": "display_data"
    },
    {
     "data": {
      "application/vnd.jupyter.widget-view+json": {
       "model_id": "",
       "version_major": 2,
       "version_minor": 0
      },
      "text/plain": [
       "HBox(children=(FloatProgress(value=0.0, description='Training batches on cpu', max=7.0, style=ProgressStyle(de…"
      ]
     },
     "metadata": {},
     "output_type": "display_data"
    },
    {
     "data": {
      "application/vnd.jupyter.widget-view+json": {
       "model_id": "",
       "version_major": 2,
       "version_minor": 0
      },
      "text/plain": [
       "HBox(children=(FloatProgress(value=0.0, description='Training batches on cpu', max=7.0, style=ProgressStyle(de…"
      ]
     },
     "metadata": {},
     "output_type": "display_data"
    },
    {
     "data": {
      "application/vnd.jupyter.widget-view+json": {
       "model_id": "",
       "version_major": 2,
       "version_minor": 0
      },
      "text/plain": [
       "HBox(children=(FloatProgress(value=0.0, description='Training batches on cpu', max=7.0, style=ProgressStyle(de…"
      ]
     },
     "metadata": {},
     "output_type": "display_data"
    },
    {
     "data": {
      "application/vnd.jupyter.widget-view+json": {
       "model_id": "",
       "version_major": 2,
       "version_minor": 0
      },
      "text/plain": [
       "HBox(children=(FloatProgress(value=0.0, description='Training batches on cpu', max=7.0, style=ProgressStyle(de…"
      ]
     },
     "metadata": {},
     "output_type": "display_data"
    },
    {
     "data": {
      "application/vnd.jupyter.widget-view+json": {
       "model_id": "",
       "version_major": 2,
       "version_minor": 0
      },
      "text/plain": [
       "HBox(children=(FloatProgress(value=0.0, description='Training batches on cpu', max=7.0, style=ProgressStyle(de…"
      ]
     },
     "metadata": {},
     "output_type": "display_data"
    },
    {
     "data": {
      "application/vnd.jupyter.widget-view+json": {
       "model_id": "",
       "version_major": 2,
       "version_minor": 0
      },
      "text/plain": [
       "HBox(children=(FloatProgress(value=0.0, description='Training batches on cpu', max=7.0, style=ProgressStyle(de…"
      ]
     },
     "metadata": {},
     "output_type": "display_data"
    },
    {
     "data": {
      "application/vnd.jupyter.widget-view+json": {
       "model_id": "",
       "version_major": 2,
       "version_minor": 0
      },
      "text/plain": [
       "HBox(children=(FloatProgress(value=0.0, description='Training batches on cpu', max=7.0, style=ProgressStyle(de…"
      ]
     },
     "metadata": {},
     "output_type": "display_data"
    },
    {
     "data": {
      "application/vnd.jupyter.widget-view+json": {
       "model_id": "",
       "version_major": 2,
       "version_minor": 0
      },
      "text/plain": [
       "HBox(children=(FloatProgress(value=0.0, description='Training batches on cpu', max=7.0, style=ProgressStyle(de…"
      ]
     },
     "metadata": {},
     "output_type": "display_data"
    },
    {
     "data": {
      "application/vnd.jupyter.widget-view+json": {
       "model_id": "",
       "version_major": 2,
       "version_minor": 0
      },
      "text/plain": [
       "HBox(children=(FloatProgress(value=0.0, description='Training batches on cpu', max=7.0, style=ProgressStyle(de…"
      ]
     },
     "metadata": {},
     "output_type": "display_data"
    },
    {
     "data": {
      "application/vnd.jupyter.widget-view+json": {
       "model_id": "",
       "version_major": 2,
       "version_minor": 0
      },
      "text/plain": [
       "HBox(children=(FloatProgress(value=0.0, description='Training batches on cpu', max=7.0, style=ProgressStyle(de…"
      ]
     },
     "metadata": {},
     "output_type": "display_data"
    },
    {
     "data": {
      "application/vnd.jupyter.widget-view+json": {
       "model_id": "",
       "version_major": 2,
       "version_minor": 0
      },
      "text/plain": [
       "HBox(children=(FloatProgress(value=0.0, description='Training batches on cpu', max=7.0, style=ProgressStyle(de…"
      ]
     },
     "metadata": {},
     "output_type": "display_data"
    },
    {
     "data": {
      "application/vnd.jupyter.widget-view+json": {
       "model_id": "",
       "version_major": 2,
       "version_minor": 0
      },
      "text/plain": [
       "HBox(children=(FloatProgress(value=0.0, description='Training batches on cpu', max=7.0, style=ProgressStyle(de…"
      ]
     },
     "metadata": {},
     "output_type": "display_data"
    },
    {
     "data": {
      "application/vnd.jupyter.widget-view+json": {
       "model_id": "",
       "version_major": 2,
       "version_minor": 0
      },
      "text/plain": [
       "HBox(children=(FloatProgress(value=0.0, description='Training batches on cpu', max=7.0, style=ProgressStyle(de…"
      ]
     },
     "metadata": {},
     "output_type": "display_data"
    },
    {
     "data": {
      "application/vnd.jupyter.widget-view+json": {
       "model_id": "",
       "version_major": 2,
       "version_minor": 0
      },
      "text/plain": [
       "HBox(children=(FloatProgress(value=0.0, description='Training batches on cpu', max=7.0, style=ProgressStyle(de…"
      ]
     },
     "metadata": {},
     "output_type": "display_data"
    },
    {
     "data": {
      "application/vnd.jupyter.widget-view+json": {
       "model_id": "",
       "version_major": 2,
       "version_minor": 0
      },
      "text/plain": [
       "HBox(children=(FloatProgress(value=0.0, description='Training batches on cpu', max=7.0, style=ProgressStyle(de…"
      ]
     },
     "metadata": {},
     "output_type": "display_data"
    },
    {
     "data": {
      "application/vnd.jupyter.widget-view+json": {
       "model_id": "",
       "version_major": 2,
       "version_minor": 0
      },
      "text/plain": [
       "HBox(children=(FloatProgress(value=0.0, description='Training batches on cpu', max=7.0, style=ProgressStyle(de…"
      ]
     },
     "metadata": {},
     "output_type": "display_data"
    },
    {
     "data": {
      "application/vnd.jupyter.widget-view+json": {
       "model_id": "",
       "version_major": 2,
       "version_minor": 0
      },
      "text/plain": [
       "HBox(children=(FloatProgress(value=0.0, description='Training batches on cpu', max=7.0, style=ProgressStyle(de…"
      ]
     },
     "metadata": {},
     "output_type": "display_data"
    },
    {
     "data": {
      "application/vnd.jupyter.widget-view+json": {
       "model_id": "",
       "version_major": 2,
       "version_minor": 0
      },
      "text/plain": [
       "HBox(children=(FloatProgress(value=0.0, description='Training batches on cpu', max=7.0, style=ProgressStyle(de…"
      ]
     },
     "metadata": {},
     "output_type": "display_data"
    },
    {
     "data": {
      "application/vnd.jupyter.widget-view+json": {
       "model_id": "",
       "version_major": 2,
       "version_minor": 0
      },
      "text/plain": [
       "HBox(children=(FloatProgress(value=0.0, description='Training batches on cpu', max=7.0, style=ProgressStyle(de…"
      ]
     },
     "metadata": {},
     "output_type": "display_data"
    },
    {
     "data": {
      "application/vnd.jupyter.widget-view+json": {
       "model_id": "",
       "version_major": 2,
       "version_minor": 0
      },
      "text/plain": [
       "HBox(children=(FloatProgress(value=0.0, description='Training batches on cpu', max=7.0, style=ProgressStyle(de…"
      ]
     },
     "metadata": {},
     "output_type": "display_data"
    },
    {
     "data": {
      "application/vnd.jupyter.widget-view+json": {
       "model_id": "",
       "version_major": 2,
       "version_minor": 0
      },
      "text/plain": [
       "HBox(children=(FloatProgress(value=0.0, description='Training batches on cpu', max=7.0, style=ProgressStyle(de…"
      ]
     },
     "metadata": {},
     "output_type": "display_data"
    },
    {
     "data": {
      "application/vnd.jupyter.widget-view+json": {
       "model_id": "",
       "version_major": 2,
       "version_minor": 0
      },
      "text/plain": [
       "HBox(children=(FloatProgress(value=0.0, description='Training batches on cpu', max=7.0, style=ProgressStyle(de…"
      ]
     },
     "metadata": {},
     "output_type": "display_data"
    },
    {
     "data": {
      "application/vnd.jupyter.widget-view+json": {
       "model_id": "",
       "version_major": 2,
       "version_minor": 0
      },
      "text/plain": [
       "HBox(children=(FloatProgress(value=0.0, description='Training batches on cpu', max=7.0, style=ProgressStyle(de…"
      ]
     },
     "metadata": {},
     "output_type": "display_data"
    },
    {
     "data": {
      "application/vnd.jupyter.widget-view+json": {
       "model_id": "",
       "version_major": 2,
       "version_minor": 0
      },
      "text/plain": [
       "HBox(children=(FloatProgress(value=0.0, description='Training batches on cpu', max=7.0, style=ProgressStyle(de…"
      ]
     },
     "metadata": {},
     "output_type": "display_data"
    },
    {
     "data": {
      "application/vnd.jupyter.widget-view+json": {
       "model_id": "",
       "version_major": 2,
       "version_minor": 0
      },
      "text/plain": [
       "HBox(children=(FloatProgress(value=0.0, description='Training batches on cpu', max=7.0, style=ProgressStyle(de…"
      ]
     },
     "metadata": {},
     "output_type": "display_data"
    },
    {
     "data": {
      "application/vnd.jupyter.widget-view+json": {
       "model_id": "",
       "version_major": 2,
       "version_minor": 0
      },
      "text/plain": [
       "HBox(children=(FloatProgress(value=0.0, description='Training batches on cpu', max=7.0, style=ProgressStyle(de…"
      ]
     },
     "metadata": {},
     "output_type": "display_data"
    },
    {
     "data": {
      "application/vnd.jupyter.widget-view+json": {
       "model_id": "",
       "version_major": 2,
       "version_minor": 0
      },
      "text/plain": [
       "HBox(children=(FloatProgress(value=0.0, description='Training batches on cpu', max=7.0, style=ProgressStyle(de…"
      ]
     },
     "metadata": {},
     "output_type": "display_data"
    },
    {
     "data": {
      "application/vnd.jupyter.widget-view+json": {
       "model_id": "",
       "version_major": 2,
       "version_minor": 0
      },
      "text/plain": [
       "HBox(children=(FloatProgress(value=0.0, description='Training batches on cpu', max=7.0, style=ProgressStyle(de…"
      ]
     },
     "metadata": {},
     "output_type": "display_data"
    },
    {
     "data": {
      "application/vnd.jupyter.widget-view+json": {
       "model_id": "",
       "version_major": 2,
       "version_minor": 0
      },
      "text/plain": [
       "HBox(children=(FloatProgress(value=0.0, description='Training batches on cpu', max=7.0, style=ProgressStyle(de…"
      ]
     },
     "metadata": {},
     "output_type": "display_data"
    },
    {
     "data": {
      "application/vnd.jupyter.widget-view+json": {
       "model_id": "",
       "version_major": 2,
       "version_minor": 0
      },
      "text/plain": [
       "HBox(children=(FloatProgress(value=0.0, description='Training batches on cpu', max=7.0, style=ProgressStyle(de…"
      ]
     },
     "metadata": {},
     "output_type": "display_data"
    },
    {
     "data": {
      "application/vnd.jupyter.widget-view+json": {
       "model_id": "",
       "version_major": 2,
       "version_minor": 0
      },
      "text/plain": [
       "HBox(children=(FloatProgress(value=0.0, description='Training batches on cpu', max=7.0, style=ProgressStyle(de…"
      ]
     },
     "metadata": {},
     "output_type": "display_data"
    },
    {
     "data": {
      "application/vnd.jupyter.widget-view+json": {
       "model_id": "",
       "version_major": 2,
       "version_minor": 0
      },
      "text/plain": [
       "HBox(children=(FloatProgress(value=0.0, description='Training batches on cpu', max=7.0, style=ProgressStyle(de…"
      ]
     },
     "metadata": {},
     "output_type": "display_data"
    },
    {
     "data": {
      "application/vnd.jupyter.widget-view+json": {
       "model_id": "",
       "version_major": 2,
       "version_minor": 0
      },
      "text/plain": [
       "HBox(children=(FloatProgress(value=0.0, description='Training batches on cpu', max=7.0, style=ProgressStyle(de…"
      ]
     },
     "metadata": {},
     "output_type": "display_data"
    },
    {
     "data": {
      "application/vnd.jupyter.widget-view+json": {
       "model_id": "",
       "version_major": 2,
       "version_minor": 0
      },
      "text/plain": [
       "HBox(children=(FloatProgress(value=0.0, description='Training batches on cpu', max=7.0, style=ProgressStyle(de…"
      ]
     },
     "metadata": {},
     "output_type": "display_data"
    },
    {
     "data": {
      "application/vnd.jupyter.widget-view+json": {
       "model_id": "",
       "version_major": 2,
       "version_minor": 0
      },
      "text/plain": [
       "HBox(children=(FloatProgress(value=0.0, description='Training batches on cpu', max=7.0, style=ProgressStyle(de…"
      ]
     },
     "metadata": {},
     "output_type": "display_data"
    },
    {
     "data": {
      "application/vnd.jupyter.widget-view+json": {
       "model_id": "",
       "version_major": 2,
       "version_minor": 0
      },
      "text/plain": [
       "HBox(children=(FloatProgress(value=0.0, description='Training batches on cpu', max=7.0, style=ProgressStyle(de…"
      ]
     },
     "metadata": {},
     "output_type": "display_data"
    },
    {
     "data": {
      "application/vnd.jupyter.widget-view+json": {
       "model_id": "",
       "version_major": 2,
       "version_minor": 0
      },
      "text/plain": [
       "HBox(children=(FloatProgress(value=0.0, description='Training batches on cpu', max=7.0, style=ProgressStyle(de…"
      ]
     },
     "metadata": {},
     "output_type": "display_data"
    },
    {
     "data": {
      "application/vnd.jupyter.widget-view+json": {
       "model_id": "",
       "version_major": 2,
       "version_minor": 0
      },
      "text/plain": [
       "HBox(children=(FloatProgress(value=0.0, description='Training batches on cpu', max=7.0, style=ProgressStyle(de…"
      ]
     },
     "metadata": {},
     "output_type": "display_data"
    },
    {
     "data": {
      "application/vnd.jupyter.widget-view+json": {
       "model_id": "",
       "version_major": 2,
       "version_minor": 0
      },
      "text/plain": [
       "HBox(children=(FloatProgress(value=0.0, description='Training batches on cpu', max=7.0, style=ProgressStyle(de…"
      ]
     },
     "metadata": {},
     "output_type": "display_data"
    },
    {
     "data": {
      "application/vnd.jupyter.widget-view+json": {
       "model_id": "",
       "version_major": 2,
       "version_minor": 0
      },
      "text/plain": [
       "HBox(children=(FloatProgress(value=0.0, description='Training batches on cpu', max=7.0, style=ProgressStyle(de…"
      ]
     },
     "metadata": {},
     "output_type": "display_data"
    },
    {
     "data": {
      "application/vnd.jupyter.widget-view+json": {
       "model_id": "",
       "version_major": 2,
       "version_minor": 0
      },
      "text/plain": [
       "HBox(children=(FloatProgress(value=0.0, description='Training batches on cpu', max=7.0, style=ProgressStyle(de…"
      ]
     },
     "metadata": {},
     "output_type": "display_data"
    },
    {
     "data": {
      "application/vnd.jupyter.widget-view+json": {
       "model_id": "",
       "version_major": 2,
       "version_minor": 0
      },
      "text/plain": [
       "HBox(children=(FloatProgress(value=0.0, description='Training batches on cpu', max=7.0, style=ProgressStyle(de…"
      ]
     },
     "metadata": {},
     "output_type": "display_data"
    },
    {
     "name": "stderr",
     "output_type": "stream",
     "text": [
      "INFO:pykeen.evaluation.evaluator:Currently automatic memory optimization only supports GPUs, but you're using a CPU. Therefore, the batch_size will be set to the default value.\n",
      "INFO:pykeen.evaluation.evaluator:No evaluation batch_size provided. Setting batch_size to '32'.\n"
     ]
    },
    {
     "name": "stdout",
     "output_type": "stream",
     "text": [
      "\n"
     ]
    },
    {
     "data": {
      "application/vnd.jupyter.widget-view+json": {
       "model_id": "815132da51db4e528e0c486078164152",
       "version_major": 2,
       "version_minor": 0
      },
      "text/plain": [
       "HBox(children=(FloatProgress(value=0.0, description='Evaluating on cpu', max=201.0, style=ProgressStyle(descri…"
      ]
     },
     "metadata": {},
     "output_type": "display_data"
    },
    {
     "name": "stderr",
     "output_type": "stream",
     "text": [
      "INFO:pykeen.evaluation.evaluator:Evaluation took 0.07s seconds\n"
     ]
    },
    {
     "name": "stdout",
     "output_type": "stream",
     "text": [
      "\n"
     ]
    }
   ],
   "source": [
    "result = pipeline(\n",
    "    dataset='Nations',\n",
    "    model='RotatE',\n",
    "    random_seed=1235,\n",
    "    device='cpu',\n",
    "    training_kwargs=dict(num_epochs=100),  # Shouldn't take more than a minute or two on a nice computer\n",
    ")"
   ]
  },
  {
   "cell_type": "code",
   "execution_count": 119,
   "metadata": {},
   "outputs": [
    {
     "data": {
      "text/plain": [
       "PipelineResult(random_seed=1235, model=RotatE(\n",
       "  (loss): MarginRankingLoss()\n",
       "  (regularizer): NoRegularizer()\n",
       "  (entity_embeddings): Embedding(\n",
       "    (_embeddings): Embedding(14, 400)\n",
       "  )\n",
       "  (relation_embeddings): Embedding(\n",
       "    (_embeddings): Embedding(55, 400)\n",
       "  )\n",
       "), training_loop=<pykeen.training.slcwa.SLCWATrainingLoop object at 0x0000024024371F40>, losses=[0.004362222462443251, 0.004279505367854133, 0.004190522821704347, 0.00415098277767699, 0.004086745893535902, 0.004032049271928605, 0.0039364126085036965, 0.0038983375208461704, 0.003837279900534069, 0.003818197166500379, 0.0037511558688465675, 0.003789631565611566, 0.0037494035596823574, 0.003650600249743342, 0.0036557899348100826, 0.0036934994572970135, 0.0038585387282635097, 0.0036518981483713467, 0.0036909988327841065, 0.0036164818696640243, 0.003702789320418583, 0.003640433651718063, 0.003602575679220746, 0.003655036302966688, 0.0035636409293467075, 0.0036345944557357674, 0.0035973772706098892, 0.003701441813653438, 0.0035517578148961666, 0.003498262758530564, 0.003555587525643296, 0.0035415714859363422, 0.003609505692618576, 0.0035370732072609753, 0.003648566802841934, 0.0034622571725941185, 0.0036019063624904385, 0.0035820258547313247, 0.0034250816208633347, 0.003496665975556302, 0.0036705073025358383, 0.0035785525363294323, 0.003404151404922332, 0.0035273914960161526, 0.0034854847881662186, 0.0035851621747615948, 0.003490459192637822, 0.0035033859499734848, 0.003305891687846064, 0.0034500468316389686, 0.0033679463006743232, 0.0033502502357540417, 0.003508421831095039, 0.0034314786369477085, 0.003326308000926396, 0.0033514831758024704, 0.003360309343242166, 0.003291353396135359, 0.0033884335253106888, 0.0033246274270004963, 0.003527862305317692, 0.0034422217002466095, 0.0033538320555758835, 0.0033603883418605557, 0.0033890498268544372, 0.003309963411422231, 0.0033750307544991, 0.003339132584219602, 0.003443259240394861, 0.003381222748576696, 0.0032510536924079433, 0.0033598053620089237, 0.0032559798740262364, 0.0033545046295951958, 0.0032516834349488495, 0.0032777765662825886, 0.003277545822924705, 0.003397266581729429, 0.003270541266280802, 0.0033648780467522206, 0.0032634255499696015, 0.003214735930888497, 0.003215310187196013, 0.0032255272544808125, 0.003325848760616839, 0.003279053423572425, 0.003160084499486128, 0.0032721930113270054, 0.003264391879040991, 0.0032266963217126663, 0.0032249845227404457, 0.0033184737341487827, 0.003254647942344148, 0.003218978680857462, 0.0030780016028102318, 0.003249581248017412, 0.0031612157522134445, 0.003156947280893374, 0.0031130221770636402, 0.003181906089411309], metric_results=RankBasedMetricResults(mean_rank={'both': {'avg': 3.9328358208955225, 'worst': 3.9328358208955225, 'best': 3.9328358208955225}, 'head': {'avg': 4.402985074626866, 'worst': 4.402985074626866, 'best': 4.402985074626866}, 'tail': {'avg': 3.462686567164179, 'worst': 3.462686567164179, 'best': 3.462686567164179}}, mean_reciprocal_rank={'both': {'avg': 0.4560604541947825, 'worst': 0.4560604541947825, 'best': 0.4560604541947825}, 'head': {'avg': 0.40329347269645777, 'worst': 0.40329347269645777, 'best': 0.40329347269645777}, 'tail': {'avg': 0.5088274356931073, 'worst': 0.5088274356931073, 'best': 0.5088274356931073}}, hits_at_k={'both': {'avg': {1: 0.24378109452736318, 3: 0.572139303482587, 5: 0.746268656716418, 10: 0.9552238805970149}, 'worst': {1: 0.24378109452736318, 3: 0.572139303482587, 5: 0.746268656716418, 10: 0.9552238805970149}, 'best': {1: 0.24378109452736318, 3: 0.572139303482587, 5: 0.746268656716418, 10: 0.9552238805970149}}, 'head': {'avg': {1: 0.19402985074626866, 3: 0.5024875621890548, 5: 0.6965174129353234, 10: 0.945273631840796}, 'worst': {1: 0.19402985074626866, 3: 0.5024875621890548, 5: 0.6965174129353234, 10: 0.945273631840796}, 'best': {1: 0.19402985074626866, 3: 0.5024875621890548, 5: 0.6965174129353234, 10: 0.945273631840796}}, 'tail': {'avg': {1: 0.2935323383084577, 3: 0.6417910447761194, 5: 0.7960199004975125, 10: 0.9651741293532339}, 'worst': {1: 0.2935323383084577, 3: 0.6417910447761194, 5: 0.7960199004975125, 10: 0.9651741293532339}, 'best': {1: 0.2935323383084577, 3: 0.6417910447761194, 5: 0.7960199004975125, 10: 0.9651741293532339}}}, adjusted_mean_rank={'both': 0.8397383287697289, 'head': 0.9588652760235231, 'tail': 0.7206113815159347}), train_seconds=25.334228038787842, evaluate_seconds=0.06778502464294434, stopper=<pykeen.stoppers.stopper.NopStopper object at 0x0000024024304100>, metadata={}, version='1.4.0', git_hash='UNHASHED')"
      ]
     },
     "execution_count": 119,
     "metadata": {},
     "output_type": "execute_result"
    }
   ],
   "source": [
    "result"
   ]
  },
  {
   "cell_type": "code",
   "execution_count": 112,
   "metadata": {},
   "outputs": [
    {
     "data": {
      "text/plain": [
       "['metadata.json', 'results.json', 'trained_model.pkl']"
      ]
     },
     "execution_count": 112,
     "metadata": {},
     "output_type": "execute_result"
    }
   ],
   "source": [
    "save_location = 'nations_transe'  # relative to here\n",
    "result.save_to_directory(save_location)\n",
    "os.listdir(save_location)"
   ]
  },
  {
   "cell_type": "code",
   "execution_count": 113,
   "metadata": {},
   "outputs": [
    {
     "data": {
      "text/plain": [
       "RotatE(\n",
       "  (loss): MarginRankingLoss()\n",
       "  (regularizer): NoRegularizer()\n",
       "  (entity_embeddings): Embedding(\n",
       "    (_embeddings): Embedding(14, 400)\n",
       "  )\n",
       "  (relation_embeddings): Embedding(\n",
       "    (_embeddings): Embedding(55, 400)\n",
       "  )\n",
       ")"
      ]
     },
     "execution_count": 113,
     "metadata": {},
     "output_type": "execute_result"
    }
   ],
   "source": [
    "# How to look at the model\n",
    "model = result.model\n",
    "model"
   ]
  },
  {
   "cell_type": "code",
   "execution_count": 114,
   "metadata": {},
   "outputs": [
    {
     "data": {
      "text/plain": [
       "TriplesFactory(num_entities=14, num_relations=55, num_triples=1592, inverse_triples=False, path=\"C:\\Users\\shahz\\anaconda3\\lib\\site-packages\\pykeen\\datasets\\nations\\train.txt\")"
      ]
     },
     "execution_count": 114,
     "metadata": {},
     "output_type": "execute_result"
    }
   ],
   "source": [
    "# How to look at the triples\n",
    "tf = model.triples_factory\n",
    "tf"
   ]
  },
  {
   "cell_type": "code",
   "execution_count": 115,
   "metadata": {},
   "outputs": [
    {
     "data": {
      "text/plain": [
       "(14, 55, 1592)"
      ]
     },
     "execution_count": 115,
     "metadata": {},
     "output_type": "execute_result"
    }
   ],
   "source": [
    "tf.num_entities, tf.num_relations, tf.num_triples"
   ]
  },
  {
   "cell_type": "code",
   "execution_count": 117,
   "metadata": {},
   "outputs": [
    {
     "ename": "AttributeError",
     "evalue": "'NoneType' object has no attribute 'set_ylabel'",
     "output_type": "error",
     "traceback": [
      "\u001b[1;31m---------------------------------------------------------------------------\u001b[0m",
      "\u001b[1;31mAttributeError\u001b[0m                            Traceback (most recent call last)",
      "\u001b[1;32m<ipython-input-117-13924318d057>\u001b[0m in \u001b[0;36m<module>\u001b[1;34m\u001b[0m\n\u001b[1;32m----> 1\u001b[1;33m \u001b[0mresult\u001b[0m\u001b[1;33m.\u001b[0m\u001b[0mplot_losses\u001b[0m\u001b[1;33m(\u001b[0m\u001b[1;33m)\u001b[0m\u001b[1;33m\u001b[0m\u001b[1;33m\u001b[0m\u001b[0m\n\u001b[0m\u001b[0;32m      2\u001b[0m \u001b[0mplt\u001b[0m\u001b[1;33m.\u001b[0m\u001b[0mshow\u001b[0m\u001b[1;33m(\u001b[0m\u001b[1;33m)\u001b[0m\u001b[1;33m\u001b[0m\u001b[1;33m\u001b[0m\u001b[0m\n",
      "\u001b[1;32m~\\anaconda3\\lib\\site-packages\\pykeen\\pipeline\\api.py\u001b[0m in \u001b[0;36mplot_losses\u001b[1;34m(self, **kwargs)\u001b[0m\n\u001b[0;32m    268\u001b[0m         \"\"\"\n\u001b[0;32m    269\u001b[0m         \u001b[1;32mfrom\u001b[0m \u001b[1;33m.\u001b[0m\u001b[0mplot_utils\u001b[0m \u001b[1;32mimport\u001b[0m \u001b[0mplot_losses\u001b[0m\u001b[1;33m\u001b[0m\u001b[1;33m\u001b[0m\u001b[0m\n\u001b[1;32m--> 270\u001b[1;33m         \u001b[1;32mreturn\u001b[0m \u001b[0mplot_losses\u001b[0m\u001b[1;33m(\u001b[0m\u001b[0mself\u001b[0m\u001b[1;33m,\u001b[0m \u001b[1;33m**\u001b[0m\u001b[0mkwargs\u001b[0m\u001b[1;33m)\u001b[0m\u001b[1;33m\u001b[0m\u001b[1;33m\u001b[0m\u001b[0m\n\u001b[0m\u001b[0;32m    271\u001b[0m \u001b[1;33m\u001b[0m\u001b[0m\n\u001b[0;32m    272\u001b[0m     \u001b[1;32mdef\u001b[0m \u001b[0mplot_early_stopping\u001b[0m\u001b[1;33m(\u001b[0m\u001b[0mself\u001b[0m\u001b[1;33m,\u001b[0m \u001b[1;33m**\u001b[0m\u001b[0mkwargs\u001b[0m\u001b[1;33m)\u001b[0m\u001b[1;33m:\u001b[0m\u001b[1;33m\u001b[0m\u001b[1;33m\u001b[0m\u001b[0m\n",
      "\u001b[1;32m~\\anaconda3\\lib\\site-packages\\pykeen\\pipeline\\plot_utils.py\u001b[0m in \u001b[0;36mplot_losses\u001b[1;34m(pipeline_result, ax)\u001b[0m\n\u001b[0;32m     30\u001b[0m \u001b[1;33m\u001b[0m\u001b[0m\n\u001b[0;32m     31\u001b[0m     \u001b[0mloss_name\u001b[0m \u001b[1;33m=\u001b[0m \u001b[0mloss_resolver\u001b[0m\u001b[1;33m.\u001b[0m\u001b[0mnormalize_inst\u001b[0m\u001b[1;33m(\u001b[0m\u001b[0mpipeline_result\u001b[0m\u001b[1;33m.\u001b[0m\u001b[0mmodel\u001b[0m\u001b[1;33m.\u001b[0m\u001b[0mloss\u001b[0m\u001b[1;33m)\u001b[0m\u001b[1;33m\u001b[0m\u001b[1;33m\u001b[0m\u001b[0m\n\u001b[1;32m---> 32\u001b[1;33m     \u001b[0max\u001b[0m\u001b[1;33m.\u001b[0m\u001b[0mset_ylabel\u001b[0m\u001b[1;33m(\u001b[0m\u001b[1;34mf'{loss_name} Loss'\u001b[0m\u001b[1;33m)\u001b[0m\u001b[1;33m\u001b[0m\u001b[1;33m\u001b[0m\u001b[0m\n\u001b[0m\u001b[0;32m     33\u001b[0m     \u001b[0max\u001b[0m\u001b[1;33m.\u001b[0m\u001b[0mset_xlabel\u001b[0m\u001b[1;33m(\u001b[0m\u001b[1;34m'Epoch'\u001b[0m\u001b[1;33m)\u001b[0m\u001b[1;33m\u001b[0m\u001b[1;33m\u001b[0m\u001b[0m\n\u001b[0;32m     34\u001b[0m     \u001b[0max\u001b[0m\u001b[1;33m.\u001b[0m\u001b[0mset_title\u001b[0m\u001b[1;33m(\u001b[0m\u001b[0mpipeline_result\u001b[0m\u001b[1;33m.\u001b[0m\u001b[0mtitle\u001b[0m \u001b[1;32mif\u001b[0m \u001b[0mpipeline_result\u001b[0m\u001b[1;33m.\u001b[0m\u001b[0mtitle\u001b[0m \u001b[1;32mis\u001b[0m \u001b[1;32mnot\u001b[0m \u001b[1;32mNone\u001b[0m \u001b[1;32melse\u001b[0m \u001b[1;34m'Losses Plot'\u001b[0m\u001b[1;33m)\u001b[0m\u001b[1;33m\u001b[0m\u001b[1;33m\u001b[0m\u001b[0m\n",
      "\u001b[1;31mAttributeError\u001b[0m: 'NoneType' object has no attribute 'set_ylabel'"
     ]
    },
    {
     "data": {
      "image/png": "[encoded data removed]",
      "text/plain": [
       "<Figure size 432x288 with 1 Axes>"
      ]
     },
     "metadata": {},
     "output_type": "display_data"
    }
   ],
   "source": [
    "result.plot_losses()\n",
    "plt.show()"
   ]
  },
  {
   "cell_type": "code",
   "execution_count": 118,
   "metadata": {},
   "outputs": [
    {
     "data": {
      "text/html": [
       "<div>\n",
       "<style scoped>\n",
       "    .dataframe tbody tr th:only-of-type {\n",
       "        vertical-align: middle;\n",
       "    }\n",
       "\n",
       "    .dataframe tbody tr th {\n",
       "        vertical-align: top;\n",
       "    }\n",
       "\n",
       "    .dataframe thead th {\n",
       "        text-align: right;\n",
       "    }\n",
       "</style>\n",
       "<table border=\"1\" class=\"dataframe\">\n",
       "  <thead>\n",
       "    <tr style=\"text-align: right;\">\n",
       "      <th></th>\n",
       "      <th>Side</th>\n",
       "      <th>Type</th>\n",
       "      <th>Metric</th>\n",
       "      <th>Value</th>\n",
       "    </tr>\n",
       "  </thead>\n",
       "  <tbody>\n",
       "    <tr>\n",
       "      <th>0</th>\n",
       "      <td>both</td>\n",
       "      <td>avg</td>\n",
       "      <td>adjusted_mean_rank</td>\n",
       "      <td>0.839738</td>\n",
       "    </tr>\n",
       "    <tr>\n",
       "      <th>1</th>\n",
       "      <td>head</td>\n",
       "      <td>avg</td>\n",
       "      <td>adjusted_mean_rank</td>\n",
       "      <td>0.958865</td>\n",
       "    </tr>\n",
       "    <tr>\n",
       "      <th>2</th>\n",
       "      <td>tail</td>\n",
       "      <td>avg</td>\n",
       "      <td>adjusted_mean_rank</td>\n",
       "      <td>0.720611</td>\n",
       "    </tr>\n",
       "    <tr>\n",
       "      <th>3</th>\n",
       "      <td>both</td>\n",
       "      <td>avg</td>\n",
       "      <td>mean_rank</td>\n",
       "      <td>3.932836</td>\n",
       "    </tr>\n",
       "    <tr>\n",
       "      <th>4</th>\n",
       "      <td>both</td>\n",
       "      <td>avg</td>\n",
       "      <td>mean_reciprocal_rank</td>\n",
       "      <td>0.456060</td>\n",
       "    </tr>\n",
       "    <tr>\n",
       "      <th>5</th>\n",
       "      <td>both</td>\n",
       "      <td>avg</td>\n",
       "      <td>hits_at_1</td>\n",
       "      <td>0.243781</td>\n",
       "    </tr>\n",
       "    <tr>\n",
       "      <th>6</th>\n",
       "      <td>both</td>\n",
       "      <td>avg</td>\n",
       "      <td>hits_at_3</td>\n",
       "      <td>0.572139</td>\n",
       "    </tr>\n",
       "    <tr>\n",
       "      <th>7</th>\n",
       "      <td>both</td>\n",
       "      <td>avg</td>\n",
       "      <td>hits_at_5</td>\n",
       "      <td>0.746269</td>\n",
       "    </tr>\n",
       "    <tr>\n",
       "      <th>8</th>\n",
       "      <td>both</td>\n",
       "      <td>avg</td>\n",
       "      <td>hits_at_10</td>\n",
       "      <td>0.955224</td>\n",
       "    </tr>\n",
       "    <tr>\n",
       "      <th>9</th>\n",
       "      <td>both</td>\n",
       "      <td>worst</td>\n",
       "      <td>mean_rank</td>\n",
       "      <td>3.932836</td>\n",
       "    </tr>\n",
       "    <tr>\n",
       "      <th>10</th>\n",
       "      <td>both</td>\n",
       "      <td>worst</td>\n",
       "      <td>mean_reciprocal_rank</td>\n",
       "      <td>0.456060</td>\n",
       "    </tr>\n",
       "    <tr>\n",
       "      <th>11</th>\n",
       "      <td>both</td>\n",
       "      <td>worst</td>\n",
       "      <td>hits_at_1</td>\n",
       "      <td>0.243781</td>\n",
       "    </tr>\n",
       "    <tr>\n",
       "      <th>12</th>\n",
       "      <td>both</td>\n",
       "      <td>worst</td>\n",
       "      <td>hits_at_3</td>\n",
       "      <td>0.572139</td>\n",
       "    </tr>\n",
       "    <tr>\n",
       "      <th>13</th>\n",
       "      <td>both</td>\n",
       "      <td>worst</td>\n",
       "      <td>hits_at_5</td>\n",
       "      <td>0.746269</td>\n",
       "    </tr>\n",
       "    <tr>\n",
       "      <th>14</th>\n",
       "      <td>both</td>\n",
       "      <td>worst</td>\n",
       "      <td>hits_at_10</td>\n",
       "      <td>0.955224</td>\n",
       "    </tr>\n",
       "    <tr>\n",
       "      <th>15</th>\n",
       "      <td>both</td>\n",
       "      <td>best</td>\n",
       "      <td>mean_rank</td>\n",
       "      <td>3.932836</td>\n",
       "    </tr>\n",
       "    <tr>\n",
       "      <th>16</th>\n",
       "      <td>both</td>\n",
       "      <td>best</td>\n",
       "      <td>mean_reciprocal_rank</td>\n",
       "      <td>0.456060</td>\n",
       "    </tr>\n",
       "    <tr>\n",
       "      <th>17</th>\n",
       "      <td>both</td>\n",
       "      <td>best</td>\n",
       "      <td>hits_at_1</td>\n",
       "      <td>0.243781</td>\n",
       "    </tr>\n",
       "    <tr>\n",
       "      <th>18</th>\n",
       "      <td>both</td>\n",
       "      <td>best</td>\n",
       "      <td>hits_at_3</td>\n",
       "      <td>0.572139</td>\n",
       "    </tr>\n",
       "    <tr>\n",
       "      <th>19</th>\n",
       "      <td>both</td>\n",
       "      <td>best</td>\n",
       "      <td>hits_at_5</td>\n",
       "      <td>0.746269</td>\n",
       "    </tr>\n",
       "    <tr>\n",
       "      <th>20</th>\n",
       "      <td>both</td>\n",
       "      <td>best</td>\n",
       "      <td>hits_at_10</td>\n",
       "      <td>0.955224</td>\n",
       "    </tr>\n",
       "    <tr>\n",
       "      <th>21</th>\n",
       "      <td>head</td>\n",
       "      <td>avg</td>\n",
       "      <td>mean_rank</td>\n",
       "      <td>4.402985</td>\n",
       "    </tr>\n",
       "    <tr>\n",
       "      <th>22</th>\n",
       "      <td>head</td>\n",
       "      <td>avg</td>\n",
       "      <td>mean_reciprocal_rank</td>\n",
       "      <td>0.403293</td>\n",
       "    </tr>\n",
       "    <tr>\n",
       "      <th>23</th>\n",
       "      <td>head</td>\n",
       "      <td>avg</td>\n",
       "      <td>hits_at_1</td>\n",
       "      <td>0.194030</td>\n",
       "    </tr>\n",
       "    <tr>\n",
       "      <th>24</th>\n",
       "      <td>head</td>\n",
       "      <td>avg</td>\n",
       "      <td>hits_at_3</td>\n",
       "      <td>0.502488</td>\n",
       "    </tr>\n",
       "    <tr>\n",
       "      <th>25</th>\n",
       "      <td>head</td>\n",
       "      <td>avg</td>\n",
       "      <td>hits_at_5</td>\n",
       "      <td>0.696517</td>\n",
       "    </tr>\n",
       "    <tr>\n",
       "      <th>26</th>\n",
       "      <td>head</td>\n",
       "      <td>avg</td>\n",
       "      <td>hits_at_10</td>\n",
       "      <td>0.945274</td>\n",
       "    </tr>\n",
       "    <tr>\n",
       "      <th>27</th>\n",
       "      <td>head</td>\n",
       "      <td>worst</td>\n",
       "      <td>mean_rank</td>\n",
       "      <td>4.402985</td>\n",
       "    </tr>\n",
       "    <tr>\n",
       "      <th>28</th>\n",
       "      <td>head</td>\n",
       "      <td>worst</td>\n",
       "      <td>mean_reciprocal_rank</td>\n",
       "      <td>0.403293</td>\n",
       "    </tr>\n",
       "    <tr>\n",
       "      <th>29</th>\n",
       "      <td>head</td>\n",
       "      <td>worst</td>\n",
       "      <td>hits_at_1</td>\n",
       "      <td>0.194030</td>\n",
       "    </tr>\n",
       "    <tr>\n",
       "      <th>30</th>\n",
       "      <td>head</td>\n",
       "      <td>worst</td>\n",
       "      <td>hits_at_3</td>\n",
       "      <td>0.502488</td>\n",
       "    </tr>\n",
       "    <tr>\n",
       "      <th>31</th>\n",
       "      <td>head</td>\n",
       "      <td>worst</td>\n",
       "      <td>hits_at_5</td>\n",
       "      <td>0.696517</td>\n",
       "    </tr>\n",
       "    <tr>\n",
       "      <th>32</th>\n",
       "      <td>head</td>\n",
       "      <td>worst</td>\n",
       "      <td>hits_at_10</td>\n",
       "      <td>0.945274</td>\n",
       "    </tr>\n",
       "    <tr>\n",
       "      <th>33</th>\n",
       "      <td>head</td>\n",
       "      <td>best</td>\n",
       "      <td>mean_rank</td>\n",
       "      <td>4.402985</td>\n",
       "    </tr>\n",
       "    <tr>\n",
       "      <th>34</th>\n",
       "      <td>head</td>\n",
       "      <td>best</td>\n",
       "      <td>mean_reciprocal_rank</td>\n",
       "      <td>0.403293</td>\n",
       "    </tr>\n",
       "    <tr>\n",
       "      <th>35</th>\n",
       "      <td>head</td>\n",
       "      <td>best</td>\n",
       "      <td>hits_at_1</td>\n",
       "      <td>0.194030</td>\n",
       "    </tr>\n",
       "    <tr>\n",
       "      <th>36</th>\n",
       "      <td>head</td>\n",
       "      <td>best</td>\n",
       "      <td>hits_at_3</td>\n",
       "      <td>0.502488</td>\n",
       "    </tr>\n",
       "    <tr>\n",
       "      <th>37</th>\n",
       "      <td>head</td>\n",
       "      <td>best</td>\n",
       "      <td>hits_at_5</td>\n",
       "      <td>0.696517</td>\n",
       "    </tr>\n",
       "    <tr>\n",
       "      <th>38</th>\n",
       "      <td>head</td>\n",
       "      <td>best</td>\n",
       "      <td>hits_at_10</td>\n",
       "      <td>0.945274</td>\n",
       "    </tr>\n",
       "    <tr>\n",
       "      <th>39</th>\n",
       "      <td>tail</td>\n",
       "      <td>avg</td>\n",
       "      <td>mean_rank</td>\n",
       "      <td>3.462687</td>\n",
       "    </tr>\n",
       "    <tr>\n",
       "      <th>40</th>\n",
       "      <td>tail</td>\n",
       "      <td>avg</td>\n",
       "      <td>mean_reciprocal_rank</td>\n",
       "      <td>0.508827</td>\n",
       "    </tr>\n",
       "    <tr>\n",
       "      <th>41</th>\n",
       "      <td>tail</td>\n",
       "      <td>avg</td>\n",
       "      <td>hits_at_1</td>\n",
       "      <td>0.293532</td>\n",
       "    </tr>\n",
       "    <tr>\n",
       "      <th>42</th>\n",
       "      <td>tail</td>\n",
       "      <td>avg</td>\n",
       "      <td>hits_at_3</td>\n",
       "      <td>0.641791</td>\n",
       "    </tr>\n",
       "    <tr>\n",
       "      <th>43</th>\n",
       "      <td>tail</td>\n",
       "      <td>avg</td>\n",
       "      <td>hits_at_5</td>\n",
       "      <td>0.796020</td>\n",
       "    </tr>\n",
       "    <tr>\n",
       "      <th>44</th>\n",
       "      <td>tail</td>\n",
       "      <td>avg</td>\n",
       "      <td>hits_at_10</td>\n",
       "      <td>0.965174</td>\n",
       "    </tr>\n",
       "    <tr>\n",
       "      <th>45</th>\n",
       "      <td>tail</td>\n",
       "      <td>worst</td>\n",
       "      <td>mean_rank</td>\n",
       "      <td>3.462687</td>\n",
       "    </tr>\n",
       "    <tr>\n",
       "      <th>46</th>\n",
       "      <td>tail</td>\n",
       "      <td>worst</td>\n",
       "      <td>mean_reciprocal_rank</td>\n",
       "      <td>0.508827</td>\n",
       "    </tr>\n",
       "    <tr>\n",
       "      <th>47</th>\n",
       "      <td>tail</td>\n",
       "      <td>worst</td>\n",
       "      <td>hits_at_1</td>\n",
       "      <td>0.293532</td>\n",
       "    </tr>\n",
       "    <tr>\n",
       "      <th>48</th>\n",
       "      <td>tail</td>\n",
       "      <td>worst</td>\n",
       "      <td>hits_at_3</td>\n",
       "      <td>0.641791</td>\n",
       "    </tr>\n",
       "    <tr>\n",
       "      <th>49</th>\n",
       "      <td>tail</td>\n",
       "      <td>worst</td>\n",
       "      <td>hits_at_5</td>\n",
       "      <td>0.796020</td>\n",
       "    </tr>\n",
       "    <tr>\n",
       "      <th>50</th>\n",
       "      <td>tail</td>\n",
       "      <td>worst</td>\n",
       "      <td>hits_at_10</td>\n",
       "      <td>0.965174</td>\n",
       "    </tr>\n",
       "    <tr>\n",
       "      <th>51</th>\n",
       "      <td>tail</td>\n",
       "      <td>best</td>\n",
       "      <td>mean_rank</td>\n",
       "      <td>3.462687</td>\n",
       "    </tr>\n",
       "    <tr>\n",
       "      <th>52</th>\n",
       "      <td>tail</td>\n",
       "      <td>best</td>\n",
       "      <td>mean_reciprocal_rank</td>\n",
       "      <td>0.508827</td>\n",
       "    </tr>\n",
       "    <tr>\n",
       "      <th>53</th>\n",
       "      <td>tail</td>\n",
       "      <td>best</td>\n",
       "      <td>hits_at_1</td>\n",
       "      <td>0.293532</td>\n",
       "    </tr>\n",
       "    <tr>\n",
       "      <th>54</th>\n",
       "      <td>tail</td>\n",
       "      <td>best</td>\n",
       "      <td>hits_at_3</td>\n",
       "      <td>0.641791</td>\n",
       "    </tr>\n",
       "    <tr>\n",
       "      <th>55</th>\n",
       "      <td>tail</td>\n",
       "      <td>best</td>\n",
       "      <td>hits_at_5</td>\n",
       "      <td>0.796020</td>\n",
       "    </tr>\n",
       "    <tr>\n",
       "      <th>56</th>\n",
       "      <td>tail</td>\n",
       "      <td>best</td>\n",
       "      <td>hits_at_10</td>\n",
       "      <td>0.965174</td>\n",
       "    </tr>\n",
       "  </tbody>\n",
       "</table>\n",
       "</div>"
      ],
      "text/plain": [
       "    Side   Type                Metric     Value\n",
       "0   both    avg    adjusted_mean_rank  0.839738\n",
       "1   head    avg    adjusted_mean_rank  0.958865\n",
       "2   tail    avg    adjusted_mean_rank  0.720611\n",
       "3   both    avg             mean_rank  3.932836\n",
       "4   both    avg  mean_reciprocal_rank  0.456060\n",
       "5   both    avg             hits_at_1  0.243781\n",
       "6   both    avg             hits_at_3  0.572139\n",
       "7   both    avg             hits_at_5  0.746269\n",
       "8   both    avg            hits_at_10  0.955224\n",
       "9   both  worst             mean_rank  3.932836\n",
       "10  both  worst  mean_reciprocal_rank  0.456060\n",
       "11  both  worst             hits_at_1  0.243781\n",
       "12  both  worst             hits_at_3  0.572139\n",
       "13  both  worst             hits_at_5  0.746269\n",
       "14  both  worst            hits_at_10  0.955224\n",
       "15  both   best             mean_rank  3.932836\n",
       "16  both   best  mean_reciprocal_rank  0.456060\n",
       "17  both   best             hits_at_1  0.243781\n",
       "18  both   best             hits_at_3  0.572139\n",
       "19  both   best             hits_at_5  0.746269\n",
       "20  both   best            hits_at_10  0.955224\n",
       "21  head    avg             mean_rank  4.402985\n",
       "22  head    avg  mean_reciprocal_rank  0.403293\n",
       "23  head    avg             hits_at_1  0.194030\n",
       "24  head    avg             hits_at_3  0.502488\n",
       "25  head    avg             hits_at_5  0.696517\n",
       "26  head    avg            hits_at_10  0.945274\n",
       "27  head  worst             mean_rank  4.402985\n",
       "28  head  worst  mean_reciprocal_rank  0.403293\n",
       "29  head  worst             hits_at_1  0.194030\n",
       "30  head  worst             hits_at_3  0.502488\n",
       "31  head  worst             hits_at_5  0.696517\n",
       "32  head  worst            hits_at_10  0.945274\n",
       "33  head   best             mean_rank  4.402985\n",
       "34  head   best  mean_reciprocal_rank  0.403293\n",
       "35  head   best             hits_at_1  0.194030\n",
       "36  head   best             hits_at_3  0.502488\n",
       "37  head   best             hits_at_5  0.696517\n",
       "38  head   best            hits_at_10  0.945274\n",
       "39  tail    avg             mean_rank  3.462687\n",
       "40  tail    avg  mean_reciprocal_rank  0.508827\n",
       "41  tail    avg             hits_at_1  0.293532\n",
       "42  tail    avg             hits_at_3  0.641791\n",
       "43  tail    avg             hits_at_5  0.796020\n",
       "44  tail    avg            hits_at_10  0.965174\n",
       "45  tail  worst             mean_rank  3.462687\n",
       "46  tail  worst  mean_reciprocal_rank  0.508827\n",
       "47  tail  worst             hits_at_1  0.293532\n",
       "48  tail  worst             hits_at_3  0.641791\n",
       "49  tail  worst             hits_at_5  0.796020\n",
       "50  tail  worst            hits_at_10  0.965174\n",
       "51  tail   best             mean_rank  3.462687\n",
       "52  tail   best  mean_reciprocal_rank  0.508827\n",
       "53  tail   best             hits_at_1  0.293532\n",
       "54  tail   best             hits_at_3  0.641791\n",
       "55  tail   best             hits_at_5  0.796020\n",
       "56  tail   best            hits_at_10  0.965174"
      ]
     },
     "execution_count": 118,
     "metadata": {},
     "output_type": "execute_result"
    }
   ],
   "source": [
    "result.metric_results.to_df()"
   ]
  },
  {
   "cell_type": "code",
   "execution_count": null,
   "metadata": {},
   "outputs": [],
   "source": []
  },
  {
   "cell_type": "code",
   "execution_count": null,
   "metadata": {},
   "outputs": [],
   "source": []
  },
  {
   "cell_type": "code",
   "execution_count": null,
   "metadata": {},
   "outputs": [],
   "source": []
  },
  {
   "cell_type": "code",
   "execution_count": null,
   "metadata": {},
   "outputs": [],
   "source": []
  },
  {
   "cell_type": "code",
   "execution_count": 15,
   "metadata": {},
   "outputs": [],
   "source": [
    "import pandas as pd\n",
    "data=pd.read_csv('KG_dataset_1_family_medicine.csv')"
   ]
  },
  {
   "cell_type": "code",
   "execution_count": 136,
   "metadata": {
    "collapsed": true
   },
   "outputs": [
    {
     "ename": "KeyError",
     "evalue": "\"['subject_type' 'object_type'] not found in axis\"",
     "output_type": "error",
     "traceback": [
      "\u001b[1;31m---------------------------------------------------------------------------\u001b[0m",
      "\u001b[1;31mKeyError\u001b[0m                                  Traceback (most recent call last)",
      "\u001b[1;32m<ipython-input-136-48bd41bd7ef2>\u001b[0m in \u001b[0;36m<module>\u001b[1;34m\u001b[0m\n\u001b[1;32m----> 1\u001b[1;33m \u001b[0mdata\u001b[0m\u001b[1;33m=\u001b[0m\u001b[0mdata\u001b[0m\u001b[1;33m.\u001b[0m\u001b[0mdrop\u001b[0m\u001b[1;33m(\u001b[0m\u001b[1;33m[\u001b[0m\u001b[1;34m'subject_type'\u001b[0m\u001b[1;33m,\u001b[0m\u001b[1;34m'object_type'\u001b[0m\u001b[1;33m]\u001b[0m\u001b[1;33m,\u001b[0m \u001b[0maxis\u001b[0m\u001b[1;33m=\u001b[0m\u001b[1;36m1\u001b[0m\u001b[1;33m)\u001b[0m\u001b[1;33m\u001b[0m\u001b[1;33m\u001b[0m\u001b[0m\n\u001b[0m",
      "\u001b[1;32m~\\anaconda3\\lib\\site-packages\\pandas\\core\\frame.py\u001b[0m in \u001b[0;36mdrop\u001b[1;34m(self, labels, axis, index, columns, level, inplace, errors)\u001b[0m\n\u001b[0;32m   3988\u001b[0m                 \u001b[0mweight\u001b[0m  \u001b[1;36m1.0\u001b[0m     \u001b[1;36m0.8\u001b[0m\u001b[1;33m\u001b[0m\u001b[1;33m\u001b[0m\u001b[0m\n\u001b[0;32m   3989\u001b[0m         \"\"\"\n\u001b[1;32m-> 3990\u001b[1;33m         return super().drop(\n\u001b[0m\u001b[0;32m   3991\u001b[0m             \u001b[0mlabels\u001b[0m\u001b[1;33m=\u001b[0m\u001b[0mlabels\u001b[0m\u001b[1;33m,\u001b[0m\u001b[1;33m\u001b[0m\u001b[1;33m\u001b[0m\u001b[0m\n\u001b[0;32m   3992\u001b[0m             \u001b[0maxis\u001b[0m\u001b[1;33m=\u001b[0m\u001b[0maxis\u001b[0m\u001b[1;33m,\u001b[0m\u001b[1;33m\u001b[0m\u001b[1;33m\u001b[0m\u001b[0m\n",
      "\u001b[1;32m~\\anaconda3\\lib\\site-packages\\pandas\\core\\generic.py\u001b[0m in \u001b[0;36mdrop\u001b[1;34m(self, labels, axis, index, columns, level, inplace, errors)\u001b[0m\n\u001b[0;32m   3934\u001b[0m         \u001b[1;32mfor\u001b[0m \u001b[0maxis\u001b[0m\u001b[1;33m,\u001b[0m \u001b[0mlabels\u001b[0m \u001b[1;32min\u001b[0m \u001b[0maxes\u001b[0m\u001b[1;33m.\u001b[0m\u001b[0mitems\u001b[0m\u001b[1;33m(\u001b[0m\u001b[1;33m)\u001b[0m\u001b[1;33m:\u001b[0m\u001b[1;33m\u001b[0m\u001b[1;33m\u001b[0m\u001b[0m\n\u001b[0;32m   3935\u001b[0m             \u001b[1;32mif\u001b[0m \u001b[0mlabels\u001b[0m \u001b[1;32mis\u001b[0m \u001b[1;32mnot\u001b[0m \u001b[1;32mNone\u001b[0m\u001b[1;33m:\u001b[0m\u001b[1;33m\u001b[0m\u001b[1;33m\u001b[0m\u001b[0m\n\u001b[1;32m-> 3936\u001b[1;33m                 \u001b[0mobj\u001b[0m \u001b[1;33m=\u001b[0m \u001b[0mobj\u001b[0m\u001b[1;33m.\u001b[0m\u001b[0m_drop_axis\u001b[0m\u001b[1;33m(\u001b[0m\u001b[0mlabels\u001b[0m\u001b[1;33m,\u001b[0m \u001b[0maxis\u001b[0m\u001b[1;33m,\u001b[0m \u001b[0mlevel\u001b[0m\u001b[1;33m=\u001b[0m\u001b[0mlevel\u001b[0m\u001b[1;33m,\u001b[0m \u001b[0merrors\u001b[0m\u001b[1;33m=\u001b[0m\u001b[0merrors\u001b[0m\u001b[1;33m)\u001b[0m\u001b[1;33m\u001b[0m\u001b[1;33m\u001b[0m\u001b[0m\n\u001b[0m\u001b[0;32m   3937\u001b[0m \u001b[1;33m\u001b[0m\u001b[0m\n\u001b[0;32m   3938\u001b[0m         \u001b[1;32mif\u001b[0m \u001b[0minplace\u001b[0m\u001b[1;33m:\u001b[0m\u001b[1;33m\u001b[0m\u001b[1;33m\u001b[0m\u001b[0m\n",
      "\u001b[1;32m~\\anaconda3\\lib\\site-packages\\pandas\\core\\generic.py\u001b[0m in \u001b[0;36m_drop_axis\u001b[1;34m(self, labels, axis, level, errors)\u001b[0m\n\u001b[0;32m   3968\u001b[0m                 \u001b[0mnew_axis\u001b[0m \u001b[1;33m=\u001b[0m \u001b[0maxis\u001b[0m\u001b[1;33m.\u001b[0m\u001b[0mdrop\u001b[0m\u001b[1;33m(\u001b[0m\u001b[0mlabels\u001b[0m\u001b[1;33m,\u001b[0m \u001b[0mlevel\u001b[0m\u001b[1;33m=\u001b[0m\u001b[0mlevel\u001b[0m\u001b[1;33m,\u001b[0m \u001b[0merrors\u001b[0m\u001b[1;33m=\u001b[0m\u001b[0merrors\u001b[0m\u001b[1;33m)\u001b[0m\u001b[1;33m\u001b[0m\u001b[1;33m\u001b[0m\u001b[0m\n\u001b[0;32m   3969\u001b[0m             \u001b[1;32melse\u001b[0m\u001b[1;33m:\u001b[0m\u001b[1;33m\u001b[0m\u001b[1;33m\u001b[0m\u001b[0m\n\u001b[1;32m-> 3970\u001b[1;33m                 \u001b[0mnew_axis\u001b[0m \u001b[1;33m=\u001b[0m \u001b[0maxis\u001b[0m\u001b[1;33m.\u001b[0m\u001b[0mdrop\u001b[0m\u001b[1;33m(\u001b[0m\u001b[0mlabels\u001b[0m\u001b[1;33m,\u001b[0m \u001b[0merrors\u001b[0m\u001b[1;33m=\u001b[0m\u001b[0merrors\u001b[0m\u001b[1;33m)\u001b[0m\u001b[1;33m\u001b[0m\u001b[1;33m\u001b[0m\u001b[0m\n\u001b[0m\u001b[0;32m   3971\u001b[0m             \u001b[0mresult\u001b[0m \u001b[1;33m=\u001b[0m \u001b[0mself\u001b[0m\u001b[1;33m.\u001b[0m\u001b[0mreindex\u001b[0m\u001b[1;33m(\u001b[0m\u001b[1;33m**\u001b[0m\u001b[1;33m{\u001b[0m\u001b[0maxis_name\u001b[0m\u001b[1;33m:\u001b[0m \u001b[0mnew_axis\u001b[0m\u001b[1;33m}\u001b[0m\u001b[1;33m)\u001b[0m\u001b[1;33m\u001b[0m\u001b[1;33m\u001b[0m\u001b[0m\n\u001b[0;32m   3972\u001b[0m \u001b[1;33m\u001b[0m\u001b[0m\n",
      "\u001b[1;32m~\\anaconda3\\lib\\site-packages\\pandas\\core\\indexes\\base.py\u001b[0m in \u001b[0;36mdrop\u001b[1;34m(self, labels, errors)\u001b[0m\n\u001b[0;32m   5016\u001b[0m         \u001b[1;32mif\u001b[0m \u001b[0mmask\u001b[0m\u001b[1;33m.\u001b[0m\u001b[0many\u001b[0m\u001b[1;33m(\u001b[0m\u001b[1;33m)\u001b[0m\u001b[1;33m:\u001b[0m\u001b[1;33m\u001b[0m\u001b[1;33m\u001b[0m\u001b[0m\n\u001b[0;32m   5017\u001b[0m             \u001b[1;32mif\u001b[0m \u001b[0merrors\u001b[0m \u001b[1;33m!=\u001b[0m \u001b[1;34m\"ignore\"\u001b[0m\u001b[1;33m:\u001b[0m\u001b[1;33m\u001b[0m\u001b[1;33m\u001b[0m\u001b[0m\n\u001b[1;32m-> 5018\u001b[1;33m                 \u001b[1;32mraise\u001b[0m \u001b[0mKeyError\u001b[0m\u001b[1;33m(\u001b[0m\u001b[1;34mf\"{labels[mask]} not found in axis\"\u001b[0m\u001b[1;33m)\u001b[0m\u001b[1;33m\u001b[0m\u001b[1;33m\u001b[0m\u001b[0m\n\u001b[0m\u001b[0;32m   5019\u001b[0m             \u001b[0mindexer\u001b[0m \u001b[1;33m=\u001b[0m \u001b[0mindexer\u001b[0m\u001b[1;33m[\u001b[0m\u001b[1;33m~\u001b[0m\u001b[0mmask\u001b[0m\u001b[1;33m]\u001b[0m\u001b[1;33m\u001b[0m\u001b[1;33m\u001b[0m\u001b[0m\n\u001b[0;32m   5020\u001b[0m         \u001b[1;32mreturn\u001b[0m \u001b[0mself\u001b[0m\u001b[1;33m.\u001b[0m\u001b[0mdelete\u001b[0m\u001b[1;33m(\u001b[0m\u001b[0mindexer\u001b[0m\u001b[1;33m)\u001b[0m\u001b[1;33m\u001b[0m\u001b[1;33m\u001b[0m\u001b[0m\n",
      "\u001b[1;31mKeyError\u001b[0m: \"['subject_type' 'object_type'] not found in axis\""
     ]
    }
   ],
   "source": [
    "data=data.drop(['subject_type','object_type'], axis=1)"
   ]
  },
  {
   "cell_type": "code",
   "execution_count": 21,
   "metadata": {},
   "outputs": [
    {
     "data": {
      "text/html": [
       "<div>\n",
       "<style scoped>\n",
       "    .dataframe tbody tr th:only-of-type {\n",
       "        vertical-align: middle;\n",
       "    }\n",
       "\n",
       "    .dataframe tbody tr th {\n",
       "        vertical-align: top;\n",
       "    }\n",
       "\n",
       "    .dataframe thead th {\n",
       "        text-align: right;\n",
       "    }\n",
       "</style>\n",
       "<table border=\"1\" class=\"dataframe\">\n",
       "  <thead>\n",
       "    <tr style=\"text-align: right;\">\n",
       "      <th></th>\n",
       "      <th>subject</th>\n",
       "      <th>relation</th>\n",
       "      <th>object</th>\n",
       "    </tr>\n",
       "  </thead>\n",
       "  <tbody>\n",
       "    <tr>\n",
       "      <th>0</th>\n",
       "      <td>Family physicians</td>\n",
       "      <td>hold</td>\n",
       "      <td>M.D.</td>\n",
       "    </tr>\n",
       "    <tr>\n",
       "      <th>1</th>\n",
       "      <td>certification</td>\n",
       "      <td>requires</td>\n",
       "      <td>five years</td>\n",
       "    </tr>\n",
       "    <tr>\n",
       "      <th>2</th>\n",
       "      <td>term Primary Care</td>\n",
       "      <td>include</td>\n",
       "      <td>services</td>\n",
       "    </tr>\n",
       "    <tr>\n",
       "      <th>3</th>\n",
       "      <td>Family physicians</td>\n",
       "      <td>deliver</td>\n",
       "      <td>range</td>\n",
       "    </tr>\n",
       "    <tr>\n",
       "      <th>4</th>\n",
       "      <td>family physicians</td>\n",
       "      <td>treat</td>\n",
       "      <td>patients</td>\n",
       "    </tr>\n",
       "    <tr>\n",
       "      <th>...</th>\n",
       "      <td>...</td>\n",
       "      <td>...</td>\n",
       "      <td>...</td>\n",
       "    </tr>\n",
       "    <tr>\n",
       "      <th>2302</th>\n",
       "      <td>the British Library</td>\n",
       "      <td>announced</td>\n",
       "      <td>support</td>\n",
       "    </tr>\n",
       "    <tr>\n",
       "      <th>2303</th>\n",
       "      <td>process</td>\n",
       "      <td>reveal</td>\n",
       "      <td>errors</td>\n",
       "    </tr>\n",
       "    <tr>\n",
       "      <th>2304</th>\n",
       "      <td>publishers</td>\n",
       "      <td>provide</td>\n",
       "      <td>PDF</td>\n",
       "    </tr>\n",
       "    <tr>\n",
       "      <th>2305</th>\n",
       "      <td>system</td>\n",
       "      <td>provides</td>\n",
       "      <td>search capability</td>\n",
       "    </tr>\n",
       "    <tr>\n",
       "      <th>2306</th>\n",
       "      <td>randomised trial</td>\n",
       "      <td>found</td>\n",
       "      <td>increase</td>\n",
       "    </tr>\n",
       "  </tbody>\n",
       "</table>\n",
       "<p>2307 rows × 3 columns</p>\n",
       "</div>"
      ],
      "text/plain": [
       "                  subject   relation             object\n",
       "0       Family physicians       hold               M.D.\n",
       "1           certification   requires         five years\n",
       "2       term Primary Care    include           services\n",
       "3       Family physicians    deliver              range\n",
       "4       family physicians      treat           patients\n",
       "...                   ...        ...                ...\n",
       "2302  the British Library  announced            support\n",
       "2303              process     reveal             errors\n",
       "2304           publishers    provide                PDF\n",
       "2305               system   provides  search capability\n",
       "2306     randomised trial      found           increase\n",
       "\n",
       "[2307 rows x 3 columns]"
      ]
     },
     "execution_count": 21,
     "metadata": {},
     "output_type": "execute_result"
    }
   ],
   "source": [
    "data"
   ]
  },
  {
   "cell_type": "code",
   "execution_count": null,
   "metadata": {},
   "outputs": [],
   "source": []
  },
  {
   "cell_type": "code",
   "execution_count": null,
   "metadata": {},
   "outputs": [],
   "source": []
  },
  {
   "cell_type": "code",
   "execution_count": 150,
   "metadata": {},
   "outputs": [],
   "source": [
    "#prestratisfied data NAtions"
   ]
  },
  {
   "cell_type": "code",
   "execution_count": 95,
   "metadata": {},
   "outputs": [
    {
     "name": "stderr",
     "output_type": "stream",
     "text": [
      "WARNING:pykeen.pipeline.api:No random seed is specified. Setting to 2490006702.\n",
      "WARNING:pykeen.utils:No cuda devices were available. The model runs on CPU\n"
     ]
    },
    {
     "data": {
      "application/vnd.jupyter.widget-view+json": {
       "model_id": "8a44a0897e57460e847f20e95e81018f",
       "version_major": 2,
       "version_minor": 0
      },
      "text/plain": [
       "HBox(children=(FloatProgress(value=0.0, description='Training epochs on cpu', max=5.0, style=ProgressStyle(des…"
      ]
     },
     "metadata": {},
     "output_type": "display_data"
    },
    {
     "data": {
      "application/vnd.jupyter.widget-view+json": {
       "model_id": "",
       "version_major": 2,
       "version_minor": 0
      },
      "text/plain": [
       "HBox(children=(FloatProgress(value=0.0, description='Training batches on cpu', max=7.0, style=ProgressStyle(de…"
      ]
     },
     "metadata": {},
     "output_type": "display_data"
    },
    {
     "data": {
      "application/vnd.jupyter.widget-view+json": {
       "model_id": "",
       "version_major": 2,
       "version_minor": 0
      },
      "text/plain": [
       "HBox(children=(FloatProgress(value=0.0, description='Training batches on cpu', max=7.0, style=ProgressStyle(de…"
      ]
     },
     "metadata": {},
     "output_type": "display_data"
    },
    {
     "data": {
      "application/vnd.jupyter.widget-view+json": {
       "model_id": "",
       "version_major": 2,
       "version_minor": 0
      },
      "text/plain": [
       "HBox(children=(FloatProgress(value=0.0, description='Training batches on cpu', max=7.0, style=ProgressStyle(de…"
      ]
     },
     "metadata": {},
     "output_type": "display_data"
    },
    {
     "data": {
      "application/vnd.jupyter.widget-view+json": {
       "model_id": "",
       "version_major": 2,
       "version_minor": 0
      },
      "text/plain": [
       "HBox(children=(FloatProgress(value=0.0, description='Training batches on cpu', max=7.0, style=ProgressStyle(de…"
      ]
     },
     "metadata": {},
     "output_type": "display_data"
    },
    {
     "data": {
      "application/vnd.jupyter.widget-view+json": {
       "model_id": "",
       "version_major": 2,
       "version_minor": 0
      },
      "text/plain": [
       "HBox(children=(FloatProgress(value=0.0, description='Training batches on cpu', max=7.0, style=ProgressStyle(de…"
      ]
     },
     "metadata": {},
     "output_type": "display_data"
    },
    {
     "name": "stderr",
     "output_type": "stream",
     "text": [
      "INFO:pykeen.evaluation.evaluator:Currently automatic memory optimization only supports GPUs, but you're using a CPU. Therefore, the batch_size will be set to the default value.\n",
      "INFO:pykeen.evaluation.evaluator:No evaluation batch_size provided. Setting batch_size to '32'.\n"
     ]
    },
    {
     "name": "stdout",
     "output_type": "stream",
     "text": [
      "\n"
     ]
    },
    {
     "data": {
      "application/vnd.jupyter.widget-view+json": {
       "model_id": "395313dcc12f4119aee9f05fa98567ff",
       "version_major": 2,
       "version_minor": 0
      },
      "text/plain": [
       "HBox(children=(FloatProgress(value=0.0, description='Evaluating on cpu', max=201.0, style=ProgressStyle(descri…"
      ]
     },
     "metadata": {},
     "output_type": "display_data"
    },
    {
     "name": "stderr",
     "output_type": "stream",
     "text": [
      "INFO:pykeen.evaluation.evaluator:Evaluation took 0.07s seconds\n"
     ]
    },
    {
     "name": "stdout",
     "output_type": "stream",
     "text": [
      "\n"
     ]
    }
   ],
   "source": [
    "from pykeen.triples import TriplesFactory\n",
    "from pykeen.pipeline import pipeline\n",
    "from pykeen.datasets.nations import NATIONS_TRAIN_PATH, NATIONS_TEST_PATH\n",
    "result = pipeline(\n",
    "    training=NATIONS_TRAIN_PATH,\n",
    "    testing=NATIONS_TEST_PATH,\n",
    "    model='TransE',\n",
    "    training_kwargs=dict(num_epochs=5),  # short epochs for testing - you should go higher\n",
    ")\n",
    "result.save_to_directory('doctests/test_pre_stratified_transe')\n"
   ]
  },
  {
   "cell_type": "code",
   "execution_count": 132,
   "metadata": {},
   "outputs": [],
   "source": [
    "import torch\n",
    "\n",
    "my_pykeen_model = torch.load('doctests/test_pre_stratified_transe/trained_model.pkl')"
   ]
  },
  {
   "cell_type": "code",
   "execution_count": 157,
   "metadata": {},
   "outputs": [
    {
     "data": {
      "text/plain": [
       "Embedding(\n",
       "  (_embeddings): Embedding(55, 50)\n",
       ")"
      ]
     },
     "execution_count": 157,
     "metadata": {},
     "output_type": "execute_result"
    }
   ],
   "source": [
    "my_pykeen_model.relation_embeddings"
   ]
  },
  {
   "cell_type": "code",
   "execution_count": 158,
   "metadata": {},
   "outputs": [],
   "source": [
    "entity_embeddings: torch.FloatTensor = model.entity_embeddings()"
   ]
  },
  {
   "cell_type": "code",
   "execution_count": 162,
   "metadata": {},
   "outputs": [
    {
     "data": {
      "text/plain": [
       "torch.Size([3546, 400])"
      ]
     },
     "execution_count": 162,
     "metadata": {},
     "output_type": "execute_result"
    }
   ],
   "source": [
    "entity_embeddings.shape"
   ]
  },
  {
   "cell_type": "code",
   "execution_count": null,
   "metadata": {},
   "outputs": [],
   "source": []
  },
  {
   "cell_type": "code",
   "execution_count": 160,
   "metadata": {},
   "outputs": [
    {
     "data": {
      "text/plain": [
       "tensor([[ 0,  7,  5],\n",
       "        [ 0, 14, 11],\n",
       "        [ 0, 18, 12],\n",
       "        [ 0, 20,  3],\n",
       "        [ 0, 20, 10],\n",
       "        [ 0, 21, 12],\n",
       "        [ 1,  3, 12],\n",
       "        [ 1,  7,  0],\n",
       "        [ 1, 10, 11],\n",
       "        [ 1, 18,  5],\n",
       "        [ 1, 21,  6],\n",
       "        [ 1, 28,  7],\n",
       "        [ 1, 33,  4],\n",
       "        [ 1, 33,  6],\n",
       "        [ 1, 33, 13],\n",
       "        [ 1, 38,  4],\n",
       "        [ 1, 38,  7],\n",
       "        [ 1, 38, 12],\n",
       "        [ 1, 39,  7],\n",
       "        [ 1, 42,  2],\n",
       "        [ 1, 49,  2],\n",
       "        [ 2,  0, 11],\n",
       "        [ 2,  6,  0],\n",
       "        [ 2, 14,  1],\n",
       "        [ 2, 14,  4],\n",
       "        [ 2, 14,  6],\n",
       "        [ 2, 21,  5],\n",
       "        [ 2, 21, 12],\n",
       "        [ 2, 21, 13],\n",
       "        [ 2, 26,  5],\n",
       "        [ 2, 30,  1],\n",
       "        [ 2, 30,  6],\n",
       "        [ 2, 37,  3],\n",
       "        [ 2, 37, 13],\n",
       "        [ 2, 38,  0],\n",
       "        [ 2, 45,  0],\n",
       "        [ 3, 19, 12],\n",
       "        [ 3, 21, 11],\n",
       "        [ 3, 25, 11],\n",
       "        [ 3, 28,  7],\n",
       "        [ 3, 30,  2],\n",
       "        [ 3, 33,  2],\n",
       "        [ 3, 33,  4],\n",
       "        [ 3, 37, 13],\n",
       "        [ 3, 38,  4],\n",
       "        [ 3, 42,  2],\n",
       "        [ 3, 42, 11],\n",
       "        [ 3, 46, 12],\n",
       "        [ 3, 48, 13],\n",
       "        [ 4,  7,  0],\n",
       "        [ 4,  7, 11],\n",
       "        [ 4,  8,  5],\n",
       "        [ 4, 14,  1],\n",
       "        [ 4, 14,  3],\n",
       "        [ 4, 14, 11],\n",
       "        [ 4, 14, 13],\n",
       "        [ 4, 19,  0],\n",
       "        [ 4, 19, 12],\n",
       "        [ 4, 25,  7],\n",
       "        [ 4, 28,  0],\n",
       "        [ 4, 28,  9],\n",
       "        [ 4, 28, 12],\n",
       "        [ 4, 30, 13],\n",
       "        [ 4, 33, 12],\n",
       "        [ 4, 42, 10],\n",
       "        [ 4, 45, 13],\n",
       "        [ 4, 49,  2],\n",
       "        [ 4, 49,  6],\n",
       "        [ 5,  7,  2],\n",
       "        [ 5,  7, 10],\n",
       "        [ 5, 20,  1],\n",
       "        [ 5, 20,  4],\n",
       "        [ 5, 20,  7],\n",
       "        [ 5, 29,  2],\n",
       "        [ 5, 37, 11],\n",
       "        [ 5, 37, 12],\n",
       "        [ 5, 37, 13],\n",
       "        [ 5, 38,  0],\n",
       "        [ 5, 42, 12],\n",
       "        [ 5, 44, 12],\n",
       "        [ 5, 45,  0],\n",
       "        [ 5, 45,  3],\n",
       "        [ 6,  0, 11],\n",
       "        [ 6,  7,  9],\n",
       "        [ 6,  8,  1],\n",
       "        [ 6, 14,  1],\n",
       "        [ 6, 14,  3],\n",
       "        [ 6, 16,  3],\n",
       "        [ 6, 23, 11],\n",
       "        [ 6, 24, 12],\n",
       "        [ 6, 26,  2],\n",
       "        [ 6, 26, 11],\n",
       "        [ 6, 28,  5],\n",
       "        [ 6, 28,  9],\n",
       "        [ 6, 33,  4],\n",
       "        [ 6, 33, 11],\n",
       "        [ 6, 39,  3],\n",
       "        [ 6, 39, 12],\n",
       "        [ 6, 42,  2],\n",
       "        [ 6, 44, 12],\n",
       "        [ 6, 52, 11],\n",
       "        [ 7,  4, 13],\n",
       "        [ 7,  7,  3],\n",
       "        [ 7,  7,  9],\n",
       "        [ 7, 14,  0],\n",
       "        [ 7, 20,  4],\n",
       "        [ 7, 21,  0],\n",
       "        [ 7, 21,  4],\n",
       "        [ 7, 21, 12],\n",
       "        [ 7, 28,  0],\n",
       "        [ 7, 39,  5],\n",
       "        [ 7, 39, 12],\n",
       "        [ 7, 46,  8],\n",
       "        [ 8,  8,  6],\n",
       "        [ 8, 21,  7],\n",
       "        [ 8, 28,  9],\n",
       "        [ 8, 28, 12],\n",
       "        [ 8, 30,  4],\n",
       "        [ 8, 33, 12],\n",
       "        [ 8, 38,  3],\n",
       "        [ 8, 38, 10],\n",
       "        [ 8, 39,  0],\n",
       "        [ 8, 39, 12],\n",
       "        [ 8, 42,  6],\n",
       "        [ 8, 54, 11],\n",
       "        [ 9,  6,  2],\n",
       "        [ 9,  7,  1],\n",
       "        [ 9,  8, 11],\n",
       "        [ 9, 14,  2],\n",
       "        [ 9, 14,  5],\n",
       "        [ 9, 14, 13],\n",
       "        [ 9, 20,  6],\n",
       "        [ 9, 22,  6],\n",
       "        [ 9, 27,  5],\n",
       "        [ 9, 28,  5],\n",
       "        [ 9, 36, 11],\n",
       "        [ 9, 38, 11],\n",
       "        [ 9, 48, 11],\n",
       "        [ 9, 48, 13],\n",
       "        [ 9, 49, 12],\n",
       "        [10,  8, 13],\n",
       "        [10, 19, 11],\n",
       "        [10, 20,  7],\n",
       "        [10, 21,  7],\n",
       "        [10, 27,  5],\n",
       "        [10, 28, 13],\n",
       "        [10, 33,  3],\n",
       "        [10, 33,  5],\n",
       "        [10, 33, 12],\n",
       "        [10, 37, 12],\n",
       "        [10, 38, 12],\n",
       "        [10, 42, 13],\n",
       "        [10, 54,  9],\n",
       "        [10, 54, 11],\n",
       "        [11,  9,  6],\n",
       "        [11, 11,  6],\n",
       "        [11, 14,  9],\n",
       "        [11, 21,  0],\n",
       "        [11, 21,  9],\n",
       "        [11, 27, 10],\n",
       "        [11, 31, 13],\n",
       "        [11, 39, 12],\n",
       "        [11, 45,  3],\n",
       "        [11, 45,  4],\n",
       "        [11, 45, 12],\n",
       "        [11, 45, 13],\n",
       "        [11, 48,  4],\n",
       "        [11, 51,  8],\n",
       "        [11, 54,  3],\n",
       "        [12,  0,  3],\n",
       "        [12,  3, 13],\n",
       "        [12,  9,  6],\n",
       "        [12, 14,  0],\n",
       "        [12, 14, 11],\n",
       "        [12, 19,  2],\n",
       "        [12, 24,  9],\n",
       "        [12, 24, 11],\n",
       "        [12, 25,  4],\n",
       "        [12, 26,  0],\n",
       "        [12, 28,  9],\n",
       "        [12, 28, 11],\n",
       "        [12, 30,  6],\n",
       "        [12, 41,  4],\n",
       "        [12, 41,  5],\n",
       "        [12, 45,  3],\n",
       "        [12, 45,  9],\n",
       "        [12, 51,  7],\n",
       "        [12, 54,  3],\n",
       "        [12, 54,  7],\n",
       "        [12, 54, 13],\n",
       "        [13,  3,  1],\n",
       "        [13,  3, 11],\n",
       "        [13,  4, 12],\n",
       "        [13, 14,  9],\n",
       "        [13, 19,  2],\n",
       "        [13, 32, 12],\n",
       "        [13, 33, 12],\n",
       "        [13, 38,  0],\n",
       "        [13, 39, 10],\n",
       "        [13, 45,  0],\n",
       "        [13, 45,  2]])"
      ]
     },
     "execution_count": 160,
     "metadata": {},
     "output_type": "execute_result"
    }
   ],
   "source": [
    "Nations().testing.mapped_triples"
   ]
  },
  {
   "cell_type": "code",
   "execution_count": null,
   "metadata": {},
   "outputs": [],
   "source": []
  },
  {
   "cell_type": "code",
   "execution_count": null,
   "metadata": {},
   "outputs": [],
   "source": []
  },
  {
   "cell_type": "code",
   "execution_count": 151,
   "metadata": {},
   "outputs": [],
   "source": [
    "#BYOData Prestratisfied"
   ]
  },
  {
   "cell_type": "code",
   "execution_count": 98,
   "metadata": {},
   "outputs": [
    {
     "data": {
      "text/plain": [
       "'C:\\\\Users\\\\shahz\\\\anaconda3\\\\lib\\\\site-packages\\\\pykeen\\\\datasets\\\\nations\\\\test.txt'"
      ]
     },
     "execution_count": 98,
     "metadata": {},
     "output_type": "execute_result"
    }
   ],
   "source": [
    "pykeen.datasets.nations.NATIONS_TEST_PATH"
   ]
  },
  {
   "cell_type": "code",
   "execution_count": 140,
   "metadata": {},
   "outputs": [
    {
     "data": {
      "application/vnd.jupyter.widget-view+json": {
       "model_id": "ecdf52d75aa44ae89b0b51148935d195",
       "version_major": 2,
       "version_minor": 0
      },
      "text/plain": [
       "HBox(children=(FloatProgress(value=0.0, description='Training epochs on cpu', style=ProgressStyle(description_…"
      ]
     },
     "metadata": {},
     "output_type": "display_data"
    },
    {
     "data": {
      "application/vnd.jupyter.widget-view+json": {
       "model_id": "",
       "version_major": 2,
       "version_minor": 0
      },
      "text/plain": [
       "HBox(children=(FloatProgress(value=0.0, description='Training batches on cpu', max=9.0, style=ProgressStyle(de…"
      ]
     },
     "metadata": {},
     "output_type": "display_data"
    },
    {
     "data": {
      "application/vnd.jupyter.widget-view+json": {
       "model_id": "",
       "version_major": 2,
       "version_minor": 0
      },
      "text/plain": [
       "HBox(children=(FloatProgress(value=0.0, description='Training batches on cpu', max=9.0, style=ProgressStyle(de…"
      ]
     },
     "metadata": {},
     "output_type": "display_data"
    },
    {
     "data": {
      "application/vnd.jupyter.widget-view+json": {
       "model_id": "",
       "version_major": 2,
       "version_minor": 0
      },
      "text/plain": [
       "HBox(children=(FloatProgress(value=0.0, description='Training batches on cpu', max=9.0, style=ProgressStyle(de…"
      ]
     },
     "metadata": {},
     "output_type": "display_data"
    },
    {
     "data": {
      "application/vnd.jupyter.widget-view+json": {
       "model_id": "",
       "version_major": 2,
       "version_minor": 0
      },
      "text/plain": [
       "HBox(children=(FloatProgress(value=0.0, description='Training batches on cpu', max=9.0, style=ProgressStyle(de…"
      ]
     },
     "metadata": {},
     "output_type": "display_data"
    },
    {
     "data": {
      "application/vnd.jupyter.widget-view+json": {
       "model_id": "",
       "version_major": 2,
       "version_minor": 0
      },
      "text/plain": [
       "HBox(children=(FloatProgress(value=0.0, description='Training batches on cpu', max=9.0, style=ProgressStyle(de…"
      ]
     },
     "metadata": {},
     "output_type": "display_data"
    },
    {
     "data": {
      "application/vnd.jupyter.widget-view+json": {
       "model_id": "",
       "version_major": 2,
       "version_minor": 0
      },
      "text/plain": [
       "HBox(children=(FloatProgress(value=0.0, description='Training batches on cpu', max=9.0, style=ProgressStyle(de…"
      ]
     },
     "metadata": {},
     "output_type": "display_data"
    },
    {
     "data": {
      "application/vnd.jupyter.widget-view+json": {
       "model_id": "",
       "version_major": 2,
       "version_minor": 0
      },
      "text/plain": [
       "HBox(children=(FloatProgress(value=0.0, description='Training batches on cpu', max=9.0, style=ProgressStyle(de…"
      ]
     },
     "metadata": {},
     "output_type": "display_data"
    },
    {
     "data": {
      "application/vnd.jupyter.widget-view+json": {
       "model_id": "",
       "version_major": 2,
       "version_minor": 0
      },
      "text/plain": [
       "HBox(children=(FloatProgress(value=0.0, description='Training batches on cpu', max=9.0, style=ProgressStyle(de…"
      ]
     },
     "metadata": {},
     "output_type": "display_data"
    },
    {
     "data": {
      "application/vnd.jupyter.widget-view+json": {
       "model_id": "",
       "version_major": 2,
       "version_minor": 0
      },
      "text/plain": [
       "HBox(children=(FloatProgress(value=0.0, description='Training batches on cpu', max=9.0, style=ProgressStyle(de…"
      ]
     },
     "metadata": {},
     "output_type": "display_data"
    },
    {
     "data": {
      "application/vnd.jupyter.widget-view+json": {
       "model_id": "",
       "version_major": 2,
       "version_minor": 0
      },
      "text/plain": [
       "HBox(children=(FloatProgress(value=0.0, description='Training batches on cpu', max=9.0, style=ProgressStyle(de…"
      ]
     },
     "metadata": {},
     "output_type": "display_data"
    },
    {
     "data": {
      "application/vnd.jupyter.widget-view+json": {
       "model_id": "",
       "version_major": 2,
       "version_minor": 0
      },
      "text/plain": [
       "HBox(children=(FloatProgress(value=0.0, description='Training batches on cpu', max=9.0, style=ProgressStyle(de…"
      ]
     },
     "metadata": {},
     "output_type": "display_data"
    },
    {
     "data": {
      "application/vnd.jupyter.widget-view+json": {
       "model_id": "",
       "version_major": 2,
       "version_minor": 0
      },
      "text/plain": [
       "HBox(children=(FloatProgress(value=0.0, description='Training batches on cpu', max=9.0, style=ProgressStyle(de…"
      ]
     },
     "metadata": {},
     "output_type": "display_data"
    },
    {
     "data": {
      "application/vnd.jupyter.widget-view+json": {
       "model_id": "",
       "version_major": 2,
       "version_minor": 0
      },
      "text/plain": [
       "HBox(children=(FloatProgress(value=0.0, description='Training batches on cpu', max=9.0, style=ProgressStyle(de…"
      ]
     },
     "metadata": {},
     "output_type": "display_data"
    },
    {
     "data": {
      "application/vnd.jupyter.widget-view+json": {
       "model_id": "",
       "version_major": 2,
       "version_minor": 0
      },
      "text/plain": [
       "HBox(children=(FloatProgress(value=0.0, description='Training batches on cpu', max=9.0, style=ProgressStyle(de…"
      ]
     },
     "metadata": {},
     "output_type": "display_data"
    },
    {
     "data": {
      "application/vnd.jupyter.widget-view+json": {
       "model_id": "",
       "version_major": 2,
       "version_minor": 0
      },
      "text/plain": [
       "HBox(children=(FloatProgress(value=0.0, description='Training batches on cpu', max=9.0, style=ProgressStyle(de…"
      ]
     },
     "metadata": {},
     "output_type": "display_data"
    },
    {
     "data": {
      "application/vnd.jupyter.widget-view+json": {
       "model_id": "",
       "version_major": 2,
       "version_minor": 0
      },
      "text/plain": [
       "HBox(children=(FloatProgress(value=0.0, description='Training batches on cpu', max=9.0, style=ProgressStyle(de…"
      ]
     },
     "metadata": {},
     "output_type": "display_data"
    },
    {
     "data": {
      "application/vnd.jupyter.widget-view+json": {
       "model_id": "",
       "version_major": 2,
       "version_minor": 0
      },
      "text/plain": [
       "HBox(children=(FloatProgress(value=0.0, description='Training batches on cpu', max=9.0, style=ProgressStyle(de…"
      ]
     },
     "metadata": {},
     "output_type": "display_data"
    },
    {
     "data": {
      "application/vnd.jupyter.widget-view+json": {
       "model_id": "",
       "version_major": 2,
       "version_minor": 0
      },
      "text/plain": [
       "HBox(children=(FloatProgress(value=0.0, description='Training batches on cpu', max=9.0, style=ProgressStyle(de…"
      ]
     },
     "metadata": {},
     "output_type": "display_data"
    },
    {
     "data": {
      "application/vnd.jupyter.widget-view+json": {
       "model_id": "",
       "version_major": 2,
       "version_minor": 0
      },
      "text/plain": [
       "HBox(children=(FloatProgress(value=0.0, description='Training batches on cpu', max=9.0, style=ProgressStyle(de…"
      ]
     },
     "metadata": {},
     "output_type": "display_data"
    },
    {
     "data": {
      "application/vnd.jupyter.widget-view+json": {
       "model_id": "",
       "version_major": 2,
       "version_minor": 0
      },
      "text/plain": [
       "HBox(children=(FloatProgress(value=0.0, description='Training batches on cpu', max=9.0, style=ProgressStyle(de…"
      ]
     },
     "metadata": {},
     "output_type": "display_data"
    },
    {
     "data": {
      "application/vnd.jupyter.widget-view+json": {
       "model_id": "",
       "version_major": 2,
       "version_minor": 0
      },
      "text/plain": [
       "HBox(children=(FloatProgress(value=0.0, description='Training batches on cpu', max=9.0, style=ProgressStyle(de…"
      ]
     },
     "metadata": {},
     "output_type": "display_data"
    },
    {
     "data": {
      "application/vnd.jupyter.widget-view+json": {
       "model_id": "",
       "version_major": 2,
       "version_minor": 0
      },
      "text/plain": [
       "HBox(children=(FloatProgress(value=0.0, description='Training batches on cpu', max=9.0, style=ProgressStyle(de…"
      ]
     },
     "metadata": {},
     "output_type": "display_data"
    },
    {
     "data": {
      "application/vnd.jupyter.widget-view+json": {
       "model_id": "",
       "version_major": 2,
       "version_minor": 0
      },
      "text/plain": [
       "HBox(children=(FloatProgress(value=0.0, description='Training batches on cpu', max=9.0, style=ProgressStyle(de…"
      ]
     },
     "metadata": {},
     "output_type": "display_data"
    },
    {
     "data": {
      "application/vnd.jupyter.widget-view+json": {
       "model_id": "",
       "version_major": 2,
       "version_minor": 0
      },
      "text/plain": [
       "HBox(children=(FloatProgress(value=0.0, description='Training batches on cpu', max=9.0, style=ProgressStyle(de…"
      ]
     },
     "metadata": {},
     "output_type": "display_data"
    },
    {
     "data": {
      "application/vnd.jupyter.widget-view+json": {
       "model_id": "",
       "version_major": 2,
       "version_minor": 0
      },
      "text/plain": [
       "HBox(children=(FloatProgress(value=0.0, description='Training batches on cpu', max=9.0, style=ProgressStyle(de…"
      ]
     },
     "metadata": {},
     "output_type": "display_data"
    },
    {
     "data": {
      "application/vnd.jupyter.widget-view+json": {
       "model_id": "",
       "version_major": 2,
       "version_minor": 0
      },
      "text/plain": [
       "HBox(children=(FloatProgress(value=0.0, description='Training batches on cpu', max=9.0, style=ProgressStyle(de…"
      ]
     },
     "metadata": {},
     "output_type": "display_data"
    },
    {
     "data": {
      "application/vnd.jupyter.widget-view+json": {
       "model_id": "",
       "version_major": 2,
       "version_minor": 0
      },
      "text/plain": [
       "HBox(children=(FloatProgress(value=0.0, description='Training batches on cpu', max=9.0, style=ProgressStyle(de…"
      ]
     },
     "metadata": {},
     "output_type": "display_data"
    },
    {
     "data": {
      "application/vnd.jupyter.widget-view+json": {
       "model_id": "",
       "version_major": 2,
       "version_minor": 0
      },
      "text/plain": [
       "HBox(children=(FloatProgress(value=0.0, description='Training batches on cpu', max=9.0, style=ProgressStyle(de…"
      ]
     },
     "metadata": {},
     "output_type": "display_data"
    },
    {
     "data": {
      "application/vnd.jupyter.widget-view+json": {
       "model_id": "",
       "version_major": 2,
       "version_minor": 0
      },
      "text/plain": [
       "HBox(children=(FloatProgress(value=0.0, description='Training batches on cpu', max=9.0, style=ProgressStyle(de…"
      ]
     },
     "metadata": {},
     "output_type": "display_data"
    },
    {
     "data": {
      "application/vnd.jupyter.widget-view+json": {
       "model_id": "",
       "version_major": 2,
       "version_minor": 0
      },
      "text/plain": [
       "HBox(children=(FloatProgress(value=0.0, description='Training batches on cpu', max=9.0, style=ProgressStyle(de…"
      ]
     },
     "metadata": {},
     "output_type": "display_data"
    },
    {
     "data": {
      "application/vnd.jupyter.widget-view+json": {
       "model_id": "",
       "version_major": 2,
       "version_minor": 0
      },
      "text/plain": [
       "HBox(children=(FloatProgress(value=0.0, description='Training batches on cpu', max=9.0, style=ProgressStyle(de…"
      ]
     },
     "metadata": {},
     "output_type": "display_data"
    },
    {
     "data": {
      "application/vnd.jupyter.widget-view+json": {
       "model_id": "",
       "version_major": 2,
       "version_minor": 0
      },
      "text/plain": [
       "HBox(children=(FloatProgress(value=0.0, description='Training batches on cpu', max=9.0, style=ProgressStyle(de…"
      ]
     },
     "metadata": {},
     "output_type": "display_data"
    },
    {
     "data": {
      "application/vnd.jupyter.widget-view+json": {
       "model_id": "",
       "version_major": 2,
       "version_minor": 0
      },
      "text/plain": [
       "HBox(children=(FloatProgress(value=0.0, description='Training batches on cpu', max=9.0, style=ProgressStyle(de…"
      ]
     },
     "metadata": {},
     "output_type": "display_data"
    },
    {
     "data": {
      "application/vnd.jupyter.widget-view+json": {
       "model_id": "",
       "version_major": 2,
       "version_minor": 0
      },
      "text/plain": [
       "HBox(children=(FloatProgress(value=0.0, description='Training batches on cpu', max=9.0, style=ProgressStyle(de…"
      ]
     },
     "metadata": {},
     "output_type": "display_data"
    },
    {
     "data": {
      "application/vnd.jupyter.widget-view+json": {
       "model_id": "",
       "version_major": 2,
       "version_minor": 0
      },
      "text/plain": [
       "HBox(children=(FloatProgress(value=0.0, description='Training batches on cpu', max=9.0, style=ProgressStyle(de…"
      ]
     },
     "metadata": {},
     "output_type": "display_data"
    },
    {
     "data": {
      "application/vnd.jupyter.widget-view+json": {
       "model_id": "",
       "version_major": 2,
       "version_minor": 0
      },
      "text/plain": [
       "HBox(children=(FloatProgress(value=0.0, description='Training batches on cpu', max=9.0, style=ProgressStyle(de…"
      ]
     },
     "metadata": {},
     "output_type": "display_data"
    },
    {
     "data": {
      "application/vnd.jupyter.widget-view+json": {
       "model_id": "",
       "version_major": 2,
       "version_minor": 0
      },
      "text/plain": [
       "HBox(children=(FloatProgress(value=0.0, description='Training batches on cpu', max=9.0, style=ProgressStyle(de…"
      ]
     },
     "metadata": {},
     "output_type": "display_data"
    },
    {
     "data": {
      "application/vnd.jupyter.widget-view+json": {
       "model_id": "",
       "version_major": 2,
       "version_minor": 0
      },
      "text/plain": [
       "HBox(children=(FloatProgress(value=0.0, description='Training batches on cpu', max=9.0, style=ProgressStyle(de…"
      ]
     },
     "metadata": {},
     "output_type": "display_data"
    },
    {
     "data": {
      "application/vnd.jupyter.widget-view+json": {
       "model_id": "",
       "version_major": 2,
       "version_minor": 0
      },
      "text/plain": [
       "HBox(children=(FloatProgress(value=0.0, description='Training batches on cpu', max=9.0, style=ProgressStyle(de…"
      ]
     },
     "metadata": {},
     "output_type": "display_data"
    },
    {
     "data": {
      "application/vnd.jupyter.widget-view+json": {
       "model_id": "",
       "version_major": 2,
       "version_minor": 0
      },
      "text/plain": [
       "HBox(children=(FloatProgress(value=0.0, description='Training batches on cpu', max=9.0, style=ProgressStyle(de…"
      ]
     },
     "metadata": {},
     "output_type": "display_data"
    },
    {
     "data": {
      "application/vnd.jupyter.widget-view+json": {
       "model_id": "",
       "version_major": 2,
       "version_minor": 0
      },
      "text/plain": [
       "HBox(children=(FloatProgress(value=0.0, description='Training batches on cpu', max=9.0, style=ProgressStyle(de…"
      ]
     },
     "metadata": {},
     "output_type": "display_data"
    },
    {
     "data": {
      "application/vnd.jupyter.widget-view+json": {
       "model_id": "",
       "version_major": 2,
       "version_minor": 0
      },
      "text/plain": [
       "HBox(children=(FloatProgress(value=0.0, description='Training batches on cpu', max=9.0, style=ProgressStyle(de…"
      ]
     },
     "metadata": {},
     "output_type": "display_data"
    },
    {
     "data": {
      "application/vnd.jupyter.widget-view+json": {
       "model_id": "",
       "version_major": 2,
       "version_minor": 0
      },
      "text/plain": [
       "HBox(children=(FloatProgress(value=0.0, description='Training batches on cpu', max=9.0, style=ProgressStyle(de…"
      ]
     },
     "metadata": {},
     "output_type": "display_data"
    },
    {
     "data": {
      "application/vnd.jupyter.widget-view+json": {
       "model_id": "",
       "version_major": 2,
       "version_minor": 0
      },
      "text/plain": [
       "HBox(children=(FloatProgress(value=0.0, description='Training batches on cpu', max=9.0, style=ProgressStyle(de…"
      ]
     },
     "metadata": {},
     "output_type": "display_data"
    },
    {
     "data": {
      "application/vnd.jupyter.widget-view+json": {
       "model_id": "",
       "version_major": 2,
       "version_minor": 0
      },
      "text/plain": [
       "HBox(children=(FloatProgress(value=0.0, description='Training batches on cpu', max=9.0, style=ProgressStyle(de…"
      ]
     },
     "metadata": {},
     "output_type": "display_data"
    },
    {
     "data": {
      "application/vnd.jupyter.widget-view+json": {
       "model_id": "",
       "version_major": 2,
       "version_minor": 0
      },
      "text/plain": [
       "HBox(children=(FloatProgress(value=0.0, description='Training batches on cpu', max=9.0, style=ProgressStyle(de…"
      ]
     },
     "metadata": {},
     "output_type": "display_data"
    },
    {
     "data": {
      "application/vnd.jupyter.widget-view+json": {
       "model_id": "",
       "version_major": 2,
       "version_minor": 0
      },
      "text/plain": [
       "HBox(children=(FloatProgress(value=0.0, description='Training batches on cpu', max=9.0, style=ProgressStyle(de…"
      ]
     },
     "metadata": {},
     "output_type": "display_data"
    },
    {
     "data": {
      "application/vnd.jupyter.widget-view+json": {
       "model_id": "",
       "version_major": 2,
       "version_minor": 0
      },
      "text/plain": [
       "HBox(children=(FloatProgress(value=0.0, description='Training batches on cpu', max=9.0, style=ProgressStyle(de…"
      ]
     },
     "metadata": {},
     "output_type": "display_data"
    },
    {
     "data": {
      "application/vnd.jupyter.widget-view+json": {
       "model_id": "",
       "version_major": 2,
       "version_minor": 0
      },
      "text/plain": [
       "HBox(children=(FloatProgress(value=0.0, description='Training batches on cpu', max=9.0, style=ProgressStyle(de…"
      ]
     },
     "metadata": {},
     "output_type": "display_data"
    },
    {
     "data": {
      "application/vnd.jupyter.widget-view+json": {
       "model_id": "",
       "version_major": 2,
       "version_minor": 0
      },
      "text/plain": [
       "HBox(children=(FloatProgress(value=0.0, description='Training batches on cpu', max=9.0, style=ProgressStyle(de…"
      ]
     },
     "metadata": {},
     "output_type": "display_data"
    },
    {
     "data": {
      "application/vnd.jupyter.widget-view+json": {
       "model_id": "",
       "version_major": 2,
       "version_minor": 0
      },
      "text/plain": [
       "HBox(children=(FloatProgress(value=0.0, description='Training batches on cpu', max=9.0, style=ProgressStyle(de…"
      ]
     },
     "metadata": {},
     "output_type": "display_data"
    },
    {
     "data": {
      "application/vnd.jupyter.widget-view+json": {
       "model_id": "",
       "version_major": 2,
       "version_minor": 0
      },
      "text/plain": [
       "HBox(children=(FloatProgress(value=0.0, description='Training batches on cpu', max=9.0, style=ProgressStyle(de…"
      ]
     },
     "metadata": {},
     "output_type": "display_data"
    },
    {
     "data": {
      "application/vnd.jupyter.widget-view+json": {
       "model_id": "",
       "version_major": 2,
       "version_minor": 0
      },
      "text/plain": [
       "HBox(children=(FloatProgress(value=0.0, description='Training batches on cpu', max=9.0, style=ProgressStyle(de…"
      ]
     },
     "metadata": {},
     "output_type": "display_data"
    },
    {
     "data": {
      "application/vnd.jupyter.widget-view+json": {
       "model_id": "",
       "version_major": 2,
       "version_minor": 0
      },
      "text/plain": [
       "HBox(children=(FloatProgress(value=0.0, description='Training batches on cpu', max=9.0, style=ProgressStyle(de…"
      ]
     },
     "metadata": {},
     "output_type": "display_data"
    },
    {
     "data": {
      "application/vnd.jupyter.widget-view+json": {
       "model_id": "",
       "version_major": 2,
       "version_minor": 0
      },
      "text/plain": [
       "HBox(children=(FloatProgress(value=0.0, description='Training batches on cpu', max=9.0, style=ProgressStyle(de…"
      ]
     },
     "metadata": {},
     "output_type": "display_data"
    },
    {
     "data": {
      "application/vnd.jupyter.widget-view+json": {
       "model_id": "",
       "version_major": 2,
       "version_minor": 0
      },
      "text/plain": [
       "HBox(children=(FloatProgress(value=0.0, description='Training batches on cpu', max=9.0, style=ProgressStyle(de…"
      ]
     },
     "metadata": {},
     "output_type": "display_data"
    },
    {
     "data": {
      "application/vnd.jupyter.widget-view+json": {
       "model_id": "",
       "version_major": 2,
       "version_minor": 0
      },
      "text/plain": [
       "HBox(children=(FloatProgress(value=0.0, description='Training batches on cpu', max=9.0, style=ProgressStyle(de…"
      ]
     },
     "metadata": {},
     "output_type": "display_data"
    },
    {
     "data": {
      "application/vnd.jupyter.widget-view+json": {
       "model_id": "",
       "version_major": 2,
       "version_minor": 0
      },
      "text/plain": [
       "HBox(children=(FloatProgress(value=0.0, description='Training batches on cpu', max=9.0, style=ProgressStyle(de…"
      ]
     },
     "metadata": {},
     "output_type": "display_data"
    },
    {
     "data": {
      "application/vnd.jupyter.widget-view+json": {
       "model_id": "",
       "version_major": 2,
       "version_minor": 0
      },
      "text/plain": [
       "HBox(children=(FloatProgress(value=0.0, description='Training batches on cpu', max=9.0, style=ProgressStyle(de…"
      ]
     },
     "metadata": {},
     "output_type": "display_data"
    },
    {
     "data": {
      "application/vnd.jupyter.widget-view+json": {
       "model_id": "",
       "version_major": 2,
       "version_minor": 0
      },
      "text/plain": [
       "HBox(children=(FloatProgress(value=0.0, description='Training batches on cpu', max=9.0, style=ProgressStyle(de…"
      ]
     },
     "metadata": {},
     "output_type": "display_data"
    },
    {
     "data": {
      "application/vnd.jupyter.widget-view+json": {
       "model_id": "",
       "version_major": 2,
       "version_minor": 0
      },
      "text/plain": [
       "HBox(children=(FloatProgress(value=0.0, description='Training batches on cpu', max=9.0, style=ProgressStyle(de…"
      ]
     },
     "metadata": {},
     "output_type": "display_data"
    },
    {
     "data": {
      "application/vnd.jupyter.widget-view+json": {
       "model_id": "",
       "version_major": 2,
       "version_minor": 0
      },
      "text/plain": [
       "HBox(children=(FloatProgress(value=0.0, description='Training batches on cpu', max=9.0, style=ProgressStyle(de…"
      ]
     },
     "metadata": {},
     "output_type": "display_data"
    },
    {
     "data": {
      "application/vnd.jupyter.widget-view+json": {
       "model_id": "",
       "version_major": 2,
       "version_minor": 0
      },
      "text/plain": [
       "HBox(children=(FloatProgress(value=0.0, description='Training batches on cpu', max=9.0, style=ProgressStyle(de…"
      ]
     },
     "metadata": {},
     "output_type": "display_data"
    },
    {
     "data": {
      "application/vnd.jupyter.widget-view+json": {
       "model_id": "",
       "version_major": 2,
       "version_minor": 0
      },
      "text/plain": [
       "HBox(children=(FloatProgress(value=0.0, description='Training batches on cpu', max=9.0, style=ProgressStyle(de…"
      ]
     },
     "metadata": {},
     "output_type": "display_data"
    },
    {
     "data": {
      "application/vnd.jupyter.widget-view+json": {
       "model_id": "",
       "version_major": 2,
       "version_minor": 0
      },
      "text/plain": [
       "HBox(children=(FloatProgress(value=0.0, description='Training batches on cpu', max=9.0, style=ProgressStyle(de…"
      ]
     },
     "metadata": {},
     "output_type": "display_data"
    },
    {
     "data": {
      "application/vnd.jupyter.widget-view+json": {
       "model_id": "",
       "version_major": 2,
       "version_minor": 0
      },
      "text/plain": [
       "HBox(children=(FloatProgress(value=0.0, description='Training batches on cpu', max=9.0, style=ProgressStyle(de…"
      ]
     },
     "metadata": {},
     "output_type": "display_data"
    },
    {
     "data": {
      "application/vnd.jupyter.widget-view+json": {
       "model_id": "",
       "version_major": 2,
       "version_minor": 0
      },
      "text/plain": [
       "HBox(children=(FloatProgress(value=0.0, description='Training batches on cpu', max=9.0, style=ProgressStyle(de…"
      ]
     },
     "metadata": {},
     "output_type": "display_data"
    },
    {
     "data": {
      "application/vnd.jupyter.widget-view+json": {
       "model_id": "",
       "version_major": 2,
       "version_minor": 0
      },
      "text/plain": [
       "HBox(children=(FloatProgress(value=0.0, description='Training batches on cpu', max=9.0, style=ProgressStyle(de…"
      ]
     },
     "metadata": {},
     "output_type": "display_data"
    },
    {
     "data": {
      "application/vnd.jupyter.widget-view+json": {
       "model_id": "",
       "version_major": 2,
       "version_minor": 0
      },
      "text/plain": [
       "HBox(children=(FloatProgress(value=0.0, description='Training batches on cpu', max=9.0, style=ProgressStyle(de…"
      ]
     },
     "metadata": {},
     "output_type": "display_data"
    },
    {
     "data": {
      "application/vnd.jupyter.widget-view+json": {
       "model_id": "",
       "version_major": 2,
       "version_minor": 0
      },
      "text/plain": [
       "HBox(children=(FloatProgress(value=0.0, description='Training batches on cpu', max=9.0, style=ProgressStyle(de…"
      ]
     },
     "metadata": {},
     "output_type": "display_data"
    },
    {
     "data": {
      "application/vnd.jupyter.widget-view+json": {
       "model_id": "",
       "version_major": 2,
       "version_minor": 0
      },
      "text/plain": [
       "HBox(children=(FloatProgress(value=0.0, description='Training batches on cpu', max=9.0, style=ProgressStyle(de…"
      ]
     },
     "metadata": {},
     "output_type": "display_data"
    },
    {
     "data": {
      "application/vnd.jupyter.widget-view+json": {
       "model_id": "",
       "version_major": 2,
       "version_minor": 0
      },
      "text/plain": [
       "HBox(children=(FloatProgress(value=0.0, description='Training batches on cpu', max=9.0, style=ProgressStyle(de…"
      ]
     },
     "metadata": {},
     "output_type": "display_data"
    },
    {
     "data": {
      "application/vnd.jupyter.widget-view+json": {
       "model_id": "",
       "version_major": 2,
       "version_minor": 0
      },
      "text/plain": [
       "HBox(children=(FloatProgress(value=0.0, description='Training batches on cpu', max=9.0, style=ProgressStyle(de…"
      ]
     },
     "metadata": {},
     "output_type": "display_data"
    },
    {
     "data": {
      "application/vnd.jupyter.widget-view+json": {
       "model_id": "",
       "version_major": 2,
       "version_minor": 0
      },
      "text/plain": [
       "HBox(children=(FloatProgress(value=0.0, description='Training batches on cpu', max=9.0, style=ProgressStyle(de…"
      ]
     },
     "metadata": {},
     "output_type": "display_data"
    },
    {
     "data": {
      "application/vnd.jupyter.widget-view+json": {
       "model_id": "",
       "version_major": 2,
       "version_minor": 0
      },
      "text/plain": [
       "HBox(children=(FloatProgress(value=0.0, description='Training batches on cpu', max=9.0, style=ProgressStyle(de…"
      ]
     },
     "metadata": {},
     "output_type": "display_data"
    },
    {
     "data": {
      "application/vnd.jupyter.widget-view+json": {
       "model_id": "",
       "version_major": 2,
       "version_minor": 0
      },
      "text/plain": [
       "HBox(children=(FloatProgress(value=0.0, description='Training batches on cpu', max=9.0, style=ProgressStyle(de…"
      ]
     },
     "metadata": {},
     "output_type": "display_data"
    },
    {
     "data": {
      "application/vnd.jupyter.widget-view+json": {
       "model_id": "",
       "version_major": 2,
       "version_minor": 0
      },
      "text/plain": [
       "HBox(children=(FloatProgress(value=0.0, description='Training batches on cpu', max=9.0, style=ProgressStyle(de…"
      ]
     },
     "metadata": {},
     "output_type": "display_data"
    },
    {
     "data": {
      "application/vnd.jupyter.widget-view+json": {
       "model_id": "",
       "version_major": 2,
       "version_minor": 0
      },
      "text/plain": [
       "HBox(children=(FloatProgress(value=0.0, description='Training batches on cpu', max=9.0, style=ProgressStyle(de…"
      ]
     },
     "metadata": {},
     "output_type": "display_data"
    },
    {
     "data": {
      "application/vnd.jupyter.widget-view+json": {
       "model_id": "",
       "version_major": 2,
       "version_minor": 0
      },
      "text/plain": [
       "HBox(children=(FloatProgress(value=0.0, description='Training batches on cpu', max=9.0, style=ProgressStyle(de…"
      ]
     },
     "metadata": {},
     "output_type": "display_data"
    },
    {
     "data": {
      "application/vnd.jupyter.widget-view+json": {
       "model_id": "",
       "version_major": 2,
       "version_minor": 0
      },
      "text/plain": [
       "HBox(children=(FloatProgress(value=0.0, description='Training batches on cpu', max=9.0, style=ProgressStyle(de…"
      ]
     },
     "metadata": {},
     "output_type": "display_data"
    },
    {
     "data": {
      "application/vnd.jupyter.widget-view+json": {
       "model_id": "",
       "version_major": 2,
       "version_minor": 0
      },
      "text/plain": [
       "HBox(children=(FloatProgress(value=0.0, description='Training batches on cpu', max=9.0, style=ProgressStyle(de…"
      ]
     },
     "metadata": {},
     "output_type": "display_data"
    },
    {
     "data": {
      "application/vnd.jupyter.widget-view+json": {
       "model_id": "",
       "version_major": 2,
       "version_minor": 0
      },
      "text/plain": [
       "HBox(children=(FloatProgress(value=0.0, description='Training batches on cpu', max=9.0, style=ProgressStyle(de…"
      ]
     },
     "metadata": {},
     "output_type": "display_data"
    },
    {
     "data": {
      "application/vnd.jupyter.widget-view+json": {
       "model_id": "",
       "version_major": 2,
       "version_minor": 0
      },
      "text/plain": [
       "HBox(children=(FloatProgress(value=0.0, description='Training batches on cpu', max=9.0, style=ProgressStyle(de…"
      ]
     },
     "metadata": {},
     "output_type": "display_data"
    },
    {
     "data": {
      "application/vnd.jupyter.widget-view+json": {
       "model_id": "",
       "version_major": 2,
       "version_minor": 0
      },
      "text/plain": [
       "HBox(children=(FloatProgress(value=0.0, description='Training batches on cpu', max=9.0, style=ProgressStyle(de…"
      ]
     },
     "metadata": {},
     "output_type": "display_data"
    },
    {
     "data": {
      "application/vnd.jupyter.widget-view+json": {
       "model_id": "",
       "version_major": 2,
       "version_minor": 0
      },
      "text/plain": [
       "HBox(children=(FloatProgress(value=0.0, description='Training batches on cpu', max=9.0, style=ProgressStyle(de…"
      ]
     },
     "metadata": {},
     "output_type": "display_data"
    },
    {
     "data": {
      "application/vnd.jupyter.widget-view+json": {
       "model_id": "",
       "version_major": 2,
       "version_minor": 0
      },
      "text/plain": [
       "HBox(children=(FloatProgress(value=0.0, description='Training batches on cpu', max=9.0, style=ProgressStyle(de…"
      ]
     },
     "metadata": {},
     "output_type": "display_data"
    },
    {
     "data": {
      "application/vnd.jupyter.widget-view+json": {
       "model_id": "",
       "version_major": 2,
       "version_minor": 0
      },
      "text/plain": [
       "HBox(children=(FloatProgress(value=0.0, description='Training batches on cpu', max=9.0, style=ProgressStyle(de…"
      ]
     },
     "metadata": {},
     "output_type": "display_data"
    },
    {
     "data": {
      "application/vnd.jupyter.widget-view+json": {
       "model_id": "",
       "version_major": 2,
       "version_minor": 0
      },
      "text/plain": [
       "HBox(children=(FloatProgress(value=0.0, description='Training batches on cpu', max=9.0, style=ProgressStyle(de…"
      ]
     },
     "metadata": {},
     "output_type": "display_data"
    },
    {
     "data": {
      "application/vnd.jupyter.widget-view+json": {
       "model_id": "",
       "version_major": 2,
       "version_minor": 0
      },
      "text/plain": [
       "HBox(children=(FloatProgress(value=0.0, description='Training batches on cpu', max=9.0, style=ProgressStyle(de…"
      ]
     },
     "metadata": {},
     "output_type": "display_data"
    },
    {
     "data": {
      "application/vnd.jupyter.widget-view+json": {
       "model_id": "",
       "version_major": 2,
       "version_minor": 0
      },
      "text/plain": [
       "HBox(children=(FloatProgress(value=0.0, description='Training batches on cpu', max=9.0, style=ProgressStyle(de…"
      ]
     },
     "metadata": {},
     "output_type": "display_data"
    },
    {
     "data": {
      "application/vnd.jupyter.widget-view+json": {
       "model_id": "",
       "version_major": 2,
       "version_minor": 0
      },
      "text/plain": [
       "HBox(children=(FloatProgress(value=0.0, description='Training batches on cpu', max=9.0, style=ProgressStyle(de…"
      ]
     },
     "metadata": {},
     "output_type": "display_data"
    },
    {
     "data": {
      "application/vnd.jupyter.widget-view+json": {
       "model_id": "",
       "version_major": 2,
       "version_minor": 0
      },
      "text/plain": [
       "HBox(children=(FloatProgress(value=0.0, description='Training batches on cpu', max=9.0, style=ProgressStyle(de…"
      ]
     },
     "metadata": {},
     "output_type": "display_data"
    },
    {
     "data": {
      "application/vnd.jupyter.widget-view+json": {
       "model_id": "",
       "version_major": 2,
       "version_minor": 0
      },
      "text/plain": [
       "HBox(children=(FloatProgress(value=0.0, description='Training batches on cpu', max=9.0, style=ProgressStyle(de…"
      ]
     },
     "metadata": {},
     "output_type": "display_data"
    },
    {
     "data": {
      "application/vnd.jupyter.widget-view+json": {
       "model_id": "",
       "version_major": 2,
       "version_minor": 0
      },
      "text/plain": [
       "HBox(children=(FloatProgress(value=0.0, description='Training batches on cpu', max=9.0, style=ProgressStyle(de…"
      ]
     },
     "metadata": {},
     "output_type": "display_data"
    },
    {
     "data": {
      "application/vnd.jupyter.widget-view+json": {
       "model_id": "",
       "version_major": 2,
       "version_minor": 0
      },
      "text/plain": [
       "HBox(children=(FloatProgress(value=0.0, description='Training batches on cpu', max=9.0, style=ProgressStyle(de…"
      ]
     },
     "metadata": {},
     "output_type": "display_data"
    },
    {
     "data": {
      "application/vnd.jupyter.widget-view+json": {
       "model_id": "",
       "version_major": 2,
       "version_minor": 0
      },
      "text/plain": [
       "HBox(children=(FloatProgress(value=0.0, description='Training batches on cpu', max=9.0, style=ProgressStyle(de…"
      ]
     },
     "metadata": {},
     "output_type": "display_data"
    },
    {
     "data": {
      "application/vnd.jupyter.widget-view+json": {
       "model_id": "",
       "version_major": 2,
       "version_minor": 0
      },
      "text/plain": [
       "HBox(children=(FloatProgress(value=0.0, description='Training batches on cpu', max=9.0, style=ProgressStyle(de…"
      ]
     },
     "metadata": {},
     "output_type": "display_data"
    },
    {
     "data": {
      "application/vnd.jupyter.widget-view+json": {
       "model_id": "",
       "version_major": 2,
       "version_minor": 0
      },
      "text/plain": [
       "HBox(children=(FloatProgress(value=0.0, description='Training batches on cpu', max=9.0, style=ProgressStyle(de…"
      ]
     },
     "metadata": {},
     "output_type": "display_data"
    },
    {
     "data": {
      "application/vnd.jupyter.widget-view+json": {
       "model_id": "",
       "version_major": 2,
       "version_minor": 0
      },
      "text/plain": [
       "HBox(children=(FloatProgress(value=0.0, description='Training batches on cpu', max=9.0, style=ProgressStyle(de…"
      ]
     },
     "metadata": {},
     "output_type": "display_data"
    },
    {
     "data": {
      "application/vnd.jupyter.widget-view+json": {
       "model_id": "",
       "version_major": 2,
       "version_minor": 0
      },
      "text/plain": [
       "HBox(children=(FloatProgress(value=0.0, description='Training batches on cpu', max=9.0, style=ProgressStyle(de…"
      ]
     },
     "metadata": {},
     "output_type": "display_data"
    },
    {
     "name": "stderr",
     "output_type": "stream",
     "text": [
      "INFO:pykeen.evaluation.evaluator:Currently automatic memory optimization only supports GPUs, but you're using a CPU. Therefore, the batch_size will be set to the default value.\n",
      "INFO:pykeen.evaluation.evaluator:No evaluation batch_size provided. Setting batch_size to '32'.\n"
     ]
    },
    {
     "name": "stdout",
     "output_type": "stream",
     "text": [
      "\n"
     ]
    },
    {
     "data": {
      "application/vnd.jupyter.widget-view+json": {
       "model_id": "0112adbb1a8345b99a44894e07d882ab",
       "version_major": 2,
       "version_minor": 0
      },
      "text/plain": [
       "HBox(children=(FloatProgress(value=0.0, description='Evaluating on cpu', max=2231.0, style=ProgressStyle(descr…"
      ]
     },
     "metadata": {},
     "output_type": "display_data"
    },
    {
     "name": "stderr",
     "output_type": "stream",
     "text": [
      "INFO:pykeen.evaluation.evaluator:Evaluation took 18.66s seconds\n"
     ]
    },
    {
     "name": "stdout",
     "output_type": "stream",
     "text": [
      "\n"
     ]
    }
   ],
   "source": [
    "NATIONS_TRAIN_PATH='C:\\\\Users\\\\shahz\\\\KG\\\\Untitled Folder\\\\test.txt'\n",
    "NATIONS_TEST_PATH='C:\\\\Users\\\\shahz\\\\KG\\\\Untitled Folder\\\\train.txt'\n",
    "result = pipeline(\n",
    "    training=NATIONS_TRAIN_PATH, \n",
    "    testing=NATIONS_TEST_PATH,\n",
    "    model='RotatE',\n",
    "    random_seed=1235,\n",
    "    device='cpu',\n",
    "    training_kwargs=dict(num_epochs=100),  # Shouldn't take more than a minute or two on a nice computer\n",
    ")"
   ]
  },
  {
   "cell_type": "code",
   "execution_count": 141,
   "metadata": {},
   "outputs": [
    {
     "data": {
      "text/plain": [
       "['metadata.json', 'results.json', 'trained_model.pkl']"
      ]
     },
     "execution_count": 141,
     "metadata": {},
     "output_type": "execute_result"
    }
   ],
   "source": [
    "save_location = 'nations_transe'  # relative to here\n",
    "result.save_to_directory(save_location)\n",
    "os.listdir(save_location)"
   ]
  },
  {
   "cell_type": "code",
   "execution_count": 142,
   "metadata": {},
   "outputs": [
    {
     "data": {
      "text/plain": [
       "RotatE(\n",
       "  (loss): MarginRankingLoss()\n",
       "  (regularizer): NoRegularizer()\n",
       "  (entity_embeddings): Embedding(\n",
       "    (_embeddings): Embedding(3546, 400)\n",
       "  )\n",
       "  (relation_embeddings): Embedding(\n",
       "    (_embeddings): Embedding(783, 400)\n",
       "  )\n",
       ")"
      ]
     },
     "execution_count": 142,
     "metadata": {},
     "output_type": "execute_result"
    }
   ],
   "source": [
    "# How to look at the model\n",
    "model = result.model\n",
    "model"
   ]
  },
  {
   "cell_type": "code",
   "execution_count": 143,
   "metadata": {},
   "outputs": [
    {
     "data": {
      "text/plain": [
       "TriplesFactory(num_entities=3546, num_relations=783, num_triples=2231, inverse_triples=False, path=\"C:\\Users\\shahz\\KG\\Untitled Folder\\test.txt\")"
      ]
     },
     "execution_count": 143,
     "metadata": {},
     "output_type": "execute_result"
    }
   ],
   "source": [
    "# How to look at the triples\n",
    "tf = model.triples_factory\n",
    "tf"
   ]
  },
  {
   "cell_type": "code",
   "execution_count": 144,
   "metadata": {},
   "outputs": [
    {
     "ename": "AttributeError",
     "evalue": "'NoneType' object has no attribute 'set_ylabel'",
     "output_type": "error",
     "traceback": [
      "\u001b[1;31m---------------------------------------------------------------------------\u001b[0m",
      "\u001b[1;31mAttributeError\u001b[0m                            Traceback (most recent call last)",
      "\u001b[1;32m<ipython-input-144-13924318d057>\u001b[0m in \u001b[0;36m<module>\u001b[1;34m\u001b[0m\n\u001b[1;32m----> 1\u001b[1;33m \u001b[0mresult\u001b[0m\u001b[1;33m.\u001b[0m\u001b[0mplot_losses\u001b[0m\u001b[1;33m(\u001b[0m\u001b[1;33m)\u001b[0m\u001b[1;33m\u001b[0m\u001b[1;33m\u001b[0m\u001b[0m\n\u001b[0m\u001b[0;32m      2\u001b[0m \u001b[0mplt\u001b[0m\u001b[1;33m.\u001b[0m\u001b[0mshow\u001b[0m\u001b[1;33m(\u001b[0m\u001b[1;33m)\u001b[0m\u001b[1;33m\u001b[0m\u001b[1;33m\u001b[0m\u001b[0m\n",
      "\u001b[1;32m~\\anaconda3\\lib\\site-packages\\pykeen\\pipeline\\api.py\u001b[0m in \u001b[0;36mplot_losses\u001b[1;34m(self, **kwargs)\u001b[0m\n\u001b[0;32m    268\u001b[0m         \"\"\"\n\u001b[0;32m    269\u001b[0m         \u001b[1;32mfrom\u001b[0m \u001b[1;33m.\u001b[0m\u001b[0mplot_utils\u001b[0m \u001b[1;32mimport\u001b[0m \u001b[0mplot_losses\u001b[0m\u001b[1;33m\u001b[0m\u001b[1;33m\u001b[0m\u001b[0m\n\u001b[1;32m--> 270\u001b[1;33m         \u001b[1;32mreturn\u001b[0m \u001b[0mplot_losses\u001b[0m\u001b[1;33m(\u001b[0m\u001b[0mself\u001b[0m\u001b[1;33m,\u001b[0m \u001b[1;33m**\u001b[0m\u001b[0mkwargs\u001b[0m\u001b[1;33m)\u001b[0m\u001b[1;33m\u001b[0m\u001b[1;33m\u001b[0m\u001b[0m\n\u001b[0m\u001b[0;32m    271\u001b[0m \u001b[1;33m\u001b[0m\u001b[0m\n\u001b[0;32m    272\u001b[0m     \u001b[1;32mdef\u001b[0m \u001b[0mplot_early_stopping\u001b[0m\u001b[1;33m(\u001b[0m\u001b[0mself\u001b[0m\u001b[1;33m,\u001b[0m \u001b[1;33m**\u001b[0m\u001b[0mkwargs\u001b[0m\u001b[1;33m)\u001b[0m\u001b[1;33m:\u001b[0m\u001b[1;33m\u001b[0m\u001b[1;33m\u001b[0m\u001b[0m\n",
      "\u001b[1;32m~\\anaconda3\\lib\\site-packages\\pykeen\\pipeline\\plot_utils.py\u001b[0m in \u001b[0;36mplot_losses\u001b[1;34m(pipeline_result, ax)\u001b[0m\n\u001b[0;32m     30\u001b[0m \u001b[1;33m\u001b[0m\u001b[0m\n\u001b[0;32m     31\u001b[0m     \u001b[0mloss_name\u001b[0m \u001b[1;33m=\u001b[0m \u001b[0mloss_resolver\u001b[0m\u001b[1;33m.\u001b[0m\u001b[0mnormalize_inst\u001b[0m\u001b[1;33m(\u001b[0m\u001b[0mpipeline_result\u001b[0m\u001b[1;33m.\u001b[0m\u001b[0mmodel\u001b[0m\u001b[1;33m.\u001b[0m\u001b[0mloss\u001b[0m\u001b[1;33m)\u001b[0m\u001b[1;33m\u001b[0m\u001b[1;33m\u001b[0m\u001b[0m\n\u001b[1;32m---> 32\u001b[1;33m     \u001b[0max\u001b[0m\u001b[1;33m.\u001b[0m\u001b[0mset_ylabel\u001b[0m\u001b[1;33m(\u001b[0m\u001b[1;34mf'{loss_name} Loss'\u001b[0m\u001b[1;33m)\u001b[0m\u001b[1;33m\u001b[0m\u001b[1;33m\u001b[0m\u001b[0m\n\u001b[0m\u001b[0;32m     33\u001b[0m     \u001b[0max\u001b[0m\u001b[1;33m.\u001b[0m\u001b[0mset_xlabel\u001b[0m\u001b[1;33m(\u001b[0m\u001b[1;34m'Epoch'\u001b[0m\u001b[1;33m)\u001b[0m\u001b[1;33m\u001b[0m\u001b[1;33m\u001b[0m\u001b[0m\n\u001b[0;32m     34\u001b[0m     \u001b[0max\u001b[0m\u001b[1;33m.\u001b[0m\u001b[0mset_title\u001b[0m\u001b[1;33m(\u001b[0m\u001b[0mpipeline_result\u001b[0m\u001b[1;33m.\u001b[0m\u001b[0mtitle\u001b[0m \u001b[1;32mif\u001b[0m \u001b[0mpipeline_result\u001b[0m\u001b[1;33m.\u001b[0m\u001b[0mtitle\u001b[0m \u001b[1;32mis\u001b[0m \u001b[1;32mnot\u001b[0m \u001b[1;32mNone\u001b[0m \u001b[1;32melse\u001b[0m \u001b[1;34m'Losses Plot'\u001b[0m\u001b[1;33m)\u001b[0m\u001b[1;33m\u001b[0m\u001b[1;33m\u001b[0m\u001b[0m\n",
      "\u001b[1;31mAttributeError\u001b[0m: 'NoneType' object has no attribute 'set_ylabel'"
     ]
    },
    {
     "data": {
      "image/png": "[encoded data removed]",
      "text/plain": [
       "<Figure size 432x288 with 1 Axes>"
      ]
     },
     "metadata": {},
     "output_type": "display_data"
    }
   ],
   "source": [
    "result.plot_losses()\n",
    "plt.show()"
   ]
  },
  {
   "cell_type": "code",
   "execution_count": 145,
   "metadata": {},
   "outputs": [
    {
     "data": {
      "text/html": [
       "<div>\n",
       "<style scoped>\n",
       "    .dataframe tbody tr th:only-of-type {\n",
       "        vertical-align: middle;\n",
       "    }\n",
       "\n",
       "    .dataframe tbody tr th {\n",
       "        vertical-align: top;\n",
       "    }\n",
       "\n",
       "    .dataframe thead th {\n",
       "        text-align: right;\n",
       "    }\n",
       "</style>\n",
       "<table border=\"1\" class=\"dataframe\">\n",
       "  <thead>\n",
       "    <tr style=\"text-align: right;\">\n",
       "      <th></th>\n",
       "      <th>Side</th>\n",
       "      <th>Type</th>\n",
       "      <th>Metric</th>\n",
       "      <th>Value</th>\n",
       "    </tr>\n",
       "  </thead>\n",
       "  <tbody>\n",
       "    <tr>\n",
       "      <th>0</th>\n",
       "      <td>both</td>\n",
       "      <td>avg</td>\n",
       "      <td>adjusted_mean_rank</td>\n",
       "      <td>0.000564</td>\n",
       "    </tr>\n",
       "    <tr>\n",
       "      <th>1</th>\n",
       "      <td>head</td>\n",
       "      <td>avg</td>\n",
       "      <td>adjusted_mean_rank</td>\n",
       "      <td>0.000564</td>\n",
       "    </tr>\n",
       "    <tr>\n",
       "      <th>2</th>\n",
       "      <td>tail</td>\n",
       "      <td>avg</td>\n",
       "      <td>adjusted_mean_rank</td>\n",
       "      <td>0.000564</td>\n",
       "    </tr>\n",
       "    <tr>\n",
       "      <th>3</th>\n",
       "      <td>both</td>\n",
       "      <td>avg</td>\n",
       "      <td>mean_rank</td>\n",
       "      <td>1.000000</td>\n",
       "    </tr>\n",
       "    <tr>\n",
       "      <th>4</th>\n",
       "      <td>both</td>\n",
       "      <td>avg</td>\n",
       "      <td>mean_reciprocal_rank</td>\n",
       "      <td>1.000000</td>\n",
       "    </tr>\n",
       "    <tr>\n",
       "      <th>5</th>\n",
       "      <td>both</td>\n",
       "      <td>avg</td>\n",
       "      <td>hits_at_1</td>\n",
       "      <td>1.000000</td>\n",
       "    </tr>\n",
       "    <tr>\n",
       "      <th>6</th>\n",
       "      <td>both</td>\n",
       "      <td>avg</td>\n",
       "      <td>hits_at_3</td>\n",
       "      <td>1.000000</td>\n",
       "    </tr>\n",
       "    <tr>\n",
       "      <th>7</th>\n",
       "      <td>both</td>\n",
       "      <td>avg</td>\n",
       "      <td>hits_at_5</td>\n",
       "      <td>1.000000</td>\n",
       "    </tr>\n",
       "    <tr>\n",
       "      <th>8</th>\n",
       "      <td>both</td>\n",
       "      <td>avg</td>\n",
       "      <td>hits_at_10</td>\n",
       "      <td>1.000000</td>\n",
       "    </tr>\n",
       "    <tr>\n",
       "      <th>9</th>\n",
       "      <td>both</td>\n",
       "      <td>worst</td>\n",
       "      <td>mean_rank</td>\n",
       "      <td>1.000000</td>\n",
       "    </tr>\n",
       "    <tr>\n",
       "      <th>10</th>\n",
       "      <td>both</td>\n",
       "      <td>worst</td>\n",
       "      <td>mean_reciprocal_rank</td>\n",
       "      <td>1.000000</td>\n",
       "    </tr>\n",
       "    <tr>\n",
       "      <th>11</th>\n",
       "      <td>both</td>\n",
       "      <td>worst</td>\n",
       "      <td>hits_at_1</td>\n",
       "      <td>1.000000</td>\n",
       "    </tr>\n",
       "    <tr>\n",
       "      <th>12</th>\n",
       "      <td>both</td>\n",
       "      <td>worst</td>\n",
       "      <td>hits_at_3</td>\n",
       "      <td>1.000000</td>\n",
       "    </tr>\n",
       "    <tr>\n",
       "      <th>13</th>\n",
       "      <td>both</td>\n",
       "      <td>worst</td>\n",
       "      <td>hits_at_5</td>\n",
       "      <td>1.000000</td>\n",
       "    </tr>\n",
       "    <tr>\n",
       "      <th>14</th>\n",
       "      <td>both</td>\n",
       "      <td>worst</td>\n",
       "      <td>hits_at_10</td>\n",
       "      <td>1.000000</td>\n",
       "    </tr>\n",
       "    <tr>\n",
       "      <th>15</th>\n",
       "      <td>both</td>\n",
       "      <td>best</td>\n",
       "      <td>mean_rank</td>\n",
       "      <td>1.000000</td>\n",
       "    </tr>\n",
       "    <tr>\n",
       "      <th>16</th>\n",
       "      <td>both</td>\n",
       "      <td>best</td>\n",
       "      <td>mean_reciprocal_rank</td>\n",
       "      <td>1.000000</td>\n",
       "    </tr>\n",
       "    <tr>\n",
       "      <th>17</th>\n",
       "      <td>both</td>\n",
       "      <td>best</td>\n",
       "      <td>hits_at_1</td>\n",
       "      <td>1.000000</td>\n",
       "    </tr>\n",
       "    <tr>\n",
       "      <th>18</th>\n",
       "      <td>both</td>\n",
       "      <td>best</td>\n",
       "      <td>hits_at_3</td>\n",
       "      <td>1.000000</td>\n",
       "    </tr>\n",
       "    <tr>\n",
       "      <th>19</th>\n",
       "      <td>both</td>\n",
       "      <td>best</td>\n",
       "      <td>hits_at_5</td>\n",
       "      <td>1.000000</td>\n",
       "    </tr>\n",
       "    <tr>\n",
       "      <th>20</th>\n",
       "      <td>both</td>\n",
       "      <td>best</td>\n",
       "      <td>hits_at_10</td>\n",
       "      <td>1.000000</td>\n",
       "    </tr>\n",
       "    <tr>\n",
       "      <th>21</th>\n",
       "      <td>head</td>\n",
       "      <td>avg</td>\n",
       "      <td>mean_rank</td>\n",
       "      <td>1.000000</td>\n",
       "    </tr>\n",
       "    <tr>\n",
       "      <th>22</th>\n",
       "      <td>head</td>\n",
       "      <td>avg</td>\n",
       "      <td>mean_reciprocal_rank</td>\n",
       "      <td>1.000000</td>\n",
       "    </tr>\n",
       "    <tr>\n",
       "      <th>23</th>\n",
       "      <td>head</td>\n",
       "      <td>avg</td>\n",
       "      <td>hits_at_1</td>\n",
       "      <td>1.000000</td>\n",
       "    </tr>\n",
       "    <tr>\n",
       "      <th>24</th>\n",
       "      <td>head</td>\n",
       "      <td>avg</td>\n",
       "      <td>hits_at_3</td>\n",
       "      <td>1.000000</td>\n",
       "    </tr>\n",
       "    <tr>\n",
       "      <th>25</th>\n",
       "      <td>head</td>\n",
       "      <td>avg</td>\n",
       "      <td>hits_at_5</td>\n",
       "      <td>1.000000</td>\n",
       "    </tr>\n",
       "    <tr>\n",
       "      <th>26</th>\n",
       "      <td>head</td>\n",
       "      <td>avg</td>\n",
       "      <td>hits_at_10</td>\n",
       "      <td>1.000000</td>\n",
       "    </tr>\n",
       "    <tr>\n",
       "      <th>27</th>\n",
       "      <td>head</td>\n",
       "      <td>worst</td>\n",
       "      <td>mean_rank</td>\n",
       "      <td>1.000000</td>\n",
       "    </tr>\n",
       "    <tr>\n",
       "      <th>28</th>\n",
       "      <td>head</td>\n",
       "      <td>worst</td>\n",
       "      <td>mean_reciprocal_rank</td>\n",
       "      <td>1.000000</td>\n",
       "    </tr>\n",
       "    <tr>\n",
       "      <th>29</th>\n",
       "      <td>head</td>\n",
       "      <td>worst</td>\n",
       "      <td>hits_at_1</td>\n",
       "      <td>1.000000</td>\n",
       "    </tr>\n",
       "    <tr>\n",
       "      <th>30</th>\n",
       "      <td>head</td>\n",
       "      <td>worst</td>\n",
       "      <td>hits_at_3</td>\n",
       "      <td>1.000000</td>\n",
       "    </tr>\n",
       "    <tr>\n",
       "      <th>31</th>\n",
       "      <td>head</td>\n",
       "      <td>worst</td>\n",
       "      <td>hits_at_5</td>\n",
       "      <td>1.000000</td>\n",
       "    </tr>\n",
       "    <tr>\n",
       "      <th>32</th>\n",
       "      <td>head</td>\n",
       "      <td>worst</td>\n",
       "      <td>hits_at_10</td>\n",
       "      <td>1.000000</td>\n",
       "    </tr>\n",
       "    <tr>\n",
       "      <th>33</th>\n",
       "      <td>head</td>\n",
       "      <td>best</td>\n",
       "      <td>mean_rank</td>\n",
       "      <td>1.000000</td>\n",
       "    </tr>\n",
       "    <tr>\n",
       "      <th>34</th>\n",
       "      <td>head</td>\n",
       "      <td>best</td>\n",
       "      <td>mean_reciprocal_rank</td>\n",
       "      <td>1.000000</td>\n",
       "    </tr>\n",
       "    <tr>\n",
       "      <th>35</th>\n",
       "      <td>head</td>\n",
       "      <td>best</td>\n",
       "      <td>hits_at_1</td>\n",
       "      <td>1.000000</td>\n",
       "    </tr>\n",
       "    <tr>\n",
       "      <th>36</th>\n",
       "      <td>head</td>\n",
       "      <td>best</td>\n",
       "      <td>hits_at_3</td>\n",
       "      <td>1.000000</td>\n",
       "    </tr>\n",
       "    <tr>\n",
       "      <th>37</th>\n",
       "      <td>head</td>\n",
       "      <td>best</td>\n",
       "      <td>hits_at_5</td>\n",
       "      <td>1.000000</td>\n",
       "    </tr>\n",
       "    <tr>\n",
       "      <th>38</th>\n",
       "      <td>head</td>\n",
       "      <td>best</td>\n",
       "      <td>hits_at_10</td>\n",
       "      <td>1.000000</td>\n",
       "    </tr>\n",
       "    <tr>\n",
       "      <th>39</th>\n",
       "      <td>tail</td>\n",
       "      <td>avg</td>\n",
       "      <td>mean_rank</td>\n",
       "      <td>1.000000</td>\n",
       "    </tr>\n",
       "    <tr>\n",
       "      <th>40</th>\n",
       "      <td>tail</td>\n",
       "      <td>avg</td>\n",
       "      <td>mean_reciprocal_rank</td>\n",
       "      <td>1.000000</td>\n",
       "    </tr>\n",
       "    <tr>\n",
       "      <th>41</th>\n",
       "      <td>tail</td>\n",
       "      <td>avg</td>\n",
       "      <td>hits_at_1</td>\n",
       "      <td>1.000000</td>\n",
       "    </tr>\n",
       "    <tr>\n",
       "      <th>42</th>\n",
       "      <td>tail</td>\n",
       "      <td>avg</td>\n",
       "      <td>hits_at_3</td>\n",
       "      <td>1.000000</td>\n",
       "    </tr>\n",
       "    <tr>\n",
       "      <th>43</th>\n",
       "      <td>tail</td>\n",
       "      <td>avg</td>\n",
       "      <td>hits_at_5</td>\n",
       "      <td>1.000000</td>\n",
       "    </tr>\n",
       "    <tr>\n",
       "      <th>44</th>\n",
       "      <td>tail</td>\n",
       "      <td>avg</td>\n",
       "      <td>hits_at_10</td>\n",
       "      <td>1.000000</td>\n",
       "    </tr>\n",
       "    <tr>\n",
       "      <th>45</th>\n",
       "      <td>tail</td>\n",
       "      <td>worst</td>\n",
       "      <td>mean_rank</td>\n",
       "      <td>1.000000</td>\n",
       "    </tr>\n",
       "    <tr>\n",
       "      <th>46</th>\n",
       "      <td>tail</td>\n",
       "      <td>worst</td>\n",
       "      <td>mean_reciprocal_rank</td>\n",
       "      <td>1.000000</td>\n",
       "    </tr>\n",
       "    <tr>\n",
       "      <th>47</th>\n",
       "      <td>tail</td>\n",
       "      <td>worst</td>\n",
       "      <td>hits_at_1</td>\n",
       "      <td>1.000000</td>\n",
       "    </tr>\n",
       "    <tr>\n",
       "      <th>48</th>\n",
       "      <td>tail</td>\n",
       "      <td>worst</td>\n",
       "      <td>hits_at_3</td>\n",
       "      <td>1.000000</td>\n",
       "    </tr>\n",
       "    <tr>\n",
       "      <th>49</th>\n",
       "      <td>tail</td>\n",
       "      <td>worst</td>\n",
       "      <td>hits_at_5</td>\n",
       "      <td>1.000000</td>\n",
       "    </tr>\n",
       "    <tr>\n",
       "      <th>50</th>\n",
       "      <td>tail</td>\n",
       "      <td>worst</td>\n",
       "      <td>hits_at_10</td>\n",
       "      <td>1.000000</td>\n",
       "    </tr>\n",
       "    <tr>\n",
       "      <th>51</th>\n",
       "      <td>tail</td>\n",
       "      <td>best</td>\n",
       "      <td>mean_rank</td>\n",
       "      <td>1.000000</td>\n",
       "    </tr>\n",
       "    <tr>\n",
       "      <th>52</th>\n",
       "      <td>tail</td>\n",
       "      <td>best</td>\n",
       "      <td>mean_reciprocal_rank</td>\n",
       "      <td>1.000000</td>\n",
       "    </tr>\n",
       "    <tr>\n",
       "      <th>53</th>\n",
       "      <td>tail</td>\n",
       "      <td>best</td>\n",
       "      <td>hits_at_1</td>\n",
       "      <td>1.000000</td>\n",
       "    </tr>\n",
       "    <tr>\n",
       "      <th>54</th>\n",
       "      <td>tail</td>\n",
       "      <td>best</td>\n",
       "      <td>hits_at_3</td>\n",
       "      <td>1.000000</td>\n",
       "    </tr>\n",
       "    <tr>\n",
       "      <th>55</th>\n",
       "      <td>tail</td>\n",
       "      <td>best</td>\n",
       "      <td>hits_at_5</td>\n",
       "      <td>1.000000</td>\n",
       "    </tr>\n",
       "    <tr>\n",
       "      <th>56</th>\n",
       "      <td>tail</td>\n",
       "      <td>best</td>\n",
       "      <td>hits_at_10</td>\n",
       "      <td>1.000000</td>\n",
       "    </tr>\n",
       "  </tbody>\n",
       "</table>\n",
       "</div>"
      ],
      "text/plain": [
       "    Side   Type                Metric     Value\n",
       "0   both    avg    adjusted_mean_rank  0.000564\n",
       "1   head    avg    adjusted_mean_rank  0.000564\n",
       "2   tail    avg    adjusted_mean_rank  0.000564\n",
       "3   both    avg             mean_rank  1.000000\n",
       "4   both    avg  mean_reciprocal_rank  1.000000\n",
       "5   both    avg             hits_at_1  1.000000\n",
       "6   both    avg             hits_at_3  1.000000\n",
       "7   both    avg             hits_at_5  1.000000\n",
       "8   both    avg            hits_at_10  1.000000\n",
       "9   both  worst             mean_rank  1.000000\n",
       "10  both  worst  mean_reciprocal_rank  1.000000\n",
       "11  both  worst             hits_at_1  1.000000\n",
       "12  both  worst             hits_at_3  1.000000\n",
       "13  both  worst             hits_at_5  1.000000\n",
       "14  both  worst            hits_at_10  1.000000\n",
       "15  both   best             mean_rank  1.000000\n",
       "16  both   best  mean_reciprocal_rank  1.000000\n",
       "17  both   best             hits_at_1  1.000000\n",
       "18  both   best             hits_at_3  1.000000\n",
       "19  both   best             hits_at_5  1.000000\n",
       "20  both   best            hits_at_10  1.000000\n",
       "21  head    avg             mean_rank  1.000000\n",
       "22  head    avg  mean_reciprocal_rank  1.000000\n",
       "23  head    avg             hits_at_1  1.000000\n",
       "24  head    avg             hits_at_3  1.000000\n",
       "25  head    avg             hits_at_5  1.000000\n",
       "26  head    avg            hits_at_10  1.000000\n",
       "27  head  worst             mean_rank  1.000000\n",
       "28  head  worst  mean_reciprocal_rank  1.000000\n",
       "29  head  worst             hits_at_1  1.000000\n",
       "30  head  worst             hits_at_3  1.000000\n",
       "31  head  worst             hits_at_5  1.000000\n",
       "32  head  worst            hits_at_10  1.000000\n",
       "33  head   best             mean_rank  1.000000\n",
       "34  head   best  mean_reciprocal_rank  1.000000\n",
       "35  head   best             hits_at_1  1.000000\n",
       "36  head   best             hits_at_3  1.000000\n",
       "37  head   best             hits_at_5  1.000000\n",
       "38  head   best            hits_at_10  1.000000\n",
       "39  tail    avg             mean_rank  1.000000\n",
       "40  tail    avg  mean_reciprocal_rank  1.000000\n",
       "41  tail    avg             hits_at_1  1.000000\n",
       "42  tail    avg             hits_at_3  1.000000\n",
       "43  tail    avg             hits_at_5  1.000000\n",
       "44  tail    avg            hits_at_10  1.000000\n",
       "45  tail  worst             mean_rank  1.000000\n",
       "46  tail  worst  mean_reciprocal_rank  1.000000\n",
       "47  tail  worst             hits_at_1  1.000000\n",
       "48  tail  worst             hits_at_3  1.000000\n",
       "49  tail  worst             hits_at_5  1.000000\n",
       "50  tail  worst            hits_at_10  1.000000\n",
       "51  tail   best             mean_rank  1.000000\n",
       "52  tail   best  mean_reciprocal_rank  1.000000\n",
       "53  tail   best             hits_at_1  1.000000\n",
       "54  tail   best             hits_at_3  1.000000\n",
       "55  tail   best             hits_at_5  1.000000\n",
       "56  tail   best            hits_at_10  1.000000"
      ]
     },
     "execution_count": 145,
     "metadata": {},
     "output_type": "execute_result"
    }
   ],
   "source": [
    "result.metric_results.to_df()"
   ]
  },
  {
   "cell_type": "code",
   "execution_count": 146,
   "metadata": {},
   "outputs": [
    {
     "data": {
      "text/plain": [
       "RotatE(\n",
       "  (loss): MarginRankingLoss()\n",
       "  (regularizer): NoRegularizer()\n",
       "  (entity_embeddings): Embedding(\n",
       "    (_embeddings): Embedding(3546, 400)\n",
       "  )\n",
       "  (relation_embeddings): Embedding(\n",
       "    (_embeddings): Embedding(783, 400)\n",
       "  )\n",
       ")"
      ]
     },
     "execution_count": 146,
     "metadata": {},
     "output_type": "execute_result"
    }
   ],
   "source": [
    "model"
   ]
  },
  {
   "cell_type": "code",
   "execution_count": 163,
   "metadata": {},
   "outputs": [],
   "source": [
    "#unstratisfied \n"
   ]
  },
  {
   "cell_type": "code",
   "execution_count": 165,
   "metadata": {},
   "outputs": [
    {
     "name": "stderr",
     "output_type": "stream",
     "text": [
      "WARNING:pykeen.utils:using automatically assigned random_state=3584934340\n",
      "INFO:pykeen.triples.splitting:done splitting triples to groups of sizes [1206, 319]\n",
      "WARNING:pykeen.pipeline.api:No random seed is specified. Setting to 2401599654.\n",
      "WARNING:pykeen.utils:No cuda devices were available. The model runs on CPU\n"
     ]
    },
    {
     "data": {
      "application/vnd.jupyter.widget-view+json": {
       "model_id": "7e46368191ce4b4e8add96d9575c5320",
       "version_major": 2,
       "version_minor": 0
      },
      "text/plain": [
       "HBox(children=(FloatProgress(value=0.0, description='Training epochs on cpu', max=5.0, style=ProgressStyle(des…"
      ]
     },
     "metadata": {},
     "output_type": "display_data"
    },
    {
     "data": {
      "application/vnd.jupyter.widget-view+json": {
       "model_id": "",
       "version_major": 2,
       "version_minor": 0
      },
      "text/plain": [
       "HBox(children=(FloatProgress(value=0.0, description='Training batches on cpu', max=5.0, style=ProgressStyle(de…"
      ]
     },
     "metadata": {},
     "output_type": "display_data"
    },
    {
     "data": {
      "application/vnd.jupyter.widget-view+json": {
       "model_id": "",
       "version_major": 2,
       "version_minor": 0
      },
      "text/plain": [
       "HBox(children=(FloatProgress(value=0.0, description='Training batches on cpu', max=5.0, style=ProgressStyle(de…"
      ]
     },
     "metadata": {},
     "output_type": "display_data"
    },
    {
     "data": {
      "application/vnd.jupyter.widget-view+json": {
       "model_id": "",
       "version_major": 2,
       "version_minor": 0
      },
      "text/plain": [
       "HBox(children=(FloatProgress(value=0.0, description='Training batches on cpu', max=5.0, style=ProgressStyle(de…"
      ]
     },
     "metadata": {},
     "output_type": "display_data"
    },
    {
     "data": {
      "application/vnd.jupyter.widget-view+json": {
       "model_id": "",
       "version_major": 2,
       "version_minor": 0
      },
      "text/plain": [
       "HBox(children=(FloatProgress(value=0.0, description='Training batches on cpu', max=5.0, style=ProgressStyle(de…"
      ]
     },
     "metadata": {},
     "output_type": "display_data"
    },
    {
     "data": {
      "application/vnd.jupyter.widget-view+json": {
       "model_id": "",
       "version_major": 2,
       "version_minor": 0
      },
      "text/plain": [
       "HBox(children=(FloatProgress(value=0.0, description='Training batches on cpu', max=5.0, style=ProgressStyle(de…"
      ]
     },
     "metadata": {},
     "output_type": "display_data"
    },
    {
     "name": "stderr",
     "output_type": "stream",
     "text": [
      "INFO:pykeen.evaluation.evaluator:Currently automatic memory optimization only supports GPUs, but you're using a CPU. Therefore, the batch_size will be set to the default value.\n",
      "INFO:pykeen.evaluation.evaluator:No evaluation batch_size provided. Setting batch_size to '32'.\n"
     ]
    },
    {
     "name": "stdout",
     "output_type": "stream",
     "text": [
      "\n"
     ]
    },
    {
     "data": {
      "application/vnd.jupyter.widget-view+json": {
       "model_id": "b13916c4ef994b3a9914d067b28ad27a",
       "version_major": 2,
       "version_minor": 0
      },
      "text/plain": [
       "HBox(children=(FloatProgress(value=0.0, description='Evaluating on cpu', max=319.0, style=ProgressStyle(descri…"
      ]
     },
     "metadata": {},
     "output_type": "display_data"
    },
    {
     "name": "stderr",
     "output_type": "stream",
     "text": [
      "INFO:pykeen.evaluation.evaluator:Evaluation took 0.10s seconds\n"
     ]
    },
    {
     "name": "stdout",
     "output_type": "stream",
     "text": [
      "\n"
     ]
    }
   ],
   "source": [
    "from pykeen.triples import TriplesFactory\n",
    "from pykeen.pipeline import pipeline\n",
    "from pykeen.datasets.nations import NATIONS_TRAIN_PATH\n",
    "tf = TriplesFactory.from_path(NATIONS_TRAIN_PATH)\n",
    "training, testing = tf.split([.8, .2])\n",
    "result = pipeline(\n",
    "    training=training,\n",
    "    testing=testing,\n",
    "    model='TransE',\n",
    "    training_kwargs=dict(num_epochs=5),  # short epochs for testing - you should go higher\n",
    ")\n",
    "result.save_to_directory('doctests/test_unstratified_transe')"
   ]
  },
  {
   "cell_type": "code",
   "execution_count": 168,
   "metadata": {},
   "outputs": [
    {
     "data": {
      "text/plain": [
       "['test_pre_stratified_transe', 'test_unstratified_transe']"
      ]
     },
     "execution_count": 168,
     "metadata": {},
     "output_type": "execute_result"
    }
   ],
   "source": [
    "os.listdir('doctests')"
   ]
  },
  {
   "cell_type": "code",
   "execution_count": 169,
   "metadata": {},
   "outputs": [
    {
     "data": {
      "text/plain": [
       "TransE(\n",
       "  (loss): MarginRankingLoss()\n",
       "  (regularizer): NoRegularizer()\n",
       "  (entity_embeddings): Embedding(\n",
       "    (_embeddings): Embedding(14, 50)\n",
       "  )\n",
       "  (relation_embeddings): Embedding(\n",
       "    (_embeddings): Embedding(55, 50)\n",
       "  )\n",
       ")"
      ]
     },
     "execution_count": 169,
     "metadata": {},
     "output_type": "execute_result"
    }
   ],
   "source": [
    "# How to look at the model\n",
    "model = result.model\n",
    "model"
   ]
  },
  {
   "cell_type": "code",
   "execution_count": 171,
   "metadata": {},
   "outputs": [],
   "source": [
    "entity_embeddings: torch.FloatTensor = model.entity_embeddings(indices=None)"
   ]
  },
  {
   "cell_type": "code",
   "execution_count": 174,
   "metadata": {},
   "outputs": [
    {
     "data": {
      "text/plain": [
       "tensor([[-2.1499e-01,  2.7281e-02,  1.9214e-01, -1.2540e-01,  1.6117e-01,\n",
       "          2.3762e-02, -1.1343e-01, -1.3421e-01, -2.2317e-01, -4.6490e-02,\n",
       "         -2.1401e-01,  9.3223e-02,  2.4952e-02,  4.5350e-02, -3.5010e-02,\n",
       "         -1.0255e-01, -1.0898e-01, -1.2464e-01,  1.6082e-01,  5.9804e-02,\n",
       "         -4.9179e-02, -2.3760e-01,  1.6048e-02,  8.3073e-02,  7.3173e-02,\n",
       "         -4.8807e-02, -9.4093e-02,  3.5921e-02, -2.5134e-01, -1.5437e-01,\n",
       "          1.9384e-01, -9.9716e-02, -8.1347e-02, -1.8746e-01,  6.3545e-02,\n",
       "         -4.6294e-02,  1.1736e-01,  2.1399e-01,  2.0510e-01,  1.8455e-01,\n",
       "         -5.7783e-02,  9.5355e-02,  7.7772e-02, -2.4591e-01, -1.6784e-01,\n",
       "          2.3722e-01, -1.7855e-01,  1.8750e-01, -1.8075e-01,  8.7604e-03],\n",
       "        [ 1.3883e-01, -2.1235e-01, -8.7139e-02, -1.5390e-01,  1.3331e-01,\n",
       "         -2.2222e-02, -6.8480e-02, -1.1099e-01,  8.6718e-02,  7.1113e-02,\n",
       "         -1.2457e-01, -4.7957e-02,  3.3178e-02, -2.1442e-01, -7.1522e-02,\n",
       "         -6.8888e-02,  5.5688e-02,  4.2767e-02, -1.8699e-01,  1.3022e-01,\n",
       "          6.3972e-02,  1.9497e-02, -1.4558e-01, -2.0641e-01, -1.5247e-01,\n",
       "         -8.4012e-02,  7.8212e-02,  1.2262e-01,  1.3197e-01, -1.9321e-01,\n",
       "          2.2745e-01,  2.2927e-01, -2.2788e-01, -2.0010e-01, -1.3984e-01,\n",
       "          4.0266e-02,  7.9308e-02,  2.6945e-02, -1.8485e-01,  1.0940e-01,\n",
       "         -1.2244e-01, -1.7329e-01, -3.7405e-02, -1.8106e-01,  2.0571e-01,\n",
       "         -1.7383e-01, -1.7621e-01, -1.6874e-01,  1.6932e-01,  1.9973e-01],\n",
       "        [-9.5012e-02,  1.2663e-02, -1.9915e-02,  1.1736e-01, -1.7360e-01,\n",
       "         -1.6991e-01,  2.1903e-01,  1.1395e-01,  1.4080e-01,  2.1993e-01,\n",
       "         -1.9700e-01, -6.1629e-02,  4.4528e-02,  8.2595e-02,  1.3727e-01,\n",
       "          1.0551e-01,  1.1360e-01, -1.6381e-01, -1.8624e-01, -5.6968e-02,\n",
       "          1.8454e-01,  3.5606e-02,  1.4824e-01,  3.2990e-02, -1.5768e-01,\n",
       "          1.3413e-01, -2.2462e-01,  2.1375e-01, -1.3998e-01, -7.5331e-02,\n",
       "          2.2065e-01, -1.7306e-01, -1.1686e-01, -1.0889e-01, -6.9649e-02,\n",
       "          2.0538e-01,  1.8541e-01,  2.1806e-01,  1.3496e-02,  5.6130e-02,\n",
       "          2.7164e-02,  2.0744e-01, -4.6729e-02, -8.4065e-02,  1.5258e-01,\n",
       "         -1.3265e-01, -4.1774e-03, -5.7077e-02, -1.7822e-01,  2.0347e-01],\n",
       "        [ 1.1196e-01,  9.9772e-02, -7.4152e-02,  8.0424e-02, -2.1621e-01,\n",
       "         -2.9438e-02,  1.8173e-01,  1.6513e-01, -2.3422e-01,  2.0211e-01,\n",
       "         -7.1035e-02, -1.2254e-01,  2.3817e-01, -1.3846e-02, -1.7080e-01,\n",
       "         -1.7693e-01,  1.8921e-01, -2.2866e-01, -1.1306e-01, -3.4023e-02,\n",
       "         -1.4056e-01, -2.0224e-02, -1.6368e-01,  1.4253e-01,  2.3501e-01,\n",
       "          1.0231e-01, -5.7547e-02, -1.4135e-01,  6.3381e-02, -1.1183e-02,\n",
       "         -1.4947e-01,  4.4777e-02,  3.1424e-02,  9.2197e-03,  3.2857e-02,\n",
       "          1.7705e-01,  2.1892e-01, -5.6857e-03,  1.2062e-01,  2.1454e-01,\n",
       "          4.4520e-02, -1.7157e-01, -1.3891e-01,  1.7531e-01,  8.2774e-02,\n",
       "          2.3742e-01,  6.6029e-02,  1.3419e-02,  2.0130e-01, -7.7080e-02],\n",
       "        [ 4.7025e-02, -1.1427e-01, -8.1135e-03, -1.0674e-01, -1.0529e-01,\n",
       "          2.1341e-01,  2.3978e-01, -3.7964e-02,  1.2300e-01, -5.3772e-02,\n",
       "         -6.8899e-02, -7.5080e-02, -2.4056e-01, -2.2879e-01,  6.1366e-02,\n",
       "          1.9234e-01,  3.4803e-02,  1.2150e-01, -1.5071e-01, -9.2991e-02,\n",
       "         -3.1855e-02, -1.9378e-01,  2.4282e-01,  2.8584e-02, -5.7706e-02,\n",
       "         -6.7580e-03, -2.3214e-01, -1.5266e-01,  1.3724e-01, -1.4791e-01,\n",
       "          1.3389e-01, -1.2839e-01, -2.2898e-01,  8.0986e-02,  5.7568e-02,\n",
       "          2.1378e-01, -4.6438e-02,  1.5187e-01,  2.1712e-01, -5.4372e-02,\n",
       "          8.2105e-02, -1.5548e-02,  9.3434e-02,  1.8113e-01,  9.5362e-02,\n",
       "          2.0277e-01,  1.2085e-01,  1.6300e-01,  1.0740e-01, -2.0541e-01],\n",
       "        [-1.1245e-01,  1.7147e-01, -9.8529e-02,  1.1214e-01,  8.3673e-02,\n",
       "          2.0442e-01, -4.2423e-02, -4.4893e-02,  1.8849e-01,  5.5802e-03,\n",
       "         -3.6817e-02,  1.3233e-01,  5.3878e-02,  6.1633e-02, -9.6099e-03,\n",
       "          1.7111e-01, -2.4011e-01,  1.3228e-02,  1.7262e-01,  1.6362e-01,\n",
       "         -1.6117e-01, -2.1174e-01, -1.0299e-01,  1.5638e-01, -2.3772e-01,\n",
       "         -5.1441e-02, -2.3242e-01,  1.3760e-01,  6.4336e-02, -2.3198e-01,\n",
       "          9.0472e-02,  1.1356e-01,  6.4115e-02, -1.8968e-01,  7.0886e-02,\n",
       "          9.4211e-03, -1.6620e-01, -1.4377e-01, -2.0554e-01, -1.4456e-01,\n",
       "         -1.1909e-01, -1.3456e-01,  2.2901e-01,  4.4496e-02, -5.5146e-02,\n",
       "          4.4950e-02,  6.0483e-02,  7.8987e-02, -2.6210e-01,  1.8480e-01],\n",
       "        [-2.0730e-01, -1.1088e-01, -1.2075e-01,  2.3539e-01, -2.8256e-03,\n",
       "         -2.0731e-01, -1.0381e-02,  3.8435e-02,  1.0382e-01, -5.9816e-02,\n",
       "         -1.0145e-01,  6.0517e-02, -2.1297e-01, -1.4793e-01, -7.3293e-02,\n",
       "          1.2713e-01, -9.0152e-02, -7.6918e-02, -1.7535e-01, -1.0322e-01,\n",
       "          1.3478e-01,  1.5061e-01, -6.9831e-02,  1.7618e-01, -1.3211e-01,\n",
       "          1.9457e-01,  1.6682e-01, -1.0715e-01,  1.5995e-01,  1.6453e-01,\n",
       "          2.2379e-01, -1.8731e-02, -1.1725e-01, -1.0677e-01, -1.1468e-01,\n",
       "         -1.4692e-01,  1.3376e-01,  2.3058e-01,  1.2370e-01,  1.1019e-01,\n",
       "          5.4803e-03, -1.9108e-01,  1.7481e-01,  1.0762e-01,  7.5635e-02,\n",
       "         -1.7989e-01,  1.7575e-01,  1.7522e-01, -1.7254e-01,  1.2905e-01],\n",
       "        [-6.8672e-02,  1.5606e-01,  2.3737e-01,  5.4395e-02, -1.2940e-01,\n",
       "          1.0062e-01, -1.4828e-01,  1.6563e-01, -2.6292e-01, -6.6889e-02,\n",
       "          1.7153e-01, -1.1671e-01,  5.6032e-03,  2.0867e-01, -2.1371e-02,\n",
       "         -2.0647e-01, -1.5832e-01,  7.2917e-02, -3.6854e-02,  2.4349e-01,\n",
       "          8.8520e-02,  2.1453e-01,  9.5689e-02,  2.0909e-01, -1.1889e-01,\n",
       "         -1.0956e-02,  1.4349e-01, -2.6456e-01,  7.2811e-02,  9.0004e-02,\n",
       "         -1.1764e-02,  1.5286e-01,  1.7238e-01,  2.7761e-02, -1.5111e-01,\n",
       "          1.7122e-02, -2.4842e-01, -9.8744e-03, -3.2882e-02, -1.2589e-02,\n",
       "         -1.8540e-02,  1.6214e-01,  1.0998e-01, -3.4294e-03, -1.8914e-01,\n",
       "          1.1499e-01,  8.1404e-02,  9.2101e-03, -2.4680e-01, -1.4317e-01],\n",
       "        [ 2.4233e-03, -1.8933e-01, -2.5574e-02, -1.3170e-01, -4.0146e-02,\n",
       "          1.1994e-02,  9.4478e-02, -2.4832e-01, -2.3080e-01, -2.3475e-02,\n",
       "          2.8114e-01,  8.1093e-02, -2.3694e-01, -1.6376e-02,  1.1640e-01,\n",
       "         -2.6406e-01, -2.8551e-01, -1.0941e-01,  1.7522e-01,  1.4563e-01,\n",
       "          2.7939e-01, -7.0360e-02,  2.3162e-01, -9.2293e-02,  5.6911e-02,\n",
       "          2.6107e-01, -1.2424e-01,  1.8344e-01,  1.5102e-04,  2.5114e-03,\n",
       "          1.4090e-01, -3.7386e-02,  8.3267e-02,  1.2734e-02, -1.0435e-02,\n",
       "          7.7922e-02,  1.3010e-01, -8.1529e-02, -4.0913e-02,  6.3834e-02,\n",
       "          7.1937e-02, -8.2847e-02, -1.8188e-01,  1.7482e-02, -1.9302e-01,\n",
       "          2.5008e-02, -6.4164e-02,  1.3387e-01, -9.4991e-02,  7.3485e-02],\n",
       "        [-1.7555e-02, -1.8901e-01, -1.1101e-01, -9.6964e-02,  1.2372e-01,\n",
       "         -1.9271e-01, -1.1749e-01,  2.1161e-01, -2.2718e-01, -1.2747e-01,\n",
       "         -2.9891e-02, -1.5510e-01,  1.1583e-01,  7.5025e-02, -9.5477e-02,\n",
       "         -1.5507e-01,  2.0610e-01, -1.3103e-01,  1.3848e-01, -1.7892e-01,\n",
       "          2.1050e-01, -1.1439e-01, -1.1718e-01,  1.2530e-01, -2.2871e-01,\n",
       "          5.0865e-03, -2.0849e-01,  3.3909e-02, -1.9128e-01,  1.3355e-01,\n",
       "          5.8575e-02, -5.8992e-02,  9.7206e-02, -2.0258e-01, -1.6369e-01,\n",
       "         -9.5379e-02, -2.0985e-01,  5.7267e-02, -9.2708e-02,  2.1381e-02,\n",
       "         -2.0897e-01, -1.1931e-01, -7.6755e-02,  2.1867e-01, -1.0854e-01,\n",
       "         -8.3460e-02,  4.4906e-02,  2.0795e-01, -6.7049e-02,  8.5954e-02],\n",
       "        [ 2.1438e-02, -2.0334e-01,  7.9129e-03,  1.6617e-01,  1.0324e-01,\n",
       "          2.1963e-01, -5.4940e-02,  2.0382e-01, -1.9782e-01,  1.1478e-01,\n",
       "          4.0199e-02, -2.0389e-01, -9.1565e-02,  2.1088e-01, -3.3467e-02,\n",
       "         -1.1990e-01,  4.5782e-02, -1.0468e-01,  1.8183e-01, -1.6737e-01,\n",
       "         -3.3182e-02,  2.6177e-02, -1.2229e-01,  4.1684e-02,  1.3867e-01,\n",
       "          1.5086e-01, -1.1268e-01,  1.5290e-01, -2.2425e-01, -8.3613e-02,\n",
       "          1.5162e-02,  1.7439e-01,  5.1361e-02, -1.7449e-02, -1.1590e-01,\n",
       "         -1.0620e-01, -2.3178e-01, -2.6285e-01, -5.5389e-02,  1.1215e-02,\n",
       "          2.4860e-01,  2.4715e-01, -7.8763e-03,  8.8866e-02,  1.7496e-01,\n",
       "         -1.2476e-01,  9.7890e-02, -1.4263e-01, -8.1807e-02,  1.9320e-01],\n",
       "        [-1.2149e-01,  1.1332e-02,  1.7859e-01,  5.6180e-02, -1.8081e-01,\n",
       "         -2.4319e-01, -2.1057e-01, -1.7556e-01,  5.0985e-03,  1.2594e-01,\n",
       "          2.1196e-01, -2.2246e-01,  1.0070e-01, -3.6486e-02, -6.8975e-02,\n",
       "         -1.7343e-01, -8.6290e-02,  2.0316e-01, -1.9709e-01, -1.4949e-01,\n",
       "         -7.4270e-02,  1.3226e-01,  2.0539e-01,  1.1960e-01,  1.4797e-01,\n",
       "          6.7253e-03,  1.3342e-01,  7.6144e-02, -1.0183e-01, -6.2213e-02,\n",
       "          3.2177e-02, -1.0604e-02,  1.5929e-01, -9.9471e-02, -2.2268e-01,\n",
       "          1.1664e-01, -1.2643e-01, -2.8683e-02, -1.1672e-01,  1.6591e-01,\n",
       "         -2.1775e-01, -8.0610e-02, -4.2271e-02, -8.1553e-02,  9.5221e-02,\n",
       "          5.9705e-02,  2.2727e-01,  5.8901e-02, -2.3379e-01,  1.8692e-01],\n",
       "        [-1.3776e-01,  7.0351e-02,  8.9082e-02,  1.9745e-04, -2.5816e-02,\n",
       "          3.2830e-03,  2.7961e-01, -2.5332e-01,  1.5470e-01,  1.1067e-02,\n",
       "          2.2327e-02,  8.8995e-02, -7.5059e-02, -9.1082e-02,  7.4580e-02,\n",
       "         -1.9664e-01,  2.9995e-01, -1.5794e-01,  3.1176e-02,  2.7956e-01,\n",
       "          1.2879e-02,  2.2399e-01, -2.9102e-02,  1.0209e-02, -1.1735e-01,\n",
       "          8.3287e-02,  1.1660e-01,  7.8159e-02,  1.0276e-01,  9.1066e-02,\n",
       "         -1.6857e-01, -5.2699e-02, -8.9224e-02, -1.8638e-01,  4.5683e-02,\n",
       "          1.1836e-01,  8.8381e-02, -1.2019e-01, -1.5143e-01,  1.0906e-01,\n",
       "          2.0588e-01,  2.0857e-01, -2.2905e-01, -1.2122e-01,  7.0494e-02,\n",
       "          6.8933e-02, -1.8747e-01, -1.6115e-01, -1.7936e-01, -1.6357e-01],\n",
       "        [-5.5286e-02,  2.3740e-01, -1.1006e-01, -2.0786e-01,  6.7473e-02,\n",
       "          9.7678e-02,  1.7542e-01, -1.4219e-01,  3.0580e-02, -5.5127e-03,\n",
       "          5.8953e-02, -1.4923e-01,  1.6271e-02, -2.8570e-03, -2.1305e-01,\n",
       "         -1.8918e-02, -1.1969e-01, -2.4040e-01,  1.7357e-01, -1.5477e-01,\n",
       "          1.0743e-01, -1.5819e-01, -1.5727e-01,  6.0036e-02, -7.6074e-02,\n",
       "         -9.0083e-02,  8.8896e-02, -1.2335e-01, -2.2777e-01, -5.7651e-02,\n",
       "         -6.5423e-02, -1.4910e-01,  7.5574e-02,  1.4882e-01, -1.7807e-01,\n",
       "          1.7471e-01, -1.3992e-01, -2.2617e-01, -9.8026e-02,  5.1418e-02,\n",
       "          1.3218e-01, -1.9059e-01,  1.7095e-01, -5.2196e-03,  1.0832e-01,\n",
       "         -1.2595e-01,  2.1717e-01,  1.8960e-01,  1.9915e-01,  1.7639e-01]],\n",
       "       grad_fn=<ViewBackward>)"
      ]
     },
     "execution_count": 174,
     "metadata": {},
     "output_type": "execute_result"
    }
   ],
   "source": [
    "entity_embeddings"
   ]
  },
  {
   "cell_type": "code",
   "execution_count": null,
   "metadata": {},
   "outputs": [],
   "source": []
  },
  {
   "cell_type": "code",
   "execution_count": null,
   "metadata": {},
   "outputs": [],
   "source": []
  },
  {
   "cell_type": "code",
   "execution_count": null,
   "metadata": {},
   "outputs": [],
   "source": [
    "#Individually pipeline\n"
   ]
  },
  {
   "cell_type": "code",
   "execution_count": 100,
   "metadata": {},
   "outputs": [
    {
     "name": "stderr",
     "output_type": "stream",
     "text": [
      "WARNING:pykeen.utils:No cuda devices were available. The model runs on CPU\n",
      "WARNING:pykeen.models.base:No random seed is specified. This may lead to non-reproducible results.\n"
     ]
    }
   ],
   "source": [
    "from pykeen.models import TransE\n",
    "model = TransE(triples_factory=training_triples_factory)"
   ]
  },
  {
   "cell_type": "code",
   "execution_count": 101,
   "metadata": {},
   "outputs": [],
   "source": [
    "from torch.optim import Adam\n",
    "optimizer = Adam(params=model.get_grad_params())"
   ]
  },
  {
   "cell_type": "code",
   "execution_count": 102,
   "metadata": {},
   "outputs": [],
   "source": [
    "from pykeen.training import SLCWATrainingLoop\n",
    "training_loop = SLCWATrainingLoop(model=model, optimizer=optimizer)"
   ]
  },
  {
   "cell_type": "code",
   "execution_count": 103,
   "metadata": {},
   "outputs": [
    {
     "data": {
      "application/vnd.jupyter.widget-view+json": {
       "model_id": "0730510f9d2b4f8e9dc50a4d83c457ce",
       "version_major": 2,
       "version_minor": 0
      },
      "text/plain": [
       "HBox(children=(FloatProgress(value=0.0, description='Training epochs on cpu', max=5.0, style=ProgressStyle(des…"
      ]
     },
     "metadata": {},
     "output_type": "display_data"
    },
    {
     "data": {
      "application/vnd.jupyter.widget-view+json": {
       "model_id": "",
       "version_major": 2,
       "version_minor": 0
      },
      "text/plain": [
       "HBox(children=(FloatProgress(value=0.0, description='Training batches on cpu', max=7.0, style=ProgressStyle(de…"
      ]
     },
     "metadata": {},
     "output_type": "display_data"
    },
    {
     "data": {
      "application/vnd.jupyter.widget-view+json": {
       "model_id": "",
       "version_major": 2,
       "version_minor": 0
      },
      "text/plain": [
       "HBox(children=(FloatProgress(value=0.0, description='Training batches on cpu', max=7.0, style=ProgressStyle(de…"
      ]
     },
     "metadata": {},
     "output_type": "display_data"
    },
    {
     "data": {
      "application/vnd.jupyter.widget-view+json": {
       "model_id": "",
       "version_major": 2,
       "version_minor": 0
      },
      "text/plain": [
       "HBox(children=(FloatProgress(value=0.0, description='Training batches on cpu', max=7.0, style=ProgressStyle(de…"
      ]
     },
     "metadata": {},
     "output_type": "display_data"
    },
    {
     "data": {
      "application/vnd.jupyter.widget-view+json": {
       "model_id": "",
       "version_major": 2,
       "version_minor": 0
      },
      "text/plain": [
       "HBox(children=(FloatProgress(value=0.0, description='Training batches on cpu', max=7.0, style=ProgressStyle(de…"
      ]
     },
     "metadata": {},
     "output_type": "display_data"
    },
    {
     "data": {
      "application/vnd.jupyter.widget-view+json": {
       "model_id": "",
       "version_major": 2,
       "version_minor": 0
      },
      "text/plain": [
       "HBox(children=(FloatProgress(value=0.0, description='Training batches on cpu', max=7.0, style=ProgressStyle(de…"
      ]
     },
     "metadata": {},
     "output_type": "display_data"
    },
    {
     "name": "stdout",
     "output_type": "stream",
     "text": [
      "\n"
     ]
    },
    {
     "data": {
      "text/plain": [
       "[0.0062235357174322235,\n",
       " 0.006301636372379322,\n",
       " 0.00615978413191273,\n",
       " 0.005988228485811895,\n",
       " 0.005844339129313752]"
      ]
     },
     "execution_count": 103,
     "metadata": {},
     "output_type": "execute_result"
    }
   ],
   "source": [
    "training_loop.train(num_epochs=5, batch_size=256)"
   ]
  },
  {
   "cell_type": "code",
   "execution_count": 122,
   "metadata": {},
   "outputs": [],
   "source": [
    "from pykeen.evaluation import RankBasedEvaluator\n",
    "evaluator = RankBasedEvaluator()"
   ]
  },
  {
   "cell_type": "code",
   "execution_count": 148,
   "metadata": {},
   "outputs": [],
   "source": [
    "# Get triples to test\n",
    "mapped_triples = dataset.testing.mapped_triples"
   ]
  },
  {
   "cell_type": "code",
   "execution_count": 149,
   "metadata": {},
   "outputs": [
    {
     "data": {
      "text/plain": [
       "tensor([[ 0,  7,  5],\n",
       "        [ 0, 14, 11],\n",
       "        [ 0, 18, 12],\n",
       "        [ 0, 20,  3],\n",
       "        [ 0, 20, 10],\n",
       "        [ 0, 21, 12],\n",
       "        [ 1,  3, 12],\n",
       "        [ 1,  7,  0],\n",
       "        [ 1, 10, 11],\n",
       "        [ 1, 18,  5],\n",
       "        [ 1, 21,  6],\n",
       "        [ 1, 28,  7],\n",
       "        [ 1, 33,  4],\n",
       "        [ 1, 33,  6],\n",
       "        [ 1, 33, 13],\n",
       "        [ 1, 38,  4],\n",
       "        [ 1, 38,  7],\n",
       "        [ 1, 38, 12],\n",
       "        [ 1, 39,  7],\n",
       "        [ 1, 42,  2],\n",
       "        [ 1, 49,  2],\n",
       "        [ 2,  0, 11],\n",
       "        [ 2,  6,  0],\n",
       "        [ 2, 14,  1],\n",
       "        [ 2, 14,  4],\n",
       "        [ 2, 14,  6],\n",
       "        [ 2, 21,  5],\n",
       "        [ 2, 21, 12],\n",
       "        [ 2, 21, 13],\n",
       "        [ 2, 26,  5],\n",
       "        [ 2, 30,  1],\n",
       "        [ 2, 30,  6],\n",
       "        [ 2, 37,  3],\n",
       "        [ 2, 37, 13],\n",
       "        [ 2, 38,  0],\n",
       "        [ 2, 45,  0],\n",
       "        [ 3, 19, 12],\n",
       "        [ 3, 21, 11],\n",
       "        [ 3, 25, 11],\n",
       "        [ 3, 28,  7],\n",
       "        [ 3, 30,  2],\n",
       "        [ 3, 33,  2],\n",
       "        [ 3, 33,  4],\n",
       "        [ 3, 37, 13],\n",
       "        [ 3, 38,  4],\n",
       "        [ 3, 42,  2],\n",
       "        [ 3, 42, 11],\n",
       "        [ 3, 46, 12],\n",
       "        [ 3, 48, 13],\n",
       "        [ 4,  7,  0],\n",
       "        [ 4,  7, 11],\n",
       "        [ 4,  8,  5],\n",
       "        [ 4, 14,  1],\n",
       "        [ 4, 14,  3],\n",
       "        [ 4, 14, 11],\n",
       "        [ 4, 14, 13],\n",
       "        [ 4, 19,  0],\n",
       "        [ 4, 19, 12],\n",
       "        [ 4, 25,  7],\n",
       "        [ 4, 28,  0],\n",
       "        [ 4, 28,  9],\n",
       "        [ 4, 28, 12],\n",
       "        [ 4, 30, 13],\n",
       "        [ 4, 33, 12],\n",
       "        [ 4, 42, 10],\n",
       "        [ 4, 45, 13],\n",
       "        [ 4, 49,  2],\n",
       "        [ 4, 49,  6],\n",
       "        [ 5,  7,  2],\n",
       "        [ 5,  7, 10],\n",
       "        [ 5, 20,  1],\n",
       "        [ 5, 20,  4],\n",
       "        [ 5, 20,  7],\n",
       "        [ 5, 29,  2],\n",
       "        [ 5, 37, 11],\n",
       "        [ 5, 37, 12],\n",
       "        [ 5, 37, 13],\n",
       "        [ 5, 38,  0],\n",
       "        [ 5, 42, 12],\n",
       "        [ 5, 44, 12],\n",
       "        [ 5, 45,  0],\n",
       "        [ 5, 45,  3],\n",
       "        [ 6,  0, 11],\n",
       "        [ 6,  7,  9],\n",
       "        [ 6,  8,  1],\n",
       "        [ 6, 14,  1],\n",
       "        [ 6, 14,  3],\n",
       "        [ 6, 16,  3],\n",
       "        [ 6, 23, 11],\n",
       "        [ 6, 24, 12],\n",
       "        [ 6, 26,  2],\n",
       "        [ 6, 26, 11],\n",
       "        [ 6, 28,  5],\n",
       "        [ 6, 28,  9],\n",
       "        [ 6, 33,  4],\n",
       "        [ 6, 33, 11],\n",
       "        [ 6, 39,  3],\n",
       "        [ 6, 39, 12],\n",
       "        [ 6, 42,  2],\n",
       "        [ 6, 44, 12],\n",
       "        [ 6, 52, 11],\n",
       "        [ 7,  4, 13],\n",
       "        [ 7,  7,  3],\n",
       "        [ 7,  7,  9],\n",
       "        [ 7, 14,  0],\n",
       "        [ 7, 20,  4],\n",
       "        [ 7, 21,  0],\n",
       "        [ 7, 21,  4],\n",
       "        [ 7, 21, 12],\n",
       "        [ 7, 28,  0],\n",
       "        [ 7, 39,  5],\n",
       "        [ 7, 39, 12],\n",
       "        [ 7, 46,  8],\n",
       "        [ 8,  8,  6],\n",
       "        [ 8, 21,  7],\n",
       "        [ 8, 28,  9],\n",
       "        [ 8, 28, 12],\n",
       "        [ 8, 30,  4],\n",
       "        [ 8, 33, 12],\n",
       "        [ 8, 38,  3],\n",
       "        [ 8, 38, 10],\n",
       "        [ 8, 39,  0],\n",
       "        [ 8, 39, 12],\n",
       "        [ 8, 42,  6],\n",
       "        [ 8, 54, 11],\n",
       "        [ 9,  6,  2],\n",
       "        [ 9,  7,  1],\n",
       "        [ 9,  8, 11],\n",
       "        [ 9, 14,  2],\n",
       "        [ 9, 14,  5],\n",
       "        [ 9, 14, 13],\n",
       "        [ 9, 20,  6],\n",
       "        [ 9, 22,  6],\n",
       "        [ 9, 27,  5],\n",
       "        [ 9, 28,  5],\n",
       "        [ 9, 36, 11],\n",
       "        [ 9, 38, 11],\n",
       "        [ 9, 48, 11],\n",
       "        [ 9, 48, 13],\n",
       "        [ 9, 49, 12],\n",
       "        [10,  8, 13],\n",
       "        [10, 19, 11],\n",
       "        [10, 20,  7],\n",
       "        [10, 21,  7],\n",
       "        [10, 27,  5],\n",
       "        [10, 28, 13],\n",
       "        [10, 33,  3],\n",
       "        [10, 33,  5],\n",
       "        [10, 33, 12],\n",
       "        [10, 37, 12],\n",
       "        [10, 38, 12],\n",
       "        [10, 42, 13],\n",
       "        [10, 54,  9],\n",
       "        [10, 54, 11],\n",
       "        [11,  9,  6],\n",
       "        [11, 11,  6],\n",
       "        [11, 14,  9],\n",
       "        [11, 21,  0],\n",
       "        [11, 21,  9],\n",
       "        [11, 27, 10],\n",
       "        [11, 31, 13],\n",
       "        [11, 39, 12],\n",
       "        [11, 45,  3],\n",
       "        [11, 45,  4],\n",
       "        [11, 45, 12],\n",
       "        [11, 45, 13],\n",
       "        [11, 48,  4],\n",
       "        [11, 51,  8],\n",
       "        [11, 54,  3],\n",
       "        [12,  0,  3],\n",
       "        [12,  3, 13],\n",
       "        [12,  9,  6],\n",
       "        [12, 14,  0],\n",
       "        [12, 14, 11],\n",
       "        [12, 19,  2],\n",
       "        [12, 24,  9],\n",
       "        [12, 24, 11],\n",
       "        [12, 25,  4],\n",
       "        [12, 26,  0],\n",
       "        [12, 28,  9],\n",
       "        [12, 28, 11],\n",
       "        [12, 30,  6],\n",
       "        [12, 41,  4],\n",
       "        [12, 41,  5],\n",
       "        [12, 45,  3],\n",
       "        [12, 45,  9],\n",
       "        [12, 51,  7],\n",
       "        [12, 54,  3],\n",
       "        [12, 54,  7],\n",
       "        [12, 54, 13],\n",
       "        [13,  3,  1],\n",
       "        [13,  3, 11],\n",
       "        [13,  4, 12],\n",
       "        [13, 14,  9],\n",
       "        [13, 19,  2],\n",
       "        [13, 32, 12],\n",
       "        [13, 33, 12],\n",
       "        [13, 38,  0],\n",
       "        [13, 39, 10],\n",
       "        [13, 45,  0],\n",
       "        [13, 45,  2]])"
      ]
     },
     "execution_count": 149,
     "metadata": {},
     "output_type": "execute_result"
    }
   ],
   "source": [
    "mapped_triples"
   ]
  },
  {
   "cell_type": "code",
   "execution_count": 125,
   "metadata": {},
   "outputs": [
    {
     "data": {
      "application/vnd.jupyter.widget-view+json": {
       "model_id": "d79a66830af34913802a2d97105ca4f9",
       "version_major": 2,
       "version_minor": 0
      },
      "text/plain": [
       "HBox(children=(FloatProgress(value=0.0, description='Evaluating on cpu', max=201.0, style=ProgressStyle(descri…"
      ]
     },
     "metadata": {},
     "output_type": "display_data"
    },
    {
     "name": "stderr",
     "output_type": "stream",
     "text": [
      "INFO:pykeen.evaluation.evaluator:Evaluation took 0.04s seconds\n"
     ]
    },
    {
     "name": "stdout",
     "output_type": "stream",
     "text": [
      "\n",
      "RankBasedMetricResults(mean_rank={'both': {'avg': 3.9328358208955225, 'worst': 3.9328358208955225, 'best': 3.9328358208955225}, 'head': {'avg': 4.402985074626866, 'worst': 4.402985074626866, 'best': 4.402985074626866}, 'tail': {'avg': 3.462686567164179, 'worst': 3.462686567164179, 'best': 3.462686567164179}}, mean_reciprocal_rank={'both': {'avg': 0.4560604541947825, 'worst': 0.4560604541947825, 'best': 0.4560604541947825}, 'head': {'avg': 0.40329347269645777, 'worst': 0.40329347269645777, 'best': 0.40329347269645777}, 'tail': {'avg': 0.5088274356931073, 'worst': 0.5088274356931073, 'best': 0.5088274356931073}}, hits_at_k={'both': {'avg': {1: 0.24378109452736318, 3: 0.572139303482587, 5: 0.746268656716418, 10: 0.9552238805970149}, 'worst': {1: 0.24378109452736318, 3: 0.572139303482587, 5: 0.746268656716418, 10: 0.9552238805970149}, 'best': {1: 0.24378109452736318, 3: 0.572139303482587, 5: 0.746268656716418, 10: 0.9552238805970149}}, 'head': {'avg': {1: 0.19402985074626866, 3: 0.5024875621890548, 5: 0.6965174129353234, 10: 0.945273631840796}, 'worst': {1: 0.19402985074626866, 3: 0.5024875621890548, 5: 0.6965174129353234, 10: 0.945273631840796}, 'best': {1: 0.19402985074626866, 3: 0.5024875621890548, 5: 0.6965174129353234, 10: 0.945273631840796}}, 'tail': {'avg': {1: 0.2935323383084577, 3: 0.6417910447761194, 5: 0.7960199004975125, 10: 0.9651741293532339}, 'worst': {1: 0.2935323383084577, 3: 0.6417910447761194, 5: 0.7960199004975125, 10: 0.9651741293532339}, 'best': {1: 0.2935323383084577, 3: 0.6417910447761194, 5: 0.7960199004975125, 10: 0.9651741293532339}}}, adjusted_mean_rank={'both': 0.8397383287697289, 'head': 0.9588652760235231, 'tail': 0.7206113815159347})\n"
     ]
    }
   ],
   "source": [
    "results = evaluator.evaluate(model, mapped_triples, batch_size=1024)\n",
    "print(results)"
   ]
  },
  {
   "cell_type": "code",
   "execution_count": 126,
   "metadata": {},
   "outputs": [
    {
     "ename": "AttributeError",
     "evalue": "'RankBasedMetricResults' object has no attribute 'plot_losses'",
     "output_type": "error",
     "traceback": [
      "\u001b[1;31m---------------------------------------------------------------------------\u001b[0m",
      "\u001b[1;31mAttributeError\u001b[0m                            Traceback (most recent call last)",
      "\u001b[1;32m<ipython-input-126-0d60a1648e93>\u001b[0m in \u001b[0;36m<module>\u001b[1;34m\u001b[0m\n\u001b[1;32m----> 1\u001b[1;33m \u001b[0mresults\u001b[0m\u001b[1;33m.\u001b[0m\u001b[0mplot_losses\u001b[0m\u001b[1;33m(\u001b[0m\u001b[1;33m)\u001b[0m\u001b[1;33m\u001b[0m\u001b[1;33m\u001b[0m\u001b[0m\n\u001b[0m\u001b[0;32m      2\u001b[0m \u001b[0mplt\u001b[0m\u001b[1;33m.\u001b[0m\u001b[0mshow\u001b[0m\u001b[1;33m(\u001b[0m\u001b[1;33m)\u001b[0m\u001b[1;33m\u001b[0m\u001b[1;33m\u001b[0m\u001b[0m\n",
      "\u001b[1;31mAttributeError\u001b[0m: 'RankBasedMetricResults' object has no attribute 'plot_losses'"
     ]
    }
   ],
   "source": [
    "\n",
    "results.plot_losses()\n",
    "plt.show()"
   ]
  },
  {
   "cell_type": "code",
   "execution_count": 130,
   "metadata": {},
   "outputs": [
    {
     "data": {
      "text/plain": [
       "RankBasedMetricResults(mean_rank={'both': {'avg': 3.9328358208955225, 'worst': 3.9328358208955225, 'best': 3.9328358208955225}, 'head': {'avg': 4.402985074626866, 'worst': 4.402985074626866, 'best': 4.402985074626866}, 'tail': {'avg': 3.462686567164179, 'worst': 3.462686567164179, 'best': 3.462686567164179}}, mean_reciprocal_rank={'both': {'avg': 0.4560604541947825, 'worst': 0.4560604541947825, 'best': 0.4560604541947825}, 'head': {'avg': 0.40329347269645777, 'worst': 0.40329347269645777, 'best': 0.40329347269645777}, 'tail': {'avg': 0.5088274356931073, 'worst': 0.5088274356931073, 'best': 0.5088274356931073}}, hits_at_k={'both': {'avg': {1: 0.24378109452736318, 3: 0.572139303482587, 5: 0.746268656716418, 10: 0.9552238805970149}, 'worst': {1: 0.24378109452736318, 3: 0.572139303482587, 5: 0.746268656716418, 10: 0.9552238805970149}, 'best': {1: 0.24378109452736318, 3: 0.572139303482587, 5: 0.746268656716418, 10: 0.9552238805970149}}, 'head': {'avg': {1: 0.19402985074626866, 3: 0.5024875621890548, 5: 0.6965174129353234, 10: 0.945273631840796}, 'worst': {1: 0.19402985074626866, 3: 0.5024875621890548, 5: 0.6965174129353234, 10: 0.945273631840796}, 'best': {1: 0.19402985074626866, 3: 0.5024875621890548, 5: 0.6965174129353234, 10: 0.945273631840796}}, 'tail': {'avg': {1: 0.2935323383084577, 3: 0.6417910447761194, 5: 0.7960199004975125, 10: 0.9651741293532339}, 'worst': {1: 0.2935323383084577, 3: 0.6417910447761194, 5: 0.7960199004975125, 10: 0.9651741293532339}, 'best': {1: 0.2935323383084577, 3: 0.6417910447761194, 5: 0.7960199004975125, 10: 0.9651741293532339}}}, adjusted_mean_rank={'both': 0.8397383287697289, 'head': 0.9588652760235231, 'tail': 0.7206113815159347})"
      ]
     },
     "execution_count": 130,
     "metadata": {},
     "output_type": "execute_result"
    }
   ],
   "source": [
    "results"
   ]
  },
  {
   "cell_type": "code",
   "execution_count": 22,
   "metadata": {},
   "outputs": [],
   "source": [
    "# Get a training dataset\n",
    "from pykeen.datasets import Nations\n",
    "dataset = Nations()\n",
    "training_triples_factory = dataset.training"
   ]
  },
  {
   "cell_type": "code",
   "execution_count": 83,
   "metadata": {},
   "outputs": [
    {
     "data": {
      "text/plain": [
       "pykeen.triples.triples_factory.TriplesFactory"
      ]
     },
     "execution_count": 83,
     "metadata": {},
     "output_type": "execute_result"
    }
   ],
   "source": [
    "type(training_triples_factory)"
   ]
  },
  {
   "cell_type": "code",
   "execution_count": 28,
   "metadata": {},
   "outputs": [
    {
     "name": "stdout",
     "output_type": "stream",
     "text": [
      "Nations(num_entities=14, num_relations=55)\n"
     ]
    }
   ],
   "source": [
    "print(dataset)"
   ]
  },
  {
   "cell_type": "code",
   "execution_count": 42,
   "metadata": {},
   "outputs": [
    {
     "data": {
      "text/plain": [
       "pykeen.triples.triples_factory.TriplesFactory"
      ]
     },
     "execution_count": 42,
     "metadata": {},
     "output_type": "execute_result"
    }
   ],
   "source": [
    "type(training_triples_factory)"
   ]
  },
  {
   "cell_type": "code",
   "execution_count": 39,
   "metadata": {},
   "outputs": [
    {
     "name": "stdout",
     "output_type": "stream",
     "text": [
      "netherlands\tmilitaryalliance\tuk\n",
      "egypt\tintergovorgs3\tusa\n",
      "jordan\trelbooktranslations\tusa\n",
      "poland\ttimesincewar\tussr\n",
      "uk\tnegativebehavior\tussr\n",
      "poland\trelintergovorgs\tuk\n",
      "usa\tweightedunvote\tindia\n",
      "china\taccusation\tindia\n",
      "uk\tunweightedunvote\tegypt\n",
      "poland\tembassy\tnetherlands\n",
      "jordan\tcommonbloc1\tussr\n",
      "cuba\trelintergovorgs\tindonesia\n",
      "jordan\tcommonbloc2\tisrael\n",
      "uk\tintergovorgs3\tusa\n",
      "israel\tcommonbloc1\tusa\n",
      "uk\tngoorgs3\tbrazil\n",
      "indonesia\tcommonbloc1\tcuba\n",
      "usa\tembassy\tnetherlands\n",
      "netherlands\texports3\tuk\n",
      "usa\teconomicaid\tisrael\n",
      "egypt\tbooktranslations\tusa\n",
      "brazil\tweightedunvote\tuk\n",
      "brazil\trelexports\tuk\n",
      "india\trelbooktranslations\tuk\n",
      "usa\tintergovorgs\tnetherlands\n",
      "uk\tindependence\tcuba\n",
      "egypt\treltreaties\tchina\n",
      "china\tnegativebehavior\tuk\n",
      "usa\tngo\tpoland\n",
      "uk\tweightedunvote\tnetherlands\n",
      "india\tngoorgs3\tbrazil\n",
      "netherlands\tcommonbloc1\tindonesia\n",
      "usa\tblockpositionindex\tindia\n",
      "israel\tembassy\tpoland\n",
      "israel\tcommonbloc2\tegypt\n",
      "egypt\tembassy\tbrazil\n",
      "poland\tembassy\tcuba\n",
      "burma\trelintergovorgs\tuk\n",
      "uk\trelexports\tusa\n",
      "egypt\trelstudents\tuk\n",
      "brazil\tintergovorgs\tuk\n",
      "indonesia\tcommonbloc1\tchina\n",
      "indonesia\texports3\tchina\n",
      "israel\tembassy\tnetherlands\n",
      "india\tcommonbloc1\tcuba\n",
      "cuba\tcommonbloc2\tpoland\n",
      "china\taidenemy\tusa\n",
      "brazil\tembassy\tpoland\n",
      "jordan\teemigrants\tusa\n",
      "egypt\tintergovorgs\tusa\n",
      "uk\tofficialvisits\tpoland\n",
      "indonesia\ttimesincewar\tnetherlands\n",
      "indonesia\tunoffialacts\tusa\n",
      "brazil\tintergovorgs\tindia\n",
      "ussr\treleconomicaid\tpoland\n",
      "cuba\tintergovorgs3\tegypt\n",
      "israel\texports3\tusa\n",
      "netherlands\tcommonbloc0\tcuba\n",
      "usa\tngo\tegypt\n",
      "india\tintergovorgs\tindonesia\n",
      "indonesia\trelintergovorgs\tnetherlands\n",
      "burma\tofficialvisits\tchina\n",
      "usa\tintergovorgs3\tbrazil\n",
      "india\taccusation\tchina\n",
      "poland\texpeldiplomats\tusa\n",
      "egypt\trelngo\tuk\n",
      "indonesia\tstudents\tchina\n",
      "usa\tnonviolentbehavior\tussr\n",
      "poland\treldiplomacy\tindonesia\n",
      "usa\tnegativebehavior\tindia\n",
      "usa\tindependence\tnetherlands\n",
      "netherlands\tweightedunvote\tindia\n",
      "poland\ttourism\tussr\n",
      "brazil\tngo\tnetherlands\n",
      "uk\ttourism\tisrael\n",
      "netherlands\tngo\tusa\n",
      "uk\tngo\tisrael\n",
      "usa\tngo\tindia\n",
      "china\treleconomicaid\tegypt\n",
      "netherlands\trelbooktranslations\tuk\n",
      "india\ttimesinceally\tussr\n",
      "poland\tembassy\tchina\n",
      "egypt\tnegativebehavior\tusa\n",
      "egypt\tembassy\tchina\n",
      "ussr\tintergovorgs3\tusa\n",
      "china\ttimesincewar\tuk\n",
      "netherlands\tweightedunvote\tpoland\n",
      "egypt\tweightedunvote\tusa\n",
      "uk\tindependence\tpoland\n",
      "ussr\ttimesinceally\tegypt\n",
      "india\tcommonbloc1\tnetherlands\n",
      "cuba\tngoorgs3\tuk\n",
      "jordan\tintergovorgs3\tegypt\n",
      "jordan\ttimesincewar\tisrael\n",
      "indonesia\treldiplomacy\tussr\n",
      "egypt\ttimesinceally\tnetherlands\n",
      "brazil\ttimesinceally\tcuba\n",
      "indonesia\tconferences\tindia\n",
      "uk\tcommonbloc1\tjordan\n",
      "usa\tintergovorgs3\tnetherlands\n",
      "egypt\tcommonbloc2\tindonesia\n",
      "usa\teconomicaid\tjordan\n",
      "uk\trelexportbooks\tegypt\n",
      "israel\tcommonbloc1\tpoland\n",
      "cuba\tindependence\tpoland\n",
      "israel\tweightedunvote\tuk\n",
      "india\trelngo\tuk\n",
      "uk\tintergovorgs\tnetherlands\n",
      "usa\ttourism\tnetherlands\n",
      "poland\tcommonbloc0\tusa\n",
      "uk\treleconomicaid\tindia\n",
      "usa\tembassy\tindonesia\n",
      "usa\ttreaties\tegypt\n",
      "ussr\trelbooktranslations\tuk\n",
      "india\tcommonbloc2\tjordan\n",
      "china\tngoorgs3\tuk\n",
      "israel\trelngo\tuk\n",
      "cuba\tconferences\tusa\n",
      "uk\trelintergovorgs\tusa\n",
      "cuba\tembassy\tegypt\n",
      "china\tmilitaryactions\tusa\n",
      "indonesia\tbooktranslations\tusa\n",
      "poland\tngo\tusa\n",
      "poland\taccusation\tchina\n",
      "uk\tcommonbloc2\tnetherlands\n",
      "usa\texportbooks\tindia\n",
      "egypt\tcommonbloc2\tjordan\n",
      "india\tconferences\tpoland\n",
      "china\tbooktranslations\tuk\n",
      "netherlands\trelexports\tuk\n",
      "uk\ttourism\tussr\n",
      "china\trelintergovorgs\tnetherlands\n",
      "ussr\trelintergovorgs\tusa\n",
      "israel\tcommonbloc1\tussr\n",
      "ussr\tboycottembargo\tuk\n",
      "cuba\tcommonbloc1\tburma\n",
      "brazil\ttimesinceally\tindia\n",
      "israel\tngo\tnetherlands\n",
      "poland\tconferences\tcuba\n",
      "egypt\trelintergovorgs\tisrael\n",
      "uk\tunweightedunvote\tcuba\n",
      "indonesia\texports3\tusa\n",
      "uk\treleconomicaid\tjordan\n",
      "ussr\taccusation\tisrael\n",
      "poland\tembassy\tindia\n",
      "china\trelngo\tindia\n",
      "israel\tintergovorgs3\tnetherlands\n",
      "uk\tconferences\tcuba\n",
      "cuba\tblockpositionindex\tusa\n",
      "egypt\tindependence\tpoland\n",
      "israel\tblockpositionindex\tusa\n",
      "cuba\trelintergovorgs\tbrazil\n",
      "jordan\tnegativecomm\tisrael\n",
      "netherlands\tintergovorgs\tuk\n",
      "netherlands\tindependence\tjordan\n",
      "uk\tcommonbloc1\tburma\n",
      "ussr\treldiplomacy\tuk\n",
      "usa\ttimesinceally\tegypt\n",
      "india\ttimesinceally\tnetherlands\n",
      "netherlands\tembassy\tburma\n",
      "cuba\tmilitaryalliance\tussr\n",
      "israel\ttourism3\tuk\n",
      "brazil\tintergovorgs\tegypt\n",
      "uk\tunweightedunvote\tbrazil\n",
      "indonesia\tcommonbloc1\tuk\n",
      "burma\tcommonbloc1\tnetherlands\n",
      "ussr\tngoorgs3\tnetherlands\n",
      "usa\tindependence\tegypt\n",
      "brazil\tconferences\tcuba\n",
      "jordan\ttourism\tegypt\n",
      "india\tngo\tuk\n",
      "usa\tcommonbloc1\tindia\n",
      "ussr\tintergovorgs3\tnetherlands\n",
      "usa\tembassy\tjordan\n",
      "uk\tweightedunvote\tjordan\n",
      "burma\trelngo\tindia\n",
      "egypt\texports3\tpoland\n",
      "ussr\tembassy\tburma\n",
      "china\tindependence\tcuba\n",
      "china\tcommonbloc0\tuk\n",
      "brazil\ttimesinceally\tuk\n",
      "usa\trelngo\tisrael\n",
      "usa\treleconomicaid\tbrazil\n",
      "china\tcommonbloc1\tjordan\n",
      "uk\ttimesinceally\tisrael\n",
      "usa\trelstudents\tuk\n",
      "poland\trelngo\tnetherlands\n",
      "usa\treltourism\tisrael\n",
      "china\tcommonbloc2\tussr\n",
      "usa\ttimesinceally\tuk\n",
      "jordan\taccusation\tisrael\n",
      "ussr\tconferences\tburma\n",
      "netherlands\ttreaties\tindia\n",
      "jordan\trelngo\tisrael\n",
      "poland\tblockpositionindex\tuk\n",
      "usa\tofficialvisits\tburma\n",
      "netherlands\ttimesinceally\tpoland\n",
      "cuba\tembassy\tchina\n",
      "brazil\tngoorgs3\tusa\n",
      "indonesia\tnegativecomm\tusa\n",
      "jordan\trelngo\tcuba\n",
      "burma\treldiplomacy\tisrael\n",
      "ussr\treldiplomacy\tnetherlands\n",
      "ussr\ttourism\tpoland\n",
      "ussr\tintergovorgs\tpoland\n",
      "burma\tconferences\tusa\n",
      "jordan\tcommonbloc1\tpoland\n",
      "usa\tindependence\tussr\n",
      "jordan\trelintergovorgs\tindia\n",
      "indonesia\treldiplomacy\tpoland\n",
      "uk\treltourism\tindia\n",
      "egypt\tintergovorgs3\tnetherlands\n",
      "uk\tindependence\tusa\n",
      "poland\teemigrants\tusa\n",
      "uk\tngo\tegypt\n",
      "usa\trelintergovorgs\tnetherlands\n",
      "ussr\treltourism\tindia\n",
      "poland\tcommonbloc1\tburma\n",
      "china\ttimesinceally\tpoland\n",
      "egypt\tnegativecomm\tusa\n",
      "poland\tweightedunvote\tusa\n",
      "usa\tindependence\tcuba\n",
      "brazil\tintergovorgs\tusa\n",
      "cuba\tintergovorgs3\tisrael\n",
      "china\tnegativebehavior\tussr\n",
      "netherlands\tcommonbloc0\tpoland\n",
      "uk\tpprotests\tpoland\n",
      "ussr\tembassy\tuk\n",
      "poland\tngo\tbrazil\n",
      "india\tunoffialacts\tindonesia\n",
      "brazil\tngo\tcuba\n",
      "burma\tconferences\tuk\n",
      "cuba\tngoorgs3\tpoland\n",
      "jordan\treltourism\tegypt\n",
      "uk\ttimesinceally\tindia\n",
      "usa\tintergovorgs\tuk\n",
      "uk\tcommonbloc0\tpoland\n",
      "uk\ttourism3\tisrael\n",
      "usa\tembassy\tussr\n",
      "ussr\trelintergovorgs\tnetherlands\n",
      "jordan\ttourism3\tegypt\n",
      "usa\tintergovorgs\tindia\n",
      "indonesia\tembassy\tusa\n",
      "egypt\tunweightedunvote\tisrael\n",
      "india\trelintergovorgs\tuk\n",
      "netherlands\tcommonbloc1\tisrael\n",
      "burma\tembassy\tindia\n",
      "india\tembassy\tcuba\n",
      "usa\tconferences\tcuba\n",
      "usa\texportbooks\tuk\n",
      "india\tintergovorgs\tbrazil\n",
      "uk\tngoorgs3\tisrael\n",
      "ussr\treldiplomacy\tchina\n",
      "brazil\temigrants3\tusa\n",
      "ussr\tindependence\tpoland\n",
      "burma\trelintergovorgs\tbrazil\n",
      "usa\tembassy\tegypt\n",
      "cuba\texports3\tchina\n",
      "netherlands\tintergovorgs3\tpoland\n",
      "usa\ttimesinceally\tchina\n",
      "indonesia\treldiplomacy\tusa\n",
      "usa\treleconomicaid\tindia\n",
      "uk\tintergovorgs\tusa\n",
      "poland\tcommonbloc0\tbrazil\n",
      "uk\tngo\tindia\n",
      "cuba\treltreaties\tusa\n",
      "jordan\ttimesinceally\tegypt\n",
      "china\tngoorgs3\tnetherlands\n",
      "netherlands\tindependence\tusa\n",
      "indonesia\trelintergovorgs\tpoland\n",
      "usa\tconferences\tbrazil\n",
      "egypt\treltreaties\tussr\n",
      "india\trelstudents\tusa\n",
      "uk\tunweightedunvote\tindia\n",
      "china\tmilitaryalliance\tcuba\n",
      "china\tnegativebehavior\tindia\n",
      "israel\treltreaties\tuk\n",
      "brazil\tintergovorgs\tnetherlands\n",
      "burma\tintergovorgs3\tbrazil\n",
      "jordan\trelstudents\tegypt\n",
      "uk\tngo\tbrazil\n",
      "ussr\treldiplomacy\tegypt\n",
      "cuba\tconferences\tuk\n",
      "indonesia\tembassy\tchina\n",
      "cuba\trelngo\tegypt\n",
      "poland\treltreaties\tusa\n",
      "cuba\trelintergovorgs\tuk\n",
      "indonesia\tcommonbloc1\tussr\n",
      "ussr\tconferences\tbrazil\n",
      "ussr\tembassy\tchina\n",
      "ussr\treldiplomacy\tpoland\n",
      "china\tcommonbloc1\tburma\n",
      "ussr\tngoorgs3\tisrael\n",
      "usa\tintergovorgs3\tcuba\n",
      "poland\tngoorgs3\tindia\n",
      "uk\ttourism3\tusa\n",
      "burma\trelexports\tussr\n",
      "poland\tcommonbloc2\tchina\n",
      "indonesia\tnonviolentbehavior\tcuba\n",
      "jordan\tconferences\tegypt\n",
      "india\tcommonbloc1\tuk\n",
      "china\tcommonbloc1\tegypt\n",
      "burma\treldiplomacy\tusa\n",
      "uk\tembassy\tussr\n",
      "china\tintergovorgs3\tuk\n",
      "usa\trelexportbooks\tindia\n",
      "egypt\ttimesinceally\tjordan\n",
      "poland\tintergovorgs3\tindia\n",
      "cuba\ttimesinceally\tussr\n",
      "india\tnegativebehavior\tchina\n",
      "ussr\tngo\tpoland\n",
      "indonesia\tnegativebehavior\tnetherlands\n",
      "usa\texportbooks\tbrazil\n",
      "cuba\tblockpositionindex\tbrazil\n",
      "israel\tunweightedunvote\tcuba\n",
      "brazil\tconferences\tussr\n",
      "egypt\tintergovorgs3\tbrazil\n",
      "india\tintergovorgs3\tuk\n",
      "indonesia\trelintergovorgs\tindia\n",
      "ussr\ttreaties\tpoland\n",
      "ussr\ttreaties\tuk\n",
      "india\ttreaties\tnetherlands\n",
      "usa\tindependence\tbrazil\n",
      "india\tunweightedunvote\tpoland\n",
      "israel\tintergovorgs\tuk\n",
      "usa\tbooktranslations\tcuba\n",
      "indonesia\treldiplomacy\tburma\n",
      "egypt\tintergovorgs\tnetherlands\n",
      "usa\tofficialvisits\tindia\n",
      "burma\tcommonbloc1\tussr\n",
      "uk\tblockpositionindex\tussr\n",
      "china\ttimesinceally\tusa\n",
      "poland\ttimesinceally\tegypt\n",
      "brazil\trelngo\tusa\n",
      "china\tduration\tusa\n",
      "netherlands\tindependence\tuk\n",
      "netherlands\tintergovorgs\tbrazil\n",
      "uk\texportbooks\tbrazil\n",
      "usa\tduration\tchina\n",
      "india\texports3\tussr\n",
      "india\tconferences\tburma\n",
      "india\ttimesincewar\tchina\n",
      "uk\tembassy\tjordan\n",
      "ussr\tblockpositionindex\tindia\n",
      "china\trelbooktranslations\tusa\n",
      "israel\tngo\tusa\n",
      "ussr\tngoorgs3\tuk\n",
      "ussr\tcommonbloc1\tisrael\n",
      "netherlands\tstudents\tusa\n",
      "brazil\tconferences\tusa\n",
      "ussr\tcommonbloc1\tjordan\n",
      "ussr\tboycottembargo\tusa\n",
      "ussr\tofficialvisits\tchina\n",
      "brazil\ttimesinceally\tchina\n",
      "uk\teconomicaid\tjordan\n",
      "uk\texportbooks\tusa\n",
      "ussr\tmilitaryalliance\tpoland\n",
      "usa\trelngo\tuk\n",
      "uk\tembassy\tisrael\n",
      "poland\tembassy\tegypt\n",
      "netherlands\tbooktranslations\tusa\n",
      "egypt\tngo\tnetherlands\n",
      "cuba\tintergovorgs3\tnetherlands\n",
      "india\tattackembassy\tindonesia\n",
      "uk\tintergovorgs\tpoland\n",
      "israel\tembassy\tussr\n",
      "cuba\tindependence\tchina\n",
      "netherlands\ttourism\tuk\n",
      "jordan\trelintergovorgs\tnetherlands\n",
      "brazil\texports3\tuk\n",
      "brazil\tblockpositionindex\tchina\n",
      "jordan\trelngo\tnetherlands\n",
      "indonesia\tcommonbloc1\tusa\n",
      "uk\tofficialvisits\tussr\n",
      "uk\treltreaties\tussr\n",
      "uk\tweightedunvote\tussr\n",
      "usa\tconferences\tpoland\n",
      "egypt\taccusation\tusa\n",
      "indonesia\tblockpositionindex\tusa\n",
      "cuba\tweightedunvote\tnetherlands\n",
      "netherlands\tweightedunvote\tegypt\n",
      "israel\tunweightedunvote\tpoland\n",
      "poland\tintergovorgs3\tussr\n",
      "poland\tembassy\tburma\n",
      "israel\tngo\tuk\n",
      "usa\temigrants3\tuk\n",
      "indonesia\treldiplomacy\tnetherlands\n",
      "indonesia\tcommonbloc2\tjordan\n",
      "burma\tconferences\tussr\n",
      "ussr\tcommonbloc2\tchina\n",
      "uk\tweightedunvote\tusa\n",
      "poland\ttimesinceally\tbrazil\n",
      "jordan\trelintergovorgs\tindonesia\n",
      "israel\tintergovorgs\tnetherlands\n",
      "ussr\tcommonbloc0\tusa\n",
      "ussr\tintergovorgs3\tpoland\n",
      "netherlands\tweightedunvote\tcuba\n",
      "brazil\trelintergovorgs\tusa\n",
      "jordan\trelngo\tindia\n",
      "israel\tnegativecomm\tjordan\n",
      "egypt\trelngo\tusa\n",
      "china\tintergovorgs3\tcuba\n",
      "uk\tindependence\tegypt\n",
      "ussr\treltreaties\tpoland\n",
      "uk\tpprotests\tcuba\n",
      "israel\trelintergovorgs\tuk\n",
      "brazil\ttimesinceally\tussr\n",
      "brazil\tintergovorgs3\tindia\n",
      "netherlands\trelngo\tusa\n",
      "egypt\treldiplomacy\tindia\n",
      "brazil\tbooktranslations\tuk\n",
      "egypt\trelexports\tusa\n",
      "cuba\tcommonbloc0\tnetherlands\n",
      "china\tpprotests\tindia\n",
      "poland\treldiplomacy\tjordan\n",
      "indonesia\tintergovorgs\tbrazil\n",
      "usa\trelintergovorgs\tuk\n",
      "burma\texports3\tindonesia\n",
      "egypt\tngoorgs3\tuk\n",
      "usa\tweightedunvote\tjordan\n",
      "india\trelintergovorgs\tusa\n",
      "poland\tconferences\tbrazil\n",
      "china\tindependence\tussr\n",
      "burma\tblockpositionindex\tussr\n",
      "poland\tindependence\tegypt\n",
      "uk\tcommonbloc1\tindia\n",
      "brazil\ttimesinceally\tusa\n",
      "india\tintergovorgs3\tisrael\n",
      "jordan\tstudents\tusa\n",
      "cuba\tindependence\tnetherlands\n",
      "indonesia\tintergovorgs3\tbrazil\n",
      "poland\tcommonbloc1\tjordan\n",
      "china\tngoorgs3\tusa\n",
      "netherlands\tmilitaryalliance\tusa\n",
      "uk\tpprotests\tegypt\n",
      "netherlands\ttimesinceally\tuk\n",
      "netherlands\ttreaties\tuk\n",
      "uk\tcommonbloc1\tindonesia\n",
      "brazil\trelbooktranslations\tuk\n",
      "ussr\tindependence\tnetherlands\n",
      "poland\tdependent\tussr\n",
      "cuba\tngo\tnetherlands\n",
      "india\tweightedunvote\tnetherlands\n",
      "uk\tcommonbloc0\tussr\n",
      "china\taccusation\tindonesia\n",
      "egypt\trelngo\tindia\n",
      "china\treldiplomacy\tindonesia\n",
      "netherlands\tintergovorgs3\tegypt\n",
      "india\trelintergovorgs\tnetherlands\n",
      "uk\treltourism\tusa\n",
      "china\tpprotests\tussr\n",
      "china\tcommonbloc1\tisrael\n",
      "egypt\tweightedunvote\tnetherlands\n",
      "indonesia\tintergovorgs3\tegypt\n",
      "indonesia\tviolentactions\tchina\n",
      "burma\trelngo\tindonesia\n",
      "poland\taccusation\tusa\n",
      "israel\tweightedunvote\tnetherlands\n",
      "poland\temigrants3\tusa\n",
      "cuba\tintergovorgs3\tindia\n",
      "usa\tembassy\tburma\n",
      "uk\tintergovorgs3\tpoland\n",
      "ussr\taidenemy\tusa\n",
      "ussr\tblockpositionindex\tusa\n",
      "uk\tcommonbloc0\tcuba\n",
      "ussr\tngoorgs3\tegypt\n",
      "uk\tngoorgs3\tnetherlands\n",
      "usa\tblockpositionindex\tegypt\n",
      "cuba\texports3\tussr\n",
      "india\tnegativecomm\tusa\n",
      "jordan\tembassy\tindia\n",
      "netherlands\tngoorgs3\tbrazil\n",
      "uk\tunweightedunvote\tisrael\n",
      "indonesia\tconferences\tusa\n",
      "ussr\tnegativebehavior\tusa\n",
      "usa\ttourism\tussr\n",
      "indonesia\taccusation\tusa\n",
      "poland\tindependence\tbrazil\n",
      "uk\tconferences\tnetherlands\n",
      "brazil\treltreaties\tisrael\n",
      "ussr\treltreaties\tnetherlands\n",
      "egypt\tdependent\tuk\n",
      "netherlands\treltreaties\tusa\n",
      "jordan\ttreaties\tuk\n",
      "ussr\tembassy\tusa\n",
      "israel\trelintergovorgs\tusa\n",
      "ussr\tngoorgs3\tbrazil\n",
      "uk\tunweightedunvote\tnetherlands\n",
      "china\tbooktranslations\tusa\n",
      "poland\ttreaties\tussr\n",
      "india\texports3\tuk\n",
      "ussr\treltreaties\tchina\n",
      "netherlands\tintergovorgs\tindia\n",
      "indonesia\trelngo\tnetherlands\n",
      "uk\tngoorgs3\tusa\n",
      "ussr\tweightedunvote\tisrael\n",
      "egypt\treltreaties\tbrazil\n",
      "brazil\tcommonbloc0\tpoland\n",
      "jordan\tngoorgs3\tegypt\n",
      "cuba\trelngo\tbrazil\n",
      "india\tngo\tusa\n",
      "cuba\tembassy\tpoland\n",
      "usa\tunweightedunvote\tuk\n",
      "china\treldiplomacy\tcuba\n",
      "egypt\ttimesinceally\tchina\n",
      "israel\trelexports\tuk\n",
      "ussr\trelexports\tcuba\n",
      "egypt\trelbooktranslations\tuk\n",
      "poland\tintergovorgs\tindia\n",
      "egypt\tngo\tuk\n",
      "brazil\trelintergovorgs\tnetherlands\n",
      "israel\tembassy\tburma\n",
      "ussr\tcommonbloc2\tpoland\n",
      "brazil\tembassy\tegypt\n",
      "brazil\treldiplomacy\tuk\n",
      "brazil\tindependence\tusa\n",
      "egypt\trelexports\tindia\n",
      "burma\treldiplomacy\tuk\n",
      "uk\tngo\tnetherlands\n",
      "jordan\tngoorgs3\tbrazil\n",
      "uk\ttimesinceally\tbrazil\n",
      "poland\tembassy\tindonesia\n",
      "egypt\tngo\tusa\n",
      "egypt\tconferences\tjordan\n",
      "jordan\tduration\tisrael\n",
      "poland\tngo\tisrael\n",
      "ussr\tweightedunvote\tuk\n",
      "ussr\tpprotests\tusa\n",
      "poland\trelngo\tuk\n",
      "ussr\trelintergovorgs\tpoland\n",
      "uk\teemigrants\tusa\n",
      "poland\treldiplomacy\tegypt\n",
      "poland\trelexports\tuk\n",
      "brazil\treldiplomacy\tindonesia\n",
      "india\tdependent\tuk\n",
      "uk\tblockpositionindex\tchina\n",
      "cuba\tindependence\tussr\n",
      "israel\texports3\tnetherlands\n",
      "ussr\tembassy\tcuba\n",
      "china\tindependence\tusa\n",
      "india\taccusation\tuk\n",
      "china\treldiplomacy\tuk\n",
      "cuba\tngoorgs3\tindia\n",
      "uk\temigrants3\tusa\n",
      "ussr\tintergovorgs3\tuk\n",
      "usa\tnegativebehavior\tcuba\n",
      "indonesia\tngoorgs3\tusa\n",
      "india\tnegativebehavior\tusa\n",
      "indonesia\tofficialvisits\tussr\n",
      "india\tembassy\tjordan\n",
      "uk\tembassy\tbrazil\n",
      "poland\tweightedunvote\tisrael\n",
      "burma\tweightedunvote\tnetherlands\n",
      "indonesia\tconferences\tburma\n",
      "cuba\tweightedunvote\tusa\n",
      "israel\treltreaties\tusa\n",
      "indonesia\tduration\tuk\n",
      "poland\tbooktranslations\tussr\n",
      "cuba\taccusation\tusa\n",
      "netherlands\tunweightedunvote\tuk\n",
      "burma\tcommonbloc1\tchina\n",
      "poland\tngoorgs3\tusa\n",
      "israel\tunweightedunvote\tindia\n",
      "brazil\tembassy\tindia\n",
      "israel\trelbooktranslations\tusa\n",
      "burma\trelexports\tchina\n",
      "china\ttreaties\tegypt\n",
      "egypt\tmilitaryalliance\tjordan\n",
      "brazil\tconferences\tindia\n",
      "uk\ttourism\tnetherlands\n",
      "burma\tcommonbloc2\tindia\n",
      "israel\ttreaties\tusa\n",
      "jordan\texports3\tindia\n",
      "egypt\ttimesincewar\tisrael\n",
      "burma\trelintergovorgs\tindia\n",
      "china\tofficialvisits\tcuba\n",
      "burma\texports3\tchina\n",
      "netherlands\tintergovorgs3\tindia\n",
      "india\trelngo\tbrazil\n",
      "uk\tcommonbloc1\tegypt\n",
      "india\tintergovorgs\tuk\n",
      "israel\tpprotests\tjordan\n",
      "brazil\tblockpositionindex\tcuba\n",
      "netherlands\tcommonbloc1\tegypt\n",
      "china\tviolentactions\tindia\n",
      "egypt\tblockpositionindex\tussr\n",
      "egypt\texports3\tchina\n",
      "cuba\treltreaties\tindonesia\n",
      "brazil\tngoorgs3\tuk\n",
      "indonesia\treldiplomacy\tjordan\n",
      "poland\treldiplomacy\tburma\n",
      "india\tcommonbloc1\tbrazil\n",
      "ussr\tofficialvisits\tuk\n",
      "indonesia\trelbooktranslations\tnetherlands\n",
      "burma\tbooktranslations\tuk\n",
      "indonesia\tconferences\tuk\n",
      "cuba\trelemigrants\tusa\n",
      "cuba\trelngo\tuk\n",
      "usa\treltourism\tnetherlands\n",
      "brazil\ttimesinceally\tnetherlands\n",
      "indonesia\tngoorgs3\tegypt\n",
      "ussr\tintergovorgs\tnetherlands\n",
      "india\tngo\tpoland\n",
      "brazil\trelstudents\tusa\n",
      "burma\trelngo\tusa\n",
      "india\tviolentactions\tchina\n",
      "burma\ttimesincewar\tusa\n",
      "cuba\treldiplomacy\tisrael\n",
      "israel\tembassy\tuk\n",
      "burma\tintergovorgs3\tegypt\n",
      "ussr\taccusation\tchina\n",
      "israel\tduration\tjordan\n",
      "china\ttourism\tussr\n",
      "burma\trelintergovorgs\tjordan\n",
      "jordan\trelstudents\tusa\n",
      "egypt\ttimesinceally\tpoland\n",
      "uk\trelexportbooks\tburma\n",
      "uk\ttreaties\tusa\n",
      "cuba\ttimesinceally\tusa\n",
      "ussr\tngoorgs3\tindia\n",
      "netherlands\tofficialvisits\tusa\n",
      "burma\trelintergovorgs\tpoland\n",
      "uk\trelexports\tnetherlands\n",
      "netherlands\tcommonbloc1\tjordan\n",
      "israel\tweightedunvote\tpoland\n",
      "india\tintergovorgs3\tusa\n",
      "ussr\tblockpositionindex\tegypt\n",
      "indonesia\tnegativebehavior\tcuba\n",
      "india\ttimesinceally\tchina\n",
      "poland\tbooktranslations\tusa\n",
      "usa\trelngo\tnetherlands\n",
      "india\tembassy\tbrazil\n",
      "netherlands\tbooktranslations\tussr\n",
      "poland\tnegativebehavior\tusa\n",
      "india\tngoorgs3\tuk\n",
      "cuba\trelngo\tindia\n",
      "jordan\tweightedunvote\tusa\n",
      "egypt\tintergovorgs\tindonesia\n",
      "usa\tblockpositionindex\tcuba\n",
      "netherlands\trelbooktranslations\tusa\n",
      "indonesia\tintergovorgs\tusa\n",
      "israel\ttourism\tuk\n",
      "uk\tweightedunvote\tpoland\n",
      "egypt\tngoorgs3\tindia\n",
      "uk\tstudents\tusa\n",
      "uk\ttourism\tusa\n",
      "poland\trelintergovorgs\tisrael\n",
      "egypt\tngoorgs3\tisrael\n",
      "ussr\treldiplomacy\tindia\n",
      "uk\treltreaties\tusa\n",
      "brazil\treldiplomacy\tussr\n",
      "uk\tbooktranslations\tussr\n",
      "indonesia\treldiplomacy\tcuba\n",
      "china\trelngo\tnetherlands\n",
      "china\tindependence\tnetherlands\n",
      "usa\treleconomicaid\tjordan\n",
      "usa\teconomicaid\tbrazil\n",
      "uk\ttreaties\tindia\n",
      "usa\tintergovorgs3\tindia\n",
      "jordan\tcommonbloc1\tnetherlands\n",
      "uk\trelintergovorgs\tnetherlands\n",
      "usa\tcommonbloc1\tindonesia\n",
      "uk\ttimesincewar\tegypt\n",
      "egypt\texports3\tussr\n",
      "brazil\tngoorgs3\tindia\n",
      "netherlands\tembassy\tisrael\n",
      "brazil\trelintergovorgs\tisrael\n",
      "uk\tintergovorgs\tcuba\n",
      "brazil\treldiplomacy\tusa\n",
      "egypt\trelngo\tbrazil\n",
      "usa\tnegativebehavior\tchina\n",
      "israel\trelintergovorgs\tindia\n",
      "brazil\tcommonbloc0\tcuba\n",
      "brazil\tngo\tindia\n",
      "indonesia\trelngo\tpoland\n",
      "cuba\tintergovorgs\tnetherlands\n",
      "poland\tunweightedunvote\tindia\n",
      "burma\tcommonbloc1\tuk\n",
      "poland\tcommonbloc1\tegypt\n",
      "india\trelintergovorgs\tisrael\n",
      "usa\tmilitaryalliance\tbrazil\n",
      "jordan\treldiplomacy\tegypt\n",
      "china\tpprotests\tindonesia\n",
      "usa\tngoorgs3\tpoland\n",
      "netherlands\tintergovorgs3\tusa\n",
      "china\tngoorgs3\tpoland\n",
      "netherlands\tblockpositionindex\tchina\n",
      "india\teemigrants\tusa\n",
      "cuba\tofficialvisits\tussr\n",
      "india\tcommonbloc2\tisrael\n",
      "burma\trelngo\tcuba\n",
      "israel\ttimesinceally\tusa\n",
      "uk\tngo\tussr\n",
      "poland\tbooktranslations\tuk\n",
      "israel\tngoorgs3\tuk\n",
      "uk\tintergovorgs\tindonesia\n",
      "indonesia\tdependent\tnetherlands\n",
      "cuba\tnegativebehavior\tusa\n",
      "india\tngo\tbrazil\n",
      "uk\trelexportbooks\tbrazil\n",
      "india\tconferences\tusa\n",
      "netherlands\tembassy\tuk\n",
      "india\tembassy\tnetherlands\n",
      "usa\tembassy\tindia\n",
      "brazil\tngo\tuk\n",
      "egypt\tindependence\tuk\n",
      "china\trelngo\tisrael\n",
      "poland\tstudents\tusa\n",
      "uk\texportbooks\tegypt\n",
      "usa\ttourism\tisrael\n",
      "poland\treltreaties\tchina\n",
      "uk\tembassy\tindia\n",
      "cuba\ttimesinceally\tuk\n",
      "china\ttimesinceally\tussr\n",
      "uk\tembassy\tegypt\n",
      "usa\tintergovorgs\tpoland\n",
      "usa\tngo\tuk\n",
      "cuba\tconferences\tussr\n",
      "cuba\ttreaties\tuk\n",
      "uk\ttourism\tjordan\n",
      "cuba\tindependence\tegypt\n",
      "netherlands\tcommonbloc2\tbrazil\n",
      "usa\ttreaties\tnetherlands\n",
      "egypt\tembassy\tusa\n",
      "usa\trelexports\tuk\n",
      "usa\treltourism\tjordan\n",
      "cuba\trelintergovorgs\tnetherlands\n",
      "israel\tmilitaryactions\tjordan\n",
      "usa\tngoorgs3\tisrael\n",
      "usa\ttourism\tindia\n",
      "ussr\tngoorgs3\tpoland\n",
      "uk\ttimesinceally\tchina\n",
      "egypt\tembassy\tpoland\n",
      "cuba\tembassy\tnetherlands\n",
      "poland\tconferences\tussr\n",
      "poland\tintergovorgs3\tnetherlands\n",
      "china\trelngo\tussr\n",
      "usa\tcommonbloc0\tchina\n",
      "poland\tblockpositionindex\tbrazil\n",
      "uk\tweightedunvote\tisrael\n",
      "netherlands\trelemigrants\tusa\n",
      "china\tcommonbloc1\tindia\n",
      "china\tindependence\tbrazil\n",
      "israel\trelngo\tbrazil\n",
      "netherlands\tngo\tisrael\n",
      "ussr\ttimesinceally\tusa\n",
      "ussr\ttreaties\tnetherlands\n",
      "uk\ttourism\tegypt\n",
      "netherlands\tblockpositionindex\tpoland\n",
      "ussr\ttreaties\tusa\n",
      "ussr\taccusation\tusa\n",
      "usa\tcommonbloc1\tjordan\n",
      "indonesia\tembassy\tpoland\n",
      "india\ttimesinceally\tpoland\n",
      "usa\tcommonbloc2\tnetherlands\n",
      "usa\tnegativecomm\tcuba\n",
      "poland\treldiplomacy\tisrael\n",
      "ussr\ttimesinceally\tindia\n",
      "uk\tnonviolentbehavior\tusa\n",
      "india\tpprotests\tisrael\n",
      "burma\tcommonbloc2\tjordan\n",
      "netherlands\ttimesincewar\tindonesia\n",
      "indonesia\tofficialvisits\tpoland\n",
      "uk\tcommonbloc2\tbrazil\n",
      "poland\tintergovorgs3\tusa\n",
      "india\trelngo\tisrael\n",
      "netherlands\tunweightedunvote\tussr\n",
      "burma\tcommonbloc1\tusa\n",
      "burma\trelngo\tuk\n",
      "jordan\trelexports\tindia\n",
      "china\tintergovorgs3\tpoland\n",
      "jordan\treldiplomacy\tussr\n",
      "brazil\tnegativebehavior\tchina\n",
      "india\tbooktranslations\tuk\n",
      "indonesia\tbooktranslations\tuk\n",
      "egypt\treldiplomacy\tuk\n",
      "india\tintergovorgs3\tnetherlands\n",
      "jordan\tblockpositionindex\tusa\n",
      "netherlands\tindependence\tussr\n",
      "poland\treltreaties\tnetherlands\n",
      "brazil\trelngo\tuk\n",
      "jordan\trelintergovorgs\tburma\n",
      "poland\tblockpositionindex\tnetherlands\n",
      "ussr\tconferences\tindonesia\n",
      "netherlands\tconferences\tuk\n",
      "poland\tembassy\tuk\n",
      "ussr\tconferences\tuk\n",
      "china\tindependence\tuk\n",
      "india\ttreaties\tuk\n",
      "ussr\ttourism3\tpoland\n",
      "israel\tintergovorgs\tusa\n",
      "netherlands\ttourism3\tusa\n",
      "indonesia\treldiplomacy\tbrazil\n",
      "israel\trelngo\tpoland\n",
      "poland\trelintergovorgs\tussr\n",
      "brazil\tintergovorgs3\tcuba\n",
      "cuba\trelngo\tpoland\n",
      "usa\ttreaties\tussr\n",
      "uk\trelemigrants\tusa\n",
      "brazil\tembassy\tussr\n",
      "brazil\tcommonbloc2\tnetherlands\n",
      "brazil\trelngo\tnetherlands\n",
      "brazil\ttimesinceally\tegypt\n",
      "netherlands\tngo\tussr\n",
      "poland\texports3\tussr\n",
      "burma\tngoorgs3\tbrazil\n",
      "uk\tnegativecomm\tussr\n",
      "netherlands\treltourism\tisrael\n",
      "uk\treltourism\tussr\n",
      "ussr\tintergovorgs3\tindia\n",
      "burma\tweightedunvote\tuk\n",
      "egypt\tstudents\tusa\n",
      "indonesia\trelexports\tchina\n",
      "india\tweightedunvote\tuk\n",
      "jordan\tviolentactions\tisrael\n",
      "ussr\tbooktranslations\tpoland\n",
      "egypt\tembassy\tnetherlands\n",
      "ussr\treldiplomacy\tindonesia\n",
      "usa\trelngo\tindia\n",
      "uk\tconferences\tpoland\n",
      "brazil\tcommonbloc2\tusa\n",
      "usa\tbooktranslations\tnetherlands\n",
      "indonesia\trelintergovorgs\tisrael\n",
      "netherlands\trelstudents\tusa\n",
      "cuba\tconferences\tindia\n",
      "israel\tunweightedunvote\tuk\n",
      "cuba\treldiplomacy\tussr\n",
      "indonesia\trelexports\tusa\n",
      "brazil\tindependence\tchina\n",
      "usa\tblockpositionindex\tjordan\n",
      "brazil\tindependence\tegypt\n",
      "egypt\ttreaties\tuk\n",
      "indonesia\tboycottembargo\tusa\n",
      "usa\trelexportbooks\tuk\n",
      "ussr\treleconomicaid\tindia\n",
      "indonesia\trelintergovorgs\tegypt\n",
      "israel\trelintergovorgs\tegypt\n",
      "china\tofficialvisits\tegypt\n",
      "indonesia\trelexports\tussr\n",
      "ussr\tblockpositionindex\tjordan\n",
      "cuba\treltreaties\tindia\n",
      "china\ttreaties\tindonesia\n",
      "brazil\tembassy\tusa\n",
      "netherlands\tweightedunvote\tburma\n",
      "indonesia\tcommonbloc2\tindia\n",
      "israel\tbooktranslations\tuk\n",
      "jordan\tpprotests\tisrael\n",
      "china\trelngo\tpoland\n",
      "ussr\tmilitaryalliance\tcuba\n",
      "ussr\ttimesinceally\tpoland\n",
      "brazil\treltreaties\tuk\n",
      "brazil\tbooktranslations\tusa\n",
      "india\tngoorgs3\tusa\n",
      "usa\tconferences\tnetherlands\n",
      "ussr\tindependence\tbrazil\n",
      "egypt\tweightedunvote\tisrael\n",
      "china\ttreaties\tpoland\n",
      "usa\tblockpositionindex\tisrael\n",
      "burma\tembassy\tpoland\n",
      "brazil\tindependence\tuk\n",
      "poland\tintergovorgs\tbrazil\n",
      "poland\treldiplomacy\tchina\n",
      "netherlands\tintergovorgs3\tisrael\n",
      "indonesia\tcommonbloc1\tbrazil\n",
      "netherlands\tindependence\tegypt\n",
      "china\tblockpositionindex\tbrazil\n",
      "ussr\teconomicaid\tcuba\n",
      "jordan\tstudents\tegypt\n",
      "usa\teconomicaid\tindia\n",
      "usa\tbooktranslations\tussr\n",
      "indonesia\trelexports\tnetherlands\n",
      "egypt\tngoorgs3\tpoland\n",
      "china\tnonviolentbehavior\tusa\n",
      "poland\tunweightedunvote\tnetherlands\n",
      "indonesia\tunoffialacts\tchina\n",
      "netherlands\tintergovorgs3\tuk\n",
      "burma\tconferences\tindonesia\n",
      "brazil\texports3\tnetherlands\n",
      "usa\tnegativebehavior\tussr\n",
      "poland\tcommonbloc0\tuk\n",
      "israel\tblockpositionindex\tussr\n",
      "brazil\tintergovorgs3\tuk\n",
      "burma\tintergovorgs3\tindia\n",
      "poland\ttimesinceally\tindia\n",
      "burma\trelngo\tbrazil\n",
      "usa\tcommonbloc1\tegypt\n",
      "india\tngoorgs3\tpoland\n",
      "usa\ttourism3\tuk\n",
      "brazil\treltreaties\tussr\n",
      "indonesia\tembassy\tindia\n",
      "netherlands\trelngo\tuk\n",
      "cuba\tcommonbloc1\tindonesia\n",
      "uk\ttreaties\tpoland\n",
      "ussr\tcommonbloc0\tnetherlands\n",
      "egypt\ttreaties\tusa\n",
      "israel\tcommonbloc2\tindonesia\n",
      "brazil\tngo\tegypt\n",
      "usa\ttimesinceally\tindia\n",
      "usa\tblockpositionindex\tchina\n",
      "egypt\tcommonbloc1\tchina\n",
      "uk\tintergovorgs\tindia\n",
      "brazil\teemigrants\tusa\n",
      "brazil\tembassy\tnetherlands\n",
      "netherlands\trelexportbooks\tusa\n",
      "china\twarning\tindia\n",
      "usa\tnegativebehavior\tindonesia\n",
      "ussr\trelngo\tindia\n",
      "usa\tviolentactions\tchina\n",
      "poland\treldiplomacy\tuk\n",
      "netherlands\texportbooks\tusa\n",
      "usa\tconferences\tuk\n",
      "poland\tunweightedunvote\tuk\n",
      "uk\trelexportbooks\tnetherlands\n",
      "egypt\ttimesinceally\tusa\n",
      "china\tnegativecomm\tuk\n",
      "usa\tstudents\tuk\n",
      "china\trelngo\tbrazil\n",
      "netherlands\texports3\tusa\n",
      "netherlands\tngo\tegypt\n",
      "israel\tlostterritory\tjordan\n",
      "cuba\trelintergovorgs\tindia\n",
      "egypt\texports3\tindia\n",
      "ussr\trelintergovorgs\tuk\n",
      "uk\trelexportbooks\tusa\n",
      "poland\tconferences\tuk\n",
      "china\tcommonbloc2\tcuba\n",
      "china\tembassy\tpoland\n",
      "usa\ttimesinceally\tussr\n",
      "usa\tofficialvisits\tussr\n",
      "india\tcommonbloc2\tindonesia\n",
      "cuba\treltreaties\tegypt\n",
      "netherlands\temigrants3\tusa\n",
      "china\taccusation\tusa\n",
      "israel\tngo\tpoland\n",
      "cuba\ttimesinceally\tnetherlands\n",
      "brazil\tmilitaryalliance\tusa\n",
      "india\tunweightedunvote\tussr\n",
      "uk\tmilitaryactions\tindonesia\n",
      "ussr\trelintergovorgs\tisrael\n",
      "india\tconferences\tuk\n",
      "usa\tmilitaryalliance\tisrael\n",
      "ussr\tcommonbloc2\tcuba\n",
      "brazil\tcommonbloc0\tchina\n",
      "poland\tconferences\tusa\n",
      "jordan\tmilitaryactions\tisrael\n",
      "egypt\tembassy\tindia\n",
      "cuba\tngo\tbrazil\n",
      "india\tintergovorgs3\tindonesia\n",
      "china\trelexports\tuk\n",
      "china\treldiplomacy\tpoland\n",
      "ussr\tunweightedunvote\tindia\n",
      "india\tblockpositionindex\tusa\n",
      "cuba\tintergovorgs3\tusa\n",
      "indonesia\tnegativebehavior\tusa\n",
      "netherlands\tindependence\tchina\n",
      "india\tpprotests\tusa\n",
      "netherlands\tweightedunvote\tisrael\n",
      "netherlands\tembassy\tegypt\n",
      "india\ttimesinceally\tusa\n",
      "cuba\tcommonbloc2\tchina\n",
      "usa\treleconomicaid\tegypt\n",
      "netherlands\ttimesinceally\tchina\n",
      "brazil\tunweightedunvote\tisrael\n",
      "india\trelngo\tnetherlands\n",
      "brazil\tintergovorgs\tindonesia\n",
      "poland\tintergovorgs3\tuk\n",
      "china\treleconomicaid\tindonesia\n",
      "india\tngo\tisrael\n",
      "china\ttimesinceally\tuk\n",
      "india\tngoorgs3\tnetherlands\n",
      "israel\tofficialvisits\tuk\n",
      "israel\tunweightedunvote\tegypt\n",
      "uk\tintergovorgs\tbrazil\n",
      "usa\tnegativecomm\tindonesia\n",
      "indonesia\trelintergovorgs\tusa\n",
      "ussr\tweightedunvote\tusa\n",
      "china\tcommonbloc2\tpoland\n",
      "netherlands\ttourism3\tisrael\n",
      "jordan\tnegativebehavior\tisrael\n",
      "uk\tweightedunvote\tindia\n",
      "ussr\tbooktranslations\tuk\n",
      "usa\ttourism3\tnetherlands\n",
      "uk\ttourism\tindia\n",
      "ussr\tconferences\tpoland\n",
      "ussr\tnegativebehavior\tuk\n",
      "egypt\treltreaties\tindonesia\n",
      "burma\tofficialvisits\tindia\n",
      "china\teconomicaid\tindonesia\n",
      "ussr\trelngo\tisrael\n",
      "usa\tintergovorgs\tisrael\n",
      "usa\tmilitaryalliance\tindia\n",
      "uk\treltourism\tisrael\n",
      "uk\texportbooks\tburma\n",
      "egypt\tweightedunvote\tuk\n",
      "uk\tmilitaryalliance\tusa\n",
      "uk\tembassy\tindonesia\n",
      "israel\tunweightedunvote\tussr\n",
      "israel\tintergovorgs\tpoland\n",
      "india\trelbooktranslations\tusa\n",
      "india\tintergovorgs\tpoland\n",
      "usa\tmilitaryactions\tchina\n",
      "usa\trelexportbooks\tbrazil\n",
      "egypt\tindependence\tcuba\n",
      "china\trelintergovorgs\tpoland\n",
      "ussr\tunoffialacts\tusa\n",
      "burma\trelexports\tindia\n",
      "cuba\tintergovorgs\tusa\n",
      "burma\ttimesincewar\tuk\n",
      "egypt\trelintergovorgs\tusa\n",
      "indonesia\tngoorgs3\tbrazil\n",
      "poland\tnegativecomm\tusa\n",
      "egypt\treldiplomacy\tpoland\n",
      "poland\tintergovorgs\tussr\n",
      "cuba\tweightedunvote\tuk\n",
      "indonesia\tngoorgs3\tuk\n",
      "jordan\tcommonbloc1\tcuba\n",
      "poland\ttimesinceally\tcuba\n",
      "jordan\trelintergovorgs\tisrael\n",
      "india\tcommonbloc1\tussr\n",
      "egypt\treltreaties\tcuba\n",
      "israel\temigrants3\tusa\n",
      "uk\tblockpositionindex\tpoland\n",
      "egypt\ttimesinceally\tindia\n",
      "china\treldiplomacy\tussr\n",
      "usa\tintergovorgs\tcuba\n",
      "cuba\treldiplomacy\tindonesia\n",
      "brazil\tcommonbloc1\tburma\n",
      "egypt\treltreaties\tindia\n",
      "brazil\trelexports\tusa\n",
      "cuba\tcommonbloc0\tusa\n",
      "india\tngo\tegypt\n",
      "ussr\tconferences\tcuba\n",
      "burma\tngoorgs3\tnetherlands\n",
      "poland\tembassy\tusa\n",
      "india\tofficialvisits\tburma\n",
      "brazil\tngo\tpoland\n",
      "burma\trelexports\tindonesia\n",
      "brazil\tintergovorgs\tisrael\n",
      "poland\tcommonbloc1\tindia\n",
      "india\trelstudents\tuk\n",
      "israel\trelintergovorgs\tpoland\n",
      "netherlands\ttreaties\tpoland\n",
      "poland\tmilitaryalliance\tussr\n",
      "netherlands\treltourism\tuk\n",
      "egypt\tngo\tisrael\n",
      "poland\ttimesinceally\tchina\n",
      "ussr\tblockpositionindex\tbrazil\n",
      "ussr\treltourism\tpoland\n",
      "china\tembassy\tindia\n",
      "usa\tintergovorgs\tindonesia\n",
      "netherlands\tngo\tcuba\n",
      "china\tcommonbloc0\tusa\n",
      "jordan\trelintergovorgs\tusa\n",
      "usa\ttreaties\tisrael\n",
      "indonesia\tintergovorgs\tnetherlands\n",
      "brazil\ttourism\tusa\n",
      "netherlands\tngoorgs3\tisrael\n",
      "uk\treltourism\tjordan\n",
      "usa\texportbooks\tchina\n",
      "poland\trelngo\tussr\n",
      "china\tindependence\tjordan\n",
      "china\tboycottembargo\tussr\n",
      "egypt\trelexports\tussr\n",
      "egypt\tindependence\tussr\n",
      "china\tngoorgs3\tbrazil\n",
      "jordan\treldiplomacy\tuk\n",
      "ussr\tnonviolentbehavior\tusa\n",
      "indonesia\tintergovorgs3\tindia\n",
      "ussr\tintergovorgs\tuk\n",
      "egypt\treldiplomacy\tcuba\n",
      "usa\tboycottembargo\tussr\n",
      "usa\tngo\tussr\n",
      "israel\taccusation\tjordan\n",
      "china\trelngo\tegypt\n",
      "israel\tcommonbloc2\tburma\n",
      "uk\trelbooktranslations\tussr\n",
      "egypt\treltreaties\tusa\n",
      "jordan\tcommonbloc1\tchina\n",
      "uk\trelexportbooks\tchina\n",
      "china\teemigrants\tusa\n",
      "uk\tngoorgs3\tpoland\n",
      "egypt\tnegativebehavior\tuk\n",
      "poland\ttreaties\tnetherlands\n",
      "cuba\temigrants3\tusa\n",
      "usa\ttourism\tbrazil\n",
      "usa\tcommonbloc2\tbrazil\n",
      "egypt\treltreaties\tisrael\n",
      "netherlands\tintergovorgs\tussr\n",
      "israel\tngo\tindia\n",
      "israel\ttimesinceally\tuk\n",
      "indonesia\trelbooktranslations\tuk\n",
      "china\taccusation\tussr\n",
      "burma\tcommonbloc1\tcuba\n",
      "israel\trelexports\tusa\n",
      "india\tnonviolentbehavior\tusa\n",
      "china\tindependence\tpoland\n",
      "indonesia\tnonviolentbehavior\tindia\n",
      "poland\tintergovorgs\tusa\n",
      "israel\tngo\tegypt\n",
      "uk\trelngo\tnetherlands\n",
      "ussr\tcommonbloc1\tindia\n",
      "egypt\treldiplomacy\tchina\n",
      "israel\trelintergovorgs\tnetherlands\n",
      "india\ttimesinceally\tuk\n",
      "jordan\tdependent\tuk\n",
      "uk\tindependence\tchina\n",
      "uk\tembassy\tburma\n",
      "cuba\trelexports\tchina\n",
      "india\tweightedunvote\tusa\n",
      "israel\tstudents\tusa\n",
      "usa\tembassy\tpoland\n",
      "jordan\tembassy\tegypt\n",
      "india\tunweightedunvote\tisrael\n",
      "poland\tlostterritory\tussr\n",
      "india\tngoorgs3\tisrael\n",
      "burma\treldiplomacy\tindia\n",
      "egypt\trelbooktranslations\tusa\n",
      "cuba\tunweightedunvote\tisrael\n",
      "usa\tofficialvisits\tegypt\n",
      "netherlands\tngo\tpoland\n",
      "israel\tngoorgs3\tindia\n",
      "india\treltreaties\tuk\n",
      "burma\texports3\tuk\n",
      "netherlands\ttimesinceally\tcuba\n",
      "cuba\trelngo\tnetherlands\n",
      "israel\tbooktranslations\tusa\n",
      "egypt\trelintergovorgs\tuk\n",
      "israel\tintergovorgs3\tindia\n",
      "israel\tcommonbloc1\tchina\n",
      "indonesia\tembassy\tbrazil\n",
      "uk\tcommonbloc1\tisrael\n",
      "uk\tngo\tusa\n",
      "india\tstudents\tuk\n",
      "indonesia\tembassy\tussr\n",
      "burma\trelngo\tnetherlands\n",
      "brazil\tcommonbloc1\tegypt\n",
      "usa\tnegativebehavior\tpoland\n",
      "uk\tweightedunvote\tegypt\n",
      "indonesia\tblockpositionindex\tussr\n",
      "usa\texportbooks\tnetherlands\n",
      "uk\texports3\tnetherlands\n",
      "usa\tweightedunvote\tpoland\n",
      "india\tcommonbloc1\tusa\n",
      "usa\tngo\tisrael\n",
      "brazil\tblockpositionindex\tussr\n",
      "india\tblockpositionindex\tussr\n",
      "india\tmilitaryalliance\tusa\n",
      "netherlands\ttreaties\tussr\n",
      "ussr\tblockpositionindex\tindonesia\n",
      "netherlands\tweightedunvote\tussr\n",
      "indonesia\treldiplomacy\tchina\n",
      "china\tembassy\tussr\n",
      "brazil\tunweightedunvote\tuk\n",
      "china\tnegativebehavior\tindonesia\n",
      "uk\tofficialvisits\tusa\n",
      "cuba\tunweightedunvote\tuk\n",
      "usa\trelexports\tindia\n",
      "china\trelbooktranslations\tuk\n",
      "jordan\trelngo\tburma\n",
      "poland\tconferences\tindia\n",
      "brazil\tcommonbloc2\tuk\n",
      "poland\trelbooktranslations\tusa\n",
      "burma\tngoorgs3\tusa\n",
      "burma\tbooktranslations\tusa\n",
      "cuba\tconferences\tbrazil\n",
      "ussr\tindependence\tusa\n",
      "ussr\tunweightedunvote\tisrael\n",
      "usa\tnegativecomm\tussr\n",
      "uk\ttreaties\tjordan\n",
      "brazil\treltreaties\tnetherlands\n",
      "uk\texportbooks\tindia\n",
      "egypt\ttimesinceally\tcuba\n",
      "indonesia\trelintergovorgs\tbrazil\n",
      "jordan\tcommonbloc1\tuk\n",
      "uk\tindependence\tjordan\n",
      "poland\trelintergovorgs\tindia\n",
      "cuba\treldiplomacy\tnetherlands\n",
      "poland\tcommonbloc0\tnetherlands\n",
      "israel\tunweightedunvote\tbrazil\n",
      "poland\tintergovorgs3\tegypt\n",
      "poland\trelngo\tusa\n",
      "usa\tindependence\tjordan\n",
      "netherlands\tbooktranslations\tuk\n",
      "brazil\trelngo\tindia\n",
      "israel\trelemigrants\tusa\n",
      "egypt\trelngo\tisrael\n",
      "cuba\tembassy\tisrael\n",
      "ussr\tnegativecomm\tusa\n",
      "egypt\tcommonbloc1\tnetherlands\n",
      "indonesia\trelngo\tbrazil\n",
      "poland\tngo\tnetherlands\n",
      "netherlands\ttimesinceally\tegypt\n",
      "netherlands\trelexports\tusa\n",
      "usa\treleconomicaid\tisrael\n",
      "burma\tcommonbloc1\tpoland\n",
      "brazil\tnonviolentbehavior\tusa\n",
      "brazil\trelbooktranslations\tusa\n",
      "cuba\ttreaties\tusa\n",
      "usa\ttreaties\tcuba\n",
      "netherlands\tconferences\tusa\n",
      "ussr\tintergovorgs\tusa\n",
      "cuba\tcommonbloc1\tisrael\n",
      "cuba\trelintergovorgs\tusa\n",
      "usa\tcommonbloc2\tuk\n",
      "egypt\tindependence\tjordan\n",
      "indonesia\tnonviolentbehavior\tchina\n",
      "usa\taccusation\tussr\n",
      "netherlands\texportbooks\tuk\n",
      "egypt\tintergovorgs3\tindia\n",
      "uk\ttreaties\tussr\n",
      "usa\tblockpositionindex\tindonesia\n",
      "israel\ttourism3\tusa\n",
      "poland\tindependence\tcuba\n",
      "indonesia\treldiplomacy\tindia\n",
      "egypt\tstudents\tuk\n",
      "poland\tpprotests\tusa\n",
      "indonesia\trelintergovorgs\tburma\n",
      "brazil\tindependence\tcuba\n",
      "jordan\tngoorgs3\tisrael\n",
      "cuba\texports3\tuk\n",
      "jordan\tcommonbloc1\tbrazil\n",
      "jordan\tweightedunvote\tnetherlands\n",
      "poland\tcommonbloc2\tcuba\n",
      "indonesia\tembassy\tnetherlands\n",
      "china\tblockpositionindex\tusa\n",
      "egypt\tintergovorgs\tuk\n",
      "indonesia\tcommonbloc2\tisrael\n",
      "uk\tembassy\tchina\n",
      "china\treldiplomacy\tnetherlands\n",
      "ussr\tcommonbloc1\tindonesia\n",
      "cuba\trelintergovorgs\tpoland\n",
      "usa\tintergovorgs\tbrazil\n",
      "china\tcommonbloc0\tnetherlands\n",
      "china\tintergovorgs3\tegypt\n",
      "usa\tintergovorgs3\tuk\n",
      "usa\trelintergovorgs\tbrazil\n",
      "usa\tmilitaryalliance\tindonesia\n",
      "indonesia\tintergovorgs\tindia\n",
      "poland\tindependence\tnetherlands\n",
      "jordan\trelngo\tuk\n",
      "brazil\tngo\tusa\n",
      "uk\ttimesincewar\tchina\n",
      "poland\tintergovorgs3\tbrazil\n",
      "burma\tembassy\tuk\n",
      "netherlands\tunweightedunvote\tisrael\n",
      "israel\tngo\tbrazil\n",
      "cuba\tboycottembargo\tuk\n",
      "usa\trelngo\tbrazil\n",
      "netherlands\tngo\tbrazil\n",
      "cuba\tembassy\tussr\n",
      "usa\ttreaties\tindia\n",
      "ussr\tindependence\tuk\n",
      "china\tintergovorgs3\tnetherlands\n",
      "china\tngoorgs3\tisrael\n",
      "netherlands\tintergovorgs\tisrael\n",
      "cuba\tindependence\tbrazil\n",
      "israel\tcommonbloc1\tuk\n",
      "china\tembassy\tnetherlands\n",
      "india\trelngo\tusa\n",
      "egypt\texpeldiplomats\tuk\n",
      "netherlands\tblockpositionindex\tussr\n",
      "uk\tunweightedunvote\tburma\n",
      "jordan\trelintergovorgs\tussr\n",
      "poland\ttimesinceally\tusa\n",
      "egypt\treldiplomacy\tussr\n",
      "ussr\tindependence\tcuba\n",
      "ussr\tnonviolentbehavior\tuk\n",
      "china\ttreaties\tcuba\n",
      "egypt\treltreaties\tjordan\n",
      "egypt\trelexports\tchina\n",
      "usa\tconferences\tussr\n",
      "india\tintergovorgs\tnetherlands\n",
      "india\tngo\tnetherlands\n",
      "netherlands\tembassy\tindonesia\n",
      "usa\tpprotests\tindonesia\n",
      "indonesia\tintergovorgs3\tusa\n",
      "uk\tunweightedunvote\tpoland\n",
      "uk\ttimesinceally\tnetherlands\n",
      "egypt\trelintergovorgs\tnetherlands\n",
      "usa\tcommonbloc1\tisrael\n",
      "usa\tweightedunvote\tegypt\n",
      "poland\trelngo\tindia\n",
      "ussr\teconomicaid\tindia\n",
      "india\tofficialvisits\tussr\n",
      "ussr\tnegativebehavior\tchina\n",
      "jordan\trelintergovorgs\tbrazil\n",
      "uk\tweightedunvote\tbrazil\n",
      "israel\trelstudents\tusa\n",
      "usa\tintergovorgs3\tegypt\n",
      "burma\tcommonbloc2\tindonesia\n",
      "burma\tunweightedunvote\tuk\n",
      "brazil\tblockpositionindex\tpoland\n",
      "egypt\tseverdiplomatic\tuk\n",
      "egypt\trelngo\tpoland\n",
      "usa\teconomicaid\tegypt\n",
      "usa\tnonviolentbehavior\tcuba\n",
      "poland\tcommonbloc1\tindonesia\n",
      "uk\ttimesincewar\tburma\n",
      "indonesia\trelintergovorgs\tuk\n",
      "india\tnonviolentbehavior\tindonesia\n",
      "ussr\treldiplomacy\tcuba\n",
      "brazil\trelintergovorgs\tuk\n",
      "china\tblockpositionindex\tuk\n",
      "indonesia\tembassy\tjordan\n",
      "indonesia\tintergovorgs\tegypt\n",
      "israel\tngoorgs3\tnetherlands\n",
      "jordan\trelngo\tpoland\n",
      "uk\ttreaties\tisrael\n",
      "uk\tnegativebehavior\tindonesia\n",
      "egypt\treldiplomacy\tindonesia\n",
      "india\tintergovorgs\tusa\n",
      "indonesia\tngoorgs3\tisrael\n",
      "jordan\tcommonbloc2\tindia\n",
      "ussr\treldiplomacy\tburma\n",
      "uk\treltourism\tegypt\n",
      "brazil\tcommonbloc0\tussr\n",
      "usa\ttourism\tjordan\n",
      "netherlands\tweightedunvote\tbrazil\n",
      "poland\tembassy\tjordan\n",
      "jordan\tngoorgs3\tindia\n",
      "china\tviolentactions\tusa\n",
      "uk\ttourism3\tussr\n",
      "netherlands\tintergovorgs3\tbrazil\n",
      "poland\ttreaties\tuk\n",
      "netherlands\tindependence\tcuba\n",
      "netherlands\ttimesinceally\tindia\n",
      "uk\ttimesinceally\tpoland\n",
      "indonesia\tcommonbloc1\tpoland\n",
      "brazil\treldiplomacy\tpoland\n",
      "poland\tblockpositionindex\tusa\n",
      "ussr\tcommonbloc0\tbrazil\n",
      "brazil\tindependence\tussr\n",
      "indonesia\tnonviolentbehavior\tusa\n",
      "uk\twarning\tindonesia\n",
      "brazil\tweightedunvote\tnetherlands\n",
      "israel\tintergovorgs3\tuk\n",
      "ussr\treltreaties\tusa\n",
      "brazil\tindependence\tnetherlands\n",
      "uk\ttreaties\tegypt\n",
      "netherlands\tindependence\tbrazil\n",
      "cuba\trelngo\tisrael\n",
      "uk\tcommonbloc0\tchina\n",
      "poland\tindependence\tusa\n",
      "burma\tintergovorgs\tindia\n",
      "indonesia\tconferences\tussr\n",
      "uk\treltourism\tbrazil\n",
      "netherlands\tcommonbloc1\tindia\n",
      "burma\tintergovorgs3\tusa\n",
      "poland\treldiplomacy\tnetherlands\n",
      "burma\trelexports\tuk\n",
      "egypt\tintergovorgs\tbrazil\n",
      "usa\tindependence\tuk\n",
      "ussr\tindependence\tegypt\n",
      "egypt\tembassy\tindonesia\n",
      "uk\trelexportbooks\tindia\n",
      "china\trelngo\tusa\n",
      "israel\tembassy\tcuba\n",
      "uk\tintergovorgs\tegypt\n",
      "egypt\tcommonbloc2\tisrael\n",
      "brazil\tcommonbloc1\tisrael\n",
      "ussr\texpeldiplomats\tusa\n",
      "poland\tngoorgs3\tbrazil\n",
      "china\treldiplomacy\tindia\n",
      "uk\tconferences\tussr\n",
      "netherlands\tweightedunvote\tjordan\n",
      "cuba\tcommonbloc1\tjordan\n",
      "india\tunweightedunvote\tuk\n",
      "indonesia\tintergovorgs3\tuk\n",
      "poland\tembassy\tussr\n",
      "netherlands\tweightedunvote\tuk\n",
      "india\tbooktranslations\tusa\n",
      "china\ttimesincewar\tusa\n",
      "usa\tweightedunvote\tburma\n",
      "usa\tofficialvisits\tbrazil\n",
      "uk\tnegativebehavior\tindia\n",
      "egypt\tintergovorgs\tindia\n",
      "brazil\treldiplomacy\tindia\n",
      "jordan\tcommonbloc2\tegypt\n",
      "egypt\tbooktranslations\tuk\n",
      "brazil\tngoorgs3\tpoland\n",
      "jordan\trelintergovorgs\tegypt\n",
      "india\tintergovorgs3\tegypt\n",
      "poland\tintergovorgs\tnetherlands\n",
      "ussr\tcommonbloc1\tegypt\n",
      "ussr\tblockpositionindex\tisrael\n",
      "netherlands\tembassy\tcuba\n",
      "poland\tngo\tuk\n",
      "brazil\treldiplomacy\tnetherlands\n",
      "indonesia\taccusation\tchina\n",
      "usa\treltourism\tuk\n",
      "netherlands\tcommonbloc2\tusa\n",
      "ussr\tembassy\tisrael\n",
      "cuba\ttimesinceally\tegypt\n",
      "uk\tintergovorgs3\tegypt\n",
      "cuba\ttimesinceally\tchina\n",
      "usa\tcommonbloc0\tpoland\n",
      "israel\ttreaties\tuk\n",
      "india\tembassy\tchina\n",
      "egypt\trelngo\tnetherlands\n",
      "israel\texports3\tuk\n",
      "cuba\tngoorgs3\tnetherlands\n",
      "china\tnegativebehavior\tusa\n",
      "brazil\trelexports\tnetherlands\n",
      "indonesia\tintergovorgs3\tnetherlands\n",
      "burma\tembassy\tusa\n",
      "usa\tngo\tnetherlands\n",
      "cuba\ttimesinceally\tpoland\n",
      "burma\trelintergovorgs\tnetherlands\n",
      "burma\trelbooktranslations\tusa\n",
      "egypt\treltreaties\tnetherlands\n",
      "india\ttimesinceally\tegypt\n",
      "usa\ttreaties\tbrazil\n",
      "ussr\tcommonbloc0\tuk\n",
      "poland\trelngo\tisrael\n",
      "cuba\treldiplomacy\tpoland\n",
      "usa\tintergovorgs3\tisrael\n",
      "ussr\trelngo\tusa\n",
      "cuba\tcommonbloc2\tussr\n",
      "egypt\ttimesinceally\tuk\n",
      "ussr\tembassy\tegypt\n",
      "indonesia\trelstudents\tegypt\n",
      "cuba\teemigrants\tusa\n",
      "usa\tintergovorgs\tussr\n",
      "ussr\tweightedunvote\tnetherlands\n",
      "poland\tindependence\tussr\n",
      "netherlands\ttourism\tusa\n",
      "usa\teemigrants\tuk\n",
      "uk\tunweightedunvote\tussr\n",
      "uk\ttourism3\tnetherlands\n",
      "cuba\tintergovorgs3\tbrazil\n",
      "poland\tindependence\tchina\n",
      "ussr\tconferences\tindia\n",
      "israel\tweightedunvote\tcuba\n",
      "netherlands\treltreaties\tuk\n",
      "india\tembassy\tusa\n",
      "jordan\trelngo\tegypt\n",
      "usa\tembassy\tisrael\n",
      "india\tpprotests\tchina\n",
      "egypt\ttimesincewar\tuk\n",
      "usa\tcommonbloc1\tburma\n",
      "brazil\tcommonbloc1\tjordan\n",
      "india\tconferences\tussr\n",
      "egypt\tcommonbloc2\tburma\n",
      "poland\ttimesinceally\tuk\n",
      "israel\tcommonbloc1\tbrazil\n",
      "indonesia\trelngo\tuk\n",
      "netherlands\tngoorgs3\tuk\n",
      "brazil\trelintergovorgs\tindia\n",
      "cuba\trelngo\tusa\n",
      "uk\treltreaties\tnetherlands\n",
      "israel\tcommonbloc2\tindia\n",
      "ussr\tnegativecomm\tchina\n",
      "usa\treltourism\tussr\n",
      "usa\trelexportbooks\tnetherlands\n",
      "india\trelexports\tegypt\n",
      "egypt\tindependence\tchina\n",
      "jordan\treltreaties\tegypt\n",
      "ussr\teconomicaid\tpoland\n",
      "india\tembassy\tussr\n",
      "poland\tcommonbloc1\tisrael\n",
      "china\twarning\tusa\n",
      "egypt\treldiplomacy\tbrazil\n",
      "india\tcommonbloc2\tburma\n",
      "brazil\treldiplomacy\tegypt\n",
      "israel\trelbooktranslations\tuk\n",
      "israel\tcommonbloc2\tjordan\n",
      "usa\tconferences\tindia\n",
      "usa\trelbooktranslations\tussr\n",
      "uk\tweightedunvote\tburma\n",
      "egypt\treldiplomacy\tnetherlands\n",
      "ussr\tunweightedunvote\tnetherlands\n",
      "jordan\tembassy\tusa\n",
      "cuba\tcommonbloc0\tuk\n",
      "ussr\trelngo\tuk\n",
      "egypt\tunweightedunvote\tuk\n",
      "cuba\tngo\tusa\n",
      "cuba\tblockpositionindex\tnetherlands\n",
      "india\tduration\tchina\n",
      "china\ttimesincewar\tindia\n",
      "jordan\tngoorgs3\tuk\n",
      "india\texports3\tusa\n",
      "indonesia\tofficialvisits\tchina\n",
      "egypt\trelstudents\tusa\n",
      "ussr\tblockpositionindex\tnetherlands\n",
      "cuba\tintergovorgs\tuk\n",
      "usa\tweightedunvote\tuk\n",
      "egypt\tcommonbloc1\tpoland\n",
      "usa\tnegativecomm\tchina\n",
      "egypt\tindependence\tnetherlands\n",
      "indonesia\tduration\tchina\n",
      "poland\tintergovorgs\tuk\n",
      "netherlands\tngoorgs3\tpoland\n",
      "cuba\tnonviolentbehavior\tusa\n",
      "usa\tconferences\tburma\n",
      "jordan\trelbooktranslations\tuk\n",
      "israel\trelbooktranslations\tussr\n",
      "uk\ttreaties\tnetherlands\n",
      "egypt\texports3\tusa\n",
      "usa\trelexports\tnetherlands\n",
      "jordan\tembassy\tuk\n",
      "uk\tintergovorgs3\tisrael\n",
      "poland\trelintergovorgs\tnetherlands\n",
      "india\tconferences\tindonesia\n",
      "usa\taccusation\tchina\n",
      "china\trelngo\tuk\n",
      "egypt\tintergovorgs3\tuk\n",
      "israel\trelintergovorgs\tbrazil\n",
      "poland\treldiplomacy\tussr\n",
      "indonesia\trelngo\tisrael\n",
      "china\tngoorgs3\tindia\n",
      "ussr\ttimesincewar\tpoland\n",
      "burma\tconferences\tindia\n",
      "jordan\trelintergovorgs\tuk\n",
      "cuba\treldiplomacy\tuk\n",
      "cuba\trelintergovorgs\tisrael\n",
      "israel\tngoorgs3\tpoland\n",
      "netherlands\tembassy\tjordan\n",
      "brazil\treltreaties\tpoland\n",
      "usa\tblockpositionindex\tburma\n",
      "poland\ttimesinceally\tnetherlands\n",
      "israel\tintergovorgs\tindia\n",
      "usa\ttreaties\tuk\n",
      "netherlands\ttimesinceally\tussr\n",
      "egypt\tcommonbloc1\tusa\n",
      "ussr\tembassy\tindia\n",
      "netherlands\tintergovorgs\tcuba\n",
      "ussr\treltreaties\tuk\n",
      "jordan\tcommonbloc2\tburma\n",
      "poland\ttreaties\tusa\n",
      "ussr\trelngo\tbrazil\n",
      "uk\tconferences\tburma\n",
      "china\tpprotests\tuk\n",
      "uk\tembassy\tusa\n",
      "brazil\tstudents\tusa\n",
      "brazil\tngoorgs3\tnetherlands\n",
      "uk\tintergovorgs3\tindia\n",
      "ussr\trelexports\tpoland\n",
      "cuba\tcommonbloc1\tegypt\n",
      "poland\trelemigrants\tusa\n",
      "burma\texports3\tussr\n",
      "ussr\tngo\tnetherlands\n",
      "uk\tcommonbloc2\tusa\n",
      "egypt\treltreaties\tuk\n",
      "ussr\tunweightedunvote\tuk\n",
      "egypt\tblockpositionindex\tusa\n",
      "usa\tngoorgs3\tindia\n",
      "china\treldiplomacy\tegypt\n",
      "uk\tconferences\tindia\n",
      "usa\tcommonbloc0\tussr\n",
      "usa\ttimesincewar\tcuba\n",
      "brazil\tintergovorgs3\tnetherlands\n",
      "indonesia\trelngo\tegypt\n",
      "cuba\ttimesinceally\tbrazil\n",
      "india\ttreaties\tusa\n",
      "egypt\trelintergovorgs\tindia\n",
      "uk\texpeldiplomats\tussr\n",
      "brazil\trelngo\tisrael\n",
      "usa\tpprotests\tussr\n",
      "netherlands\tindependence\tpoland\n",
      "egypt\tcommonbloc1\tussr\n",
      "uk\tpprotests\tusa\n",
      "jordan\tblockpositionindex\tussr\n",
      "china\tmilitaryactions\tindia\n",
      "indonesia\trelngo\tindia\n",
      "burma\tembassy\tegypt\n",
      "burma\tintergovorgs3\tuk\n",
      "india\tconferences\tbrazil\n",
      "usa\tboycottembargo\tegypt\n",
      "burma\trelintergovorgs\tcuba\n",
      "ussr\tofficialvisits\tindia\n",
      "usa\tboycottembargo\tindonesia\n",
      "indonesia\tseverdiplomatic\tcuba\n",
      "netherlands\tembassy\tbrazil\n",
      "usa\tngo\tcuba\n",
      "brazil\ttreaties\tusa\n",
      "indonesia\tnegativebehavior\tchina\n",
      "egypt\tngo\tindia\n",
      "indonesia\tintergovorgs\tuk\n",
      "brazil\trelintergovorgs\tcuba\n",
      "poland\tngoorgs3\tisrael\n",
      "egypt\trelintergovorgs\tbrazil\n",
      "indonesia\texports3\tnetherlands\n",
      "china\ttimesinceally\tcuba\n",
      "uk\tmilitaryalliance\tnetherlands\n",
      "brazil\ttimesinceally\tpoland\n",
      "india\tconferences\tcuba\n",
      "jordan\treltreaties\tuk\n",
      "cuba\tngoorgs3\tusa\n",
      "usa\ttimesincewar\tchina\n",
      "china\ttreaties\tburma\n",
      "netherlands\teemigrants\tusa\n",
      "indonesia\tembassy\tegypt\n",
      "\n"
     ]
    }
   ],
   "source": [
    "f = open(\"C:\\\\Users\\\\shahz\\\\anaconda3\\\\lib\\\\site-packages\\\\pykeen\\\\datasets\\\\nations\\\\train.txt\", \"r\")\n",
    "print(f.read())"
   ]
  },
  {
   "cell_type": "code",
   "execution_count": 82,
   "metadata": {},
   "outputs": [
    {
     "name": "stdout",
     "output_type": "stream",
     "text": [
      "Family physicians\thold\tM.D.\n",
      "certification\trequires\tfive years\n",
      "term Primary Care\tinclude\tservices\n",
      "Family physicians\tdeliver\trange\n",
      "family physicians\ttreat\tpatients\n",
      "Family medicine\tplay\timportant role\n",
      "family physicians\tprovide\tcare\n",
      "Family physicians\tcomplete\tundergraduate degree\n",
      "Family physicians residency training\tincludes\trotations\n",
      "Residents\tprovide\tcare\n",
      "Family physicians\tpursue\tfellowships\n",
      "The American Board of Family Medicine\toffer\tCertificates of Added\n",
      "patients\thave\tdirect access\n",
      "1 % deterioration\tproduce\t10 % deterioration\n",
      "2017 more than 1,061 practices\temploying\tpharmacists\n",
      "Northumbria Healthcare NHS Foundation Trust\ttaken over\tmultiple GP practices\n",
      "40%\tgot\tday appointment\n",
      "Association of Departments of Family Medicine\tdemanded\tincreased funding\n",
      "new GP contract\tincluded\tfunding\n",
      "Indian Medical Council\trequires\tthree-year residency\n",
      "curriculum\tcomprises\tmedicine\n",
      "candidates\treceive\tintegrated inpatient outpatient learning\n",
      "candidates\treceive\tfield training\n",
      "Calicut\tstarted\tMD (FM\n",
      "residency trained family physicians\tformed\tAFPI\n",
      "Government\tdeclared\tFamily Medicine\n",
      "the National Board of Examination India\tdefine\tstandard\n",
      "doctors\thave\tformal training\n",
      "the American Board of Medical Specialties (ABMS\tannounced\trecognition\n",
      "Doctor\tseek\tboard certification\n",
      "Successful completion\tgrant\tcertificate\n",
      "Preventive Medicine\tprovide\tcertification\n",
      "healthcare students\tview\taddiction substance abuse\n",
      "The American Board of Pediatrics\trequire\tevidence\n",
      "adolescent medicine fellowships\tinclude\trotations\n",
      "World Organisation of Family Doctors\thas\tmembership base\n",
      "based undergraduate graduate Family Medicine training Curriculum\tPromote\tresidency\n",
      "AFPI\tadvocates\tacademic institutionalization\n",
      "newly instituted AIIMS\testablished\tnew department\n",
      "AFPI\tsupported\tequal professional opportunities\n",
      "National Health System Resource Centre\tconducted\tnational consultation\n",
      "National Health Policy\trecommended\tpromotion\n",
      "peer reviewed medical journal\tpublishes\tquarterly issues\n",
      "Dr Abhijat Sheth\tgraced\tFMPC 2017\n",
      "Dr Bipin Batra Executive Director NBE\tdelivered\t2nd Dr P Padmanabhan Memorial Award Oration\n",
      "Noted athletic hero Mr Milkha Singh\tlaunched\tcampaign\n",
      "AFPI\tinstituted\toration award\n",
      "Drs Jyoti\tpledged\tdonation\n",
      "National Health System Resource Centre\tfacilitates\tinternational exchange opportunities\n",
      "15th World Rural Health Conference New Delhi New Delhi\thosted\t15th WONCA World Rural Health conference\n",
      "National Conference on Family Medicine and Primary Care\tattracted\tthousand delegates\n",
      "Vice President\tinaugurated\tconference\n",
      "ACGME\trecognizes\t45 different residency programs\n",
      "general psychiatrists\tcommit\tgeneral psychiatrists\n",
      "Addiction psychiatrists\ttreat\twide variety\n",
      "Addiction\tUse\tDisorders\n",
      "table\tgives\tcount\n",
      "level\tindicates\tanatomical main group\n",
      "second level\tindicates\ttherapeutic subgroup\n",
      "level\tindicates\ttherapeutic pharmacological subgroup\n",
      "fourth level\tindicates\tchemical therapeutic pharmacological subgroup\n",
      "fifth level\tindicates\tchemical substance\n",
      "furosemide\thas\tcode\n",
      "The Anatomical Therapeutic Chemical Classification System\tincludes\tdefined daily doses\n",
      "National issues\tinclude\tadditional codes\n",
      "Allergies\tinclude\thay fever\n",
      "Symptoms\tinclude\tred eyes\n",
      "Common allergens\tinclude\tpollen\n",
      "Metals\tcause\tproblems\n",
      "Treatments\tinclude\tavoidance\n",
      "about 1–18%\thave\tasthma\n",
      "allergic rhinitis\tcauses\tirritation\n",
      "Symptoms\tinclude\tabdominal pain\n",
      "Food allergies\tcause\trespiratory asthmatic reactions\n",
      "anaphylaxis\tinclude\tskin reactions\n",
      "Skin allergies\tcause\trashes\n",
      "wide variety\tcause\tallergic reactions\n",
      "Egg allergies\taffect\tone to two percent\n",
      "Roughly 10%\thave\treaction\n",
      "genetic modification\tremove\tallergens\n",
      "Latex\ttrigger\tIgE mediated cutaneous respiratory systemic reaction\n",
      "Researchers\tattribute\thigher level\n",
      "reaction\tlasts\t48–96 hours\n",
      "food induced allergies\tinduced\tsystemic responses\n",
      "resulting dermatological response\tincludes\tredness\n",
      "Approximately 25 percent\thave\tstrong allergic response\n",
      "Epidemiological data\tsupport\thygiene hypothesis\n",
      "Chronic stress\taggravate\tallergic conditions\n",
      "Stress management\timprove\tsymptoms\n",
      "Cytokines\tplay\trole\n",
      "skin prick test\tused\tsimilar diagnostic value\n",
      "early accurate diagnoses\tsave\tcost\n",
      "Allergy\tundergoes\tdynamic changes\n",
      "Common areas\tinclude\tinside forearm\n",
      "Adults\tget\tallergy blood test\n",
      "mother diet\tis\trisk\n",
      "people\tgiven under\ttongue\n",
      "evidence\ttried for\teffectiveness\n",
      "review\tfound\teffectiveness\n",
      "Important elements\tinclude\texposure\n",
      "newer methods\tuse\tcolorimetric fluorescence labeled technology\n",
      "Internists\tcomplete\tat least an additional two years\n",
      "Allergist immunologists\tpassed\tcertifying examination\n",
      "the House of Lords\tconvened\tsubcommittee\n",
      "Allied health professions\tprovide\trange\n",
      "Allied health professions\tinclude\tuse\n",
      "2008 version\tincreased\tnumber\n",
      "Social Assistance\tprovides\tservices\n",
      "The American Board of Family Medicine\tadopted\tThe American Board of Family Medicine\n",
      "Candidates\tcomplete\trequirements\n",
      "Certification candidates\tcompleted\tthree years\n",
      "American Board of Family Medicine Family Medicine\thas\treciprocity agreements\n",
      "AMA Council\tgranted\tapproval\n",
      "alternative sector marketing\tadvertises\ttreatments\n",
      "widely definition\tcalls\tNCCIH\n",
      "Examples\tinclude\thealing claims\n",
      "Bioelectromagnetic-based therapies\tuse\tverifiable electromagnetic fields\n",
      "history\tincludes\thistories\n",
      "Changes\tincluded\trelaxed medical licensing\n",
      "Medical schools teaching\tincludes\ttopics\n",
      "the School of Medicine of the University of Maryland\tincludes\tresearch institute\n",
      "project\tidentified\t208 condition-treatment pairs\n",
      "the Cochrane Library\thad\t145 CAM-related Cochrane systematic reviews\n",
      "Use\tproduce\tconfounded difficult interpret results\n",
      "Cancer researcher Andrew J. Vickers\tinvestigated in\tstated:.Contrary\n",
      "Treatments\thave\tknown significant effects\n",
      "medications\tcause\tminor bothersome symptoms\n",
      "NCCAM's sister organization\tgives\tgrants\n",
      "Thirty-one states\thave\tchild abuse religious exemptions\n",
      "Americans\tspend\tbillions\n",
      "more than 37%\toffered\talternative therapies\n",
      "Counseling\tstress\ttherapies\n",
      "Government bodies\tpublished\tinformation\n",
      "The U.S. Food and Drug Administration\tissued\tonline warnings\n",
      "herbal remedies\tcause\tdangerous interactions\n",
      "MacLennan\tgives\tpossible\n",
      "The U.S. Food and Drug Administration\tregulated\thomeopathic products\n",
      "manufacturers\tmarketed without\tscientific research\n",
      "patient knowledge\taffects\ttherapy outcome\n",
      "ABMS Member Boards\tmaintained\trigorous process\n",
      "ABMS Member Boards\tcertify\tspecialists\n",
      "physicians\tMore than 80 percent of\tBoard Certification\n",
      "ABMS Member Boards\tsupport\tlifelong learning\n",
      "information\tprovides\toverview\n",
      "physicians\tmaintain\tphysicians medical specialty expertise\n",
      "Improvement\tmeasure\tcompetencies\n",
      "list\tshows\tyear\n",
      "organization\tassumed\tunofficial\n",
      "The American College of Osteopathic Family Physicians\trelocated\tThe American College of Osteopathic Family Physicians\n",
      "The American College of Osteopathic Family Physicians\tpresented\taward\n",
      "content\tcovers\tpreventive medicine\n",
      "organization\tbestows\thonor\n",
      "6,344 osteopathic family physicians\theld\tactive certification\n",
      "Osteopathic family physicians\treceive\tCertification of Added Qualifications\n",
      "pathologists\tpractice\tanatomical clinical pathology\n",
      "Clinical pathology subsections\tinclude\tchemistry\n",
      "Surgical pathology\tinvolves\tgross microscopic examination\n",
      "Surgical pathology\trequires\ttechnologies\n",
      "pathologist\tused to\tcause\n",
      "certificates\tinclude\tgeneral pathology\n",
      "Candidates\tcompleted\tfour years\n",
      "trainee\tcomplete\tfour years\n",
      "Proposed changes\teliminate\tarrangements\n",
      "Arterial diseases\tcovers\tarterial thrombosis\n",
      "Venous diseases\tinclude\tvenous thrombosis\n",
      "Lymphatic diseases\tinclude\tprimary secondary forms\n",
      "Lymphatic diseases\tinvolves\tmodification\n",
      "twelve NIH\tfunded\tthree-year programs\n",
      "Babylon Health Services Ltd. Babylon Partners Babylon Health Services Ltd. Babylon Partners\tlost\t£12.9 million\n",
      "Babylon Health Services Ltd. Babylon Partners\tlost\t£66.7 million\n",
      "Babylon\traised\t$25M\n",
      "Babylon investors\tinclude\tthe Hoxton Ventures\n",
      "Media coverage\treported\tvaluation\n",
      "The Babylon Health app\tfeatures\tcontroversial Chatbot Symptom Checker\n",
      "Dominic Cummings\tadvised\tMatthew Hancock\n",
      "rollout\ttriggered\tmassive backlash\n",
      "Telus Alberta's privacy commissioner\tlaunched\ttwo investigations\n",
      "Babylon's actions\tare\tmis - advertising breach\n",
      "practice\tdefended\tpractice\n",
      "The Care Quality Commission\trated\tservice\n",
      "Babylon app launch\thad\t4,000 patients\n",
      "Babylon\topened\tregistrations\n",
      "2019 GP contract\treduce\tfunding\n",
      "Samsung Health\tclosed\t550 million round\n",
      "Babylon Holdings Enterprises Ltd\tfiled\t7 claim\n",
      "Babylon\traised\tlegal complaint\n",
      "USA Partnership website\tlisted\torganisations\n",
      "disciplines\tinclude\tbiochemistry\n",
      "research project\tforms\tlarge component\n",
      "students\tundertake\tresearch project) Egypt\n",
      "Bailey Barton Burritt\tmarried\tRuth Hogarth Dennis\n",
      "state bar associations\toffer\tboard certification\n",
      "organizations\toffer\tcertification\n",
      "the American Bar Association Standing Committee on Specialization\toffers\textensive resources\n",
      "approach\tfollows\tRule\n",
      "the American Bar Association Standing Committee on Specialization\tlists\tspecialty certification programs\n",
      "board certification process\tgenerated\tnumber\n",
      "Andrology\tcovers\tanomalies\n",
      "male specific medical surgical procedures\tinclude\tvasectomy\n",
      "the American Society of Andrology\tlaunched\tthe Journal of Andrology\n",
      "COVID-19 pandemic\treached\tUK\n",
      "social distancing\treported that\tcurve\n",
      "Scotland\tintroduced\ttiered restrictions\n",
      "UK\thad\tone of the highest vaccination rates in the world\n",
      "Genetic sequencing\ttraced\tCOVID-19 cases\n",
      "London\tproviding\tmathematically calculated estimates\n",
      "new type\tsome of\tup to 60%\n",
      "Imperial College team\tprovided\tdetailed forecasts\n",
      "Imperial College team\tdetailed\tpotential outcomes\n",
      "25 year old student\ttaken to\tvirus\n",
      "COVID-19\thad\tat least 1356 origins\n",
      "COVID-19\tshowed\tsymptoms\n",
      "people\tmissed\tflight\n",
      "DHSC\tconfirmed\tfour new cases\n",
      "UK CMOs\traised\trisk\n",
      "Arlene Foster\tfollowed\tsuit\n",
      "the UK Government\tdowngraded\tstatus\n",
      "the UK Government\tannounced\tclosure\n",
      "The Foreign and Commonwealth Office\trepatriated\ttens of thousands\n",
      "Dominic Raab\tassumed\tPrime Minister Boris Johnson duties\n",
      "Prime Minister Boris Johnson\tleft\thospital\n",
      "Arlene Foster\textended\tperiod\n",
      "Dominic Raab\tset out\tfive conditions\n",
      "Prime Minister Boris Johnson statement Prime Minister Boris Johnson\tchanged\tslogan\n",
      "Prime Minister Boris Johnson\tpublished\t60-page document\n",
      "the UK Government\trevised\ttotal number\n",
      "UK nations\thad\tcut period\n",
      "New Scientist\texamined\tmonth history\n",
      "New Scientist\tcriticised\tlack\n",
      "the UK Government\tpublished\tnew social distancing rules\n",
      "BBC\treduced\tBBC daily coverage\n",
      "the UK Government\ttightened\trestrictions\n",
      "UK\treported\thighest daily rise\n",
      "Margaret Ferrier\treceived\tcalls\n",
      "Police\tbegan\tinvestigation\n",
      "Public Health England\tmade\tannouncement\n",
      "Labour\tused\tterm\n",
      "Funerals\tface\t20 person limit\n",
      "Pubs\tface\tcurfew\n",
      "Public Health England\tentered\tsecond week long lockdown\n",
      "Wales\tended\tWales firebreak lockdown\n",
      "Total deaths\tpassed\t50,000 on 11 November\n",
      "First vaccines\tapproved\tnew variant\n",
      "UK Government\tagreed under\tstatutory blanket payout\n",
      "20 December 2020 countries\tintroducing\tbans\n",
      "NHS trust\tprioritised\tanti - bacterial ventilator filters\n",
      "the UK Government\tissued\tspecification\n",
      "NHS Louisa Jordan\testablished\ttemporary Nightingale hospitals\n",
      "Pullicino\trequested\tindependent inquiry\n",
      "UK\tdeveloped\tprototype specific laboratory test\n",
      "PHE\tapproved\tantibody test\n",
      "Scotland\tdeveloping\tsurveillance\n",
      "Swiss pharmaceutical company\thad\tgentleman agreement\n",
      "UK\tInnovate\t£20 million funding\n",
      "Medicines Healthcare products Regulatory Agency\tapproved\tsecond model\n",
      "the UK Government\tput\torder\n",
      "the UK Government\tordered\t15,000 of 10,000 devices\n",
      "Eight other designs\thad\tEight other designs support\n",
      "economic disruption\teliminated\tsignificant impact\n",
      "event\tincluded\tspeakers\n",
      "Pfizer‑BioNTech COVID‑19 vaccine\trequire\ttwo doses\n",
      "group\tsent\tletter\n",
      "study\tcorroborated\tONS findings\n",
      "study\tfound\tlink\n",
      "medical specialty\tencompasses\tanesthesia\n",
      "non - physicians\tuse\ttitles\n",
      "patients\topened by\tprolonged artificial ventilation\n",
      "anesthesiologist\tallowed\tpatient\n",
      "Effective practice\trequires\tareas\n",
      "ANZCA approved training course\tencompasses\tinitial year long Pre - vocational Medical Education\n",
      "ANZCA approved training course\thas\tprogram\n",
      "Trainees\tundergo\tcourse\n",
      "residency programs\ttake\tplace\n",
      "residents\tundergo\texams\n",
      "the Brazilian Society of Anesthesiology\tconducts\texaminations\n",
      "board examination\tincludes\twritten section\n",
      "medical school graduate\tcomplete\taccredited year residency\n",
      "Medical school graduates\tcomplete\tmonth internship\n",
      "SSAI\thosts\tsix training programs\n",
      "trainees\tpassed\tprimary examination\n",
      "physicians\tlearn\tanaesthesia\n",
      "trainees\tentered\tanaesthesia\n",
      "Specialist training\ttakes\tat least seven years\n",
      "new consultant\tcompleted\tminimum\n",
      "Pain specialists\tgive\texamination\n",
      "anesthesiology residency programs\trequire\tsuccessful completion\n",
      "Residency training\tencompasses\tscope\n",
      "anesthesiologists\tcomplete\tan additional fellowship year\n",
      "Dental anesthesiology residency programs\trequire\tsuccessful completion\n",
      "ABA\tinvolves\twritten\n",
      "universities\trenamed\tuniversities\n",
      "The Bridgetown International University\taward\tMB ChB.China\n",
      "Egyptian medical schools\taward\tMB BCh\n",
      "French students\tundertake\tcompetitive examination\n",
      "The University of Guyana\tawards\tMB BS\n",
      "awarding\tfollows\tBritish tradition\n",
      "Medical colleges\tteach\tPost Graduate\n",
      "MBBS course\tcontains\t12-month long internship\n",
      "MBBS course\tcontains\t12-month long internship\n",
      "new medical colleges\tadd\t5,800 more MBBS seats\n",
      "medical schools\taward\tMB ChB.\n",
      "LRCPI LRCSI\tdenotes\tholder\n",
      "India\taward\tyear BSc\n",
      "schools\taward\tMBBCh\n",
      "the National Autonomous University of Mexico\tgrant\ttitle\n",
      "The University of Namibia UNAM School of Medicine\tawards\tMBChB degree\n",
      "Medical colleges\tteach\tPost Graduate courses\n",
      "Medical schools\taward\tMBBS\n",
      "India Singapore\tconfer\tMB BS\n",
      "India\thas\tmedical programme\n",
      "India\tfollows\tNorth American model\n",
      "India\taward\tMB ChB\n",
      "India\tawards\tMMBS\n",
      "India South Sudan\tawards\tMBBS degree\n",
      "Sudanese medical schools\taward\tMBBS\n",
      "training\ttakes\ta minimum of seven years\n",
      "Students\tundertake\tcompetitive examination\n",
      "medical schools\taward\tMB ChB\n",
      "The University of St Andrews School of Medicine\tawarded\tMB ChB\n",
      "joint initiative\tbased\tjoint initiative\n",
      "International medical graduates\tprovided that\tUSMLE Wisconsin\n",
      "constituent countries\tconfer\tMB BS\n",
      "the University of London\tconfers\tMB BS\n",
      "medical schools\tare\tNorth American system\n",
      "American University\tawards\tMBChB degree\n",
      "qualifications\tOther professions\tsimilar pattern\n",
      "medical students\tobtain\tdegree\n",
      "society\tbe\tsociety\n",
      "Major pubertal biological changes\tinclude\tchanges\n",
      "study\tinvolves\tinterdisciplinary collaborations\n",
      "environmental factors\tinfluenced\tinfluences\n",
      "boys\tdevelop\tgynecomastia\n",
      "men\tdevelop\tfacial hair\n",
      "timing\thave\timportant psychological social consequences\n",
      "adolescents\texperience\tsignificant increase\n",
      "weight\tconstitutes\tnearly half\n",
      "Pubertal development\taffects\tcirculatory respiratory systems\n",
      "environmental factors\tplay\tlarge role\n",
      "environmental influences\taffect\tfemale physical development\n",
      "stages\tinvolve\tgrowth\n",
      "changes\tinvolve\tgrowth\n",
      "Changes\tinvolve\tappearance\n",
      "secondary sex changes\tinvolve\televation\n",
      "person\tdeveloped by\tpuberty\n",
      "areas\tlose\tmatter\n",
      "areas\tinclude\tlateral prefrontal cortices\n",
      "balance\thave\timplications\n",
      "corresponding increase\tincrease\tadolescents vulnerability\n",
      "serotonin receptors\thave\tserotonin receptors gene expression change\n",
      "Improved knowledge\tincrease\tself control\n",
      "Adolescents\tdevelop\tsophisticated understanding\n",
      "Children\tcomprehend\tsarcasm\n",
      "perspective taking\tinvolves\tsophisticated theory\n",
      "Aspects\tinclude\thigher rates\n",
      "adolescents\tshow\timpaired behavioral inhibition\n",
      "phenomenon\thas\tconsequences\n",
      "Jean Macfarlane\tfounded\tthe University of California, Berkeley's\n",
      "Elder\tformulated\tdescriptive principles\n",
      "years\tcreate\tconscientious group\n",
      "teens\tput forth\teffort\n",
      "identity\trepresents\tcoherent sense\n",
      "Erikson\tdescribed\tresolution\n",
      "Modern life\ttakes\tplace\n",
      "Research\treveals\tself examination\n",
      "adolescent environment\tplays\thuge role\n",
      "Troiden\tproposed\tstage model\n",
      "young adult\tadopts\tyoung adult sexual identity\n",
      "social sphere\tplay\tvital role\n",
      "Adolescence\tmarks\trapid change\n",
      "Social media\tplayed\tincreasing role\n",
      "adolescents\tshare\tattitudes\n",
      "Adolescence\taffect\trelationship\n",
      "divorce\thave\tpositive effect\n",
      "research\tsuggests\tnegative effect\n",
      "parents\tinfluence\teducation\n",
      "High quality friendships\tenhance\tchildren development\n",
      "Adolescents\tchoose\tpeer groups\n",
      "Peer groups\thave\tpositive influences\n",
      "clique\tcreate\tstronger sense\n",
      "certain individuals\tare\tdiversity\n",
      "Kissing\tsignify\tsatisfaction\n",
      "One in four sexually active teenagers\tcontract\tSTI\n",
      "Girls 15 to 19\thave\thigher rates\n",
      "Culture\tlearned\taspects\n",
      "media\tpresented\tteenagers\n",
      "Psychologists\tidentified\tthree main types\n",
      "Differences\treflect\tsocial background circumstances\n",
      "cultures\tdefine\ttransition\n",
      "restrictive cultures\ttolerate\taspects\n",
      "person\tgain\tadult rights\n",
      "boys\tshow\trelatively little difference\n",
      "Research\tshown\tstriking uniformity\n",
      "More than a third\tvisited\tsite\n",
      "adolescence\tlast for\tnearly a decade\n",
      "field\tincludes\tmedical diagnosis\n",
      "Recognized subspecialties\tinclude\tclinical cardiac electrophysiology\n",
      "adult cardiologists\tmake\taverage\n",
      "procedures\tinclude\ttherapeutic methods\n",
      "Vascular disorders\tcause\tsignificant morbidity\n",
      "baby\tare\tventricular septal defect\n",
      "pediatric cardiologists\tmake\taverage\n",
      "heart\thas\tnumerous anatomical features\n",
      "cardiac examination\tfollows\tstandard structure\n",
      "High blood pressure\tcause\tsymptoms\n",
      "Lifestyle factors\tincrease\trisk\n",
      "Lifestyle changes\tinclude\tweight loss\n",
      "Up to three medications\tcontrol\tblood pressure\n",
      "High blood pressure\taffects\tbetween 16 and 37%\n",
      "Hypertension\tincrease\trisk\n",
      "Secondary hypertension\thas\tdifferent causes\n",
      "types\thave\tsymptoms\n",
      "Extra beats\tinclude\tpremature atrial contractions\n",
      "Supraventricular tachycardias\tinclude\tatrial fibrillation\n",
      "Ventricular arrhythmias\tinclude\tventricular fibrillation\n",
      "Treatments\tinclude\tmedications\n",
      "later group\thave\tsignificant effects\n",
      "Arrhythmia\taffects\tmillions of people\n",
      "atrial fibrillation\taffects\tabout 2% to 3%\n",
      "complications\tinclude\theart failure\n",
      "Risk factors\tinclude\thigh blood pressure\n",
      "risks\tinclude\tdepression\n",
      "underlying mechanism\tinvolves\tatherosclerosis\n",
      "Treatment\tinvolves\tmeasures\n",
      "Symptoms\tinclude\tloss\n",
      "common causes\tinclude\tmajor blood loss\n",
      "number\tincrease\trisk\n",
      "U.S. television shows\tportrayed\tunrealistically high survival rates\n",
      "child\tdivided into\tpotential\n",
      "defects\tneed\ttreatment\n",
      "starting point\tobtaining\tmedical history\n",
      "Electrophysiological procedures\tinclude\telectrocardiogram\n",
      "Wallace Brigden\tidentified\tcardiomyopathy\n",
      "Max Holzmann\trecognized\tsign\n",
      "The British Medical Association\thas\trange\n",
      "The British Medical Association\tshares\tnational bargaining rights\n",
      "Members\treceive\tsubscription\n",
      "The British Medical Association\thas\tnumber\n",
      "Council\thas\t34 voting members\n",
      "Junior Doctors Committee\trepresenting\tjunior hospital doctors\n",
      "Medical Students Committee\trepresenting\tmedical students\n",
      "Equality Diversity Committee\tprovides\tguidance\n",
      "Equality and Diversity Committee\tholds\ttwo conferences\n",
      "BMA House\ttraces\tBMA House origins\n",
      "Barr\tcondemned\tthe National Health Insurance Bill\n",
      "BMA\trepeated\trole\n",
      "Chairs\tinclude\tfollowing\n",
      "Grants.the BMA\tmakes\tgrants\n",
      "logo\tincludes\tstylised version\n",
      "Axel Cappelen\tligated\tbleeding coronary artery\n",
      "Alfred Blalock\tperformed\tsuccessful palliative pediatric cardiac operation\n",
      "Russell Brock\tused\tspecially designed dilator\n",
      "introduction\tperformed until\tdirect surgery\n",
      "four surgeons\tcarried out\tsuccessful operations\n",
      "Alexander Alexandrovich Vishnevsky\tconducted\tcardiac surgery\n",
      "Dr. John Carter Callaghan\tperformed\tdocumented open heart surgery\n",
      "surgeon\topen\theart\n",
      "machine\tstopped\tblood\n",
      "surgeons\tdeveloped after\tlimitations\n",
      "Dr. Lillehei\tperformed\tseries\n",
      "Nazih Zuhdi\tperformed\ttotal intentional hemodilution open heart surgery\n",
      "Soviet pathologist\ttransplanted\theart\n",
      "Barnard\tperformed\tHeart transplant\n",
      "Adrian Kantrowitz\tperformed\tpediatric heart transplant\n",
      "Norman Shumway\tperformed\tadult heart transplant\n",
      "advancement\treduced\tmortality rates\n",
      "Clare Gerada\thas\tprofessional interests\n",
      "father\topened\tsingle handed general practitioner practice\n",
      "Clare Gerada\tstarted\twork\n",
      "The Care Quality Commission\trated\tservice\n",
      "cardiologist\tkilled\tcardiologist\n",
      "Clare Gerada\tdebated\tUniversity College London Hospitals NHS Foundation Trust\n",
      "large medical laboratory\taccept\tsamples\n",
      "largest\tdo\ttests\n",
      "Common clinical chemistry\ttests\tinclude:.Panel tests\n",
      "Aranaz JM\tligados\tHospitalización\n",
      "mediciones\tesporádicas\tpresión arterial\n",
      "los\tmedicamentos\tsanitarios\n",
      "pathologists\tpractice\tanatomical clinical pathology\n",
      "overlap\tincludes\timmunoassays\n",
      "residency\tlasts\tfour years\n",
      "pathologist\thave\tdifferent colourings\n",
      "order\tused in\tcorrect diagnosis\n",
      "analysers\tundergo\tdaily, weekly and monthly maintenances..Cultures\n",
      "big\tuse\tculture media\n",
      "Intraoperative\tneurophysiologic\tmonitoring:.In\n",
      "Programs\texpose\tPrograms fellows\n",
      "The American Board of Psychiatry\tprovides\tcertification examination\n",
      "The American Board of Psychiatry\tprovides\tcertification\n",
      "The American Board of Psychiatry\tcertifies in\tEvoked Potentials\n",
      "cardiac surgery residency\tcomprises\t4 6 years\n",
      "Multiple examinations\ttake\tplace\n",
      "cardiac surgeons\tcompleted\tgeneral surgery\n",
      "direct entry format\tprovides\tresidents\n",
      "Residents\tspend\ttime training\n",
      "The Royal College of Physicians and Surgeons of Canada\tprovides\tyear cardiac surgery fellowship\n",
      "Norwegian surgeon Axel Cappelen\tligated\tbleeding coronary artery\n",
      "four surgeons\tcarried out\tsuccessful operations\n",
      "Charles Bailey\tadopted\tSouttar's method\n",
      "Russell Brock\tused\tspecially designed dilator\n",
      "introduction\tperformed until\tdirect surgery\n",
      "Soviet surgeon Aleksandr Aleksandrovich Vishnevskiy\tconducted\tcardiac surgery\n",
      "patient\tbypass\tfunction\n",
      "C. Walton Lillehei\trealized\tsuccessful series\n",
      "Nazih Zuhdi\tperformed\ttotal intentional hemodilution open heart surgery\n",
      "Nazih Zuhdi\tperformed\tOklahoma's first successful heart transplant\n",
      "development\treduced\tmortality rates\n",
      "Infection\trepresents\tprimary non - cardiac complication\n",
      "Infections\tinclude\tmediastinitis\n",
      "Lung volume reduction surgery\timprove\tquality\n",
      "participation\tis\trisk\n",
      "complication\tdelays\tchest tube removal\n",
      "use\tshown to\tincidence\n",
      "clinics\tretain\tclinic\n",
      "owners\thave\tformal medical education\n",
      "traditional clinics\tprovide\tayurvedic medicine\n",
      "polyclinics\tcontain\toutpatient departments\n",
      "India\tset up\thuge numbers\n",
      "clinics\tbe\tgovernment funded private medical practices\n",
      "free clinic\tprovides\tfree low cost healthcare\n",
      "general patient clinic\toffers\tgeneral diagnoses\n",
      "polyclinic\tprovides\trange\n",
      "specialist clinic\tprovides\tadvanced diagnostic treatment services\n",
      "ultrasound clinic\toffers\tmedical ultrasound investigations\n",
      "Christian Medical College & Hospital\thas\textensive roadside dispensaries\n",
      "Kramer\tgets\tvanity plate\n",
      "CFPC\tuses\tEnglish\n",
      "CFPC\testablishes\tstandards\n",
      "College\tobtained\tCollege current\n",
      "Continuing professional CFPC\thas\tnumerous opportunities\n",
      "CFPC\thosts\tthe Family Medicine Forum\n",
      "conference\toffers\thundreds of clinical and professional development sessions for family physicians over three days in November\n",
      "CFPC\treleased\tlist\n",
      "Clinician scholar program\tinvolves\tcompletion\n",
      "medical schools\thave\tstudent interest groups\n",
      "activities\ttake\tplace\n",
      "health practitioners\tcontinued\thealth practitioners\n",
      "pharmaceutical industry\tdeveloped\tguidelines\n",
      "CFPC\trequires\t250 credit-hours\n",
      "province\trequires\tdocumentation\n",
      "members\tclassified as\tpublished research\n",
      "CME\tmaintains\tRegistry\n",
      "Registry\tincluded\t320 professionals\n",
      "Industry sponsored CMEs\tviolate\tfederal statutes\n",
      "countries\tdeveloped\tmass vaccination campaigns\n",
      "Management\tinvolves\ttreatment\n",
      "animals\tknown to\tvirus\n",
      "medical scientists\treported\tevidence\n",
      "structural proteins\tinclude\tmembrane glycoprotein\n",
      "structure\tresembles\tsugar transporter\n",
      "COVID-19\taffect\tupper respiratory tract\n",
      "people\thave\tclassical serum biomarkers\n",
      "Multiple viral host factors\taffect\tpathogenesis\n",
      "S protein\tincludes\ttwo subunits\n",
      "S1\tdetermines\tvirus host range\n",
      "clinical studies\tproven\tsusceptibility\n",
      "effects\tcause\tmajority\n",
      "cytokine storm\tcauses\tacute respiratory distress syndrome\n",
      "guidelines\trecommend\tmedication\n",
      "Methods\tinclude\tquarantines\n",
      "Health agencies\tissued\tdetailed instructions\n",
      "Face coverings\tlimit\tvolume travel distance\n",
      "10% to 20%\tassociated with\tsymptoms\n",
      "Infected people\treported\tcyclical bouts\n",
      "Complications\tinclude\tpneumonia\n",
      "Cardiovascular complications\tinclude\theart failure\n",
      "majority\tperformed\tlung abnormalities\n",
      "mortality rate\treflects\tnumber\n",
      "mortality rate\treflects\tprevalence\n",
      "CFR\treflects\tnumber\n",
      "the World Health Organization\treported\testimates\n",
      "Antibody testing\tsuggested\tIFR\n",
      "the U.S. Center for Disease Control & Prevention\treported\tpreliminary estimates\n",
      "Early reviews\tshowed\tgendered impact\n",
      "government\ttracking\tsex related data\n",
      "Similar issues\taffect\tNative American and Latino communities\n",
      "89%\thad\tpreexisting conditions\n",
      "Tedros Adhanom\texplained\tCO\n",
      "study\treported\tearliest date\n",
      "Official publications\treported\tearliest onset\n",
      "Wuhan Central Hospital\tsent\tbronchoalveolar lavage fluid BAL sample\n",
      "the Wuhan Municipal Health Commission\tissued\tnotice\n",
      "China\treported\tnearly 140 new cases\n",
      "Italy\tovertook\tChina\n",
      "the United States\tovertaken\tChina\n",
      "pets\tcatch\tZika virus\n",
      "Symptoms\tinclude\trespiratory\n",
      "Multiple countries\tidentified\tinfected animals\n",
      "Denmark\tordered\tslaughter\n",
      "France\tbanned\tuse\n",
      "the U.S. Food and Drug Administration\tissued\temergency use authorization\n",
      "Cochrane review\tfound\tinsufficient evidence\n",
      "Treatment\t\"guidelines.\"\"JHMI\"\tClinical Recommendations\n",
      "Proper cytopathology technique\ttakes\ttime\n",
      "Cytotechnologists\tassist\tclinicians\n",
      "Breast cytology\tconcerning\tfemale breast\n",
      "Vaginal cytology\tconcerning\tnon - human mammals\n",
      "Dentistry\tencompasses\tpractices\n",
      "Dentists\tprescribe\tmedications\n",
      "Oral infections\taffect\toverall health\n",
      "oral health\treferred to\tsystemic health\n",
      "1878 British Dentists Act\tlimited\ttitle\n",
      "Dentists\tcomplete\tbetween five and eight years\n",
      "Special\tneeds\tdentistry\n",
      "Examination\treveals\tearly attempts\n",
      "Egyptians\tbound\treplacement teeth\n",
      "Fauchard\tintroduced\tdental fillings\n",
      "the Occupational Safety and Health Administration\tplaces\tlimitation\n",
      "United States\texperiencing\tnational shortage\n",
      "study\treported\tfewer than 3.4 dermatologists\n",
      "dermatologists\tcomplete\tfellowships\n",
      "dermatologists\tperform\tcosmetic procedures\n",
      "dermatologists\tlimit\tdermatologists cosmetic practice\n",
      "dermatologist\tcomplete\tone year\n",
      "field\tencompasses\tcomplex diseases\n",
      "dermatologist\tadapted\tprocedure\n",
      "dermatologists\thave\tbest understanding\n",
      "National Board\tconducts\tNational Board (DrNB) postgraduate and postdoctoral programmes\n",
      "the Ministry of Health and Family Welfare\tissued\tnotification\n",
      "subspecialties\tchanged to\tpostdoctoral fellowship programme\n",
      "specialty\tfulfills\trequirements\n",
      "Hurricane Andrew\tstruck\tFlorida\n",
      "the Disaster Information Management Research Center\tprovides\tspecialized database\n",
      "Principles\tsuggest\tdistribution\n",
      "Procedural systems\temphasize\tcertain patterns\n",
      "Clara Barton\tstarts\torganization\n",
      "President Franklin Roosevelt\tmakes\tpublic request\n",
      "The North Atlantic Treaty Organization\tpublishes\tofficial disaster medicine manual\n",
      "Schaeffer.1984 United States Public Health Service\tforms\tfederal disaster medical response team\n",
      "Healthcare professionals\tjoin\tdiscussion group\n",
      "The University of New Mexico\tcreates\tthe Center for Disaster Medicine\n",
      "The September 11, 2001 attacks on the World Trade Center\tcause\tlargest loss\n",
      "HSPD-5\tmandates\tcreation\n",
      "terrorism.2004 Hurricanes Charlie\tbatter\tstate\n",
      "the Institute of Medicine\tpublishes\tthree reports\n",
      "internal dysfunctions\tproduce\tvariety\n",
      "broader sense\tincludes\tinjuries\n",
      "idiopathic disease\thas\tunknown cause\n",
      "aspects\tinclude\tlethargy\n",
      "health insurance policies\tdefine\tmedical condition\n",
      "term\texcludes\tinfections\n",
      "the World Health Organization's Social Determinants Council\trecognizes\tSocial determinants\n",
      "language habit\tcause\tconfusion\n",
      "Infectious diseases\tcomprise\tclinically evident illness\n",
      "Common treatments\tinclude\tmedications\n",
      "Epidemiologists\tstudy\tinteraction\n",
      "different groups\tuse\tsignificantly different definitions\n",
      "different researchers\treport\tdifferent numbers\n",
      "obesity\trepresent\twealth\n",
      "Sickness\tconfers\tsocial legitimization\n",
      "identification\thave\tsignificant social economic implications\n",
      "controversial recognition\thad\tnumber\n",
      "Social standing\taffect\thealth\n",
      "cancer patients\ttreat\tloss\n",
      "Authors\tused\ttuberculosis\n",
      "field\tincludes\teffect\n",
      "The ECHM-EDTC Educational and Training Standards for Diving and Hyperbaric Medicine\tspecify\tfollowing scope\n",
      "The ECHM-EDTC Educational and Training Standards for Diving and Hyperbaric Medicine\tspecify\tfollowing scope\n",
      "Studies\tshown\tStudies\n",
      "use\tinfluence\tfitness\n",
      "/UHMS Physicians\tTraining\tCourse\n",
      "Subject matter\tincludes\tBasic physics\n",
      "The Accreditation Council for Graduate Medical Education\toffer\t12 month programs\n",
      "Level 2D. Diving Medicine Physician\tminimum\t80 teaching hours\n",
      "DMP\thave\tknowledge\n",
      "DMP DMP\thave\tcertified skills\n",
      "Hyperbaric Medicine Physician\tminimum\t120 teaching hours\n",
      "Überdruckmedizin e. V. German standards\tinclude\tMedical Examiner of Divers\n",
      "Swiss standards\tinclude\tMedical Examiner of Divers\n",
      "Hyperbarmedizin Austrian standards\tinclude\tMedical Examiner of Divers\n",
      "The South African Department of Employment\tregisters\ttwo levels\n",
      "Offshore diving contractors\tfollow\tIMCA recommendations\n",
      "curriculum\tcovers\twide range\n",
      "curriculum\tcovers\twide range\n",
      "South Pacific Underwater Medicine Society\toffers\tDiploma of Diving and Hyperbaric Medicine\n",
      "Osteopathic physicians\tconstitute\t11%\n",
      "graduates\tattend\tgraduate medical education programs\n",
      "medical school accreditation standards\trequire\ttraining\n",
      "Osteopathic physicians\tconstitute\t11%\n",
      "graduates\tattend\tgraduate medical education programs\n",
      "medical school accreditation standards\trequire\ttraining\n",
      "holders\tuse\tpost - nominal letters\n",
      "candidate\tdefend\twork\n",
      "Universities\taward\ttypes\n",
      "the European Universities Association\tdefined\t\"the \"\"Salzburg Principles\"\n",
      "basic faculty\tawarded\tintermediate degrees\n",
      "The University of London\tintroduced\tDSc\n",
      "reforms\ttransformed\tthe Faculty of Philosophy or Arts\n",
      "Harvard\tbuilding\tmajor graduate programs\n",
      "leading universities\tset up\tnetwork\n",
      "student\trequired for\tHonours degree\n",
      "universities\trequire\tcoursework\n",
      "individual universities\tspecify\tadditional requirements\n",
      "PhD candidates\tspend\tentire study period\n",
      "PhD candidates\tspend\tperiods\n",
      "faculty members\tseen as\tdirection\n",
      "articles\texamined\tissue\n",
      "admission\trequires\tcompletion\n",
      "candidate\tdemonstrate\ttruthful original contributions\n",
      "Australian students\thave\tsources\n",
      "Australian PhD programs\thave\trequired coursework component\n",
      "Admission\trequires\tcompletion\n",
      "application package\tincludes\tresearch proposal\n",
      "successful completion\tpermits\tcontinuance\n",
      "PhD students\treceive\taward\n",
      "programs\trequire\tPhD candidates\n",
      "student\trequired that\tcomprehensive exams\n",
      "PhD course admission\trequire\tmaster degree\n",
      "candidate\tfind\tfunding\n",
      "company\thires\tcandidate\n",
      "standard PhD\tcompleted in\tBologna process\n",
      "candidate\tundergoes\toral examination\n",
      "Denmark\tintroduced\tDr. Phil(os\n",
      "Denmark\tintroduced\tAmerican style PhD\n",
      "candidates\tcomplete\ttwo trial lectures\n",
      "university diploma\tgranted by\tforce\n",
      "The Ministry of Science\tkeeps\ta National Registry of Theses called\n",
      "UK universities\tabbreviate\tUK universities\n",
      "US students\tundergo\tseries\n",
      "candidate\tundergoes\toral examination\n",
      "US universities\tawarded\t8,611 PhD diplomas\n",
      "PhD students\treceive\ttuition waiver\n",
      "second doctorate\tconstitutes\thigher qualification\n",
      "countries\thave\thigher numbers\n",
      "medical degrees\treceived\tlegal sanction\n",
      "students\tcomplete\tresidency\n",
      "Kabul medical institute\tcertified\tstudents\n",
      "universities\trenamed\tuniversities\n",
      "medical studies\ttake\t6 years\n",
      "the first two years\tcomprise\tbasic fields\n",
      "MDs\tuse\tdoctor\n",
      "duration\ttakes\t4 years\n",
      "Public universities\tcost\taround US$8,000 - US$12,000\n",
      "students\tobtain\tprofessional title\n",
      "physicians\tviewed as\tcourtesy denomination\n",
      "prestigious research universities\toffer\tprogram\n",
      "private public university\tselect\tprivate public university candidates\n",
      "students\tobtain\tdegree\n",
      "Université René Descartes\twelcomes\tabout 2,000 students\n",
      "medical students\tget\tspecial status\n",
      "Med students\tget\tfive weeks\n",
      "French medical students\treceive\ta State Diploma of Doctor of Medicine\n",
      "students\treceive\tDiploma of Complementary Specialized Studies\n",
      "About 60%\tobtain\tacademic degree\n",
      "Lincoln American University\tprovides\tmedicine programs\n",
      "Tel Aviv University\tintroduced\tyear program\n",
      "Approximately 30%\tpass\tMor Mirkam tests\n",
      "licensed Physician\thas\toption\n",
      "title\tдоктор\tмедицинских наук\n",
      "Tel Aviv University\thas\tmedical school\n",
      "the Yong Loo Lin School of Medicine\tconfers\tMB BS\n",
      "the Jessenius School of Medicine\thave\tinternational students\n",
      "the Jessenius School of Medicine\thas\talmost a thousand international students\n",
      "student\tis\tgymnasium grammar school\n",
      "Thai medical education\tfollows\t6-year European system\n",
      "medical students\tpass\tnational medical licensing examinations\n",
      "medical students\treceive\tdegree\n",
      "student\tgets\tstatus\n",
      "five years university education\tawarded upon\tthree years basic sciences\n",
      "American MD\thave\tidentical titles\n",
      "Public Universities\toffer\tdegree\n",
      "Government\trecognised\tFCPS qualification\n",
      "the National Board of Examinations\tawards\tDNB degree\n",
      "universities\toffering\tMD\n",
      "MD degree holder\tcertified as\t2–4 years\n",
      "MD degree\trequires\tbetween four and six years\n",
      "Commonwealth institutions\tretain\tThe MD\n",
      "Students\tfinish\tthe 3 years\n",
      "medical students\treceive\tsix years\n",
      "Medical students\treceive\tthree years\n",
      "the National Board of Health and Welfare\trequires\tminimum\n",
      "basic medical qualification\tis\tdegree\n",
      "medical schools\taward\tdegree\n",
      "the West African College of Physicians\taward\tFellowship\n",
      "MDs\tattend\tMD\n",
      "Leading causes\tincluded\tcardiovascular disease\n",
      "Hugh R. Leavell\tcoined\tterm primary prevention\n",
      "poor diet\tsurpass\ttobacco\n",
      "leading causes\tshare\tsimilar trends\n",
      "Ninety to 95 percent\thave\ttype 2 diabetes\n",
      "Prevention\tinclude\texercise\n",
      "Low middle income countries\tshare\tmajority\n",
      "carcinogens\tinclude\tasbestos radioactive materials\n",
      "cessation techniques\tinclude\tgroup support programs\n",
      "Studies\tshown\tlong term success rates\n",
      "Legislation\taffect\tsmoking prevention\n",
      "Cervical cancer\tranks among\tsub Saharan Africa\n",
      "methods\tinclude\tfecal occult blood testing\n",
      "study\trevealed\thealth disparities\n",
      "positive lifestyle choices\tis\tinvestment\n",
      "Cohen et al\toutlined\targuments\n",
      "obesity\timpairs\tcognitive achievement\n",
      "obese children\tincreased\thealth care expenses\n",
      "effect\taffect\tobese children contributions\n",
      "interventions\tsuggested that\tadditional effect\n",
      "Services\treduce\tmorbidity\n",
      "health assessments screenings\tcost\tsavings potential\n",
      "Preventive care\ttranscends\tdemographics\n",
      "The National Network of Perinatal Quality Collaboratives\tsupports\tstate based perinatal quality collaboratives\n",
      "state based perinatal quality collaboratives\tcontributed to\treductions\n",
      "Telehealth\trealized\tsignificant growth\n",
      "Policy actions\tguarantee\tutilization\n",
      "Inputs\thave\tsignificant effects\n",
      "childhood vaccines\tdemonstrate\thigh return\n",
      "Indirect costs\tcosts\tbillions of dollars\n",
      "United States\temploys\tpublic health policy efforts\n",
      "states\temploy\tphysical education requirement\n",
      "advertisements\treceived\tattention\n",
      "18 states\tallow\texemptions\n",
      "DOI names\tidentify\tcreative works\n",
      "registries\tinclude\tCrossref\n",
      "the International DOI Foundation\toversees\tintegration\n",
      "the Handle System\thave\tapproach\n",
      "document\tused as\ttwo URLs\n",
      "DOI resolvers\tconsult\topen access resources\n",
      "IDF\tholds\tannual open meetings\n",
      "Registration agencies\tprovide\tservices\n",
      "Digital Object Identifier System\tmet\tISO requirements\n",
      "relevant ISO Working Group\tsubmitted\tedited version\n",
      "Canada southern and western border\tis\t8,891 kilometres\n",
      "Canada\tranks among\tcivil liberties\n",
      "Canada's long relationship\thad\tsignificant impact\n",
      "Canada\thas\tincome\n",
      "characteristics\tincluded\tpermanent settlements\n",
      "attempts\treached\tclimax\n",
      "European\tbelieved that\teast coast\n",
      "Sir Humphrey Gilbert\tfounded\tSt. John's, Newfoundland\n",
      "French\testablished\tFrench seasonal trading post\n",
      "Canadiens\tsettled\tSaint Lawrence River valley\n",
      "English\testablished\tadditional settlements\n",
      "The Durham Report\trecommended\tresponsible government\n",
      "The Act of Union 1840\tmerged\tCanadas\n",
      "The Alaska Purchase\testablished\tborder\n",
      "the British North America Act 1867\tproclaimed\tCanadian Confederation\n",
      "parliament\tcreated\tthe Yukon Territory\n",
      "Indigenous peoples\tsaw\twidespread famine\n",
      "responsible government\tprovide\temergency relief\n",
      "Britain\tmaintained\tcontrol\n",
      "The Great Depression\tsaw\teconomic downturn\n",
      "Co - operative Commonwealth Federation\tintroduced\telements\n",
      "delay\tunderscored\tCanada's independence\n",
      "Canadian troops\tplayed\timportant roles\n",
      "Canada\tprovided\tasylum\n",
      "Canada\tfinished\twar\n",
      "series\tresulted in\tpatriation\n",
      "Canada\testablished\tcomplete sovereignty\n",
      "number\tshook\tCanadian society\n",
      "Canada\tjoined\tsuccessful American War\n",
      "new country\tencompasses\t9,984,670 km2\n",
      "Canada\thas\tvast maritime terrain\n",
      "five marine ecozones\tencompass\tover 80,000 classified species\n",
      "Canada's first National Park\tspans\t6,641 square kilometres\n",
      "snow\tcover\tground\n",
      "British Columbia's\thas\ttemperate climate\n",
      "Peace\tfounding\tprinciples\n",
      "good government\tcalled by\tconfidence vote\n",
      "the Canada Elections Act\theld\tthis to four years\n",
      "age 75.Canada federal structure\tThe 105 members of\tgovernment responsibilities\n",
      "minister\tutilize\tStatistics Canada agency\n",
      "The Bank of Canada\tissued by\tCanadian coins\n",
      "The Constitution Act\taffirmed\tgovernance\n",
      "federal Cabinet\tappoints\tjustices\n",
      "Canadian Aboriginal law\tprovides\tcertain constitutionally recognized rights\n",
      "Canada's peacekeeping role\tplayed\tmajor role\n",
      "Canada\tmaintains\thistoric ties\n",
      "Canada\tdeployed\ttroops\n",
      "Russia\temploys\tprofessional volunteer military force\n",
      "Canada's military expenditure\ttotalled\tbillion\n",
      "good government\tannounced\t70 percent increase\n",
      "The Canadian Forces\tacquire\t88 fighter planes\n",
      "Canada's military\thas\t3000 personnel\n",
      "provinces\tcollect\trevenue\n",
      "changes\trequire\tconstitutional amendment\n",
      "Canadian trade\treached\ttrillion\n",
      "Canada\thad\ttrade deficit\n",
      "growth\ttransformed\tRussia\n",
      "The Automotive Products Trade Agreement\topened\tCanada's borders\n",
      "Canada\thas\tstrong cooperative banking sector\n",
      "Canada\tspent\tCA$34.5 billion\n",
      "new country\tproduced\tfifteen Nobel laureates\n",
      "2016 Canadian Census\tenumerated\ttotal population\n",
      "Canada\thas\tone of the highest per\n",
      "Canadian public\tsupport\tcurrent level\n",
      "Canada\texperiencing\tcost increase\n",
      "Canada\thas\tone\n",
      "Canada\thas\tlarge number\n",
      "Canada\tspends\tabout 5.3 percent\n",
      "just over 7.3 million Canadians\tlisted\tnon - official language\n",
      "Canada's federal government\tpractices\tofficial bilingualism\n",
      "English\thave\tequal status\n",
      "provinces\thave\tofficial languages\n",
      "French\thas\tlegal status\n",
      "Indigenous languages\thave\tofficial status\n",
      "23.9 percent\tdeclared\treligious affiliation\n",
      "Canada\tplaced\temphasis\n",
      "Canadian comedians\tachieved\tinternational success\n",
      "Canada\thas\tdeveloped media sector\n",
      "penny\tfeatured\tmaple leaf\n",
      "The Canadian Academy of Recording Arts and Sciences\tpresents\tCanada's music industry awards\n",
      "Canadian Music Hall\thonours\tCanadian musicians\n",
      "Canada\tshares\tmajor professional sports leagues\n",
      "Canadian teams\tinclude\tseven franchises\n",
      "popular professional sports\tinclude\tCanadian football\n",
      "Canada\thosted\t2015 Pan American Games\n",
      "Specializations\tinclude\tbehavioral endocrinology\n",
      "Examples\tinclude\tthyroid hormone\n",
      "Griffin\tidentify\tthree different classes\n",
      "clinical specialty\tinvolves\tdiagnostic evaluation\n",
      "second important aspect\tdistinguishing\thuman variation\n",
      "Typical training\tinvolves\t4 years\n",
      "main article\tSee\tstudy\n",
      "principal professional organizations\tinclude\tThe Endocrine Society\n",
      "sex pituitary hormones\tused\tcomplex methods\n",
      "German Karl Adolph von Basedow\treported\tconstellation\n",
      "Otto Loewi\tincubated\tfrog heart\n",
      "Otto Loewi\twon\tthe Nobel Prize\n",
      "Sub specializations\tinclude\tdisaster medicine\n",
      "emergency physician\trequires\tbroad field\n",
      "family physicians\tstaff\temergency departments\n",
      "delay\tdefined as\tlikelihood\n",
      "patients\tutilize\tEDs\n",
      "common misconception\tpegs\tfrequent ED visitors\n",
      "ED users\tmake up\tsmall portion\n",
      "physician knowledge\timprove\tcost effective use\n",
      "EMTALA\tholds\thospital\n",
      "mandate\tprovides\tsupport\n",
      "physician\testablished\taffirmative action\n",
      "One study\tidentified\terror rate\n",
      "countries\tdevelop\ttraining programs\n",
      "International emergency medicine\tprovides\timportant global perspective\n",
      "Dual fellowship programs\tadd\tone or more years\n",
      "attending physician\tfollow\tsupra specialty programme\n",
      "Emergency\tbegins\tjourney\n",
      "emergency physicians\toutnumber\tFRCP(EM physicians\n",
      "length\tallows\ttime\n",
      "EM post - graduate training\ttook\tplace\n",
      "licensed physician\thandled as\tadditional qualification\n",
      "private hospitals\tproviding\tEmergency Medicine training\n",
      "The American Osteopathic Board of Emergency Medicine\tcertifies\temergency physicians\n",
      "Specialty training\ttakes\tsix years\n",
      "college\taccredited\ttraining\n",
      "Certificate courses\tinclude\tACLS\n",
      "House\tdiagnoses\theavy metal poisoning\n",
      "The A.V. Club\tgave\tD+ rating\n",
      "Family Practice\tincludes\tsection\n",
      "family nurse practitioner\tprovides\tcontinuing comprehensive healthcare\n",
      "family nurse practitioner\tselect\tsub specialty\n",
      "FNPs\tdeliver\trange\n",
      "the American Board of Internal Medicine\tapproved\t3-year combined fellowship training program\n",
      "The John A. Hartford Foundation\tfunded\t10 institutions\n",
      "friendly society\tis\tmutual society\n",
      "friendly societies\tprovided\tfinancial social services\n",
      "friendly societies\tplayed\timportant\n",
      "The Museum of English Rural Life\thas\tcollection\n",
      "form\tfelt that\tform\n",
      "Similar organisations\ttrading\tbusinesses\n",
      "Examples\tinclude\tco - operatives\n",
      "EHRs\tinclude\trange\n",
      "research literature\tpaints\trealistic picture\n",
      "Digitization\tfacilitates\tcollection\n",
      "standardization\tcreate\tchallenges\n",
      "Emergency medical services\tintroduced\tuse\n",
      "benefits\tinclude\tpatient data sharing\n",
      "research traditions\tsee\tEHR\n",
      "use\treduce\tnumber\n",
      "implementation\tdecrease\tidentification time\n",
      "research\tshowed that\tdeficiencies\n",
      "physicians\tembracing\tmobile technologies\n",
      "Failure\tcreate\tcostly time consuming interruptions\n",
      "personal information\tincludes\tnon - digital electronic form\n",
      "NHS Digital\tsaid to\tchanges\n",
      "International Organization for Standardization (ISO\tsettled\tthorough word\n",
      "majority\tmade\tstrategy\n",
      "the United States\timposed\tmandatory medical data breach notifications\n",
      "CEN's TC/251\tprovides\tEHR standards\n",
      "CONTSYS\tsupports\tcontinuity\n",
      "ISO – ISO TC\tprovides\tinternational technical specifications\n",
      "U.S. federal government\tissued\tnew rules\n",
      "open community\tOpen specifications.openEHR\tspecification\n",
      "CDMs\tuse\trelational model\n",
      "physician input interface\tdone so\tpreviously utilized paper forms\n",
      "Customization\thave\tinstitution disadvantages\n",
      "Records\thave\tpotential\n",
      "Russia\tlaunched\tmajor project\n",
      "the Unified Medical Information and Analytical System\tconnects\tmore than 660 clinics\n",
      "89%\tused\tPractice Management System\n",
      "YorDales Health Ltd\tcovers\t17 practices\n",
      "60%\thad\tGMS contract\n",
      "Virtually doctor\thad\tpersonal contract\n",
      "BMA\tformulated\tCharter\n",
      "The 'Red Book' (Statement of Fees and Allowances\tdetailed\tpayment tariffs\n",
      "GP Fundholding scheme\tgave\tbudget\n",
      "practice\tgets\tshare\n",
      "Main changes\tincluded\tnamed accountable GP\n",
      "GP practices\treceive\t85.35 per weighted patient under The 2015 Contract\n",
      "deal\tguarantee\tminimum 2 % uplift\n",
      "Richard Vautrey\tdescribed\tchanges\n",
      "health care professional health care body\tenter\tlocal contract\n",
      "Gastroenterologists\tperform\tnumber\n",
      "Interventional gastroenterologists\tundergo\tan additional year\n",
      "Hippocrates\tattributed\tdigestion\n",
      "German Johann von Zimmermann\twrote\timportant work\n",
      "Maximilian Stoll\tdescribed\tcancer\n",
      "Charles Emile Troisier\tdescribed\tenlargement\n",
      "William Beaumont\tpublished\tExperiments and Observations on the Gastric Juice\n",
      "Adolf Kussmaul\tdeveloped\tgastroscope\n",
      "William Beaumont\tperfected\ttechnique\n",
      "Carl Stoerk\tdemonstrated\tesophagoscope\n",
      "Karl Wilhelm von Kupffer\tdescribed\tproperties\n",
      "Hugo Kronecker\tstudied\toesophageal manometry\n",
      "Jesse McClendon\ttested\tacidity\n",
      "Walter Alvarez\tdid\telectrogastrography research\n",
      "Rudolf Schindler\tdeveloped\tsemiflexible gastroscope\n",
      "Burrill Bernard Crohn\tdescribed\tCrohn's disease\n",
      "Basil Hirschowitz\tintroduced\tprototype\n",
      "1978 Alma Ata Declaration\tset\tintellectual foundation\n",
      "student\tmake\tstudent\n",
      "student\treplace\tphysicians\n",
      "huisarts\tadministers\tfirst line\n",
      "patients\tconsult\thospital specialist\n",
      "GPs\thave\tspecialist interest\n",
      "First and third year\ttakes\tplace\n",
      "residents\tget\tone day\n",
      "residents\ttake\tnational GP knowledge test\n",
      "General Practitioner\thas\tbroad legal rights\n",
      "4 years training program\tincludes\tcore specialties\n",
      "trainee\ttraining:.Two years of\trotation\n",
      "medical practitioner\tcomplete\tvariety\n",
      "practical examination\ttakes\tform\n",
      "doctor\tcomplete\telectronic portfolio\n",
      "Wales\tabolished\tcharges\n",
      "Recent reforms\tincluded\tchanges\n",
      "North America\tholds\tdifferent definition\n",
      "Board certification agencies\tincreasing\tBoard certification agencies fees\n",
      "General Practice of Canada\tundergone\tchanges\n",
      "new GPs\trequired in\tMedicare rebates\n",
      "programs\tawarded\tpermanent unrestricted eligibility\n",
      "choices\tinclude\tAboriginal\n",
      "new graduates\tcomplete\tGPEP\n",
      "The Australian Government\tincreased\tnumber\n",
      "general surgeons\tobtain\tadvanced training\n",
      "General surgeons\ttreat\twide variety\n",
      "General surgeons\tperform\tmajority\n",
      "Transplanted organs\tinclude\tliver kidney pancreas rarely small bowel Surgical oncology\n",
      "cardiothoracic surgeons\tcomplete\tgeneral surgery residency\n",
      "Pediatric surgeons\tdo\tsurgery\n",
      "surgical trainees\tenter\ttraining\n",
      "doctors\tsit\texamination\n",
      "surgeons\thold\ttitle Mister\n",
      "term Primary Care\tinclude\tservices\n",
      "patients\thave\tdirect access\n",
      "The British Medical Association\tconducted\tsurvey\n",
      "1 % deterioration\tproduce\t10 % deterioration\n",
      "2017 more than 1,061 practices\temploying\tpharmacists\n",
      "Northumbria Healthcare NHS Foundation Trust\ttaken over\tmultiple GP practices\n",
      "40%\tgot\tday appointment\n",
      "The British Medical Association\tdemanded\tincreased funding\n",
      "new GP contract\tincluded\tfunding\n",
      "Previous health issues\tproduce\tdifferent constellation\n",
      "Smokers\tconsume\tSmokers respiratory system reserve\n",
      "Elderly people\trequire\tspecific attention\n",
      "polypharmacy\tincrease\trisk\n",
      "Charaka\tdescribed\tfatigue\n",
      "number\tstudied\tgeriatrics\n",
      "Alexander\tviewed\tprocess\n",
      "works\tdescribe\tmental physical symptoms\n",
      "Theophilus Protospatharius\tdiscussed\ttopic\n",
      "Byzantine physicians\trecommended\tfrequent bathing\n",
      "Arab physician\twrote\tbook\n",
      "George Day\tpublished\tthe Diseases of Advanced Life\n",
      "Geriatricians\tdeveloped\texpanded expertise\n",
      "Doctors\tcomplete\tyear core internal medicine residency program\n",
      "only eight major institutes\tprovide\tM.D\n",
      "content domain\tspecifies\tthree or more observable, measurable competencies\n",
      "International sites\tinclude\tAustralia\n",
      "Changes\talter\tabsorption\n",
      "nearly 1 of 3 medical regimens\tfound that\tpotential medication error\n",
      "Elderly persons\tmake\tdecisions\n",
      "topical anesthesia\tused for\tcooperation\n",
      "Sterile precautions\tinclude\tuse\n",
      "Canaloplasty\tuses\tmicrocatheter technology\n",
      "Macular translocation\tsurgery.through\t360° retinotomy.through scleral imbrication technique\n",
      "Oculoplastic surgeons\tperform\tprocedures\n",
      "Canaliculotomy\tinvolves\tslitting\n",
      "term\tmeans\tscience\n",
      "Texts\tprovides\tdetails\n",
      "Hippocratic Corpus\tcontains\tgynaecological treatises\n",
      "Anarcha, J. Marion Sims\tperformed\t30 surgeries\n",
      "women condition\treferred to\ttraining\n",
      "Gynaecological examination\trequires\tunique instrumentation\n",
      "Male gynaecologists\thave\tfemale chaperone\n",
      "Pre- post - operative medical management\temploy\tstandard drug therapies\n",
      "the Royal College of Obstetricians and Gynaecologists\tencourages\tstudy\n",
      "generic drug\tcontain\tactive ingredients\n",
      "The U.S. Food and Drug Administration\trequires\tgenerics\n",
      "patents\tgive\t20 years\n",
      "Manufacturers\tincrease\tprices\n",
      "Generic drug companies\treceive\tbenefit\n",
      "India\texports\tgeneric drugs\n",
      "physicians\tThe code of\tdrugs\n",
      "Indian generics companies\texported\tUS$17.3 billion worth\n",
      "entry\tbrought\tstronger patent system\n",
      "major companies\tdominate\tgeneric drugs market\n",
      "Plastic surgeons\treceive\tsignificant training\n",
      "graduates\tdo\tadditional year hand fellowship\n",
      "Hand surgery\tincorporates\ttechniques\n",
      "Hand surgeons\tperform\twide variety\n",
      "specialists\thave\textensive training\n",
      "smoking\tresearched to\trole\n",
      "minority\trequire\tremoval\n",
      "Scandinavian countries\thave\tincidence\n",
      "Cervical cancer\tmakes up\tlargest percentage\n",
      "barriers\tinclude\tchanges\n",
      "people\tuse\thealthcare centers\n",
      "local community services centers\toffer\troutine health social services\n",
      "health center\tcovered\tarea\n",
      "ACES\tinclude\tpublic health\n",
      "Interim Report\tlaid down\tdetailed plans\n",
      "known center\thad\tprovision\n",
      "The U.S. Public Health Service\tissued\treport\n",
      "meta evaluation\tfound\tworksite health promotion\n",
      "government agencies\thave\tsubstantial efforts\n",
      "The International Union for Health Promotion and Education\tholds\tinternational regional national conferences\n",
      "The European Union\tfunding\tJoint Action\n",
      "ACT Health\tsupports\thealth promotion\n",
      "Aboriginal Torres Strait Island citizens\thad\tpoor health\n",
      "health\tEnabling\tinitiatives\n",
      "approach\thas\timportant contribution\n",
      "2012\testimated\thealthy life expectancy\n",
      "exam\treflects\tentry level sub competencies\n",
      "Hematology\tis\thaematology\n",
      "diseases\tinclude\themophilia\n",
      "teaching hospital\tcombines\tassistance\n",
      "Hospitals\thave\trange\n",
      "Common support units\tinclude\tpharmacy\n",
      "hospitals\tserved\tdifferent functions\n",
      "Larger cities\thave\thospitals\n",
      "district hospitals\tprovided\t$54 million\n",
      "teaching hospital\tdelivers\thealthcare\n",
      "Students\tobserve\tclinical work\n",
      "hospital\thave\tacute services\n",
      "equipped hospital\thave\tservices\n",
      "hospitals\thave\toutpatient departments\n",
      "hospital\thave\tdepartment\n",
      "Support units\tinclude\tmedical records department\n",
      "COVID-19 pandemic\tstimulated\tdevelopment\n",
      "West Hertfordshire Hospitals NHS Trust\tstarted\tCOVID Oximetry@Home service\n",
      "ancient chronicle\thad\thospitals\n",
      "declaration\tdrove\texpansion\n",
      "Facilities\tincluded\tsystematic treatment procedures\n",
      "Islamic bimaristan\ttreated\tpoor\n",
      "The London Dispensary\topened\tThe London Dispensary doors\n",
      "hospitals\thad\ttrebled hospitals original average intake\n",
      "Modern hospitals\tmeasure\tefficiency metrics\n",
      "Modern hospitals\tderive\tfunding\n",
      "7%\tacquire\tat least one health care-associated infection\n",
      "Sushruta\tintroduced\tconcepts\n",
      "Universities\tbegan\tsystematic training\n",
      "Military doctors\tadvanced\tmethods\n",
      "rapid growth\tdeveloped\tsystematic sanitary measures\n",
      "tribal culture specialized specific castes\tfulfilled\trole\n",
      "Neolithic dentists\tThe first known dentistry dates to\tflint tipped drills\n",
      "ancient Mesopotamians\thad\tdistinction\n",
      "Babylonians\tintroduced\tpractice\n",
      "the Diagnostic Handbook\tintroduced\tmethods\n",
      "hands\tknown as\tcontrol\n",
      "Atharvaveda\tcontains\tprescriptions\n",
      "ancient compendia\tinclude\tdetails\n",
      "Susruta\tdescribed\tmore than 125 surgical instruments\n",
      "Ayurvedic classics\tmention\teight branches\n",
      "Unani medicine\tfound\tdeep roots\n",
      "Muslim rulers\tbuilt\tlarge hospitals\n",
      "China\tdeveloped\tlarge body\n",
      "The Jin Dynasty practitioner\tquotes\tthe Yellow Emperor\n",
      "the Methodist Church\tset up\thighly successful Wai Ai Clinic\n",
      "missionaries\tsent\twomen doctors\n",
      "Dr. Mary Hannah Fulton\tfounded\tmedical college\n",
      "Chinese scholars\testablished\tcorrelation\n",
      "800 BCE Homer\tgives\tdescriptions\n",
      "Hippocratics\tinvented\tHippocratic Oath\n",
      "Two great Alexandrians\tlaid\tfoundations\n",
      "Alexandrian surgeons\tgave\tligature\n",
      "Erasistratus\tconnected\tincreased complexity\n",
      "air\tdrawn by\thuman body\n",
      "Galen\tperformed\taudacious operations\n",
      "Galen\texplains\tmental properties\n",
      "Romans\tinvented\tnumerous surgical instruments\n",
      "Romans\tperformed\tcataract surgery\n",
      "Early Christians\tincorporated\tmedicine\n",
      "Byzantine medicine\tencompasses\tcommon medical practices\n",
      "Canon of Medicine\tpresents\toverview\n",
      "hospitals\thave\tmix\n",
      "patient care aspects\ttaken\teffect\n",
      "Wallis\tidentifies\tprestige hierarchy\n",
      "person\thave\texcess\n",
      "Moods\taffect\tbalance\n",
      "natural faculty\taffects\tgrowth\n",
      "Animal\tcontrols\trespiration\n",
      "natural faculty\tcommands\tsenses\n",
      "Renaissance\tbrought\tintense focus\n",
      "Galen\trejected\tsacred magic\n",
      "The University of Padua\tplayed\tleading role\n",
      "Vesalius\tportrayed\tbody\n",
      "Italian city\tattracted\tstudents\n",
      "Turisanus\tcovered\tsurgical techniques\n",
      "Catholic women\tplayed\tlarge roles\n",
      "local officials\trecognized\tpublic value\n",
      "bequest\tfunded\texpansion\n",
      "Spanish pharmaceutical books\tcontain\tmedicinal recipes\n",
      "the British Empire\ttransplanted\therbs\n",
      "Hospital doctors\tbegan\tsystematic analysis\n",
      "Agostino Bassi\ttraced\tsilkworm disease muscardine\n",
      "species pathogenicity\tused to\ttuberculosis treatment\n",
      "professionalization\tforced\tWomen\n",
      "The Russian Orthodox Church\tsponsored\tseven orders\n",
      "major reformer\tcreated\tthe Paris Hospital\n",
      "French scientist Louis Pasteur experiments\tsupported\tgerm theory\n",
      "Pasteur\tbrought\tscientists\n",
      "Lehre von den Augenkrankheiten\tcombined\tpractical research\n",
      "U.S. Civil War\thad\tdramatic long term impact\n",
      "surgeons\twere\tcoffee\n",
      "Harsh weather\ttook\tdirty camp hospitals toll\n",
      "Numerous new agencies\ttargeted\tmedical morale needs\n",
      "Johns Hopkins Hospital\toriginated\tmodern medical practices\n",
      "Japanese elites\tembraced\tWestern medicine\n",
      "Japanese elites\tprepared by\tcontact\n",
      "Japanese physicians\trecognized\tvalues\n",
      "General Pancho Villa\torganized\thospital trains\n",
      "Boxcars\tmarked\tServicio Sanitario\n",
      "Thousands of scarred troops\tprovided\tneed\n",
      "U.S. Civil War\tspurred\tusage\n",
      "casualties\treceiving\ttreatment\n",
      "The U.S. Army\testablished\tprograms\n",
      "Japanese doctors\tconducted\tlarge numbers\n",
      "United Nations agency\tfounded in\tglobal health\n",
      "long known vaccine\teradicated\tdisease\n",
      "sexual revolution\tincluded\ttaboo breaking research\n",
      "Family planning\tpromoted\tdemographic transition\n",
      "struggle\timproved\tantiretroviral treatments\n",
      "Joseph Murray\taccomplished\tkidney transplantation\n",
      "Ellen S.\tTo\tBalance\n",
      "ICD-10\tcontains\tcodes\n",
      "ICD-10-CM\thas\tover 70,000 codes\n",
      "online training\tincludes\tsupport forum\n",
      "France\tintroduced\tclinical addendum\n",
      "Hungary\tintroduced\tuse\n",
      "5th Edition\treplaced\tthe 4th Edition\n",
      "federal agency\tpostponed by\tnumerous factors\n",
      "expansion\tprompted\tneed\n",
      "the American Osteopathic Association Bureau of Osteopathic Specialists\tapproved\tCertificate\n",
      "ICPC-2 PLUS\ttakes into\tfrequency distribution\n",
      "user\tselects\tappropriate term\n",
      "reasons\tmight\tbe:.Drug overdose\n",
      "400 BC Hippocrates\tmentioned\tliver abscess\n",
      "Roman anatomist Galen\tidentified\tliver relationship\n",
      "Justus Von Leibig\tdiscovered\tpancreatic juice\n",
      "Austin Flint\tdescribed\tproduction\n",
      "Victor Charles Hanot\tdescribed\tcirrhotic jaundice\n",
      "Moore\tdeveloped\tstandard technique\n",
      "investigators\tidentified\thepatitis C virus\n",
      "PancreaseAlso\tsee\tHepato-biliary diseases\n",
      "identifier\tidentifies\tperiodical publications\n",
      "The International Standard Music Number\tcovers\tmusical scores\n",
      "the International Organization for Standardization (ISO\tappointed\tthe International ISBN Agency\n",
      "ebook\thave\tdifferent ISBN\n",
      "Câmara Brasileira\tdo\tLivro\n",
      "Books\thave\tlonger group elements\n",
      "national ISBN agency\tassigns\tregistrant element\n",
      "publisher\treceive\tblock\n",
      "publisher\thave\tdifferent allotted registrant elements\n",
      "remainder\tequal\t0 or 11\n",
      "A zero\treplaces\t10\n",
      "Publishers\thave\tvaried policies\n",
      "libraries\tdisplay\tbook record\n",
      "upgrading\teased\tmigration\n",
      "Uniform Resource Names\tRFC 3187—Using International Standard Book Numbers as\tsearch\n",
      "use\tfacilitates\tsearch\n",
      "The International Centre\tthe ISDS Register (International Serials Data System\tdatabase\n",
      "the ISSN Register\tcontained\trecords\n",
      "print version\tinclude\tISSN code\n",
      "serial websites\tcontain\tISSN code information\n",
      "Derivative lists\tfound through\tISSN codes\n",
      "WorldCat library\tRegister This\titem\n",
      "new ISSN\tassigned to\tmajor title change\n",
      "Nature\tused as\tISSN\n",
      "metadata contexts\thave\tstandard labels\n",
      "U.S. publishers\tobtain\tISSN\n",
      "scope\tincludes\tacute patient care\n",
      "hospitalists\tlack\tboard certification\n",
      "universities\tstarted\tfellowship programs\n",
      "primary care physicians\texperiencing\tshrinking role\n",
      "IMA SW\tincludes\t25 state chapters\n",
      "involvement\timprove\tpatient outcomes\n",
      "specialists\tprovide\tlong term care\n",
      "physicians\tdeveloped\tnosology\n",
      "General internal medicine specialists\ttrained for\tnecessarily expertise\n",
      "programs\trequire\tprevious undergraduate education\n",
      "residency training\tlasts\tthree years\n",
      "American College of Osteopathic Internists Osteopathic Internists\trecognizes\tfollowing subspecialties:.Allergy Immunology\n",
      "Tropical medicineMany training programmes\tprovide\tdual accreditation\n",
      "subspecialties\tfocused on\tprocedural treatment:.Cardiology\n",
      "ICPC\tcontains\t17 chapters:.A General\n",
      "Early political consolidations\tgave\trise\n",
      "Middle kingdoms\texported\tDravidian-languages scripts\n",
      "Christianity\tput down\troots\n",
      "the Vijayanagara Empire\tcreated\tlong lasting composite Hindu culture\n",
      "ideas\tgranted\troot\n",
      "Indian movies\tplay\tincreasing role\n",
      "India\thas\tdisputes\n",
      "India's land forest cover\tcomprises\t21.4%\n",
      "Hinduism\tasserted\tpatriarchal control\n",
      "the Islamic Delhi Sultanate's raiding\tpaved\tway\n",
      "number\testablished\tcoastal outposts\n",
      "appointment\tset\tstage\n",
      "the Indian National Congress\twon\tvictories\n",
      "Indian movies\tplay\tincreasing role\n",
      "India\thas\tunresolved territorial disputes\n",
      "Deccan Plateau\tcontains\tcountry oldest rock formations\n",
      "mainland coastline\tconsists of\t43% sandy beaches\n",
      "Coastal features\tshared with\tmarshy Rann\n",
      "India\thas\ttwo archipelagos\n",
      "India's subsequent collision\tset off\tmass exchange\n",
      "volcanism\tcaused\textinction\n",
      "India\tcontains\t172 IUCN-designated threatened animal species\n",
      "pervasive ecologically devastating human encroachment\tendangered\tIndian wildlife\n",
      "the Indian National Congress\twon\teasy victories\n",
      "the Bharatiya Janata Party\twon\tabsolute majority\n",
      "year period\tfollowed\tgeneral election\n",
      "short lived alliances\tshared\tpower\n",
      "Federalism\tdefines\tpower distribution\n",
      "parliament\tcomprises\tupper house\n",
      "states\telected\tlegislatures\n",
      "India\thas\twide ranging defence relations\n",
      "India\tplayed\tkey roles\n",
      "India\tprovided\t100,000 military and police personnel\n",
      "India\tsigned\tComprehensive Nuclear Test Ban Treaty\n",
      "indigenous military projects\tinvolve\tdesign\n",
      "India\tincreased\tIndia economic, strategic, and military co-operation\n",
      "world second largest military\tcomprises\tthe Indian Army\n",
      "the Indian Space Research Organisation\tlaunched\tthe South Asia Satellite\n",
      "Indian governments\tfollowed\tprotectionist policies\n",
      "Widespread state intervention\twalled\tIndian economy\n",
      "Major agricultural products\tinclude\trice\n",
      "Major industries\tinclude\ttextiles\n",
      "Major exports\tinclude\tpetroleum products\n",
      "Major imports\tinclude\tcrude oil\n",
      "Living Report\thighlights\tkey growth factors\n",
      "India's R & D spending\tconstitutes\t60%\n",
      "India\tcontained\tlargest number\n",
      "post - colonial census\tcounted\t361 million people\n",
      "India\thas\tnational language\n",
      "India\thas\tlargest Muslim population\n",
      "Indian cultural history\tspans\tmore than 4,500 years\n",
      "Indian writers\ttook\tnew interest\n",
      "Classical music\tencompasses\ttwo genres\n",
      "Indian dance\tfeatures\tdiverse folk\n",
      "Theatre\tmelds\tmusic\n",
      "Indian theatre\tincludes\tbhavai\n",
      "India\thas\ttheatre training institute\n",
      "Indian film industry\tproduces\tworld watched cinema\n",
      "satellite channels\tshaped\tpopular culture\n",
      "known\tinclude\tDiwali\n",
      "caste\treduced\tprivate spending\n",
      "India\thad\t900 universities\n",
      "kameez\thave\tEuropean style collar\n",
      "fashions\tchanged\tgreat deal\n",
      "Columbian exchange\tbrought\tpotato\n",
      "mental representation\ttakes\tform\n",
      "Chess\tregaining\twidespread popularity\n",
      "Major international sporting events\tinclude\tthe Chennai Open\n",
      "Immunology\thas\tapplications\n",
      "Classical immunology\tstudies\trelationship\n",
      "immune system\thas\tcapability\n",
      "Maternal factors\tplay\trole\n",
      "Antigen presenting cells\tproduce\tnegative response\n",
      "child\tproduce\tdampened response\n",
      "Passively acquired maternal antibodies\tsuppress\tantibody response\n",
      "cell surface receptors\tis\tsex hormones\n",
      "androgens\tincrease\timmune response\n",
      "Physical changes\taffect\timmunological response\n",
      "Ecoimmunology\texplores\trelationship\n",
      "Monarch butterfly\tlays\tMonarch butterfly eggs\n",
      "toxins\treduce\tparasite growth\n",
      "uninfected Monarch butterflies\tsuffer\tfitness cost\n",
      "The end of the 19th century\tsaw\tbattle\n",
      "Macfarlane Burnet\tformulated\tclonal selection theory\n",
      "The King's Fund\torganises\tconferences\n",
      "The King's Fund\tfunded\tyearly award system\n",
      "The King's Fund\tchanged\tThe King's Fund name\n",
      "Parliament\tincorporated\tThe King's Fund\n",
      "List\tthink\ttanks\n",
      "organizations\tput\tpressure\n",
      "J1\trequires\t2-year home residence\n",
      "patients\tshowed that\tlower mortality\n",
      "teams\tinclude\tdoctors\n",
      "Indications\tinclude\tblood pressure support\n",
      "ICU needs\tinclude\tairway\n",
      "cumulative effects\trequires\tadvanced care\n",
      "intensivist\ttakes on\tprimary role\n",
      "closed units\tis\tbetter patient outcomes\n",
      "hospitals\tdesignated\tintensive care areas\n",
      "E-ICU)Medical studies\t(NCCU).overnight intensive-recovery (OIR).shock/trauma intensive-care unit\trelation\n",
      "Hospitals\thad\toutcomes\n",
      "American neurosurgeon Walter Dandy\tcreated\tbed unit\n",
      "Ibsen\tauthored\tknown account\n",
      "Electroencephalography\tassess\telectrical activity\n",
      "Electrocardiogram\tdetect\tabnormal heart rhythms\n",
      "Intensive care\ttakes\tapproach\n",
      "Ventricular\tassist\tdevice\n",
      "Intensivists\tpursue\tcombined fellowship training\n",
      "Nurses\tpursue\tadditional education\n",
      "Inclusion\tdecreases\tdrug reactions\n",
      "Nutrition\tpresents\tunique challenges\n",
      "Respiratory therapists\tpursue\tadditional education\n",
      "LGA's published business plan\tsets out\tAssociation main lobbying priorities\n",
      "LGA\thas\tnumber\n",
      "Local Councils Association of the PunjabCymdeithas Llywodraeth Leol\tCymru).The\tLocal Government Chronicle\n",
      "Non-MSTP funded dual degree programs\thave\tflexibility\n",
      "combined research graduate level medical education\textends\tresidency period\n",
      "students\tfollow\t2-PhD-2 plan\n",
      "graduates\tmake up\tjust 2.5%\n",
      "MD PhD graduates\tpractice\tclinical medicine\n",
      "American Physician Scientists\tAssociation.==\tReferences\n",
      "Lancet\theld\tconference\n",
      "degree\tcomplement\texisting fellowship\n",
      "master degree\trequires\tprevious study\n",
      "Nineteenth century\tsaw\tgreat expansion\n",
      "title\tindicates\textended degree\n",
      "generically named master programs\tinclude\tthe Master of Studies\n",
      "universities\tuse\tLatin degree names\n",
      "Examples\tinclude\tHarvard University\n",
      "extended master degrees\tuse\ttitle doctor\n",
      "Examples\tinclude\tMBA\n",
      "The United States Department of Education\tclassifies\tmaster degrees\n",
      "Research master degrees\trequire\tcompletion\n",
      "The Australian Qualifications Framework\tclassifies\tmaster degrees\n",
      "Coursework master degrees\tlast\tone to two years\n",
      "research\tclassified as\tless than half\n",
      "MPhil\ttakes\ttwo calendar years\n",
      "master degree\ttake\tup to two years\n",
      "The Framework for Higher Education Qualification\tlevel\t7 qualifications\n",
      "Admission\trequires\tsuccessful completion\n",
      "title\trequires\tmaster degree\n",
      "master degree\ttakes\ttwo years\n",
      "title\thave\toption\n",
      "students\tobtained\tprofessional degrees\n",
      "graduate\tchoose\tmaster course\n",
      "Brazilian universities\toffer\tMBA program\n",
      "The Master's degree\toffered as\tphysical attendance\n",
      "Spanish government\toffers\tthe Taiwan Scholarship\n",
      "IR\tperforms\tdiagnostic therapeutic procedures\n",
      "Placement\tplaced\tAV fistulas\n",
      "Radiologically\tinserted\tgastrostomy\n",
      "special catheter\tRadiofrequency ablation\ttissue\n",
      "patient\thave\tnotably heart liver functions\n",
      "collaboration\toptimizes\tpatient outcome\n",
      "TIPS\tcause\ttemporary confusion\n",
      "patients\thave\tinfected stone\n",
      "Patients\ttolerate\tprocedure\n",
      "Current treatment options\tinclude\tconservative management\n",
      "interventional radiologist\tguides\tcatheter\n",
      "interventional radiologist\toffer\tminimally invasive treatment option\n",
      "half\tfail\ttherapy\n",
      "10%\trequire\tretreatment\n",
      "interventional radiologist\trepeated at\tRF electrode\n",
      "people\treported\timprovement\n",
      "RFA\ttreated with\tbone\n",
      "numerous factors\tassociated with\tpatient post - operative course\n",
      "Angiography\tprovides\tbasis\n",
      "body\tforms\tblood clots\n",
      "Arterial diseases\taffect\tone or multiple layers\n",
      "capillaries\thave\tthin single layered walls\n",
      "multiple studies\tshown\tstrong correlations\n",
      "perfusion\toccur\tpain\n",
      "diagnosis\tincurs\thigher risk\n",
      "Surgical options\tinclude\topen thrombectomy\n",
      "Chronic mesenteric ischemia\tproduce\tsevere pain\n",
      "classic symptoms\tinclude\tbuttock claudication\n",
      "amenable endovascular treatments\tinclude\tendovascular stenting\n",
      "Rupture\thave\tdevastating clinical effects\n",
      "Dissections\tclassified\tthoracic aorta\n",
      "Type dissections\tinvolve\troot\n",
      "Carotid artery Dissection\tplaces\tpatients\n",
      "Vertebral Artery Dissection\tlimit\tblood supply\n",
      "Renal Artery Dissections\tdecrease\tblood flow\n",
      "related conditions\thave\thigh potential morbidity\n",
      "modern Vascular Interventional Radiologists\taddress\tbleeding\n",
      "Chronic Kidney Disease\thas\tnumerous recognized causes\n",
      "CKD\taffects\tapproximately 14%\n",
      "M.\tconsolidates\tapplication\n",
      "M. degree programme\tcarries\t120 credits\n",
      "The University of Edinburgh\toffer\tCh\n",
      "Maternal fetal medicine specialists training\tincludes\tyear residency\n",
      "Albert William Liley\tdeveloped\tcourse\n",
      "mothers\tExpecting\tconsult\n",
      "McGill\toffers\tdegrees\n",
      "30%\theld\tposition\n",
      "McGill alumni\tinclude\tsix Academy Award winners\n",
      "notable inventions\tinclude\tworld artificial cell\n",
      "McGill\thas\tlargest endowment\n",
      "McGill College\treceived\tCharter\n",
      "The Faculty of Medicine\thas\tstrong links\n",
      "William Spier\tdesigned\taddition\n",
      "Alexander Francis Dunlop\tdesigned\tmajor alterations\n",
      "The Faculty of Medicine\testablished\tthe McLennan Travelling Library\n",
      "The Faculty of Medicine's\tcalled\tuse\n",
      "George Allan Ross\tdesigned\tthe Pathology Building\n",
      "McGill University\tplayed\tsignificant role\n",
      "Earl Alexander\tlaid\tcornerstone\n",
      "A Book of Remembrance\tcontains\tnames\n",
      "Osler\tled\tcreation\n",
      "McGill alumni\tfounded\tthe McGill School of Architecture\n",
      "Travel + Leisure\trated\tMcGill's campus\n",
      "Quebec government\tinitiated\t1.6 billion LEED redevelopment project\n",
      "site\tcomprises\t170,000 square metres\n",
      "undergraduate medical education program\tbrings\thundreds of senior members yearly and\n",
      "the University of Alberta\toperates\tthe McGill Arctic Research Station\n",
      "McGill\towned\tparkland\n",
      "the Faculty of Management\tlaunched\tprogram\n",
      "University academic units\tinclude\tthe School of Architecture\n",
      "Graduate\toversees\tadmission\n",
      "Graduate\tadministers\tgraduate fellowships\n",
      "The Graduate and Postdoctoral Studies\tconducts\tregular program reviews\n",
      "the McGill Executive Institute\tprovides\tbusiness seminars\n",
      "the University of Alberta\tis\tguide\n",
      "McGill\thosts\t500 incoming exchange students\n",
      "McGill endowment\tprovides\tapproximately 10 per cent\n",
      "Recent data\tshown\tgraduate acceptance rate\n",
      "the Faculty of Engineering\tmaintains\tadditional affiliations\n",
      "McGill undergraduates\thave\thighest average entering grades\n",
      "applicants\thad\taverage GMAT score\n",
      "MBA students\thad\taverage age\n",
      "McGill\toffered\t340 academic programs\n",
      "the University of Alberta\toffers\t250 doctoral master graduate degree programs\n",
      "McGill\tupheld\trelatively low appealing student faculty ratio\n",
      "McGill\toutlines\tscholarship considerations\n",
      "\"candidates.\"\"The university\"\tjoined\tProject Hero\n",
      "Francophone students\tmake up\tapproximately 20 percent\n",
      "the University of Alberta\thas\tbilingual language policy\n",
      "Protesters\tsaw\tEnglish\n",
      "majority\topposed\tposition\n",
      "the University of Alberta\theld\tposition\n",
      "The Globe and Mail's Canadian University Report\tcategorised\tMcGill\n",
      "Research Infosource\tranked\tMcGill 3rd\n",
      "the Academic Ranking of World Universities\tranked\tthe University of Alberta 78th\n",
      "Nature\tranked\tMcGill 63rd\n",
      "Quacquarelli Symonds\tranked\tMcGill MBA 59th\n",
      "The Financial Times\tplaced\tthe MBA programme 91st\n",
      "Research\tplays\tcritical role\n",
      "McGill\thad\tover $547 million\n",
      "McGill\thas\tone of the largest patent portfolios among Canadian universities\n",
      "Sir William Osler\tmade\tsignificant discoveries\n",
      "William Chalmers\tinvented\tPlexiglas\n",
      "team\tdeveloped\tdigital musical instruments\n",
      "Redpath Museum\tfeatures\tcollections\n",
      "Almost half\tclaim\tlanguage\n",
      "campus\thas\tactive students society\n",
      "PGSS\tcontains\tsemi autonomous Association\n",
      "humanitarian groups\tinclude\tUNICEF\n",
      "McGill\thas\tnumber\n",
      "The Bull & Bear\tpublishes\t1,000 copies\n",
      "Macdonald Campus facilities\tinclude\tarena\n",
      "university\tseats\tjust over 25,000\n",
      "McGill University students\twrote\thockey rule book\n",
      "McGill alumnus James Naismith\tinvented\tbasketball\n",
      "\"Norwegian Herman \"\"Jackrabbit\"\" Smith-Johannsen\"\tpopularized\tcross - country skiing\n",
      "Notable members\tinclude\tMcGill alumnus James Naismith\n",
      "2005 hazing scandal\tforced\tcancellation\n",
      "new\tcarries\thistorical links\n",
      "McGill\tmaintains\tacademic athletic rivalry\n",
      "Competition\tinspired\tannual boat race\n",
      "school\tcompetes in\tsoccer tournament\n",
      "McGill alumni\tplayed\tpivotal roles\n",
      "recent academic leaders\tinclude\tPresident\n",
      "McGill students\tinclude\tfour Pulitzer Prize winners\n",
      "McGill graduates\treceived\ttotal\n",
      "McGill\tproduced\tfive astronauts\n",
      "prominent science alumni\tinclude\tinventor\n",
      "McGill alumni\tinclude\tthree Prime Ministers\n",
      "NITI Aayog\trecommended\treplacement\n",
      "committee\tAn ordinance to\tThe Medical Council of India\n",
      "National Medical Commission\trecommended\treplacement\n",
      "Foreign medical graduates\thave\toption\n",
      "CBI\trecovered\t1.5 kg\n",
      "MCI\tis\tOnline\n",
      "MCI Online\tprovides\tonline search\n",
      "the Board of Governors Governors\ttaken over\tfunctions\n",
      "diagnostic procedure\tinvolves\tclassification tests\n",
      "article\tuses\tdiagnostician\n",
      "diagnostic procedure\tinvolve\tcomponents\n",
      "provider\truled out\thypotheses\n",
      "people\texperience\tat least one diagnostic error\n",
      "Babylonian medical textbook\tintroduced\tuse\n",
      "Traditional Chinese Medicine\tspecified\tfour diagnostic methods\n",
      "Diagnosis\ttake\tforms\n",
      "proper diagnosis\trequires\texamination\n",
      "patients\thave\tadditional diagnoses\n",
      "Medical education\tapplies\ttheories\n",
      "jurisdictions\tprovide\tundergraduate entry programs\n",
      "EPA\tlists\tEPA key feature\n",
      "Research areas\tinclude\tpractical applications\n",
      "Students\tpursue\tyears\n",
      "health care delivery system\treflects\thealth care delivery system\n",
      "MedEDPORTAL.Journal of Medical Education and Curricular DevelopmentGraduate Medical Education and Continuing Medical Education\tfocused\tjournals:.Journal of Continuing Education\n",
      "medical journal\thas\tvarying impact factor\n",
      "Medical genetics\tencompasses\tdifferent areas\n",
      "Examples\tinclude\tchromosomal rearrangements\n",
      "physician\tcomplete\tminimum\n",
      "Examples\tinclude\tgalactosemia\n",
      "Examples\tinclude\taneuploidy\n",
      "Examples\tinclude\tachondroplasia\n",
      "Nazi misuse\tsounded\tNazi misuse\n",
      "Medical genetics\tsaw\tincreasingly rapid rise\n",
      "clinical setting\tdetermines\tscope\n",
      "newborn screen\tincorporates\tbiochemical tests\n",
      "acylcarnitine combination profile\tdetects\tcompounds\n",
      "cell\tcontains\thereditary information\n",
      "Examples\tinclude\tGaucher disease\n",
      "US practitioners\tobtain\tboard certification\n",
      "unique status\thas\tnumber\n",
      "the American Society of Human Genetics\tbegan\tannual meetings\n",
      "the American Society of Human Genetics\tpublishes\tthe American Journal of Human Genetics\n",
      "broad range\treflects\toverall scope\n",
      "Basic research geneticists\tundertake\tresearch\n",
      "number\tinfluence\tdistribution\n",
      "Genetic studies\tuse\tadmixture linkage disequilibrium\n",
      "The National Human Genome Research Institute\thosts\tinformation center\n",
      "field\tstudies\tclinical applications\n",
      "medical microbiologist\tstudies\tcharacteristics\n",
      "academic qualification\trequires\tMasters\n",
      "Louis Pasteur\tdesigned\tvaccines\n",
      "Robert Koch\tdeveloped\tseries\n",
      "Paul Ehrlich\ttested\tmultiple combinations\n",
      "Gerhard Domagk\tfound\tProntosil red protected mice\n",
      "Gerhard Domagk\treceived\tthe Nobel Prize\n",
      "DNA sequencing\tcaused\trapid change\n",
      "Airborne transmission Pathogen\tcarrying\tspores\n",
      "virus\tintroduced to\taccess\n",
      "detailed identification techniques\tinvolve\tmicrobial culture\n",
      "liquid\tdetermined by\tcolloidal suspension\n",
      "Culture techniques\tuse\tmicroscopic examination\n",
      "extracellular matrix\tprotect\tinner bacteria cells\n",
      "physician\treferred to\tresidency\n",
      "terminology\treflect\tlevel\n",
      "physicians\tassumed that\tobligations\n",
      "Specialized fields\trequire\tlonger training\n",
      "R3 R4 Resident\tobtains\tspecialty\n",
      "areas\tinclude\tcardiology\n",
      "Direct entry specialties\thave\tfellowships\n",
      "Add specialties\trequire\tprevious training\n",
      "acute specialties\thave\tjuniors\n",
      "Trainee\tstarts\tspecialty training\n",
      "Specialist residency programs\trequire\tparticipation\n",
      "time\tinclude\tfellowship\n",
      "interview process\tinvolves\tseparate interviews\n",
      "applicant\theld\tprogram facilities\n",
      "residency programs\tsubmit\tlist\n",
      "applicant\tsee\tlist\n",
      "NRMP\tintroduced\torganized scramble system\n",
      "Medical residencies\trequire\tlengthy hours\n",
      "review committee\tgrant\texceptions\n",
      "United States federal law\tplaces\tlimit\n",
      "decision\tallow\tup to six hours\n",
      "interns\tassume\tresponsibility\n",
      "The Department of Health and Human Services\tfunds\tvast majority\n",
      "principal traditional residencies\tincluded\tinternal medicine\n",
      "medical degrees\tinclude\tthe Bachelor of Medicine\n",
      "medical schools\toffer\tadditional degrees\n",
      "undergraduate degree\tcompleted as\tprerequisite undergraduate coursework\n",
      "modern medical schools\tintegrate\tclinical education\n",
      "students\tstudy\tsubjects\n",
      "Subsequent clinical rotations\tinclude\tinternal medicine\n",
      "Basic Medical education\tlasts\t6 years\n",
      "Students\tget\tMBChB degree\n",
      "The first two years\tcover\tbasic medical preclinical sciences\n",
      "AKUH\toffers\tpost graduate MMed programmes\n",
      "Candidates\tattain\thigh scores\n",
      "Students\tundergo\trigorous training\n",
      "Medical schools\toffer\tHigher Diplomas\n",
      "Private faculty\taccept\tlow grades\n",
      "three medical schools\tare\tMedical degrees\n",
      "UZ\toffering\tpostgrad degrees\n",
      "Training\tlasts\t​5 1⁄2 years\n",
      "student\tcarried to\tcourse\n",
      "university\texperienced\tmajor increase\n",
      "Brazilian medical schools\tfollow\tEuropean model\n",
      "ciclo\tcalled\tinternato\n",
      "doctor\tcompleted\tspecialty\n",
      "the Association of American Medical Colleges\tlists\t17 accredited MD-granting medical schools\n",
      "the Association of American Medical Colleges\tpublishes\tdetailed guide\n",
      "medical schools\trequire\tMCAT\n",
      "Teaching methods\tinclude\ttraditional lectures\n",
      "Students\trank\tStudents preferences\n",
      "the International Medical Education Directory\tlisted\t59 current medical schools\n",
      "Curaçao\thas\t5 medical schools\n",
      "27 of which\tare\tactive programs\n",
      "schools\thave\tplacements\n",
      "students\tintroduced to\thands\n",
      "Students\tsit\tUSMLE\n",
      "Medical schools\tconduct\ttraining\n",
      "Foreigners\trequire\tspecial.authorization\n",
      "system\ttakes\tstudents\n",
      "students\tcomplete\tseries\n",
      "medical schools\thave\tadditional requirements\n",
      "number\treduced to\tonly 76\n",
      "patient\tgive\tconsent\n",
      "Foreign medical school graduates\tcomplete\ttraining\n",
      "National Resident Match Program\tlasts\tseven years\n",
      "universities\trenamed\tuniversities\n",
      "Biology questions\tcarry\t30 marks\n",
      "English students\tprepare\tEnglish students\n",
      "course\tcontributes\tup to 75%\n",
      "course\tcovers\tvariety\n",
      "Prospective medical students\tenter\tfaculty\n",
      "The Supreme Court Of India\tmandated\tnecessity\n",
      "places\toffer\tseats\n",
      "General medicine education\ttakes\t7 to 7.5 years\n",
      "Students\tenter\tUniversity\n",
      "Students\tstudy\tbasic medical science\n",
      "organ based learning approach\temphasizes\tcritical thinking\n",
      "M.D doctors\tcontinue\tM.D doctors educations\n",
      "Israeli students\trequire\thigh school Baccalaureate average\n",
      "scope\tencompasses\taspect\n",
      "medical schools\tinclude\tthe 5 years duration\n",
      "Training\ttake\tplace\n",
      "Training\ttake\tplace\n",
      "Training\ttake\tplace\n",
      "Training\ttake\tplace\n",
      "Training\ttake\tplace\n",
      "Training\ttake\tplace\n",
      "Training\ttake\tplace\n",
      "new medical schools\toffer\tfoundation\n",
      "students\tbegin\tdirect contact\n",
      "Year 5\tcontinues\tpattern\n",
      "Trainee interns\trepeat\trotations\n",
      "Trainee interns\treceive\tstipend grant\n",
      "Trainee interns\thave\tresponsibility\n",
      "medical universities\tare\tmedical colleges\n",
      "Clinical specialization\tinvolves\ttwo- year Master degree\n",
      "Americans\tbuilt\tthe University of the Philippines College of Medicine and Surgery\n",
      "notable examples\tinclude\tthe University of the Philippines College of Medicine\n",
      "schools\temphasized\tcompulsory amounts\n",
      "incoming students\thave\t6 2 year curriculum\n",
      "their fourth year\toffers\tMBBS\n",
      "2 of 3 medical schools in Singapore\toffers\tundergraduate\n",
      "medical students\tpass\tnational medical licensing examinations\n",
      "Students\treceive\tdegree\n",
      "Гродненскі\tRussian\tмедыцынскі ўніверсітэт\n",
      "Віцебскі\tдзяржаўны\tмедыцынскі ўніверсітэт\n",
      "course\tlasts\t6 years\n",
      "course\tlasts\t6 years\n",
      "students\ttake\ttotal\n",
      "Czech Universities\toffer\t6-year General Medicine program\n",
      "Studies\tinvolve\tinitial year preclinical period\n",
      "students\thave\tcontact\n",
      "Finnish universities\tintegrated\tclinical preclinical subjects\n",
      "Université René Descartes\twelcomes\tabout 2000 students\n",
      "medical students\tget\tspecial status\n",
      "Med students\tget\t5 weeks\n",
      "French medical students\treceive\ta State Diploma of Doctor of Medicine\n",
      "students\treceive\tGermany\n",
      "graduate\tawarded if\tscientific study\n",
      "Hungary\thas\tfour medical schools\n",
      "Students\treceive\tdegree dr\n",
      "Hungarian medical schools\thave\tprograms\n",
      "Medical school\ttakes\t6 years\n",
      "Training\tlasts\tfour, five or six years\n",
      "the National University of Ireland\tlaunched\tgraduate entry programme\n",
      "universities\tprovide\tinternational degree course\n",
      "public medical schools\tinclude\tthe International Medical School\n",
      "La Sapienza\trequire\tapplicants\n",
      "Italy\thas\tprivate parochial expensive English language medical schools\n",
      "Medical school\tlasts\t6 years\n",
      "schools\tdevoting\tthe second semester of the third year\n",
      "Lithuania\thas\ttwo medical schools\n",
      "Lithuanian medical schools\thave\tprograms\n",
      "medical students\treceive\t6 years\n",
      "medical students\treceive\tbachelor degree\n",
      "Admission\trequires\thigh GPA\n",
      "43\tare\tmedical specialties\n",
      "Universidade\tdo\tAlgarve\n",
      "Faculdade de Medicina da Universidade\tdo\tPorto\n",
      "FAIMER\tinclude\tmedical schools\n",
      "UK\thas\tapproximately 8000 places\n",
      "Medical schools\tadmit\tstudents\n",
      "meta analysis\tsuggested\tdepressive symptoms\n",
      "recent study\tdisplayed\tsignificantly higher risk\n",
      "23.5%\tshowed\tclinically relevant depressive symptoms\n",
      "schools\tprovide\tmajor\n",
      "Admissions criteria\tinclude\tgrade point averages\n",
      "Dartmouth\topened\tmedical school\n",
      "AMA\tpublished\tset\n",
      "medical education\tfollowed\tstandardized pattern\n",
      "applicants\tobtain\teducation\n",
      "programs\tallow\trapid fulfillment\n",
      "students\tstudy\tOsteopathic Manipulative Medicine\n",
      "medical students\ttake\tStep 2/Level\n",
      "Medical schools\tuse\tvariety\n",
      "school students\trequired for\tfederal loans\n",
      "rising cost\tcaused\tconcern\n",
      "level\tis\tstrong effect\n",
      "hospital\treceives\tpayment\n",
      "Examples\tinclude\tchildren\n",
      "List\tpublishes\tlist\n",
      "the Royal Australasian College of Dental Surgeons\tsupervises\ttraining\n",
      "Collège des du Québec\toversees\tprocess\n",
      "specialist training\tlasts\t5 years\n",
      "UK survey\tfound\thigher job satisfaction\n",
      "Medical genetics\tencompasses\tdifferent individual fields\n",
      "Molecular oncology\tidentified\tgenes\n",
      "doctor patient relationship\tbegins\tinteraction\n",
      "diagnosis\ttake\tonly a few minutes or a few weeks\n",
      "Medical history\tcomprises\tHPI\n",
      "patient\tMedications\tdrugs\n",
      "clinical examination\tinvolves\tstudy of:.Vital signs\n",
      "characteristics\thave\tsignificant impact\n",
      "Christian emphasis\tremains\trise\n",
      "entire population\tintended to\taccess\n",
      "tribal societies\tprovide\tguarantee\n",
      "Access\taffects\tchoice\n",
      "Examples\tinclude\tnurses\n",
      "Physicians\thave\tspecializations\n",
      "Neuroscience\tincludes\tdisciplines\n",
      "related clinical specialties\tinclude\tneurology\n",
      "Surgeons\tmanage\toperative\n",
      "Surgery\thas\tsub specialties\n",
      "medical specialties\temploy\tsurgical procedures\n",
      "Surgical training\trequires\ta minimum of five years\n",
      "Sub specialties\trequire\tseven or more years\n",
      "fellowships\tlast\tadditional years\n",
      "terms\texclude\tpractitioners\n",
      "Interventional radiologists\taccess\tareas\n",
      "Family physicians\tprovide\tservices\n",
      "Related non - medical fields\tinclude\tpsychotherapy clinical psychology\n",
      "Laser medicine\tinvolves\tuse\n",
      "Medical humanities\tincludes\thumanities\n",
      "Pain management\tis\tpain medicine\n",
      "veterinarians\tapply\tsimilar techniques\n",
      "Medical education\tinvolves\tentry level education\n",
      "regulatory authorities\trequire\tcontinuing medical education\n",
      "Medical practitioners\tupgrade\tMedical practitioners knowledge\n",
      "medical ethics\tencompasses\tmedical ethics practical application\n",
      "Greek physician Hippocrates\tlaid\tfoundation\n",
      "Notable Islamic medical pioneers\tinclude\tPersian polymath\n",
      "historian\tlikened\tactivities\n",
      "the Catholic Church\testablished\tnetwork\n",
      "medical doctors\ttreated\thumans\n",
      "The post-18th century modernity period\tbrought\tgroundbreaking researchers\n",
      "doctors\tmade\tnotable contributions\n",
      "developing countries\tlack\taccess\n",
      "The World Health Organization (WHO\tdefines\ttraditional medicine\n",
      "Practices\tinclude\tAyurveda\n",
      "Indian Medical Association\tregard\ttraditional medicine practices\n",
      "NHS England\toversees\tbudget\n",
      "NHS England\tcommissions\tNHS GPs\n",
      "NHS England\temploys\taround 6,500 staff\n",
      "\"health care economy\"\".In 2016 NHS England\"\torganised\tgeographical division\n",
      "NHS England\tallocates\tfunding\n",
      "NHS England\tawarded\tyear contract\n",
      "organisation responsibilities\tinclude\tarbitration\n",
      "city\thad\tpopulation\n",
      "broader metropolitan area\thad\tpopulation\n",
      "Montreal\thas\tsecond highest number\n",
      "Montreal\thosted\tmultiple international conferences\n",
      "Alpha− world city\thosts\tthe Canadian Grand Prix of Formula One\n",
      "Archeologists\tfound\tevidence\n",
      "French explorer Samuel de Champlain\testablished\tfur trading post\n",
      "group\tleft\tNew France\n",
      "settlement\tincluded\tchapel\n",
      "the Sulpician Order\thad\tmission village\n",
      "George Forster\tapproached\tLachine\n",
      "Americans\tburned\tFort Senneville\n",
      "George Forster\tnegotiated\tprisoner exchange\n",
      "Benedict Arnold\twithdrew\tArnold's forces\n",
      "retreat\tdelayed\tretreat\n",
      "Montreal\theld\tthe World's Fair of 1967\n",
      "The 1970s\tushered in\tperiod\n",
      "Montreal\thosted\tthe Summer Olympics\n",
      "Montreal\texperienced\tslower rate\n",
      "Montreal\tannexed\t27 other cities\n",
      "The 21st century\tbrought with\trevival\n",
      "cold fronts\tbring\tcrisp drier windy weather\n",
      "Winter\tbrings\tcold\n",
      "Pavilions\tfeatured\twide range\n",
      "distinguished title\trecognizes\tMontreal's design community\n",
      "impressive network\tconnects\tpedestrian thoroughfares\n",
      "neighbourhoods\tinclude\taffluent Golden Square Mile neighbourhood\n",
      "borough\tincluded\tGoose Village\n",
      "notable neighbourhoods\tinclude\tmulticultural areas\n",
      "Mount Royal Cemetery\tcontains\tmore than 162,000 graves\n",
      "the Mount Royal Cemetery Company\testablished\tcrematorium\n",
      "new system\tturn\tlights\n",
      "Montreal\thad\t1,704,694 inhabitants\n",
      "Jewish community\thas\tpopulation\n",
      "Jewish people\tconstitute\tmajority\n",
      "Montreal\thas\tsecond largest economy\n",
      "Montreal\tseen as\trevival\n",
      "Industries\tinclude\taerospace\n",
      "Montreal\thosts\theadquarters\n",
      "Montreal\tattracted\tworld leading game developers\n",
      "Warner Bros. first studio\tcreate\t300 jobs\n",
      "Montreal\tplays\timportant role\n",
      "sector\temploys\tapproximately 100,000 people\n",
      "foreign subsidiaries\thave\toffices\n",
      "Montreal's many cultural communities\tgiven\tdistinct local culture\n",
      "Montreal\tdeveloped\tunique distinguished cultural face\n",
      "popular events\tinclude\tWorld Film Festival\n",
      "the Place des Arts\thas\theadquarters\n",
      "Internationally recognized avant garde dance troupes\ttoured\tworld\n",
      "unique choreography\tpaved\tway\n",
      "Montreal\thas\tfour Roman Catholic basilicas\n",
      "Canadiens recent Stanley Cup victory\thave\tmajor rivalries\n",
      "Montreal Alouettes\twon\tStanley Cup\n",
      "Montreal Alouettes\thad\ttwo periods\n",
      "Montreal\thas\tstoried baseball history\n",
      "Major League Baseball\tplayed\tMajor League Baseball games\n",
      "Fierté Montréal\tjoined\tNorth America's biggest soccer league\n",
      "venue\theld at\tMontreal games\n",
      "race\ttakes\tplace\n",
      "famous Circuit Gilles Villeneuve\thosted\tround\n",
      "city council\thas\tjurisdiction\n",
      "Standing committees\treview\tannual budget forecasts\n",
      "meetings\tinclude\tpublic question period\n",
      "standing committees\thave\tterms\n",
      "CEGEPs\toffer\tpre - university 2-years technical 3-years programs\n",
      "Université du Québec\thas\tthree separately run schools\n",
      "Conservatoire de musique du Québec à Montréal\toffers\tBachelor\n",
      "two French-language universities\thave\tcampuses\n",
      "Montreal\thas\tproblem\n",
      "STM bus routes\tserve\t1,347,900 passengers\n",
      "subway bus system\tprovides\tadapted transport wheelchair accessible buses\n",
      "STM\twon\taward\n",
      "Canada's busiest subway system\thad\tstation\n",
      "Montreal\thas\ttwo international airports\n",
      "Pierre Elliott Trudeau International Airport\tserves\tcommercial passenger traffic\n",
      "Montreal-based Via Rail\tprovides\trail service\n",
      "Amtrak\toperates\tAmtrak\n",
      "CPR, CN\tdivested\tCPR, CN\n",
      "Réseau\tunveiled\tmétropolitain\n",
      "NHS Improvement\tpublished\tleague table\n",
      "Learning\tconcerns about\ttrusts\n",
      "Nanomedicine sales\treached\t$16 billion\n",
      "HIV infection\tlasts\tentire lifetime\n",
      "Poor compliance pill fatigue\tfavor\tresurgence\n",
      "Quantum dots\tproduce\texceptional images\n",
      "different color dyes\twas\tdifferent frequencies\n",
      "Nanopore technology\tconverts\tstrings\n",
      "surgeons\tdo\tsurgeries\n",
      "successful\tTissue engineering if\tconventional treatments\n",
      "Future advances\tgive\trise\n",
      "study\tuse\tdisorder\n",
      "the National Board of Examinations\tconducts\tlargest portfolio\n",
      "Examinations.the National Board of Examinations\tconducts\tfollowing examinations:.DNB final exit examinations\n",
      "The National Insurance Act 1911\tcreated\tNational Insurance\n",
      "Lloyd George measure\tgave\tcontributory system\n",
      "Approved Societies\town\texpenditure\n",
      "scheme\tmade\tprovision\n",
      "217 trusts\tare\taround 800,000\n",
      "Dr. Joseph DeLee\testablished\tpremature infant incubator station\n",
      "the American Board of Pediatrics\testablished\tsub board certification\n",
      "The 1950s\tbrought\trapid escalation\n",
      "development\timproved\tsurvival\n",
      "countries\trun\tsimilar programs\n",
      "neonatologists\tperform\tclinical basic science research\n",
      "Hypoplastic\tleft\theart syndrome\n",
      "Neonatologists\tearn\tgeneral pediatricians\n",
      "maternal neonatal hospital stays\tconstituted\tlargest proportion\n",
      "Maternal Neonatal stays\tconstituted\t27 percent\n",
      "Jeremy Richard Streynsham Hunt\toversaw\timposition\n",
      "junior doctors\tundertook\tmultiple strikes\n",
      "Elms\tsold\tHunt and Elms interest\n",
      "Jeremy Richard Streynsham Hunt\tgained\tover £14 million\n",
      "Parliamentary Commissioner\tfound\tJeremy Richard Streynsham Hunt\n",
      "public funds\tprovided\tbenefit\n",
      "The Legg Report\tshowed\tissues\n",
      "Jeremy Richard Streynsham Hunt\tsupported\tBritain\n",
      "Jeremy Richard Streynsham Hunt\trectified\terror\n",
      "The Labour Party\treferred\tJeremy Richard Streynsham Hunt\n",
      "News Corp. Emails\treleased to\tdetailed contacts\n",
      "Leveson\tmay\tJeremy Richard Streynsham Hunt\n",
      "cases locum agencies\tcharging\tup to 49%\n",
      "Jeremy Richard Streynsham Hunt\tannounced\tincrease\n",
      "Chris Hopson\tdescribed\tseven day NHS plan\n",
      "58%\trejected\tfinal offer\n",
      "Jeremy Richard Streynsham Hunt\twon\tcase\n",
      "Jeremy Richard Streynsham Hunt\tthanked\tEcuadorean President Lenín Moreno\n",
      "Jeremy Richard Streynsham Hunt\theld\tJeremy Richard Streynsham Hunt\n",
      "Jeremy Richard Streynsham Hunt\truns\tduvet linens business\n",
      "Neurological practice\trelies\tscientific study\n",
      "neurologists\thave\tadditional training\n",
      "neurologists\treceive\tadditional subspecialty training\n",
      "Subspecialties\tinclude\tbrain injury medicine\n",
      "neurologist\treviews\tpatient health history\n",
      "patient\ttakes\tneurological exam\n",
      "neurological exam\ttests\tmental status\n",
      "Neurologists\texamine\tpatients\n",
      "Components\tinclude\tassessment\n",
      "neurologists\torder\tadditional diagnostic tests\n",
      "Commonly employed tests\tinclude\timaging studies\n",
      "The American Board of Clinical Neurophysiology\tcertifies\tUS physicians\n",
      "Neurologists\trefer\tpatient\n",
      "neurologists\tdevelop\tinterest\n",
      "emergence\tcreated\tdemand\n",
      "establishment\tincreased\trole\n",
      "patient\ttreated by\tcertain age\n",
      "Physical medicine\ttreat\tpatients\n",
      "General Hospital\tcost\t£75 million\n",
      "Northumbria Healthcare NHS Foundation Trust\testablished\tsubsidiary company\n",
      "Northumbria Healthcare NHS Foundation Trust\tset up\twholly owned subsidiary\n",
      "Northumbria Healthcare NHS Foundation Trust\tintroduced into\tPerformance\n",
      "Hospital Guide 2013.The Trust\thad\t7217 full-time equivalent staff\n",
      "Northumbria Healthcare NHS Foundation Trust Northumbria Healthcare NHS Foundation Trust\treceived\toutstanding rating\n",
      "payment\tacts as\tentitlement\n",
      "National Insurance contributions\tform\tsignificant proportion\n",
      "benefit component\tincludes\tcontributory benefits\n",
      "The Beveridge Report\tproposed\texpansion\n",
      "employee contributions\tpaid\tcertain low paid workers\n",
      "HMRC\tallocate\tletter\n",
      "HMRC\tprovide\tonline National Insurance Calculator\n",
      "Class 1A contributions\tprovide\tbenefit entitlement\n",
      "employer\tintroduced on\ttax liabilities\n",
      "benefit component\tcomprises\tnumber\n",
      "problems\twas\twidespread media coverage\n",
      "Examples\tinclude\tacquired conditions\n",
      "Nephrology\trequires\tadditional training\n",
      "Nephrologists\tprovide\tcare\n",
      "Nephrology training\tincludes\tcompletion\n",
      "Consultants\tpractice\tnephrology\n",
      "medical school adult nephrologists\tcomplete\tyear residency\n",
      "pediatric nephrologist\tcomplete\tyear pediatric residency\n",
      "nephrologists\tneed\ttwo to three years\n",
      "history\tincludes\tpresent illness\n",
      "physical examination\tincludes\tassessment\n",
      "Examination\tallows\tdirect assessment\n",
      "invasive testing\tprovide\tcertain diagnosis\n",
      "Treatments\tinclude\tmedications\n",
      "Impaired kidney function\thas\tsystemic effects\n",
      "Jean Hamburger\tfounded\tthe 'Société de Néphrologie'\n",
      "The American Kidney Fund\tprovides\tfinancial support\n",
      "second blood screen\trefines\trisk\n",
      "fasting glucose\tsuggests\tgestational diabetes\n",
      "normal gestation\treveal\tgestational sac\n",
      "fetus\tassociated with\tsurfactant\n",
      "Risks\tinclude\tmiscarriage\n",
      "Lupus\tconfers\tincreased rate\n",
      "Thyroid disease\tcause\tadverse effects\n",
      "Women\tdevelop\tpre - eclampsia following delivery\n",
      "Skilled midwives\tmanaged\taspects\n",
      "introduction\ttook\tplace\n",
      "midwives\topposed\tinvolvement\n",
      "The 19th century\tmarked\tera\n",
      "1880s mortality rates\treach\tunacceptably high levels\n",
      "James Marion Sims\thave\tcontroversial medical past\n",
      "James Marion Sims\tpracticed\tJames Marion Sims surgical skills\n",
      "Women\tinhabited\tdifferent roles\n",
      "Experienced OB GYN professionals\tseek\tcertifications\n",
      "portion\ttakes\tfive years\n",
      "Experienced OB-GYN professionals\tcomplete\tyears\n",
      "type\thas\t99 % success rate\n",
      "Occupational physicians\thave\tbroad knowledge\n",
      "Occupational physicians\tadvise\tinternational bodies\n",
      "neurosurgeon training\trequires\tminimum period\n",
      "neurosurgeon\tcomplete\tfour years\n",
      "residency programs\thave\tcomponent\n",
      "Neurosurgeons\tpursue\tadditional training\n",
      "fellowships\tinclude\tpediatric neurosurgery\n",
      "students\tgain\tentry\n",
      "MBBS qualification\ttakes\tfour to six years\n",
      "Al-Zahrawi\tperformed\tsurgical treatments\n",
      "Richard Canton\tdiscovered\telectrical signals\n",
      "researcher Philip Kennedy\timplanted\tBrain Computer Interface\n",
      "Modern neurosurgical tools\tinclude\tchisels\n",
      "The World Federation of Neurosurgical Societies\thas\tconsultative status\n",
      "General neurosurgery\tinvolves\tneurosurgical conditions\n",
      "level 1 hospitals\thave\tkind\n",
      "Common tissue samples\tinclude\tmuscle fibers\n",
      "Neuroradiology methods\tinclude\tcomputer assisted imaging computed tomography\n",
      "Minimally invasive spine surgery\tutilizes\tmicroscopes\n",
      "Endovascular surgical neuroradiology\tutilize\tendovascular image guided procedures\n",
      "indications\tinclude\tspinal cord compression\n",
      "patients\thave\tdifficulty\n",
      "Radiology\tassisted\tspine surgery\n",
      "Radiology\tinclude\ttechniques\n",
      "Potentially unstable spines\tneed\tspine fusions\n",
      "procedures\tinclude\tcomplex instrumentation\n",
      "Gabapentin\tdecrease\tvomiting\n",
      "credentials\tinclude\tdegree\n",
      "Residency training programs\trequire\tyear internship\n",
      "Aristotle\tadvanced\tideas\n",
      "Aristotle\tput forth\texistence\n",
      "Rufus\trecognised\tmodern concept\n",
      "Celsus\tgave\tdetailed description\n",
      "Rufus\tremedied\tmistaken descriptions\n",
      "Rufus\tcounted\tseven optical muscles\n",
      "Leeuwenhoek\tnoted\texistence\n",
      "Jacques Daviel\tadvocated\tnew treatment\n",
      "Clinical developments\testablished\tsite\n",
      "ophthalmologist Albrecht von Graefe\tconsidered\tiridectomy\n",
      "representative leader\tbuilt\tmodern clinic\n",
      "Igersheimer\tconducted\texperiments\n",
      "representative leader\tperformed\tsuccessful treatment\n",
      "ophthalmologists\tundergo\tadditional specialized training\n",
      "structured training system\ttakes\tplace\n",
      "graduating ophthalmologist\tpass\toral written portions\n",
      "work experience\trefines\tskills\n",
      "Nepalese citizens\tstudy\tsubject\n",
      "Total postgraduate training\tinvolves\tan intern year\n",
      "Clinical training\ttakes\tplace\n",
      "King Edward Medical University\tstarted\tdegree program\n",
      "PAO\tregulates\tophthalmology residency programs\n",
      "three colleges\tgrant\tpostgraduate degrees\n",
      "ophthalmologists\tcomplete\tfour years\n",
      "Theodor Leber\tdiscovered\tLeber's congenital amaurosis\n",
      "Ignacio Barraquer\tinvented\tmotorized vacuum instrument\n",
      "Spain\tfounded\tthe Barraquer Clinic\n",
      "father\twas\tlamellar techniques\n",
      "Tadeusz Krwawicz\tdeveloped\tcryoprobe\n",
      "Ioannis Pallikaris\tperformed\tlaser assisted intrastromal keratomileusis LASIK surgery\n",
      "neurosurgeon training\trequires\tminimum period\n",
      "neurosurgeon\tcomplete\tfour years\n",
      "residency programs\thave\tcomponent\n",
      "Neurosurgeons\tpursue\tadditional training\n",
      "fellowships\tinclude\tpediatric neurosurgery\n",
      "students\tgain\tentry\n",
      "MBBS qualification\ttakes\tfour to six years\n",
      "Al-Zahrawi\tperformed\tsurgical treatments\n",
      "Richard Canton\tdiscovered\telectrical signals\n",
      "researcher Philip Kennedy\timplanted\tBrain Computer Interface\n",
      "Modern neurosurgical tools\tinclude\tchisels\n",
      "The World Federation of Neurosurgical Societies\thas\tconsultative status\n",
      "General neurosurgery\tinvolves\tneurosurgical conditions\n",
      "level 1 hospitals\thave\tkind\n",
      "Common tissue samples\tinclude\tmuscle fibers\n",
      "Neuroradiology methods\tinclude\tcomputer assisted imaging computed tomography\n",
      "Minimally invasive spine surgery\tutilizes\tmicroscopes\n",
      "Endovascular surgical neuroradiology\tutilize\tendovascular image guided procedures\n",
      "indications\tinclude\tspinal cord compression\n",
      "patients\thave\tdifficulty\n",
      "Radiology\tassisted\tspine surgery\n",
      "Radiology\tinclude\ttechniques\n",
      "Potentially unstable spines\tneed\tspine fusions\n",
      "procedures\tinclude\tcomplex instrumentation\n",
      "Gabapentin\tdecrease\tvomiting\n",
      "origins\tfound in\ta few thousand years BC\n",
      "FOVS\toffers\tMSc PhD degrees\n",
      "The Ghana Optometric Association\tregulates\tpractice\n",
      "new optometrist\twrite\tqualifying exam\n",
      "University of Ulster\tsupporting\tpartners\n",
      "Dublin Institute of Technology\toffers\tyears\n",
      "the Ministry of Health\taccepted\tOptometry\n",
      "The Optometrists Board of the Supplementary Medical Professions Council\tregulates\tprofession\n",
      "the Wenzhou Medical University\truns\toptometry school\n",
      "the Wenzhou Medical University\tproduces\t35\n",
      "Optometrists\tjoin\ttiered service delivery level\n",
      "Isra University Lahore\tlaunched\tOD\n",
      "Isra University\tlaunched\tDoctor of Optometry Program\n",
      "Professional organizations\tinclude\tOptometric Association of Philippines\n",
      "Tertiary education\ttakes\t3 years\n",
      "Hellenic Ministry of Education\tfounded\tdepartment\n",
      "Professor Ioannis Pallikaris\treceived\tnumerous awards\n",
      "Professor Ioannis Pallikaris\tperformed\tLASIK procedure\n",
      "optometrist\tcomplete\tyear degree\n",
      "A.O.I.\truns\tcomprehensive continuing education\n",
      "Members\tuse\tsuffix\n",
      "The National Health Service\tprovides\tfree sight tests\n",
      "elderly\tget\tfree periodic tests\n",
      "Twelve universities\toffer\tOptometry\n",
      "Doctors of Optometry\tcomplete\tfour years\n",
      "Canada\trecognizes\tdegrees\n",
      "Doctors of Optometry\twrite\tnational written practical board exams\n",
      "Optometrists\tprovide\toptical medical eye care\n",
      "Optometrists\tprovide\tcomprehensive optical medical eye care\n",
      "Optometrists\tmanage\tvision development\n",
      "Optometrists\tprescribe\ttopical medication\n",
      "Common eye conditions\tinclude\tinfections\n",
      "Optometrists\tcomplete\tcourse work\n",
      "Doctors\tcomplete\tfour years\n",
      "Training\ttakes\tplace\n",
      "CBOO Brazilian Council\trepresents\tBrazilian optometrists\n",
      "the Colombian Government\tset\trules\n",
      "La Salle University\topened\tLa Salle University first Faculty\n",
      "11th ADA\trecognized\tdental specialty\n",
      "Thomas E Bond\tauthored\tbook\n",
      "aspect\tmanaging\tdental oral condition\n",
      "individuals\tis\tlump\n",
      "Multiple lesions\tsuggest\tinfective developmental aetiology\n",
      "the University of Toronto\toffer\tprograms\n",
      "residents\tcombine\toral medicine programs\n",
      "the Australian Dental Council\tdefines\toral medicine\n",
      "UK oral medicine specialists\thave\tdual qualification\n",
      "an American Dental Association\tstarted\tdental practice parameters\n",
      "Organs\tinclude\theart\n",
      "Transplantation\traises\tnumber\n",
      "donor\ttransplanted into\t\"The \"\"Good Samaritan\"\" kidney\"\n",
      "Johns Hopkins Medical Center\treceived\tsignificant attention\n",
      "Hand\tsee\trecipient\n",
      "Cornea\tsee\tophthalmologist Eduard Zirm\n",
      "deceased organ donors\thave\tinferior outcomes\n",
      "woman\thad\tuterus\n",
      "uterus\tsustained\tpregnancy\n",
      "UNOS\thandled by\tdonor cornea tissue\n",
      "UNOS\tallocates\torgans\n",
      "American teenager\treceived\theart lung donation\n",
      "Kidney disease organizations\texpressed\tKidney disease organizations\n",
      "donors\tget\tmoney\n",
      "Iran\thad\tlegal market\n",
      "About 100 people\tsold\tAbout 100 people\n",
      "2010 police\tclosed\tfertility clinic\n",
      "sort\tviolates\tlaws\n",
      "certain authorities\tbeen\torgans\n",
      "Cadaveric donors\trepresent\t35%\n",
      "Muslim authorities\taccept\tpractice\n",
      "China's transplant programme\tattracted\tattention\n",
      "different groups\texpress\tdefinite interest\n",
      "Indian surgeon\tattributed\tmechanism\n",
      "Sushruta\twork\tDe Curtorum Chirurgia\n",
      "Carrel\tperformed\ttransplant experiments\n",
      "transplant recipients\tsurvive\tmore than 30 days\n",
      "Peter Medawar\timproved\tunderstanding\n",
      "Christiaan Barnard\tachieved on\tworld human human heart transplant\n",
      "media interest\tprompted\tspate\n",
      "surgical pioneer Denton Cooley\tperformed\t17 transplants\n",
      "successful deceased donor lung transplant\ttook\tplace\n",
      "head surgeon\tcredited\tpatient recovery\n",
      "kidney\tpurchased in\tmore than $10,000\n",
      "Regulations\tinclude\tcriteria\n",
      "countries\timplemented\tlegislative reactions\n",
      "The Transplant Ethics Committee\tapprove\tliving donor kidney transplants\n",
      "economist Alex Tabarrok\texamined\timpact\n",
      "Alcohol consumption\tincreases\trisk\n",
      "Obese individuals\thave\tincreased risk\n",
      "Certain infectious agents\tcause\tcancer\n",
      "Blood investigations\tinclude\tlactate dehydrogenase\n",
      "Treatment options\tinclude\tsurgery\n",
      "Treatment options\tinclude\tradiation\n",
      "Treatment options\tinclude\tsurgery\n",
      "Treatment options\tinclude\tsurgery\n",
      "Treatment options\tinclude\tsurgery\n",
      "Treatment options\tinclude\tsurgery\n",
      "Treatment options\tinclude\tsurgery\n",
      "Treatment options\tinclude\tsurgery\n",
      "Treatment options\tinclude\tradiation\n",
      "Treatment options\tinclude\tchemotherapy\n",
      "Treatment options\tinclude\tsurgery\n",
      "Treatment options\tinclude\tchemotherapy\n",
      "Treatment options\tinclude\tsurgery\n",
      "Treatment options\tinclude\tsurgery\n",
      "Treatment options\tinclude\tsurgery\n",
      "Treatment options\tinclude\tsurgery\n",
      "Treatment options\tinclude\tsurgery\n",
      "Treatment options\tinclude\tsurgery\n",
      "Treatment options\tinclude\tsurgery\n",
      "Lymphoma\tincludes\tHodgkin lymphoma\n",
      "Acute leukemias\tincludes\tacute lymphoblastic leukemia\n",
      "Chronic leukemias\tinclude\tchronic lymphocytic leukemia\n",
      "Certain techniques\tshow\tmetabolism\n",
      "increased physiological function\tmean\tincreased concentration\n",
      "benefit\texposure\tprocedure\n",
      "Pre - imaging preparations\tinclude\tdietary preparation\n",
      "array\trepresent\ttime sequence\n",
      "history\tcontains\tcontributions\n",
      "historians\tconsider\tdiscovery\n",
      "Taro Takemi\tstudied\tapplication\n",
      "versions\thave\t254 scintillators\n",
      "American Medical Association\trecognized\tNuclear Medicine\n",
      "recent developments\tinclude\tinvention\n",
      "studies\trequire\tlabeling\n",
      "diagnostic radionuclides\temit\tgamma rays\n",
      "radiopharmaceutical\tused\tdistribution\n",
      "common bone scan\thas\teffective dose\n",
      "Patients\tseek\ttreatment\n",
      "ENT surgery\tencompasses\tsurgical management\n",
      "trainees\tcomplete\tat least five years\n",
      "practitioners\tcomplete\tyear residency training\n",
      "Fellowships\tinclude\thead\n",
      "Otitis\texterna\tear ear canal inflammation\n",
      "Rhinology\tincludes\tnasal dysfunction\n",
      "surgeon\tharvests\tmuscle\n",
      "5 gracilis vascular pedicle\tcomprised\tmuscular branch\n",
      "donor submental artery\tprovided\texcellent size match\n",
      "following outline\tencompasses\tvariety\n",
      "Neuroscience\tincludes\tdisciplines\n",
      "William Harvey\tdescribes\tblood circulation\n",
      "Louis Pasteur\tfounded\tbacteriology\n",
      "accidental discovery\tAlexander Fleming\tfield\n",
      "Christiaan Barnard\tperformed\theart transplant\n",
      "NLM\tcontains\tresources\n",
      "Massachusetts General Hospital\tviews\tdemonstration\n",
      "event\tmarked\tbeginning\n",
      "U.S. President Grover Cleveland\tchose\tDr. Hasbrouck\n",
      "Dr. Varaztad Kazanjian\tpioneered\tplastic surgery\n",
      "Wald\tmade\tadvances\n",
      "D.M.D.\trepresent\teducation\n",
      "Oral maxillofacial surgery\trequires\tfour to six years\n",
      "four-year residency programs\tgrant\tcertificate\n",
      "Six-year residency programs\tgrant\tspecialty certificate\n",
      "programs\tintegrate\tadditional degree\n",
      "MDCM).After completion\tundertake\tfinal specialty examinations\n",
      "\"FRCDC\"\".Some colleges\"\toffer\tmembership\n",
      "single dual qualified oral maxillofacial surgeons\tobtain\tfellowship\n",
      "single dual qualified graduates\tpursue\tpost - residency sub specialty fellowships\n",
      "number\tprovide\thumanitarian oral maxillofacial surgery\n",
      "publishers\tdelay\trelease\n",
      "the British Library\tannounced\tsupport\n",
      "process\treveal\terrors\n",
      "publishers\tprovide\tPDF\n",
      "system\tprovides\tsearch capability\n",
      "randomised trial\tfound\tincrease\n",
      "\n"
     ]
    }
   ],
   "source": [
    "f = open(\"test.txt\", \"r\", encoding=\"utf-8\")\n",
    "print(f.read())"
   ]
  },
  {
   "cell_type": "code",
   "execution_count": 40,
   "metadata": {},
   "outputs": [
    {
     "data": {
      "text/plain": [
       "_io.TextIOWrapper"
      ]
     },
     "execution_count": 40,
     "metadata": {},
     "output_type": "execute_result"
    }
   ],
   "source": [
    "type(f)"
   ]
  },
  {
   "cell_type": "code",
   "execution_count": 89,
   "metadata": {
    "scrolled": true
   },
   "outputs": [
    {
     "name": "stderr",
     "output_type": "stream",
     "text": [
      "WARNING:pykeen.utils:No cuda devices were available. The model runs on CPU\n",
      "WARNING:pykeen.models.base:No random seed is specified. This may lead to non-reproducible results.\n"
     ]
    },
    {
     "ename": "AttributeError",
     "evalue": "'str' object has no attribute 'num_entities'",
     "output_type": "error",
     "traceback": [
      "\u001b[1;31m---------------------------------------------------------------------------\u001b[0m",
      "\u001b[1;31mAttributeError\u001b[0m                            Traceback (most recent call last)",
      "\u001b[1;32m<ipython-input-89-963d41ef241c>\u001b[0m in \u001b[0;36m<module>\u001b[1;34m\u001b[0m\n\u001b[0;32m      1\u001b[0m \u001b[1;32mfrom\u001b[0m \u001b[0mpykeen\u001b[0m\u001b[1;33m.\u001b[0m\u001b[0mmodels\u001b[0m \u001b[1;32mimport\u001b[0m \u001b[0mTransE\u001b[0m\u001b[1;33m\u001b[0m\u001b[1;33m\u001b[0m\u001b[0m\n\u001b[1;32m----> 2\u001b[1;33m \u001b[0mmodel\u001b[0m \u001b[1;33m=\u001b[0m \u001b[0mTransE\u001b[0m\u001b[1;33m(\u001b[0m\u001b[0mtriples_factory\u001b[0m\u001b[1;33m=\u001b[0m\u001b[1;34m'test'\u001b[0m\u001b[1;33m)\u001b[0m\u001b[1;33m\u001b[0m\u001b[1;33m\u001b[0m\u001b[0m\n\u001b[0m",
      "\u001b[1;32m~\\anaconda3\\lib\\site-packages\\pykeen\\models\\base.py\u001b[0m in \u001b[0;36m_new_init\u001b[1;34m(self, *args, **kwargs)\u001b[0m\n\u001b[0;32m    835\u001b[0m     \u001b[1;33m@\u001b[0m\u001b[0mfunctools\u001b[0m\u001b[1;33m.\u001b[0m\u001b[0mwraps\u001b[0m\u001b[1;33m(\u001b[0m\u001b[0m_original_init\u001b[0m\u001b[1;33m)\u001b[0m\u001b[1;33m\u001b[0m\u001b[1;33m\u001b[0m\u001b[0m\n\u001b[0;32m    836\u001b[0m     \u001b[1;32mdef\u001b[0m \u001b[0m_new_init\u001b[0m\u001b[1;33m(\u001b[0m\u001b[0mself\u001b[0m\u001b[1;33m,\u001b[0m \u001b[1;33m*\u001b[0m\u001b[0margs\u001b[0m\u001b[1;33m,\u001b[0m \u001b[1;33m**\u001b[0m\u001b[0mkwargs\u001b[0m\u001b[1;33m)\u001b[0m\u001b[1;33m:\u001b[0m\u001b[1;33m\u001b[0m\u001b[1;33m\u001b[0m\u001b[0m\n\u001b[1;32m--> 837\u001b[1;33m         \u001b[0m_original_init\u001b[0m\u001b[1;33m(\u001b[0m\u001b[0mself\u001b[0m\u001b[1;33m,\u001b[0m \u001b[1;33m*\u001b[0m\u001b[0margs\u001b[0m\u001b[1;33m,\u001b[0m \u001b[1;33m**\u001b[0m\u001b[0mkwargs\u001b[0m\u001b[1;33m)\u001b[0m\u001b[1;33m\u001b[0m\u001b[1;33m\u001b[0m\u001b[0m\n\u001b[0m\u001b[0;32m    838\u001b[0m         \u001b[0mself\u001b[0m\u001b[1;33m.\u001b[0m\u001b[0mreset_parameters_\u001b[0m\u001b[1;33m(\u001b[0m\u001b[1;33m)\u001b[0m\u001b[1;33m\u001b[0m\u001b[1;33m\u001b[0m\u001b[0m\n\u001b[0;32m    839\u001b[0m \u001b[1;33m\u001b[0m\u001b[0m\n",
      "\u001b[1;32m~\\anaconda3\\lib\\site-packages\\pykeen\\models\\unimodal\\trans_e.py\u001b[0m in \u001b[0;36m__init__\u001b[1;34m(self, triples_factory, embedding_dim, scoring_fct_norm, loss, preferred_device, random_seed, regularizer, entity_initializer, entity_constrainer, relation_initializer)\u001b[0m\n\u001b[0;32m     78\u001b[0m            \u001b[1;33m-\u001b[0m \u001b[0mOpenKE\u001b[0m\u001b[0;31m \u001b[0m\u001b[0;31m`\u001b[0m\u001b[0mimplementation\u001b[0m \u001b[0mof\u001b[0m \u001b[0mTransE\u001b[0m \u001b[1;33m<\u001b[0m\u001b[0mhttps\u001b[0m\u001b[1;33m:\u001b[0m\u001b[1;33m//\u001b[0m\u001b[0mgithub\u001b[0m\u001b[1;33m.\u001b[0m\u001b[0mcom\u001b[0m\u001b[1;33m/\u001b[0m\u001b[0mthunlp\u001b[0m\u001b[1;33m/\u001b[0m\u001b[0mOpenKE\u001b[0m\u001b[1;33m/\u001b[0m\u001b[0mblob\u001b[0m\u001b[1;33m/\u001b[0m\u001b[0mOpenKE\u001b[0m\u001b[1;33m-\u001b[0m\u001b[0mPyTorch\u001b[0m\u001b[1;33m/\u001b[0m\u001b[0mmodels\u001b[0m\u001b[1;33m/\u001b[0m\u001b[0mTransE\u001b[0m\u001b[1;33m.\u001b[0m\u001b[0mpy\u001b[0m\u001b[1;33m>\u001b[0m\u001b[0;31m`\u001b[0m\u001b[0m_\u001b[0m\u001b[1;33m\u001b[0m\u001b[1;33m\u001b[0m\u001b[0m\n\u001b[0;32m     79\u001b[0m         \"\"\"\n\u001b[1;32m---> 80\u001b[1;33m         super().__init__(\n\u001b[0m\u001b[0;32m     81\u001b[0m             \u001b[0mtriples_factory\u001b[0m\u001b[1;33m=\u001b[0m\u001b[0mtriples_factory\u001b[0m\u001b[1;33m,\u001b[0m\u001b[1;33m\u001b[0m\u001b[1;33m\u001b[0m\u001b[0m\n\u001b[0;32m     82\u001b[0m             \u001b[0mloss\u001b[0m\u001b[1;33m=\u001b[0m\u001b[0mloss\u001b[0m\u001b[1;33m,\u001b[0m\u001b[1;33m\u001b[0m\u001b[1;33m\u001b[0m\u001b[0m\n",
      "\u001b[1;32m~\\anaconda3\\lib\\site-packages\\pykeen\\models\\base.py\u001b[0m in \u001b[0;36m__init__\u001b[1;34m(self, triples_factory, entity_representations, relation_representations, loss, predict_with_sigmoid, preferred_device, random_seed, regularizer)\u001b[0m\n\u001b[0;32m    783\u001b[0m         )\n\u001b[0;32m    784\u001b[0m         self.entity_embeddings = entity_representations.make(\n\u001b[1;32m--> 785\u001b[1;33m             \u001b[0mnum_embeddings\u001b[0m\u001b[1;33m=\u001b[0m\u001b[0mtriples_factory\u001b[0m\u001b[1;33m.\u001b[0m\u001b[0mnum_entities\u001b[0m\u001b[1;33m,\u001b[0m\u001b[1;33m\u001b[0m\u001b[1;33m\u001b[0m\u001b[0m\n\u001b[0m\u001b[0;32m    786\u001b[0m             \u001b[0mdevice\u001b[0m\u001b[1;33m=\u001b[0m\u001b[0mself\u001b[0m\u001b[1;33m.\u001b[0m\u001b[0mdevice\u001b[0m\u001b[1;33m,\u001b[0m\u001b[1;33m\u001b[0m\u001b[1;33m\u001b[0m\u001b[0m\n\u001b[0;32m    787\u001b[0m         )\n",
      "\u001b[1;31mAttributeError\u001b[0m: 'str' object has no attribute 'num_entities'"
     ]
    }
   ],
   "source": [
    "from pykeen.models import TransE\n",
    "model = TransE(triples_factory='test.txt')"
   ]
  },
  {
   "cell_type": "code",
   "execution_count": 49,
   "metadata": {
    "scrolled": true
   },
   "outputs": [
    {
     "ename": "UnicodeEncodeError",
     "evalue": "'charmap' codec can't encode character '\\u2011' in position 6: character maps to <undefined>",
     "output_type": "error",
     "traceback": [
      "\u001b[1;31m---------------------------------------------------------------------------\u001b[0m",
      "\u001b[1;31mUnicodeEncodeError\u001b[0m                        Traceback (most recent call last)",
      "\u001b[1;32m<ipython-input-49-5875f29b2a08>\u001b[0m in \u001b[0;36m<module>\u001b[1;34m\u001b[0m\n\u001b[0;32m      1\u001b[0m \u001b[1;32mimport\u001b[0m \u001b[0mnumpy\u001b[0m \u001b[1;32mas\u001b[0m \u001b[0mnp\u001b[0m\u001b[1;33m\u001b[0m\u001b[1;33m\u001b[0m\u001b[0m\n\u001b[1;32m----> 2\u001b[1;33m \u001b[0mnp\u001b[0m\u001b[1;33m.\u001b[0m\u001b[0msavetxt\u001b[0m\u001b[1;33m(\u001b[0m\u001b[1;34mr'np.txt'\u001b[0m\u001b[1;33m,\u001b[0m \u001b[0mdata\u001b[0m\u001b[1;33m.\u001b[0m\u001b[0mvalues\u001b[0m\u001b[1;33m,\u001b[0m \u001b[0mfmt\u001b[0m\u001b[1;33m=\u001b[0m\u001b[1;34m'%s'\u001b[0m\u001b[1;33m)\u001b[0m\u001b[1;33m\u001b[0m\u001b[1;33m\u001b[0m\u001b[0m\n\u001b[0m",
      "\u001b[1;32m<__array_function__ internals>\u001b[0m in \u001b[0;36msavetxt\u001b[1;34m(*args, **kwargs)\u001b[0m\n",
      "\u001b[1;32m~\\anaconda3\\lib\\site-packages\\numpy\\lib\\npyio.py\u001b[0m in \u001b[0;36msavetxt\u001b[1;34m(fname, X, fmt, delimiter, newline, header, footer, comments, encoding)\u001b[0m\n\u001b[0;32m   1450\u001b[0m                                     \u001b[1;34m\"format specifier ('%s')\"\u001b[0m\u001b[1;33m\u001b[0m\u001b[1;33m\u001b[0m\u001b[0m\n\u001b[0;32m   1451\u001b[0m                                     % (str(X.dtype), format))\n\u001b[1;32m-> 1452\u001b[1;33m                 \u001b[0mfh\u001b[0m\u001b[1;33m.\u001b[0m\u001b[0mwrite\u001b[0m\u001b[1;33m(\u001b[0m\u001b[0mv\u001b[0m\u001b[1;33m)\u001b[0m\u001b[1;33m\u001b[0m\u001b[1;33m\u001b[0m\u001b[0m\n\u001b[0m\u001b[0;32m   1453\u001b[0m \u001b[1;33m\u001b[0m\u001b[0m\n\u001b[0;32m   1454\u001b[0m         \u001b[1;32mif\u001b[0m \u001b[0mlen\u001b[0m\u001b[1;33m(\u001b[0m\u001b[0mfooter\u001b[0m\u001b[1;33m)\u001b[0m \u001b[1;33m>\u001b[0m \u001b[1;36m0\u001b[0m\u001b[1;33m:\u001b[0m\u001b[1;33m\u001b[0m\u001b[1;33m\u001b[0m\u001b[0m\n",
      "\u001b[1;32m~\\anaconda3\\lib\\encodings\\cp1252.py\u001b[0m in \u001b[0;36mencode\u001b[1;34m(self, input, final)\u001b[0m\n\u001b[0;32m     17\u001b[0m \u001b[1;32mclass\u001b[0m \u001b[0mIncrementalEncoder\u001b[0m\u001b[1;33m(\u001b[0m\u001b[0mcodecs\u001b[0m\u001b[1;33m.\u001b[0m\u001b[0mIncrementalEncoder\u001b[0m\u001b[1;33m)\u001b[0m\u001b[1;33m:\u001b[0m\u001b[1;33m\u001b[0m\u001b[1;33m\u001b[0m\u001b[0m\n\u001b[0;32m     18\u001b[0m     \u001b[1;32mdef\u001b[0m \u001b[0mencode\u001b[0m\u001b[1;33m(\u001b[0m\u001b[0mself\u001b[0m\u001b[1;33m,\u001b[0m \u001b[0minput\u001b[0m\u001b[1;33m,\u001b[0m \u001b[0mfinal\u001b[0m\u001b[1;33m=\u001b[0m\u001b[1;32mFalse\u001b[0m\u001b[1;33m)\u001b[0m\u001b[1;33m:\u001b[0m\u001b[1;33m\u001b[0m\u001b[1;33m\u001b[0m\u001b[0m\n\u001b[1;32m---> 19\u001b[1;33m         \u001b[1;32mreturn\u001b[0m \u001b[0mcodecs\u001b[0m\u001b[1;33m.\u001b[0m\u001b[0mcharmap_encode\u001b[0m\u001b[1;33m(\u001b[0m\u001b[0minput\u001b[0m\u001b[1;33m,\u001b[0m\u001b[0mself\u001b[0m\u001b[1;33m.\u001b[0m\u001b[0merrors\u001b[0m\u001b[1;33m,\u001b[0m\u001b[0mencoding_table\u001b[0m\u001b[1;33m)\u001b[0m\u001b[1;33m[\u001b[0m\u001b[1;36m0\u001b[0m\u001b[1;33m]\u001b[0m\u001b[1;33m\u001b[0m\u001b[1;33m\u001b[0m\u001b[0m\n\u001b[0m\u001b[0;32m     20\u001b[0m \u001b[1;33m\u001b[0m\u001b[0m\n\u001b[0;32m     21\u001b[0m \u001b[1;32mclass\u001b[0m \u001b[0mIncrementalDecoder\u001b[0m\u001b[1;33m(\u001b[0m\u001b[0mcodecs\u001b[0m\u001b[1;33m.\u001b[0m\u001b[0mIncrementalDecoder\u001b[0m\u001b[1;33m)\u001b[0m\u001b[1;33m:\u001b[0m\u001b[1;33m\u001b[0m\u001b[1;33m\u001b[0m\u001b[0m\n",
      "\u001b[1;31mUnicodeEncodeError\u001b[0m: 'charmap' codec can't encode character '\\u2011' in position 6: character maps to <undefined>"
     ]
    }
   ],
   "source": [
    "import numpy as np\n",
    "np.savetxt(r'np.txt', data.values, fmt='%s')\n"
   ]
  },
  {
   "cell_type": "code",
   "execution_count": 80,
   "metadata": {},
   "outputs": [],
   "source": [
    "data.to_csv('test.txt', index = False, header=False, sep='\\t')"
   ]
  },
  {
   "cell_type": "code",
   "execution_count": 81,
   "metadata": {},
   "outputs": [
    {
     "ename": "ParserError",
     "evalue": "Error tokenizing data. C error: Expected 1 fields in line 15, saw 2\n",
     "output_type": "error",
     "traceback": [
      "\u001b[1;31m---------------------------------------------------------------------------\u001b[0m",
      "\u001b[1;31mParserError\u001b[0m                               Traceback (most recent call last)",
      "\u001b[1;32m<ipython-input-81-665189a0b6ce>\u001b[0m in \u001b[0;36m<module>\u001b[1;34m\u001b[0m\n\u001b[1;32m----> 1\u001b[1;33m \u001b[0mpd\u001b[0m\u001b[1;33m.\u001b[0m\u001b[0mread_csv\u001b[0m\u001b[1;33m(\u001b[0m\u001b[1;34m'test.txt'\u001b[0m\u001b[1;33m)\u001b[0m\u001b[1;33m\u001b[0m\u001b[1;33m\u001b[0m\u001b[0m\n\u001b[0m",
      "\u001b[1;32m~\\anaconda3\\lib\\site-packages\\pandas\\io\\parsers.py\u001b[0m in \u001b[0;36mparser_f\u001b[1;34m(filepath_or_buffer, sep, delimiter, header, names, index_col, usecols, squeeze, prefix, mangle_dupe_cols, dtype, engine, converters, true_values, false_values, skipinitialspace, skiprows, skipfooter, nrows, na_values, keep_default_na, na_filter, verbose, skip_blank_lines, parse_dates, infer_datetime_format, keep_date_col, date_parser, dayfirst, cache_dates, iterator, chunksize, compression, thousands, decimal, lineterminator, quotechar, quoting, doublequote, escapechar, comment, encoding, dialect, error_bad_lines, warn_bad_lines, delim_whitespace, low_memory, memory_map, float_precision)\u001b[0m\n\u001b[0;32m    674\u001b[0m         )\n\u001b[0;32m    675\u001b[0m \u001b[1;33m\u001b[0m\u001b[0m\n\u001b[1;32m--> 676\u001b[1;33m         \u001b[1;32mreturn\u001b[0m \u001b[0m_read\u001b[0m\u001b[1;33m(\u001b[0m\u001b[0mfilepath_or_buffer\u001b[0m\u001b[1;33m,\u001b[0m \u001b[0mkwds\u001b[0m\u001b[1;33m)\u001b[0m\u001b[1;33m\u001b[0m\u001b[1;33m\u001b[0m\u001b[0m\n\u001b[0m\u001b[0;32m    677\u001b[0m \u001b[1;33m\u001b[0m\u001b[0m\n\u001b[0;32m    678\u001b[0m     \u001b[0mparser_f\u001b[0m\u001b[1;33m.\u001b[0m\u001b[0m__name__\u001b[0m \u001b[1;33m=\u001b[0m \u001b[0mname\u001b[0m\u001b[1;33m\u001b[0m\u001b[1;33m\u001b[0m\u001b[0m\n",
      "\u001b[1;32m~\\anaconda3\\lib\\site-packages\\pandas\\io\\parsers.py\u001b[0m in \u001b[0;36m_read\u001b[1;34m(filepath_or_buffer, kwds)\u001b[0m\n\u001b[0;32m    452\u001b[0m \u001b[1;33m\u001b[0m\u001b[0m\n\u001b[0;32m    453\u001b[0m     \u001b[1;32mtry\u001b[0m\u001b[1;33m:\u001b[0m\u001b[1;33m\u001b[0m\u001b[1;33m\u001b[0m\u001b[0m\n\u001b[1;32m--> 454\u001b[1;33m         \u001b[0mdata\u001b[0m \u001b[1;33m=\u001b[0m \u001b[0mparser\u001b[0m\u001b[1;33m.\u001b[0m\u001b[0mread\u001b[0m\u001b[1;33m(\u001b[0m\u001b[0mnrows\u001b[0m\u001b[1;33m)\u001b[0m\u001b[1;33m\u001b[0m\u001b[1;33m\u001b[0m\u001b[0m\n\u001b[0m\u001b[0;32m    455\u001b[0m     \u001b[1;32mfinally\u001b[0m\u001b[1;33m:\u001b[0m\u001b[1;33m\u001b[0m\u001b[1;33m\u001b[0m\u001b[0m\n\u001b[0;32m    456\u001b[0m         \u001b[0mparser\u001b[0m\u001b[1;33m.\u001b[0m\u001b[0mclose\u001b[0m\u001b[1;33m(\u001b[0m\u001b[1;33m)\u001b[0m\u001b[1;33m\u001b[0m\u001b[1;33m\u001b[0m\u001b[0m\n",
      "\u001b[1;32m~\\anaconda3\\lib\\site-packages\\pandas\\io\\parsers.py\u001b[0m in \u001b[0;36mread\u001b[1;34m(self, nrows)\u001b[0m\n\u001b[0;32m   1131\u001b[0m     \u001b[1;32mdef\u001b[0m \u001b[0mread\u001b[0m\u001b[1;33m(\u001b[0m\u001b[0mself\u001b[0m\u001b[1;33m,\u001b[0m \u001b[0mnrows\u001b[0m\u001b[1;33m=\u001b[0m\u001b[1;32mNone\u001b[0m\u001b[1;33m)\u001b[0m\u001b[1;33m:\u001b[0m\u001b[1;33m\u001b[0m\u001b[1;33m\u001b[0m\u001b[0m\n\u001b[0;32m   1132\u001b[0m         \u001b[0mnrows\u001b[0m \u001b[1;33m=\u001b[0m \u001b[0m_validate_integer\u001b[0m\u001b[1;33m(\u001b[0m\u001b[1;34m\"nrows\"\u001b[0m\u001b[1;33m,\u001b[0m \u001b[0mnrows\u001b[0m\u001b[1;33m)\u001b[0m\u001b[1;33m\u001b[0m\u001b[1;33m\u001b[0m\u001b[0m\n\u001b[1;32m-> 1133\u001b[1;33m         \u001b[0mret\u001b[0m \u001b[1;33m=\u001b[0m \u001b[0mself\u001b[0m\u001b[1;33m.\u001b[0m\u001b[0m_engine\u001b[0m\u001b[1;33m.\u001b[0m\u001b[0mread\u001b[0m\u001b[1;33m(\u001b[0m\u001b[0mnrows\u001b[0m\u001b[1;33m)\u001b[0m\u001b[1;33m\u001b[0m\u001b[1;33m\u001b[0m\u001b[0m\n\u001b[0m\u001b[0;32m   1134\u001b[0m \u001b[1;33m\u001b[0m\u001b[0m\n\u001b[0;32m   1135\u001b[0m         \u001b[1;31m# May alter columns / col_dict\u001b[0m\u001b[1;33m\u001b[0m\u001b[1;33m\u001b[0m\u001b[1;33m\u001b[0m\u001b[0m\n",
      "\u001b[1;32m~\\anaconda3\\lib\\site-packages\\pandas\\io\\parsers.py\u001b[0m in \u001b[0;36mread\u001b[1;34m(self, nrows)\u001b[0m\n\u001b[0;32m   2035\u001b[0m     \u001b[1;32mdef\u001b[0m \u001b[0mread\u001b[0m\u001b[1;33m(\u001b[0m\u001b[0mself\u001b[0m\u001b[1;33m,\u001b[0m \u001b[0mnrows\u001b[0m\u001b[1;33m=\u001b[0m\u001b[1;32mNone\u001b[0m\u001b[1;33m)\u001b[0m\u001b[1;33m:\u001b[0m\u001b[1;33m\u001b[0m\u001b[1;33m\u001b[0m\u001b[0m\n\u001b[0;32m   2036\u001b[0m         \u001b[1;32mtry\u001b[0m\u001b[1;33m:\u001b[0m\u001b[1;33m\u001b[0m\u001b[1;33m\u001b[0m\u001b[0m\n\u001b[1;32m-> 2037\u001b[1;33m             \u001b[0mdata\u001b[0m \u001b[1;33m=\u001b[0m \u001b[0mself\u001b[0m\u001b[1;33m.\u001b[0m\u001b[0m_reader\u001b[0m\u001b[1;33m.\u001b[0m\u001b[0mread\u001b[0m\u001b[1;33m(\u001b[0m\u001b[0mnrows\u001b[0m\u001b[1;33m)\u001b[0m\u001b[1;33m\u001b[0m\u001b[1;33m\u001b[0m\u001b[0m\n\u001b[0m\u001b[0;32m   2038\u001b[0m         \u001b[1;32mexcept\u001b[0m \u001b[0mStopIteration\u001b[0m\u001b[1;33m:\u001b[0m\u001b[1;33m\u001b[0m\u001b[1;33m\u001b[0m\u001b[0m\n\u001b[0;32m   2039\u001b[0m             \u001b[1;32mif\u001b[0m \u001b[0mself\u001b[0m\u001b[1;33m.\u001b[0m\u001b[0m_first_chunk\u001b[0m\u001b[1;33m:\u001b[0m\u001b[1;33m\u001b[0m\u001b[1;33m\u001b[0m\u001b[0m\n",
      "\u001b[1;32mpandas\\_libs\\parsers.pyx\u001b[0m in \u001b[0;36mpandas._libs.parsers.TextReader.read\u001b[1;34m()\u001b[0m\n",
      "\u001b[1;32mpandas\\_libs\\parsers.pyx\u001b[0m in \u001b[0;36mpandas._libs.parsers.TextReader._read_low_memory\u001b[1;34m()\u001b[0m\n",
      "\u001b[1;32mpandas\\_libs\\parsers.pyx\u001b[0m in \u001b[0;36mpandas._libs.parsers.TextReader._read_rows\u001b[1;34m()\u001b[0m\n",
      "\u001b[1;32mpandas\\_libs\\parsers.pyx\u001b[0m in \u001b[0;36mpandas._libs.parsers.TextReader._tokenize_rows\u001b[1;34m()\u001b[0m\n",
      "\u001b[1;32mpandas\\_libs\\parsers.pyx\u001b[0m in \u001b[0;36mpandas._libs.parsers.raise_parser_error\u001b[1;34m()\u001b[0m\n",
      "\u001b[1;31mParserError\u001b[0m: Error tokenizing data. C error: Expected 1 fields in line 15, saw 2\n"
     ]
    }
   ],
   "source": [
    "pd.read_csv('test.txt')"
   ]
  },
  {
   "cell_type": "code",
   "execution_count": null,
   "metadata": {},
   "outputs": [],
   "source": []
  }
 ],
 "metadata": {
  "kernelspec": {
   "display_name": "Python 3",
   "language": "python",
   "name": "python3"
  },
  "language_info": {
   "codemirror_mode": {
    "name": "ipython",
    "version": 3
   },
   "file_extension": ".py",
   "mimetype": "text/x-python",
   "name": "python",
   "nbconvert_exporter": "python",
   "pygments_lexer": "ipython3",
   "version": "3.8.3"
  }
 },
 "nbformat": 4,
 "nbformat_minor": 4
}
