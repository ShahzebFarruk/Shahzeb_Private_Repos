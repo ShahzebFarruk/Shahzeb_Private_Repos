{
 "cells": [
  {
   "cell_type": "code",
   "execution_count": 115,
   "metadata": {},
   "outputs": [],
   "source": [
    "import getpass\n",
    "import os\n",
    "import sys\n",
    "import time\n",
    "\n",
    "import matplotlib.pyplot as plt\n",
    "import pandas as pd\n",
    "import pykeen\n",
    "import torch\n",
    "from pykeen.pipeline import pipeline\n",
    "\n",
    "%matplotlib inline"
   ]
  },
  {
   "cell_type": "code",
   "execution_count": 2,
   "metadata": {},
   "outputs": [
    {
     "name": "stdout",
     "output_type": "stream",
     "text": [
      "3.8.3 (default, Jul  2 2020, 17:30:36) [MSC v.1916 64 bit (AMD64)]\n"
     ]
    }
   ],
   "source": [
    "print(sys.version)"
   ]
  },
  {
   "cell_type": "code",
   "execution_count": 3,
   "metadata": {},
   "outputs": [
    {
     "name": "stdout",
     "output_type": "stream",
     "text": [
      "Sun Mar 14 20:22:22 2021\n"
     ]
    }
   ],
   "source": [
    "print(time.asctime())"
   ]
  },
  {
   "cell_type": "code",
   "execution_count": 4,
   "metadata": {},
   "outputs": [
    {
     "name": "stdout",
     "output_type": "stream",
     "text": [
      "shahz\n"
     ]
    }
   ],
   "source": [
    "\n",
    "print(getpass.getuser())"
   ]
  },
  {
   "cell_type": "code",
   "execution_count": 5,
   "metadata": {},
   "outputs": [
    {
     "name": "stdout",
     "output_type": "stream",
     "text": [
      "1.4.0-UNHASHED\n"
     ]
    }
   ],
   "source": [
    "print(pykeen.get_version(with_git_hash=True))"
   ]
  },
  {
   "cell_type": "code",
   "execution_count": 6,
   "metadata": {
    "scrolled": true
   },
   "outputs": [
    {
     "name": "stderr",
     "output_type": "stream",
     "text": [
      "C:\\Users\\shahz\\anaconda3\\lib\\site-packages\\torch\\cuda\\__init__.py:52: UserWarning: CUDA initialization: Found no NVIDIA driver on your system. Please check that you have an NVIDIA GPU and installed a driver from http://www.nvidia.com/Download/index.aspx (Triggered internally at  ..\\c10\\cuda\\CUDAFunctions.cpp:100.)\n",
      "  return torch._C._cuda_getDeviceCount() > 0\n"
     ]
    },
    {
     "data": {
      "application/vnd.jupyter.widget-view+json": {
       "model_id": "3a36343035e44049a67c0dcbc26c2a27",
       "version_major": 2,
       "version_minor": 0
      },
      "text/plain": [
       "HBox(children=(FloatProgress(value=0.0, description='Training epochs on cpu', style=ProgressStyle(description_…"
      ]
     },
     "metadata": {},
     "output_type": "display_data"
    },
    {
     "data": {
      "application/vnd.jupyter.widget-view+json": {
       "model_id": "",
       "version_major": 2,
       "version_minor": 0
      },
      "text/plain": [
       "HBox(children=(FloatProgress(value=0.0, description='Training batches on cpu', max=7.0, style=ProgressStyle(de…"
      ]
     },
     "metadata": {},
     "output_type": "display_data"
    },
    {
     "data": {
      "application/vnd.jupyter.widget-view+json": {
       "model_id": "",
       "version_major": 2,
       "version_minor": 0
      },
      "text/plain": [
       "HBox(children=(FloatProgress(value=0.0, description='Training batches on cpu', max=7.0, style=ProgressStyle(de…"
      ]
     },
     "metadata": {},
     "output_type": "display_data"
    },
    {
     "data": {
      "application/vnd.jupyter.widget-view+json": {
       "model_id": "",
       "version_major": 2,
       "version_minor": 0
      },
      "text/plain": [
       "HBox(children=(FloatProgress(value=0.0, description='Training batches on cpu', max=7.0, style=ProgressStyle(de…"
      ]
     },
     "metadata": {},
     "output_type": "display_data"
    },
    {
     "data": {
      "application/vnd.jupyter.widget-view+json": {
       "model_id": "",
       "version_major": 2,
       "version_minor": 0
      },
      "text/plain": [
       "HBox(children=(FloatProgress(value=0.0, description='Training batches on cpu', max=7.0, style=ProgressStyle(de…"
      ]
     },
     "metadata": {},
     "output_type": "display_data"
    },
    {
     "data": {
      "application/vnd.jupyter.widget-view+json": {
       "model_id": "",
       "version_major": 2,
       "version_minor": 0
      },
      "text/plain": [
       "HBox(children=(FloatProgress(value=0.0, description='Training batches on cpu', max=7.0, style=ProgressStyle(de…"
      ]
     },
     "metadata": {},
     "output_type": "display_data"
    },
    {
     "data": {
      "application/vnd.jupyter.widget-view+json": {
       "model_id": "",
       "version_major": 2,
       "version_minor": 0
      },
      "text/plain": [
       "HBox(children=(FloatProgress(value=0.0, description='Training batches on cpu', max=7.0, style=ProgressStyle(de…"
      ]
     },
     "metadata": {},
     "output_type": "display_data"
    },
    {
     "data": {
      "application/vnd.jupyter.widget-view+json": {
       "model_id": "",
       "version_major": 2,
       "version_minor": 0
      },
      "text/plain": [
       "HBox(children=(FloatProgress(value=0.0, description='Training batches on cpu', max=7.0, style=ProgressStyle(de…"
      ]
     },
     "metadata": {},
     "output_type": "display_data"
    },
    {
     "data": {
      "application/vnd.jupyter.widget-view+json": {
       "model_id": "",
       "version_major": 2,
       "version_minor": 0
      },
      "text/plain": [
       "HBox(children=(FloatProgress(value=0.0, description='Training batches on cpu', max=7.0, style=ProgressStyle(de…"
      ]
     },
     "metadata": {},
     "output_type": "display_data"
    },
    {
     "data": {
      "application/vnd.jupyter.widget-view+json": {
       "model_id": "",
       "version_major": 2,
       "version_minor": 0
      },
      "text/plain": [
       "HBox(children=(FloatProgress(value=0.0, description='Training batches on cpu', max=7.0, style=ProgressStyle(de…"
      ]
     },
     "metadata": {},
     "output_type": "display_data"
    },
    {
     "data": {
      "application/vnd.jupyter.widget-view+json": {
       "model_id": "",
       "version_major": 2,
       "version_minor": 0
      },
      "text/plain": [
       "HBox(children=(FloatProgress(value=0.0, description='Training batches on cpu', max=7.0, style=ProgressStyle(de…"
      ]
     },
     "metadata": {},
     "output_type": "display_data"
    },
    {
     "data": {
      "application/vnd.jupyter.widget-view+json": {
       "model_id": "",
       "version_major": 2,
       "version_minor": 0
      },
      "text/plain": [
       "HBox(children=(FloatProgress(value=0.0, description='Training batches on cpu', max=7.0, style=ProgressStyle(de…"
      ]
     },
     "metadata": {},
     "output_type": "display_data"
    },
    {
     "data": {
      "application/vnd.jupyter.widget-view+json": {
       "model_id": "",
       "version_major": 2,
       "version_minor": 0
      },
      "text/plain": [
       "HBox(children=(FloatProgress(value=0.0, description='Training batches on cpu', max=7.0, style=ProgressStyle(de…"
      ]
     },
     "metadata": {},
     "output_type": "display_data"
    },
    {
     "data": {
      "application/vnd.jupyter.widget-view+json": {
       "model_id": "",
       "version_major": 2,
       "version_minor": 0
      },
      "text/plain": [
       "HBox(children=(FloatProgress(value=0.0, description='Training batches on cpu', max=7.0, style=ProgressStyle(de…"
      ]
     },
     "metadata": {},
     "output_type": "display_data"
    },
    {
     "data": {
      "application/vnd.jupyter.widget-view+json": {
       "model_id": "",
       "version_major": 2,
       "version_minor": 0
      },
      "text/plain": [
       "HBox(children=(FloatProgress(value=0.0, description='Training batches on cpu', max=7.0, style=ProgressStyle(de…"
      ]
     },
     "metadata": {},
     "output_type": "display_data"
    },
    {
     "data": {
      "application/vnd.jupyter.widget-view+json": {
       "model_id": "",
       "version_major": 2,
       "version_minor": 0
      },
      "text/plain": [
       "HBox(children=(FloatProgress(value=0.0, description='Training batches on cpu', max=7.0, style=ProgressStyle(de…"
      ]
     },
     "metadata": {},
     "output_type": "display_data"
    },
    {
     "data": {
      "application/vnd.jupyter.widget-view+json": {
       "model_id": "",
       "version_major": 2,
       "version_minor": 0
      },
      "text/plain": [
       "HBox(children=(FloatProgress(value=0.0, description='Training batches on cpu', max=7.0, style=ProgressStyle(de…"
      ]
     },
     "metadata": {},
     "output_type": "display_data"
    },
    {
     "data": {
      "application/vnd.jupyter.widget-view+json": {
       "model_id": "",
       "version_major": 2,
       "version_minor": 0
      },
      "text/plain": [
       "HBox(children=(FloatProgress(value=0.0, description='Training batches on cpu', max=7.0, style=ProgressStyle(de…"
      ]
     },
     "metadata": {},
     "output_type": "display_data"
    },
    {
     "data": {
      "application/vnd.jupyter.widget-view+json": {
       "model_id": "",
       "version_major": 2,
       "version_minor": 0
      },
      "text/plain": [
       "HBox(children=(FloatProgress(value=0.0, description='Training batches on cpu', max=7.0, style=ProgressStyle(de…"
      ]
     },
     "metadata": {},
     "output_type": "display_data"
    },
    {
     "data": {
      "application/vnd.jupyter.widget-view+json": {
       "model_id": "",
       "version_major": 2,
       "version_minor": 0
      },
      "text/plain": [
       "HBox(children=(FloatProgress(value=0.0, description='Training batches on cpu', max=7.0, style=ProgressStyle(de…"
      ]
     },
     "metadata": {},
     "output_type": "display_data"
    },
    {
     "data": {
      "application/vnd.jupyter.widget-view+json": {
       "model_id": "",
       "version_major": 2,
       "version_minor": 0
      },
      "text/plain": [
       "HBox(children=(FloatProgress(value=0.0, description='Training batches on cpu', max=7.0, style=ProgressStyle(de…"
      ]
     },
     "metadata": {},
     "output_type": "display_data"
    },
    {
     "data": {
      "application/vnd.jupyter.widget-view+json": {
       "model_id": "",
       "version_major": 2,
       "version_minor": 0
      },
      "text/plain": [
       "HBox(children=(FloatProgress(value=0.0, description='Training batches on cpu', max=7.0, style=ProgressStyle(de…"
      ]
     },
     "metadata": {},
     "output_type": "display_data"
    },
    {
     "data": {
      "application/vnd.jupyter.widget-view+json": {
       "model_id": "",
       "version_major": 2,
       "version_minor": 0
      },
      "text/plain": [
       "HBox(children=(FloatProgress(value=0.0, description='Training batches on cpu', max=7.0, style=ProgressStyle(de…"
      ]
     },
     "metadata": {},
     "output_type": "display_data"
    },
    {
     "data": {
      "application/vnd.jupyter.widget-view+json": {
       "model_id": "",
       "version_major": 2,
       "version_minor": 0
      },
      "text/plain": [
       "HBox(children=(FloatProgress(value=0.0, description='Training batches on cpu', max=7.0, style=ProgressStyle(de…"
      ]
     },
     "metadata": {},
     "output_type": "display_data"
    },
    {
     "data": {
      "application/vnd.jupyter.widget-view+json": {
       "model_id": "",
       "version_major": 2,
       "version_minor": 0
      },
      "text/plain": [
       "HBox(children=(FloatProgress(value=0.0, description='Training batches on cpu', max=7.0, style=ProgressStyle(de…"
      ]
     },
     "metadata": {},
     "output_type": "display_data"
    },
    {
     "data": {
      "application/vnd.jupyter.widget-view+json": {
       "model_id": "",
       "version_major": 2,
       "version_minor": 0
      },
      "text/plain": [
       "HBox(children=(FloatProgress(value=0.0, description='Training batches on cpu', max=7.0, style=ProgressStyle(de…"
      ]
     },
     "metadata": {},
     "output_type": "display_data"
    },
    {
     "data": {
      "application/vnd.jupyter.widget-view+json": {
       "model_id": "",
       "version_major": 2,
       "version_minor": 0
      },
      "text/plain": [
       "HBox(children=(FloatProgress(value=0.0, description='Training batches on cpu', max=7.0, style=ProgressStyle(de…"
      ]
     },
     "metadata": {},
     "output_type": "display_data"
    },
    {
     "data": {
      "application/vnd.jupyter.widget-view+json": {
       "model_id": "",
       "version_major": 2,
       "version_minor": 0
      },
      "text/plain": [
       "HBox(children=(FloatProgress(value=0.0, description='Training batches on cpu', max=7.0, style=ProgressStyle(de…"
      ]
     },
     "metadata": {},
     "output_type": "display_data"
    },
    {
     "data": {
      "application/vnd.jupyter.widget-view+json": {
       "model_id": "",
       "version_major": 2,
       "version_minor": 0
      },
      "text/plain": [
       "HBox(children=(FloatProgress(value=0.0, description='Training batches on cpu', max=7.0, style=ProgressStyle(de…"
      ]
     },
     "metadata": {},
     "output_type": "display_data"
    },
    {
     "data": {
      "application/vnd.jupyter.widget-view+json": {
       "model_id": "",
       "version_major": 2,
       "version_minor": 0
      },
      "text/plain": [
       "HBox(children=(FloatProgress(value=0.0, description='Training batches on cpu', max=7.0, style=ProgressStyle(de…"
      ]
     },
     "metadata": {},
     "output_type": "display_data"
    },
    {
     "data": {
      "application/vnd.jupyter.widget-view+json": {
       "model_id": "",
       "version_major": 2,
       "version_minor": 0
      },
      "text/plain": [
       "HBox(children=(FloatProgress(value=0.0, description='Training batches on cpu', max=7.0, style=ProgressStyle(de…"
      ]
     },
     "metadata": {},
     "output_type": "display_data"
    },
    {
     "data": {
      "application/vnd.jupyter.widget-view+json": {
       "model_id": "",
       "version_major": 2,
       "version_minor": 0
      },
      "text/plain": [
       "HBox(children=(FloatProgress(value=0.0, description='Training batches on cpu', max=7.0, style=ProgressStyle(de…"
      ]
     },
     "metadata": {},
     "output_type": "display_data"
    },
    {
     "data": {
      "application/vnd.jupyter.widget-view+json": {
       "model_id": "",
       "version_major": 2,
       "version_minor": 0
      },
      "text/plain": [
       "HBox(children=(FloatProgress(value=0.0, description='Training batches on cpu', max=7.0, style=ProgressStyle(de…"
      ]
     },
     "metadata": {},
     "output_type": "display_data"
    },
    {
     "data": {
      "application/vnd.jupyter.widget-view+json": {
       "model_id": "",
       "version_major": 2,
       "version_minor": 0
      },
      "text/plain": [
       "HBox(children=(FloatProgress(value=0.0, description='Training batches on cpu', max=7.0, style=ProgressStyle(de…"
      ]
     },
     "metadata": {},
     "output_type": "display_data"
    },
    {
     "data": {
      "application/vnd.jupyter.widget-view+json": {
       "model_id": "",
       "version_major": 2,
       "version_minor": 0
      },
      "text/plain": [
       "HBox(children=(FloatProgress(value=0.0, description='Training batches on cpu', max=7.0, style=ProgressStyle(de…"
      ]
     },
     "metadata": {},
     "output_type": "display_data"
    },
    {
     "data": {
      "application/vnd.jupyter.widget-view+json": {
       "model_id": "",
       "version_major": 2,
       "version_minor": 0
      },
      "text/plain": [
       "HBox(children=(FloatProgress(value=0.0, description='Training batches on cpu', max=7.0, style=ProgressStyle(de…"
      ]
     },
     "metadata": {},
     "output_type": "display_data"
    },
    {
     "data": {
      "application/vnd.jupyter.widget-view+json": {
       "model_id": "",
       "version_major": 2,
       "version_minor": 0
      },
      "text/plain": [
       "HBox(children=(FloatProgress(value=0.0, description='Training batches on cpu', max=7.0, style=ProgressStyle(de…"
      ]
     },
     "metadata": {},
     "output_type": "display_data"
    },
    {
     "data": {
      "application/vnd.jupyter.widget-view+json": {
       "model_id": "",
       "version_major": 2,
       "version_minor": 0
      },
      "text/plain": [
       "HBox(children=(FloatProgress(value=0.0, description='Training batches on cpu', max=7.0, style=ProgressStyle(de…"
      ]
     },
     "metadata": {},
     "output_type": "display_data"
    },
    {
     "data": {
      "application/vnd.jupyter.widget-view+json": {
       "model_id": "",
       "version_major": 2,
       "version_minor": 0
      },
      "text/plain": [
       "HBox(children=(FloatProgress(value=0.0, description='Training batches on cpu', max=7.0, style=ProgressStyle(de…"
      ]
     },
     "metadata": {},
     "output_type": "display_data"
    },
    {
     "data": {
      "application/vnd.jupyter.widget-view+json": {
       "model_id": "",
       "version_major": 2,
       "version_minor": 0
      },
      "text/plain": [
       "HBox(children=(FloatProgress(value=0.0, description='Training batches on cpu', max=7.0, style=ProgressStyle(de…"
      ]
     },
     "metadata": {},
     "output_type": "display_data"
    },
    {
     "data": {
      "application/vnd.jupyter.widget-view+json": {
       "model_id": "",
       "version_major": 2,
       "version_minor": 0
      },
      "text/plain": [
       "HBox(children=(FloatProgress(value=0.0, description='Training batches on cpu', max=7.0, style=ProgressStyle(de…"
      ]
     },
     "metadata": {},
     "output_type": "display_data"
    },
    {
     "data": {
      "application/vnd.jupyter.widget-view+json": {
       "model_id": "",
       "version_major": 2,
       "version_minor": 0
      },
      "text/plain": [
       "HBox(children=(FloatProgress(value=0.0, description='Training batches on cpu', max=7.0, style=ProgressStyle(de…"
      ]
     },
     "metadata": {},
     "output_type": "display_data"
    },
    {
     "data": {
      "application/vnd.jupyter.widget-view+json": {
       "model_id": "",
       "version_major": 2,
       "version_minor": 0
      },
      "text/plain": [
       "HBox(children=(FloatProgress(value=0.0, description='Training batches on cpu', max=7.0, style=ProgressStyle(de…"
      ]
     },
     "metadata": {},
     "output_type": "display_data"
    },
    {
     "data": {
      "application/vnd.jupyter.widget-view+json": {
       "model_id": "",
       "version_major": 2,
       "version_minor": 0
      },
      "text/plain": [
       "HBox(children=(FloatProgress(value=0.0, description='Training batches on cpu', max=7.0, style=ProgressStyle(de…"
      ]
     },
     "metadata": {},
     "output_type": "display_data"
    },
    {
     "data": {
      "application/vnd.jupyter.widget-view+json": {
       "model_id": "",
       "version_major": 2,
       "version_minor": 0
      },
      "text/plain": [
       "HBox(children=(FloatProgress(value=0.0, description='Training batches on cpu', max=7.0, style=ProgressStyle(de…"
      ]
     },
     "metadata": {},
     "output_type": "display_data"
    },
    {
     "data": {
      "application/vnd.jupyter.widget-view+json": {
       "model_id": "",
       "version_major": 2,
       "version_minor": 0
      },
      "text/plain": [
       "HBox(children=(FloatProgress(value=0.0, description='Training batches on cpu', max=7.0, style=ProgressStyle(de…"
      ]
     },
     "metadata": {},
     "output_type": "display_data"
    },
    {
     "data": {
      "application/vnd.jupyter.widget-view+json": {
       "model_id": "",
       "version_major": 2,
       "version_minor": 0
      },
      "text/plain": [
       "HBox(children=(FloatProgress(value=0.0, description='Training batches on cpu', max=7.0, style=ProgressStyle(de…"
      ]
     },
     "metadata": {},
     "output_type": "display_data"
    },
    {
     "data": {
      "application/vnd.jupyter.widget-view+json": {
       "model_id": "",
       "version_major": 2,
       "version_minor": 0
      },
      "text/plain": [
       "HBox(children=(FloatProgress(value=0.0, description='Training batches on cpu', max=7.0, style=ProgressStyle(de…"
      ]
     },
     "metadata": {},
     "output_type": "display_data"
    },
    {
     "data": {
      "application/vnd.jupyter.widget-view+json": {
       "model_id": "",
       "version_major": 2,
       "version_minor": 0
      },
      "text/plain": [
       "HBox(children=(FloatProgress(value=0.0, description='Training batches on cpu', max=7.0, style=ProgressStyle(de…"
      ]
     },
     "metadata": {},
     "output_type": "display_data"
    },
    {
     "data": {
      "application/vnd.jupyter.widget-view+json": {
       "model_id": "",
       "version_major": 2,
       "version_minor": 0
      },
      "text/plain": [
       "HBox(children=(FloatProgress(value=0.0, description='Training batches on cpu', max=7.0, style=ProgressStyle(de…"
      ]
     },
     "metadata": {},
     "output_type": "display_data"
    },
    {
     "data": {
      "application/vnd.jupyter.widget-view+json": {
       "model_id": "",
       "version_major": 2,
       "version_minor": 0
      },
      "text/plain": [
       "HBox(children=(FloatProgress(value=0.0, description='Training batches on cpu', max=7.0, style=ProgressStyle(de…"
      ]
     },
     "metadata": {},
     "output_type": "display_data"
    },
    {
     "data": {
      "application/vnd.jupyter.widget-view+json": {
       "model_id": "",
       "version_major": 2,
       "version_minor": 0
      },
      "text/plain": [
       "HBox(children=(FloatProgress(value=0.0, description='Training batches on cpu', max=7.0, style=ProgressStyle(de…"
      ]
     },
     "metadata": {},
     "output_type": "display_data"
    },
    {
     "data": {
      "application/vnd.jupyter.widget-view+json": {
       "model_id": "",
       "version_major": 2,
       "version_minor": 0
      },
      "text/plain": [
       "HBox(children=(FloatProgress(value=0.0, description='Training batches on cpu', max=7.0, style=ProgressStyle(de…"
      ]
     },
     "metadata": {},
     "output_type": "display_data"
    },
    {
     "data": {
      "application/vnd.jupyter.widget-view+json": {
       "model_id": "",
       "version_major": 2,
       "version_minor": 0
      },
      "text/plain": [
       "HBox(children=(FloatProgress(value=0.0, description='Training batches on cpu', max=7.0, style=ProgressStyle(de…"
      ]
     },
     "metadata": {},
     "output_type": "display_data"
    },
    {
     "data": {
      "application/vnd.jupyter.widget-view+json": {
       "model_id": "",
       "version_major": 2,
       "version_minor": 0
      },
      "text/plain": [
       "HBox(children=(FloatProgress(value=0.0, description='Training batches on cpu', max=7.0, style=ProgressStyle(de…"
      ]
     },
     "metadata": {},
     "output_type": "display_data"
    },
    {
     "data": {
      "application/vnd.jupyter.widget-view+json": {
       "model_id": "",
       "version_major": 2,
       "version_minor": 0
      },
      "text/plain": [
       "HBox(children=(FloatProgress(value=0.0, description='Training batches on cpu', max=7.0, style=ProgressStyle(de…"
      ]
     },
     "metadata": {},
     "output_type": "display_data"
    },
    {
     "data": {
      "application/vnd.jupyter.widget-view+json": {
       "model_id": "",
       "version_major": 2,
       "version_minor": 0
      },
      "text/plain": [
       "HBox(children=(FloatProgress(value=0.0, description='Training batches on cpu', max=7.0, style=ProgressStyle(de…"
      ]
     },
     "metadata": {},
     "output_type": "display_data"
    },
    {
     "data": {
      "application/vnd.jupyter.widget-view+json": {
       "model_id": "",
       "version_major": 2,
       "version_minor": 0
      },
      "text/plain": [
       "HBox(children=(FloatProgress(value=0.0, description='Training batches on cpu', max=7.0, style=ProgressStyle(de…"
      ]
     },
     "metadata": {},
     "output_type": "display_data"
    },
    {
     "data": {
      "application/vnd.jupyter.widget-view+json": {
       "model_id": "",
       "version_major": 2,
       "version_minor": 0
      },
      "text/plain": [
       "HBox(children=(FloatProgress(value=0.0, description='Training batches on cpu', max=7.0, style=ProgressStyle(de…"
      ]
     },
     "metadata": {},
     "output_type": "display_data"
    },
    {
     "data": {
      "application/vnd.jupyter.widget-view+json": {
       "model_id": "",
       "version_major": 2,
       "version_minor": 0
      },
      "text/plain": [
       "HBox(children=(FloatProgress(value=0.0, description='Training batches on cpu', max=7.0, style=ProgressStyle(de…"
      ]
     },
     "metadata": {},
     "output_type": "display_data"
    },
    {
     "data": {
      "application/vnd.jupyter.widget-view+json": {
       "model_id": "",
       "version_major": 2,
       "version_minor": 0
      },
      "text/plain": [
       "HBox(children=(FloatProgress(value=0.0, description='Training batches on cpu', max=7.0, style=ProgressStyle(de…"
      ]
     },
     "metadata": {},
     "output_type": "display_data"
    },
    {
     "data": {
      "application/vnd.jupyter.widget-view+json": {
       "model_id": "",
       "version_major": 2,
       "version_minor": 0
      },
      "text/plain": [
       "HBox(children=(FloatProgress(value=0.0, description='Training batches on cpu', max=7.0, style=ProgressStyle(de…"
      ]
     },
     "metadata": {},
     "output_type": "display_data"
    },
    {
     "data": {
      "application/vnd.jupyter.widget-view+json": {
       "model_id": "",
       "version_major": 2,
       "version_minor": 0
      },
      "text/plain": [
       "HBox(children=(FloatProgress(value=0.0, description='Training batches on cpu', max=7.0, style=ProgressStyle(de…"
      ]
     },
     "metadata": {},
     "output_type": "display_data"
    },
    {
     "data": {
      "application/vnd.jupyter.widget-view+json": {
       "model_id": "",
       "version_major": 2,
       "version_minor": 0
      },
      "text/plain": [
       "HBox(children=(FloatProgress(value=0.0, description='Training batches on cpu', max=7.0, style=ProgressStyle(de…"
      ]
     },
     "metadata": {},
     "output_type": "display_data"
    },
    {
     "data": {
      "application/vnd.jupyter.widget-view+json": {
       "model_id": "",
       "version_major": 2,
       "version_minor": 0
      },
      "text/plain": [
       "HBox(children=(FloatProgress(value=0.0, description='Training batches on cpu', max=7.0, style=ProgressStyle(de…"
      ]
     },
     "metadata": {},
     "output_type": "display_data"
    },
    {
     "data": {
      "application/vnd.jupyter.widget-view+json": {
       "model_id": "",
       "version_major": 2,
       "version_minor": 0
      },
      "text/plain": [
       "HBox(children=(FloatProgress(value=0.0, description='Training batches on cpu', max=7.0, style=ProgressStyle(de…"
      ]
     },
     "metadata": {},
     "output_type": "display_data"
    },
    {
     "data": {
      "application/vnd.jupyter.widget-view+json": {
       "model_id": "",
       "version_major": 2,
       "version_minor": 0
      },
      "text/plain": [
       "HBox(children=(FloatProgress(value=0.0, description='Training batches on cpu', max=7.0, style=ProgressStyle(de…"
      ]
     },
     "metadata": {},
     "output_type": "display_data"
    },
    {
     "data": {
      "application/vnd.jupyter.widget-view+json": {
       "model_id": "",
       "version_major": 2,
       "version_minor": 0
      },
      "text/plain": [
       "HBox(children=(FloatProgress(value=0.0, description='Training batches on cpu', max=7.0, style=ProgressStyle(de…"
      ]
     },
     "metadata": {},
     "output_type": "display_data"
    },
    {
     "data": {
      "application/vnd.jupyter.widget-view+json": {
       "model_id": "",
       "version_major": 2,
       "version_minor": 0
      },
      "text/plain": [
       "HBox(children=(FloatProgress(value=0.0, description='Training batches on cpu', max=7.0, style=ProgressStyle(de…"
      ]
     },
     "metadata": {},
     "output_type": "display_data"
    },
    {
     "data": {
      "application/vnd.jupyter.widget-view+json": {
       "model_id": "",
       "version_major": 2,
       "version_minor": 0
      },
      "text/plain": [
       "HBox(children=(FloatProgress(value=0.0, description='Training batches on cpu', max=7.0, style=ProgressStyle(de…"
      ]
     },
     "metadata": {},
     "output_type": "display_data"
    },
    {
     "data": {
      "application/vnd.jupyter.widget-view+json": {
       "model_id": "",
       "version_major": 2,
       "version_minor": 0
      },
      "text/plain": [
       "HBox(children=(FloatProgress(value=0.0, description='Training batches on cpu', max=7.0, style=ProgressStyle(de…"
      ]
     },
     "metadata": {},
     "output_type": "display_data"
    },
    {
     "data": {
      "application/vnd.jupyter.widget-view+json": {
       "model_id": "",
       "version_major": 2,
       "version_minor": 0
      },
      "text/plain": [
       "HBox(children=(FloatProgress(value=0.0, description='Training batches on cpu', max=7.0, style=ProgressStyle(de…"
      ]
     },
     "metadata": {},
     "output_type": "display_data"
    },
    {
     "data": {
      "application/vnd.jupyter.widget-view+json": {
       "model_id": "",
       "version_major": 2,
       "version_minor": 0
      },
      "text/plain": [
       "HBox(children=(FloatProgress(value=0.0, description='Training batches on cpu', max=7.0, style=ProgressStyle(de…"
      ]
     },
     "metadata": {},
     "output_type": "display_data"
    },
    {
     "data": {
      "application/vnd.jupyter.widget-view+json": {
       "model_id": "",
       "version_major": 2,
       "version_minor": 0
      },
      "text/plain": [
       "HBox(children=(FloatProgress(value=0.0, description='Training batches on cpu', max=7.0, style=ProgressStyle(de…"
      ]
     },
     "metadata": {},
     "output_type": "display_data"
    },
    {
     "data": {
      "application/vnd.jupyter.widget-view+json": {
       "model_id": "",
       "version_major": 2,
       "version_minor": 0
      },
      "text/plain": [
       "HBox(children=(FloatProgress(value=0.0, description='Training batches on cpu', max=7.0, style=ProgressStyle(de…"
      ]
     },
     "metadata": {},
     "output_type": "display_data"
    },
    {
     "data": {
      "application/vnd.jupyter.widget-view+json": {
       "model_id": "",
       "version_major": 2,
       "version_minor": 0
      },
      "text/plain": [
       "HBox(children=(FloatProgress(value=0.0, description='Training batches on cpu', max=7.0, style=ProgressStyle(de…"
      ]
     },
     "metadata": {},
     "output_type": "display_data"
    },
    {
     "data": {
      "application/vnd.jupyter.widget-view+json": {
       "model_id": "",
       "version_major": 2,
       "version_minor": 0
      },
      "text/plain": [
       "HBox(children=(FloatProgress(value=0.0, description='Training batches on cpu', max=7.0, style=ProgressStyle(de…"
      ]
     },
     "metadata": {},
     "output_type": "display_data"
    },
    {
     "data": {
      "application/vnd.jupyter.widget-view+json": {
       "model_id": "",
       "version_major": 2,
       "version_minor": 0
      },
      "text/plain": [
       "HBox(children=(FloatProgress(value=0.0, description='Training batches on cpu', max=7.0, style=ProgressStyle(de…"
      ]
     },
     "metadata": {},
     "output_type": "display_data"
    },
    {
     "data": {
      "application/vnd.jupyter.widget-view+json": {
       "model_id": "",
       "version_major": 2,
       "version_minor": 0
      },
      "text/plain": [
       "HBox(children=(FloatProgress(value=0.0, description='Training batches on cpu', max=7.0, style=ProgressStyle(de…"
      ]
     },
     "metadata": {},
     "output_type": "display_data"
    },
    {
     "data": {
      "application/vnd.jupyter.widget-view+json": {
       "model_id": "",
       "version_major": 2,
       "version_minor": 0
      },
      "text/plain": [
       "HBox(children=(FloatProgress(value=0.0, description='Training batches on cpu', max=7.0, style=ProgressStyle(de…"
      ]
     },
     "metadata": {},
     "output_type": "display_data"
    },
    {
     "data": {
      "application/vnd.jupyter.widget-view+json": {
       "model_id": "",
       "version_major": 2,
       "version_minor": 0
      },
      "text/plain": [
       "HBox(children=(FloatProgress(value=0.0, description='Training batches on cpu', max=7.0, style=ProgressStyle(de…"
      ]
     },
     "metadata": {},
     "output_type": "display_data"
    },
    {
     "data": {
      "application/vnd.jupyter.widget-view+json": {
       "model_id": "",
       "version_major": 2,
       "version_minor": 0
      },
      "text/plain": [
       "HBox(children=(FloatProgress(value=0.0, description='Training batches on cpu', max=7.0, style=ProgressStyle(de…"
      ]
     },
     "metadata": {},
     "output_type": "display_data"
    },
    {
     "data": {
      "application/vnd.jupyter.widget-view+json": {
       "model_id": "",
       "version_major": 2,
       "version_minor": 0
      },
      "text/plain": [
       "HBox(children=(FloatProgress(value=0.0, description='Training batches on cpu', max=7.0, style=ProgressStyle(de…"
      ]
     },
     "metadata": {},
     "output_type": "display_data"
    },
    {
     "data": {
      "application/vnd.jupyter.widget-view+json": {
       "model_id": "",
       "version_major": 2,
       "version_minor": 0
      },
      "text/plain": [
       "HBox(children=(FloatProgress(value=0.0, description='Training batches on cpu', max=7.0, style=ProgressStyle(de…"
      ]
     },
     "metadata": {},
     "output_type": "display_data"
    },
    {
     "data": {
      "application/vnd.jupyter.widget-view+json": {
       "model_id": "",
       "version_major": 2,
       "version_minor": 0
      },
      "text/plain": [
       "HBox(children=(FloatProgress(value=0.0, description='Training batches on cpu', max=7.0, style=ProgressStyle(de…"
      ]
     },
     "metadata": {},
     "output_type": "display_data"
    },
    {
     "data": {
      "application/vnd.jupyter.widget-view+json": {
       "model_id": "",
       "version_major": 2,
       "version_minor": 0
      },
      "text/plain": [
       "HBox(children=(FloatProgress(value=0.0, description='Training batches on cpu', max=7.0, style=ProgressStyle(de…"
      ]
     },
     "metadata": {},
     "output_type": "display_data"
    },
    {
     "data": {
      "application/vnd.jupyter.widget-view+json": {
       "model_id": "",
       "version_major": 2,
       "version_minor": 0
      },
      "text/plain": [
       "HBox(children=(FloatProgress(value=0.0, description='Training batches on cpu', max=7.0, style=ProgressStyle(de…"
      ]
     },
     "metadata": {},
     "output_type": "display_data"
    },
    {
     "data": {
      "application/vnd.jupyter.widget-view+json": {
       "model_id": "",
       "version_major": 2,
       "version_minor": 0
      },
      "text/plain": [
       "HBox(children=(FloatProgress(value=0.0, description='Training batches on cpu', max=7.0, style=ProgressStyle(de…"
      ]
     },
     "metadata": {},
     "output_type": "display_data"
    },
    {
     "data": {
      "application/vnd.jupyter.widget-view+json": {
       "model_id": "",
       "version_major": 2,
       "version_minor": 0
      },
      "text/plain": [
       "HBox(children=(FloatProgress(value=0.0, description='Training batches on cpu', max=7.0, style=ProgressStyle(de…"
      ]
     },
     "metadata": {},
     "output_type": "display_data"
    },
    {
     "data": {
      "application/vnd.jupyter.widget-view+json": {
       "model_id": "",
       "version_major": 2,
       "version_minor": 0
      },
      "text/plain": [
       "HBox(children=(FloatProgress(value=0.0, description='Training batches on cpu', max=7.0, style=ProgressStyle(de…"
      ]
     },
     "metadata": {},
     "output_type": "display_data"
    },
    {
     "data": {
      "application/vnd.jupyter.widget-view+json": {
       "model_id": "",
       "version_major": 2,
       "version_minor": 0
      },
      "text/plain": [
       "HBox(children=(FloatProgress(value=0.0, description='Training batches on cpu', max=7.0, style=ProgressStyle(de…"
      ]
     },
     "metadata": {},
     "output_type": "display_data"
    },
    {
     "data": {
      "application/vnd.jupyter.widget-view+json": {
       "model_id": "",
       "version_major": 2,
       "version_minor": 0
      },
      "text/plain": [
       "HBox(children=(FloatProgress(value=0.0, description='Training batches on cpu', max=7.0, style=ProgressStyle(de…"
      ]
     },
     "metadata": {},
     "output_type": "display_data"
    },
    {
     "data": {
      "application/vnd.jupyter.widget-view+json": {
       "model_id": "",
       "version_major": 2,
       "version_minor": 0
      },
      "text/plain": [
       "HBox(children=(FloatProgress(value=0.0, description='Training batches on cpu', max=7.0, style=ProgressStyle(de…"
      ]
     },
     "metadata": {},
     "output_type": "display_data"
    },
    {
     "data": {
      "application/vnd.jupyter.widget-view+json": {
       "model_id": "",
       "version_major": 2,
       "version_minor": 0
      },
      "text/plain": [
       "HBox(children=(FloatProgress(value=0.0, description='Training batches on cpu', max=7.0, style=ProgressStyle(de…"
      ]
     },
     "metadata": {},
     "output_type": "display_data"
    },
    {
     "data": {
      "application/vnd.jupyter.widget-view+json": {
       "model_id": "",
       "version_major": 2,
       "version_minor": 0
      },
      "text/plain": [
       "HBox(children=(FloatProgress(value=0.0, description='Training batches on cpu', max=7.0, style=ProgressStyle(de…"
      ]
     },
     "metadata": {},
     "output_type": "display_data"
    },
    {
     "data": {
      "application/vnd.jupyter.widget-view+json": {
       "model_id": "",
       "version_major": 2,
       "version_minor": 0
      },
      "text/plain": [
       "HBox(children=(FloatProgress(value=0.0, description='Training batches on cpu', max=7.0, style=ProgressStyle(de…"
      ]
     },
     "metadata": {},
     "output_type": "display_data"
    },
    {
     "data": {
      "application/vnd.jupyter.widget-view+json": {
       "model_id": "",
       "version_major": 2,
       "version_minor": 0
      },
      "text/plain": [
       "HBox(children=(FloatProgress(value=0.0, description='Training batches on cpu', max=7.0, style=ProgressStyle(de…"
      ]
     },
     "metadata": {},
     "output_type": "display_data"
    },
    {
     "data": {
      "application/vnd.jupyter.widget-view+json": {
       "model_id": "",
       "version_major": 2,
       "version_minor": 0
      },
      "text/plain": [
       "HBox(children=(FloatProgress(value=0.0, description='Training batches on cpu', max=7.0, style=ProgressStyle(de…"
      ]
     },
     "metadata": {},
     "output_type": "display_data"
    },
    {
     "data": {
      "application/vnd.jupyter.widget-view+json": {
       "model_id": "",
       "version_major": 2,
       "version_minor": 0
      },
      "text/plain": [
       "HBox(children=(FloatProgress(value=0.0, description='Training batches on cpu', max=7.0, style=ProgressStyle(de…"
      ]
     },
     "metadata": {},
     "output_type": "display_data"
    },
    {
     "data": {
      "application/vnd.jupyter.widget-view+json": {
       "model_id": "",
       "version_major": 2,
       "version_minor": 0
      },
      "text/plain": [
       "HBox(children=(FloatProgress(value=0.0, description='Training batches on cpu', max=7.0, style=ProgressStyle(de…"
      ]
     },
     "metadata": {},
     "output_type": "display_data"
    },
    {
     "data": {
      "application/vnd.jupyter.widget-view+json": {
       "model_id": "",
       "version_major": 2,
       "version_minor": 0
      },
      "text/plain": [
       "HBox(children=(FloatProgress(value=0.0, description='Training batches on cpu', max=7.0, style=ProgressStyle(de…"
      ]
     },
     "metadata": {},
     "output_type": "display_data"
    },
    {
     "name": "stderr",
     "output_type": "stream",
     "text": [
      "INFO:pykeen.evaluation.evaluator:Currently automatic memory optimization only supports GPUs, but you're using a CPU. Therefore, the batch_size will be set to the default value.\n",
      "INFO:pykeen.evaluation.evaluator:No evaluation batch_size provided. Setting batch_size to '32'.\n"
     ]
    },
    {
     "name": "stdout",
     "output_type": "stream",
     "text": [
      "\n"
     ]
    },
    {
     "data": {
      "application/vnd.jupyter.widget-view+json": {
       "model_id": "417ba76489f246cbb7fe96c715771b53",
       "version_major": 2,
       "version_minor": 0
      },
      "text/plain": [
       "HBox(children=(FloatProgress(value=0.0, description='Evaluating on cpu', max=201.0, style=ProgressStyle(descri…"
      ]
     },
     "metadata": {},
     "output_type": "display_data"
    },
    {
     "name": "stderr",
     "output_type": "stream",
     "text": [
      "INFO:pykeen.evaluation.evaluator:Evaluation took 0.07s seconds\n"
     ]
    },
    {
     "name": "stdout",
     "output_type": "stream",
     "text": [
      "\n"
     ]
    }
   ],
   "source": [
    "result = pipeline(\n",
    "    dataset='Nations',\n",
    "    model='RotatE',\n",
    "    random_seed=1235,\n",
    "    device='cpu',\n",
    "    training_kwargs=dict(num_epochs=100),  # Shouldn't take more than a minute or two on a nice computer\n",
    ")"
   ]
  },
  {
   "cell_type": "code",
   "execution_count": 7,
   "metadata": {},
   "outputs": [
    {
     "data": {
      "text/plain": [
       "PipelineResult(random_seed=1235, model=RotatE(\n",
       "  (loss): MarginRankingLoss()\n",
       "  (regularizer): NoRegularizer()\n",
       "  (entity_embeddings): Embedding(\n",
       "    (_embeddings): Embedding(14, 400)\n",
       "  )\n",
       "  (relation_embeddings): Embedding(\n",
       "    (_embeddings): Embedding(55, 400)\n",
       "  )\n",
       "), training_loop=<pykeen.training.slcwa.SLCWATrainingLoop object at 0x000001DDA70C2FD0>, losses=[0.004362222462443251, 0.004279505367854133, 0.004190522821704347, 0.00415098277767699, 0.004086745893535902, 0.004032049271928605, 0.0039364126085036965, 0.0038983375208461704, 0.003837279900534069, 0.003818197166500379, 0.0037511558688465675, 0.003789631565611566, 0.0037494035596823574, 0.003650600249743342, 0.0036557899348100826, 0.0036934994572970135, 0.0038585387282635097, 0.0036518981483713467, 0.0036909988327841065, 0.0036164818696640243, 0.003702789320418583, 0.003640433651718063, 0.003602575679220746, 0.003655036302966688, 0.0035636409293467075, 0.0036345944557357674, 0.0035973772706098892, 0.003701441813653438, 0.0035517578148961666, 0.003498262758530564, 0.003555587525643296, 0.0035415714859363422, 0.003609505692618576, 0.0035370732072609753, 0.003648566802841934, 0.0034622571725941185, 0.0036019063624904385, 0.0035820258547313247, 0.0034250816208633347, 0.003496665975556302, 0.0036705073025358383, 0.0035785525363294323, 0.003404151404922332, 0.0035273914960161526, 0.0034854847881662186, 0.0035851621747615948, 0.003490459192637822, 0.0035033859499734848, 0.003305891687846064, 0.0034500468316389686, 0.0033679463006743232, 0.0033502502357540417, 0.003508421831095039, 0.0034314786369477085, 0.003326308000926396, 0.0033514831758024704, 0.003360309343242166, 0.003291353396135359, 0.0033884335253106888, 0.0033246274270004963, 0.003527862305317692, 0.0034422217002466095, 0.0033538320555758835, 0.0033603883418605557, 0.0033890498268544372, 0.003309963411422231, 0.0033750307544991, 0.003339132584219602, 0.003443259240394861, 0.003381222748576696, 0.0032510536924079433, 0.0033598053620089237, 0.0032559798740262364, 0.0033545046295951958, 0.0032516834349488495, 0.0032777765662825886, 0.003277545822924705, 0.003397266581729429, 0.003270541266280802, 0.0033648780467522206, 0.0032634255499696015, 0.003214735930888497, 0.003215310187196013, 0.0032255272544808125, 0.003325848760616839, 0.003279053423572425, 0.003160084499486128, 0.0032721930113270054, 0.003264391879040991, 0.0032266963217126663, 0.0032249845227404457, 0.0033184737341487827, 0.003254647942344148, 0.003218978680857462, 0.0030780016028102318, 0.003249581248017412, 0.0031612157522134445, 0.003156947280893374, 0.0031130221770636402, 0.003181906089411309], metric_results=RankBasedMetricResults(mean_rank={'tail': {'worst': 3.462686567164179, 'best': 3.462686567164179, 'avg': 3.462686567164179}, 'both': {'worst': 3.9328358208955225, 'best': 3.9328358208955225, 'avg': 3.9328358208955225}, 'head': {'worst': 4.402985074626866, 'best': 4.402985074626866, 'avg': 4.402985074626866}}, mean_reciprocal_rank={'tail': {'worst': 0.5088274356931073, 'best': 0.5088274356931073, 'avg': 0.5088274356931073}, 'both': {'worst': 0.4560604541947825, 'best': 0.4560604541947825, 'avg': 0.4560604541947825}, 'head': {'worst': 0.40329347269645777, 'best': 0.40329347269645777, 'avg': 0.40329347269645777}}, hits_at_k={'tail': {'worst': {1: 0.2935323383084577, 3: 0.6417910447761194, 5: 0.7960199004975125, 10: 0.9651741293532339}, 'best': {1: 0.2935323383084577, 3: 0.6417910447761194, 5: 0.7960199004975125, 10: 0.9651741293532339}, 'avg': {1: 0.2935323383084577, 3: 0.6417910447761194, 5: 0.7960199004975125, 10: 0.9651741293532339}}, 'both': {'worst': {1: 0.24378109452736318, 3: 0.572139303482587, 5: 0.746268656716418, 10: 0.9552238805970149}, 'best': {1: 0.24378109452736318, 3: 0.572139303482587, 5: 0.746268656716418, 10: 0.9552238805970149}, 'avg': {1: 0.24378109452736318, 3: 0.572139303482587, 5: 0.746268656716418, 10: 0.9552238805970149}}, 'head': {'worst': {1: 0.19402985074626866, 3: 0.5024875621890548, 5: 0.6965174129353234, 10: 0.945273631840796}, 'best': {1: 0.19402985074626866, 3: 0.5024875621890548, 5: 0.6965174129353234, 10: 0.945273631840796}, 'avg': {1: 0.19402985074626866, 3: 0.5024875621890548, 5: 0.6965174129353234, 10: 0.945273631840796}}}, adjusted_mean_rank={'tail': 0.7206113815159347, 'both': 0.8397383287697289, 'head': 0.9588652760235231}), train_seconds=22.4617178440094, evaluate_seconds=0.0718088150024414, stopper=<pykeen.stoppers.stopper.NopStopper object at 0x000001DDA70F2070>, metadata={}, version='1.4.0', git_hash='UNHASHED')"
      ]
     },
     "execution_count": 7,
     "metadata": {},
     "output_type": "execute_result"
    }
   ],
   "source": [
    "result"
   ]
  },
  {
   "cell_type": "code",
   "execution_count": 8,
   "metadata": {},
   "outputs": [
    {
     "data": {
      "text/plain": [
       "['metadata.json', 'results.json', 'trained_model.pkl']"
      ]
     },
     "execution_count": 8,
     "metadata": {},
     "output_type": "execute_result"
    }
   ],
   "source": [
    "save_location = 'nations_transe'  # relative to here\n",
    "result.save_to_directory(save_location)\n",
    "os.listdir(save_location)"
   ]
  },
  {
   "cell_type": "code",
   "execution_count": 9,
   "metadata": {},
   "outputs": [
    {
     "data": {
      "text/plain": [
       "RotatE(\n",
       "  (loss): MarginRankingLoss()\n",
       "  (regularizer): NoRegularizer()\n",
       "  (entity_embeddings): Embedding(\n",
       "    (_embeddings): Embedding(14, 400)\n",
       "  )\n",
       "  (relation_embeddings): Embedding(\n",
       "    (_embeddings): Embedding(55, 400)\n",
       "  )\n",
       ")"
      ]
     },
     "execution_count": 9,
     "metadata": {},
     "output_type": "execute_result"
    }
   ],
   "source": [
    "# How to look at the model\n",
    "model = result.model\n",
    "model"
   ]
  },
  {
   "cell_type": "code",
   "execution_count": 10,
   "metadata": {},
   "outputs": [
    {
     "data": {
      "text/plain": [
       "TriplesFactory(num_entities=14, num_relations=55, num_triples=1592, inverse_triples=False, path=\"C:\\Users\\shahz\\anaconda3\\lib\\site-packages\\pykeen\\datasets\\nations\\train.txt\")"
      ]
     },
     "execution_count": 10,
     "metadata": {},
     "output_type": "execute_result"
    }
   ],
   "source": [
    "# How to look at the triples\n",
    "tf = model.triples_factory\n",
    "tf"
   ]
  },
  {
   "cell_type": "code",
   "execution_count": 11,
   "metadata": {},
   "outputs": [
    {
     "data": {
      "text/plain": [
       "(14, 55, 1592)"
      ]
     },
     "execution_count": 11,
     "metadata": {},
     "output_type": "execute_result"
    }
   ],
   "source": [
    "tf.num_entities, tf.num_relations, tf.num_triples"
   ]
  },
  {
   "cell_type": "code",
   "execution_count": 12,
   "metadata": {},
   "outputs": [
    {
     "ename": "AttributeError",
     "evalue": "'NoneType' object has no attribute 'set_ylabel'",
     "output_type": "error",
     "traceback": [
      "\u001b[1;31m---------------------------------------------------------------------------\u001b[0m",
      "\u001b[1;31mAttributeError\u001b[0m                            Traceback (most recent call last)",
      "\u001b[1;32m<ipython-input-12-13924318d057>\u001b[0m in \u001b[0;36m<module>\u001b[1;34m\u001b[0m\n\u001b[1;32m----> 1\u001b[1;33m \u001b[0mresult\u001b[0m\u001b[1;33m.\u001b[0m\u001b[0mplot_losses\u001b[0m\u001b[1;33m(\u001b[0m\u001b[1;33m)\u001b[0m\u001b[1;33m\u001b[0m\u001b[1;33m\u001b[0m\u001b[0m\n\u001b[0m\u001b[0;32m      2\u001b[0m \u001b[0mplt\u001b[0m\u001b[1;33m.\u001b[0m\u001b[0mshow\u001b[0m\u001b[1;33m(\u001b[0m\u001b[1;33m)\u001b[0m\u001b[1;33m\u001b[0m\u001b[1;33m\u001b[0m\u001b[0m\n",
      "\u001b[1;32m~\\anaconda3\\lib\\site-packages\\pykeen\\pipeline\\api.py\u001b[0m in \u001b[0;36mplot_losses\u001b[1;34m(self, **kwargs)\u001b[0m\n\u001b[0;32m    268\u001b[0m         \"\"\"\n\u001b[0;32m    269\u001b[0m         \u001b[1;32mfrom\u001b[0m \u001b[1;33m.\u001b[0m\u001b[0mplot_utils\u001b[0m \u001b[1;32mimport\u001b[0m \u001b[0mplot_losses\u001b[0m\u001b[1;33m\u001b[0m\u001b[1;33m\u001b[0m\u001b[0m\n\u001b[1;32m--> 270\u001b[1;33m         \u001b[1;32mreturn\u001b[0m \u001b[0mplot_losses\u001b[0m\u001b[1;33m(\u001b[0m\u001b[0mself\u001b[0m\u001b[1;33m,\u001b[0m \u001b[1;33m**\u001b[0m\u001b[0mkwargs\u001b[0m\u001b[1;33m)\u001b[0m\u001b[1;33m\u001b[0m\u001b[1;33m\u001b[0m\u001b[0m\n\u001b[0m\u001b[0;32m    271\u001b[0m \u001b[1;33m\u001b[0m\u001b[0m\n\u001b[0;32m    272\u001b[0m     \u001b[1;32mdef\u001b[0m \u001b[0mplot_early_stopping\u001b[0m\u001b[1;33m(\u001b[0m\u001b[0mself\u001b[0m\u001b[1;33m,\u001b[0m \u001b[1;33m**\u001b[0m\u001b[0mkwargs\u001b[0m\u001b[1;33m)\u001b[0m\u001b[1;33m:\u001b[0m\u001b[1;33m\u001b[0m\u001b[1;33m\u001b[0m\u001b[0m\n",
      "\u001b[1;32m~\\anaconda3\\lib\\site-packages\\pykeen\\pipeline\\plot_utils.py\u001b[0m in \u001b[0;36mplot_losses\u001b[1;34m(pipeline_result, ax)\u001b[0m\n\u001b[0;32m     30\u001b[0m \u001b[1;33m\u001b[0m\u001b[0m\n\u001b[0;32m     31\u001b[0m     \u001b[0mloss_name\u001b[0m \u001b[1;33m=\u001b[0m \u001b[0mloss_resolver\u001b[0m\u001b[1;33m.\u001b[0m\u001b[0mnormalize_inst\u001b[0m\u001b[1;33m(\u001b[0m\u001b[0mpipeline_result\u001b[0m\u001b[1;33m.\u001b[0m\u001b[0mmodel\u001b[0m\u001b[1;33m.\u001b[0m\u001b[0mloss\u001b[0m\u001b[1;33m)\u001b[0m\u001b[1;33m\u001b[0m\u001b[1;33m\u001b[0m\u001b[0m\n\u001b[1;32m---> 32\u001b[1;33m     \u001b[0max\u001b[0m\u001b[1;33m.\u001b[0m\u001b[0mset_ylabel\u001b[0m\u001b[1;33m(\u001b[0m\u001b[1;34mf'{loss_name} Loss'\u001b[0m\u001b[1;33m)\u001b[0m\u001b[1;33m\u001b[0m\u001b[1;33m\u001b[0m\u001b[0m\n\u001b[0m\u001b[0;32m     33\u001b[0m     \u001b[0max\u001b[0m\u001b[1;33m.\u001b[0m\u001b[0mset_xlabel\u001b[0m\u001b[1;33m(\u001b[0m\u001b[1;34m'Epoch'\u001b[0m\u001b[1;33m)\u001b[0m\u001b[1;33m\u001b[0m\u001b[1;33m\u001b[0m\u001b[0m\n\u001b[0;32m     34\u001b[0m     \u001b[0max\u001b[0m\u001b[1;33m.\u001b[0m\u001b[0mset_title\u001b[0m\u001b[1;33m(\u001b[0m\u001b[0mpipeline_result\u001b[0m\u001b[1;33m.\u001b[0m\u001b[0mtitle\u001b[0m \u001b[1;32mif\u001b[0m \u001b[0mpipeline_result\u001b[0m\u001b[1;33m.\u001b[0m\u001b[0mtitle\u001b[0m \u001b[1;32mis\u001b[0m \u001b[1;32mnot\u001b[0m \u001b[1;32mNone\u001b[0m \u001b[1;32melse\u001b[0m \u001b[1;34m'Losses Plot'\u001b[0m\u001b[1;33m)\u001b[0m\u001b[1;33m\u001b[0m\u001b[1;33m\u001b[0m\u001b[0m\n",
      "\u001b[1;31mAttributeError\u001b[0m: 'NoneType' object has no attribute 'set_ylabel'"
     ]
    },
    {
     "data": {
      "image/png": "[encoded data removed]",
      "text/plain": [
       "<Figure size 432x288 with 1 Axes>"
      ]
     },
     "metadata": {},
     "output_type": "display_data"
    }
   ],
   "source": [
    "result.plot_losses()\n",
    "plt.show()"
   ]
  },
  {
   "cell_type": "code",
   "execution_count": 13,
   "metadata": {},
   "outputs": [
    {
     "data": {
      "text/html": [
       "<div>\n",
       "<style scoped>\n",
       "    .dataframe tbody tr th:only-of-type {\n",
       "        vertical-align: middle;\n",
       "    }\n",
       "\n",
       "    .dataframe tbody tr th {\n",
       "        vertical-align: top;\n",
       "    }\n",
       "\n",
       "    .dataframe thead th {\n",
       "        text-align: right;\n",
       "    }\n",
       "</style>\n",
       "<table border=\"1\" class=\"dataframe\">\n",
       "  <thead>\n",
       "    <tr style=\"text-align: right;\">\n",
       "      <th></th>\n",
       "      <th>Side</th>\n",
       "      <th>Type</th>\n",
       "      <th>Metric</th>\n",
       "      <th>Value</th>\n",
       "    </tr>\n",
       "  </thead>\n",
       "  <tbody>\n",
       "    <tr>\n",
       "      <th>0</th>\n",
       "      <td>tail</td>\n",
       "      <td>avg</td>\n",
       "      <td>adjusted_mean_rank</td>\n",
       "      <td>0.720611</td>\n",
       "    </tr>\n",
       "    <tr>\n",
       "      <th>1</th>\n",
       "      <td>both</td>\n",
       "      <td>avg</td>\n",
       "      <td>adjusted_mean_rank</td>\n",
       "      <td>0.839738</td>\n",
       "    </tr>\n",
       "    <tr>\n",
       "      <th>2</th>\n",
       "      <td>head</td>\n",
       "      <td>avg</td>\n",
       "      <td>adjusted_mean_rank</td>\n",
       "      <td>0.958865</td>\n",
       "    </tr>\n",
       "    <tr>\n",
       "      <th>3</th>\n",
       "      <td>tail</td>\n",
       "      <td>worst</td>\n",
       "      <td>mean_rank</td>\n",
       "      <td>3.462687</td>\n",
       "    </tr>\n",
       "    <tr>\n",
       "      <th>4</th>\n",
       "      <td>tail</td>\n",
       "      <td>worst</td>\n",
       "      <td>mean_reciprocal_rank</td>\n",
       "      <td>0.508827</td>\n",
       "    </tr>\n",
       "    <tr>\n",
       "      <th>5</th>\n",
       "      <td>tail</td>\n",
       "      <td>worst</td>\n",
       "      <td>hits_at_1</td>\n",
       "      <td>0.293532</td>\n",
       "    </tr>\n",
       "    <tr>\n",
       "      <th>6</th>\n",
       "      <td>tail</td>\n",
       "      <td>worst</td>\n",
       "      <td>hits_at_3</td>\n",
       "      <td>0.641791</td>\n",
       "    </tr>\n",
       "    <tr>\n",
       "      <th>7</th>\n",
       "      <td>tail</td>\n",
       "      <td>worst</td>\n",
       "      <td>hits_at_5</td>\n",
       "      <td>0.796020</td>\n",
       "    </tr>\n",
       "    <tr>\n",
       "      <th>8</th>\n",
       "      <td>tail</td>\n",
       "      <td>worst</td>\n",
       "      <td>hits_at_10</td>\n",
       "      <td>0.965174</td>\n",
       "    </tr>\n",
       "    <tr>\n",
       "      <th>9</th>\n",
       "      <td>tail</td>\n",
       "      <td>best</td>\n",
       "      <td>mean_rank</td>\n",
       "      <td>3.462687</td>\n",
       "    </tr>\n",
       "    <tr>\n",
       "      <th>10</th>\n",
       "      <td>tail</td>\n",
       "      <td>best</td>\n",
       "      <td>mean_reciprocal_rank</td>\n",
       "      <td>0.508827</td>\n",
       "    </tr>\n",
       "    <tr>\n",
       "      <th>11</th>\n",
       "      <td>tail</td>\n",
       "      <td>best</td>\n",
       "      <td>hits_at_1</td>\n",
       "      <td>0.293532</td>\n",
       "    </tr>\n",
       "    <tr>\n",
       "      <th>12</th>\n",
       "      <td>tail</td>\n",
       "      <td>best</td>\n",
       "      <td>hits_at_3</td>\n",
       "      <td>0.641791</td>\n",
       "    </tr>\n",
       "    <tr>\n",
       "      <th>13</th>\n",
       "      <td>tail</td>\n",
       "      <td>best</td>\n",
       "      <td>hits_at_5</td>\n",
       "      <td>0.796020</td>\n",
       "    </tr>\n",
       "    <tr>\n",
       "      <th>14</th>\n",
       "      <td>tail</td>\n",
       "      <td>best</td>\n",
       "      <td>hits_at_10</td>\n",
       "      <td>0.965174</td>\n",
       "    </tr>\n",
       "    <tr>\n",
       "      <th>15</th>\n",
       "      <td>tail</td>\n",
       "      <td>avg</td>\n",
       "      <td>mean_rank</td>\n",
       "      <td>3.462687</td>\n",
       "    </tr>\n",
       "    <tr>\n",
       "      <th>16</th>\n",
       "      <td>tail</td>\n",
       "      <td>avg</td>\n",
       "      <td>mean_reciprocal_rank</td>\n",
       "      <td>0.508827</td>\n",
       "    </tr>\n",
       "    <tr>\n",
       "      <th>17</th>\n",
       "      <td>tail</td>\n",
       "      <td>avg</td>\n",
       "      <td>hits_at_1</td>\n",
       "      <td>0.293532</td>\n",
       "    </tr>\n",
       "    <tr>\n",
       "      <th>18</th>\n",
       "      <td>tail</td>\n",
       "      <td>avg</td>\n",
       "      <td>hits_at_3</td>\n",
       "      <td>0.641791</td>\n",
       "    </tr>\n",
       "    <tr>\n",
       "      <th>19</th>\n",
       "      <td>tail</td>\n",
       "      <td>avg</td>\n",
       "      <td>hits_at_5</td>\n",
       "      <td>0.796020</td>\n",
       "    </tr>\n",
       "    <tr>\n",
       "      <th>20</th>\n",
       "      <td>tail</td>\n",
       "      <td>avg</td>\n",
       "      <td>hits_at_10</td>\n",
       "      <td>0.965174</td>\n",
       "    </tr>\n",
       "    <tr>\n",
       "      <th>21</th>\n",
       "      <td>both</td>\n",
       "      <td>worst</td>\n",
       "      <td>mean_rank</td>\n",
       "      <td>3.932836</td>\n",
       "    </tr>\n",
       "    <tr>\n",
       "      <th>22</th>\n",
       "      <td>both</td>\n",
       "      <td>worst</td>\n",
       "      <td>mean_reciprocal_rank</td>\n",
       "      <td>0.456060</td>\n",
       "    </tr>\n",
       "    <tr>\n",
       "      <th>23</th>\n",
       "      <td>both</td>\n",
       "      <td>worst</td>\n",
       "      <td>hits_at_1</td>\n",
       "      <td>0.243781</td>\n",
       "    </tr>\n",
       "    <tr>\n",
       "      <th>24</th>\n",
       "      <td>both</td>\n",
       "      <td>worst</td>\n",
       "      <td>hits_at_3</td>\n",
       "      <td>0.572139</td>\n",
       "    </tr>\n",
       "    <tr>\n",
       "      <th>25</th>\n",
       "      <td>both</td>\n",
       "      <td>worst</td>\n",
       "      <td>hits_at_5</td>\n",
       "      <td>0.746269</td>\n",
       "    </tr>\n",
       "    <tr>\n",
       "      <th>26</th>\n",
       "      <td>both</td>\n",
       "      <td>worst</td>\n",
       "      <td>hits_at_10</td>\n",
       "      <td>0.955224</td>\n",
       "    </tr>\n",
       "    <tr>\n",
       "      <th>27</th>\n",
       "      <td>both</td>\n",
       "      <td>best</td>\n",
       "      <td>mean_rank</td>\n",
       "      <td>3.932836</td>\n",
       "    </tr>\n",
       "    <tr>\n",
       "      <th>28</th>\n",
       "      <td>both</td>\n",
       "      <td>best</td>\n",
       "      <td>mean_reciprocal_rank</td>\n",
       "      <td>0.456060</td>\n",
       "    </tr>\n",
       "    <tr>\n",
       "      <th>29</th>\n",
       "      <td>both</td>\n",
       "      <td>best</td>\n",
       "      <td>hits_at_1</td>\n",
       "      <td>0.243781</td>\n",
       "    </tr>\n",
       "    <tr>\n",
       "      <th>30</th>\n",
       "      <td>both</td>\n",
       "      <td>best</td>\n",
       "      <td>hits_at_3</td>\n",
       "      <td>0.572139</td>\n",
       "    </tr>\n",
       "    <tr>\n",
       "      <th>31</th>\n",
       "      <td>both</td>\n",
       "      <td>best</td>\n",
       "      <td>hits_at_5</td>\n",
       "      <td>0.746269</td>\n",
       "    </tr>\n",
       "    <tr>\n",
       "      <th>32</th>\n",
       "      <td>both</td>\n",
       "      <td>best</td>\n",
       "      <td>hits_at_10</td>\n",
       "      <td>0.955224</td>\n",
       "    </tr>\n",
       "    <tr>\n",
       "      <th>33</th>\n",
       "      <td>both</td>\n",
       "      <td>avg</td>\n",
       "      <td>mean_rank</td>\n",
       "      <td>3.932836</td>\n",
       "    </tr>\n",
       "    <tr>\n",
       "      <th>34</th>\n",
       "      <td>both</td>\n",
       "      <td>avg</td>\n",
       "      <td>mean_reciprocal_rank</td>\n",
       "      <td>0.456060</td>\n",
       "    </tr>\n",
       "    <tr>\n",
       "      <th>35</th>\n",
       "      <td>both</td>\n",
       "      <td>avg</td>\n",
       "      <td>hits_at_1</td>\n",
       "      <td>0.243781</td>\n",
       "    </tr>\n",
       "    <tr>\n",
       "      <th>36</th>\n",
       "      <td>both</td>\n",
       "      <td>avg</td>\n",
       "      <td>hits_at_3</td>\n",
       "      <td>0.572139</td>\n",
       "    </tr>\n",
       "    <tr>\n",
       "      <th>37</th>\n",
       "      <td>both</td>\n",
       "      <td>avg</td>\n",
       "      <td>hits_at_5</td>\n",
       "      <td>0.746269</td>\n",
       "    </tr>\n",
       "    <tr>\n",
       "      <th>38</th>\n",
       "      <td>both</td>\n",
       "      <td>avg</td>\n",
       "      <td>hits_at_10</td>\n",
       "      <td>0.955224</td>\n",
       "    </tr>\n",
       "    <tr>\n",
       "      <th>39</th>\n",
       "      <td>head</td>\n",
       "      <td>worst</td>\n",
       "      <td>mean_rank</td>\n",
       "      <td>4.402985</td>\n",
       "    </tr>\n",
       "    <tr>\n",
       "      <th>40</th>\n",
       "      <td>head</td>\n",
       "      <td>worst</td>\n",
       "      <td>mean_reciprocal_rank</td>\n",
       "      <td>0.403293</td>\n",
       "    </tr>\n",
       "    <tr>\n",
       "      <th>41</th>\n",
       "      <td>head</td>\n",
       "      <td>worst</td>\n",
       "      <td>hits_at_1</td>\n",
       "      <td>0.194030</td>\n",
       "    </tr>\n",
       "    <tr>\n",
       "      <th>42</th>\n",
       "      <td>head</td>\n",
       "      <td>worst</td>\n",
       "      <td>hits_at_3</td>\n",
       "      <td>0.502488</td>\n",
       "    </tr>\n",
       "    <tr>\n",
       "      <th>43</th>\n",
       "      <td>head</td>\n",
       "      <td>worst</td>\n",
       "      <td>hits_at_5</td>\n",
       "      <td>0.696517</td>\n",
       "    </tr>\n",
       "    <tr>\n",
       "      <th>44</th>\n",
       "      <td>head</td>\n",
       "      <td>worst</td>\n",
       "      <td>hits_at_10</td>\n",
       "      <td>0.945274</td>\n",
       "    </tr>\n",
       "    <tr>\n",
       "      <th>45</th>\n",
       "      <td>head</td>\n",
       "      <td>best</td>\n",
       "      <td>mean_rank</td>\n",
       "      <td>4.402985</td>\n",
       "    </tr>\n",
       "    <tr>\n",
       "      <th>46</th>\n",
       "      <td>head</td>\n",
       "      <td>best</td>\n",
       "      <td>mean_reciprocal_rank</td>\n",
       "      <td>0.403293</td>\n",
       "    </tr>\n",
       "    <tr>\n",
       "      <th>47</th>\n",
       "      <td>head</td>\n",
       "      <td>best</td>\n",
       "      <td>hits_at_1</td>\n",
       "      <td>0.194030</td>\n",
       "    </tr>\n",
       "    <tr>\n",
       "      <th>48</th>\n",
       "      <td>head</td>\n",
       "      <td>best</td>\n",
       "      <td>hits_at_3</td>\n",
       "      <td>0.502488</td>\n",
       "    </tr>\n",
       "    <tr>\n",
       "      <th>49</th>\n",
       "      <td>head</td>\n",
       "      <td>best</td>\n",
       "      <td>hits_at_5</td>\n",
       "      <td>0.696517</td>\n",
       "    </tr>\n",
       "    <tr>\n",
       "      <th>50</th>\n",
       "      <td>head</td>\n",
       "      <td>best</td>\n",
       "      <td>hits_at_10</td>\n",
       "      <td>0.945274</td>\n",
       "    </tr>\n",
       "    <tr>\n",
       "      <th>51</th>\n",
       "      <td>head</td>\n",
       "      <td>avg</td>\n",
       "      <td>mean_rank</td>\n",
       "      <td>4.402985</td>\n",
       "    </tr>\n",
       "    <tr>\n",
       "      <th>52</th>\n",
       "      <td>head</td>\n",
       "      <td>avg</td>\n",
       "      <td>mean_reciprocal_rank</td>\n",
       "      <td>0.403293</td>\n",
       "    </tr>\n",
       "    <tr>\n",
       "      <th>53</th>\n",
       "      <td>head</td>\n",
       "      <td>avg</td>\n",
       "      <td>hits_at_1</td>\n",
       "      <td>0.194030</td>\n",
       "    </tr>\n",
       "    <tr>\n",
       "      <th>54</th>\n",
       "      <td>head</td>\n",
       "      <td>avg</td>\n",
       "      <td>hits_at_3</td>\n",
       "      <td>0.502488</td>\n",
       "    </tr>\n",
       "    <tr>\n",
       "      <th>55</th>\n",
       "      <td>head</td>\n",
       "      <td>avg</td>\n",
       "      <td>hits_at_5</td>\n",
       "      <td>0.696517</td>\n",
       "    </tr>\n",
       "    <tr>\n",
       "      <th>56</th>\n",
       "      <td>head</td>\n",
       "      <td>avg</td>\n",
       "      <td>hits_at_10</td>\n",
       "      <td>0.945274</td>\n",
       "    </tr>\n",
       "  </tbody>\n",
       "</table>\n",
       "</div>"
      ],
      "text/plain": [
       "    Side   Type                Metric     Value\n",
       "0   tail    avg    adjusted_mean_rank  0.720611\n",
       "1   both    avg    adjusted_mean_rank  0.839738\n",
       "2   head    avg    adjusted_mean_rank  0.958865\n",
       "3   tail  worst             mean_rank  3.462687\n",
       "4   tail  worst  mean_reciprocal_rank  0.508827\n",
       "5   tail  worst             hits_at_1  0.293532\n",
       "6   tail  worst             hits_at_3  0.641791\n",
       "7   tail  worst             hits_at_5  0.796020\n",
       "8   tail  worst            hits_at_10  0.965174\n",
       "9   tail   best             mean_rank  3.462687\n",
       "10  tail   best  mean_reciprocal_rank  0.508827\n",
       "11  tail   best             hits_at_1  0.293532\n",
       "12  tail   best             hits_at_3  0.641791\n",
       "13  tail   best             hits_at_5  0.796020\n",
       "14  tail   best            hits_at_10  0.965174\n",
       "15  tail    avg             mean_rank  3.462687\n",
       "16  tail    avg  mean_reciprocal_rank  0.508827\n",
       "17  tail    avg             hits_at_1  0.293532\n",
       "18  tail    avg             hits_at_3  0.641791\n",
       "19  tail    avg             hits_at_5  0.796020\n",
       "20  tail    avg            hits_at_10  0.965174\n",
       "21  both  worst             mean_rank  3.932836\n",
       "22  both  worst  mean_reciprocal_rank  0.456060\n",
       "23  both  worst             hits_at_1  0.243781\n",
       "24  both  worst             hits_at_3  0.572139\n",
       "25  both  worst             hits_at_5  0.746269\n",
       "26  both  worst            hits_at_10  0.955224\n",
       "27  both   best             mean_rank  3.932836\n",
       "28  both   best  mean_reciprocal_rank  0.456060\n",
       "29  both   best             hits_at_1  0.243781\n",
       "30  both   best             hits_at_3  0.572139\n",
       "31  both   best             hits_at_5  0.746269\n",
       "32  both   best            hits_at_10  0.955224\n",
       "33  both    avg             mean_rank  3.932836\n",
       "34  both    avg  mean_reciprocal_rank  0.456060\n",
       "35  both    avg             hits_at_1  0.243781\n",
       "36  both    avg             hits_at_3  0.572139\n",
       "37  both    avg             hits_at_5  0.746269\n",
       "38  both    avg            hits_at_10  0.955224\n",
       "39  head  worst             mean_rank  4.402985\n",
       "40  head  worst  mean_reciprocal_rank  0.403293\n",
       "41  head  worst             hits_at_1  0.194030\n",
       "42  head  worst             hits_at_3  0.502488\n",
       "43  head  worst             hits_at_5  0.696517\n",
       "44  head  worst            hits_at_10  0.945274\n",
       "45  head   best             mean_rank  4.402985\n",
       "46  head   best  mean_reciprocal_rank  0.403293\n",
       "47  head   best             hits_at_1  0.194030\n",
       "48  head   best             hits_at_3  0.502488\n",
       "49  head   best             hits_at_5  0.696517\n",
       "50  head   best            hits_at_10  0.945274\n",
       "51  head    avg             mean_rank  4.402985\n",
       "52  head    avg  mean_reciprocal_rank  0.403293\n",
       "53  head    avg             hits_at_1  0.194030\n",
       "54  head    avg             hits_at_3  0.502488\n",
       "55  head    avg             hits_at_5  0.696517\n",
       "56  head    avg            hits_at_10  0.945274"
      ]
     },
     "execution_count": 13,
     "metadata": {},
     "output_type": "execute_result"
    }
   ],
   "source": [
    "result.metric_results.to_df()"
   ]
  },
  {
   "cell_type": "code",
   "execution_count": null,
   "metadata": {},
   "outputs": [],
   "source": []
  },
  {
   "cell_type": "code",
   "execution_count": null,
   "metadata": {},
   "outputs": [],
   "source": []
  },
  {
   "cell_type": "code",
   "execution_count": null,
   "metadata": {},
   "outputs": [],
   "source": []
  },
  {
   "cell_type": "code",
   "execution_count": null,
   "metadata": {},
   "outputs": [],
   "source": []
  },
  {
   "cell_type": "code",
   "execution_count": 59,
   "metadata": {},
   "outputs": [],
   "source": [
    "import pandas as pd\n",
    "data=pd.read_csv('KG_dataset_1_family_medicine.csv')"
   ]
  },
  {
   "cell_type": "code",
   "execution_count": 61,
   "metadata": {},
   "outputs": [
    {
     "data": {
      "text/html": [
       "<div>\n",
       "<style scoped>\n",
       "    .dataframe tbody tr th:only-of-type {\n",
       "        vertical-align: middle;\n",
       "    }\n",
       "\n",
       "    .dataframe tbody tr th {\n",
       "        vertical-align: top;\n",
       "    }\n",
       "\n",
       "    .dataframe thead th {\n",
       "        text-align: right;\n",
       "    }\n",
       "</style>\n",
       "<table border=\"1\" class=\"dataframe\">\n",
       "  <thead>\n",
       "    <tr style=\"text-align: right;\">\n",
       "      <th></th>\n",
       "      <th>subject</th>\n",
       "      <th>relation</th>\n",
       "      <th>object</th>\n",
       "      <th>subject_type</th>\n",
       "      <th>object_type</th>\n",
       "    </tr>\n",
       "  </thead>\n",
       "  <tbody>\n",
       "    <tr>\n",
       "      <th>0</th>\n",
       "      <td>Family physicians</td>\n",
       "      <td>hold</td>\n",
       "      <td>M.D.</td>\n",
       "      <td>NOUN_CHUNK</td>\n",
       "      <td>NOUN_CHUNK</td>\n",
       "    </tr>\n",
       "    <tr>\n",
       "      <th>1</th>\n",
       "      <td>certification</td>\n",
       "      <td>requires</td>\n",
       "      <td>five years</td>\n",
       "      <td>NOUN_CHUNK</td>\n",
       "      <td>DATE</td>\n",
       "    </tr>\n",
       "    <tr>\n",
       "      <th>2</th>\n",
       "      <td>term Primary Care</td>\n",
       "      <td>include</td>\n",
       "      <td>services</td>\n",
       "      <td>NOUN_CHUNK</td>\n",
       "      <td>NOUN_CHUNK</td>\n",
       "    </tr>\n",
       "    <tr>\n",
       "      <th>3</th>\n",
       "      <td>Family physicians</td>\n",
       "      <td>deliver</td>\n",
       "      <td>range</td>\n",
       "      <td>NOUN_CHUNK</td>\n",
       "      <td>NOUN_CHUNK</td>\n",
       "    </tr>\n",
       "    <tr>\n",
       "      <th>4</th>\n",
       "      <td>family physicians</td>\n",
       "      <td>treat</td>\n",
       "      <td>patients</td>\n",
       "      <td>NOUN_CHUNK</td>\n",
       "      <td>NOUN_CHUNK</td>\n",
       "    </tr>\n",
       "    <tr>\n",
       "      <th>...</th>\n",
       "      <td>...</td>\n",
       "      <td>...</td>\n",
       "      <td>...</td>\n",
       "      <td>...</td>\n",
       "      <td>...</td>\n",
       "    </tr>\n",
       "    <tr>\n",
       "      <th>2302</th>\n",
       "      <td>the British Library</td>\n",
       "      <td>announced</td>\n",
       "      <td>support</td>\n",
       "      <td>ORG</td>\n",
       "      <td>NOUN_CHUNK</td>\n",
       "    </tr>\n",
       "    <tr>\n",
       "      <th>2303</th>\n",
       "      <td>process</td>\n",
       "      <td>reveal</td>\n",
       "      <td>errors</td>\n",
       "      <td>NOUN_CHUNK</td>\n",
       "      <td>NOUN_CHUNK</td>\n",
       "    </tr>\n",
       "    <tr>\n",
       "      <th>2304</th>\n",
       "      <td>publishers</td>\n",
       "      <td>provide</td>\n",
       "      <td>PDF</td>\n",
       "      <td>NOUN_CHUNK</td>\n",
       "      <td>NOUN_CHUNK</td>\n",
       "    </tr>\n",
       "    <tr>\n",
       "      <th>2305</th>\n",
       "      <td>system</td>\n",
       "      <td>provides</td>\n",
       "      <td>search capability</td>\n",
       "      <td>NOUN_CHUNK</td>\n",
       "      <td>NOUN_CHUNK</td>\n",
       "    </tr>\n",
       "    <tr>\n",
       "      <th>2306</th>\n",
       "      <td>randomised trial</td>\n",
       "      <td>found</td>\n",
       "      <td>increase</td>\n",
       "      <td>NOUN_CHUNK</td>\n",
       "      <td>NOUN_CHUNK</td>\n",
       "    </tr>\n",
       "  </tbody>\n",
       "</table>\n",
       "<p>2307 rows × 5 columns</p>\n",
       "</div>"
      ],
      "text/plain": [
       "                  subject   relation             object subject_type  \\\n",
       "0       Family physicians       hold               M.D.   NOUN_CHUNK   \n",
       "1           certification   requires         five years   NOUN_CHUNK   \n",
       "2       term Primary Care    include           services   NOUN_CHUNK   \n",
       "3       Family physicians    deliver              range   NOUN_CHUNK   \n",
       "4       family physicians      treat           patients   NOUN_CHUNK   \n",
       "...                   ...        ...                ...          ...   \n",
       "2302  the British Library  announced            support          ORG   \n",
       "2303              process     reveal             errors   NOUN_CHUNK   \n",
       "2304           publishers    provide                PDF   NOUN_CHUNK   \n",
       "2305               system   provides  search capability   NOUN_CHUNK   \n",
       "2306     randomised trial      found           increase   NOUN_CHUNK   \n",
       "\n",
       "     object_type  \n",
       "0     NOUN_CHUNK  \n",
       "1           DATE  \n",
       "2     NOUN_CHUNK  \n",
       "3     NOUN_CHUNK  \n",
       "4     NOUN_CHUNK  \n",
       "...          ...  \n",
       "2302  NOUN_CHUNK  \n",
       "2303  NOUN_CHUNK  \n",
       "2304  NOUN_CHUNK  \n",
       "2305  NOUN_CHUNK  \n",
       "2306  NOUN_CHUNK  \n",
       "\n",
       "[2307 rows x 5 columns]"
      ]
     },
     "execution_count": 61,
     "metadata": {},
     "output_type": "execute_result"
    }
   ],
   "source": [
    "data"
   ]
  },
  {
   "cell_type": "code",
   "execution_count": 62,
   "metadata": {},
   "outputs": [],
   "source": [
    "data=data.drop(['subject_type','object_type'], axis=1)"
   ]
  },
  {
   "cell_type": "code",
   "execution_count": 63,
   "metadata": {},
   "outputs": [
    {
     "data": {
      "text/html": [
       "<div>\n",
       "<style scoped>\n",
       "    .dataframe tbody tr th:only-of-type {\n",
       "        vertical-align: middle;\n",
       "    }\n",
       "\n",
       "    .dataframe tbody tr th {\n",
       "        vertical-align: top;\n",
       "    }\n",
       "\n",
       "    .dataframe thead th {\n",
       "        text-align: right;\n",
       "    }\n",
       "</style>\n",
       "<table border=\"1\" class=\"dataframe\">\n",
       "  <thead>\n",
       "    <tr style=\"text-align: right;\">\n",
       "      <th></th>\n",
       "      <th>subject</th>\n",
       "      <th>relation</th>\n",
       "      <th>object</th>\n",
       "    </tr>\n",
       "  </thead>\n",
       "  <tbody>\n",
       "    <tr>\n",
       "      <th>0</th>\n",
       "      <td>Family physicians</td>\n",
       "      <td>hold</td>\n",
       "      <td>M.D.</td>\n",
       "    </tr>\n",
       "    <tr>\n",
       "      <th>1</th>\n",
       "      <td>certification</td>\n",
       "      <td>requires</td>\n",
       "      <td>five years</td>\n",
       "    </tr>\n",
       "    <tr>\n",
       "      <th>2</th>\n",
       "      <td>term Primary Care</td>\n",
       "      <td>include</td>\n",
       "      <td>services</td>\n",
       "    </tr>\n",
       "    <tr>\n",
       "      <th>3</th>\n",
       "      <td>Family physicians</td>\n",
       "      <td>deliver</td>\n",
       "      <td>range</td>\n",
       "    </tr>\n",
       "    <tr>\n",
       "      <th>4</th>\n",
       "      <td>family physicians</td>\n",
       "      <td>treat</td>\n",
       "      <td>patients</td>\n",
       "    </tr>\n",
       "    <tr>\n",
       "      <th>...</th>\n",
       "      <td>...</td>\n",
       "      <td>...</td>\n",
       "      <td>...</td>\n",
       "    </tr>\n",
       "    <tr>\n",
       "      <th>2302</th>\n",
       "      <td>the British Library</td>\n",
       "      <td>announced</td>\n",
       "      <td>support</td>\n",
       "    </tr>\n",
       "    <tr>\n",
       "      <th>2303</th>\n",
       "      <td>process</td>\n",
       "      <td>reveal</td>\n",
       "      <td>errors</td>\n",
       "    </tr>\n",
       "    <tr>\n",
       "      <th>2304</th>\n",
       "      <td>publishers</td>\n",
       "      <td>provide</td>\n",
       "      <td>PDF</td>\n",
       "    </tr>\n",
       "    <tr>\n",
       "      <th>2305</th>\n",
       "      <td>system</td>\n",
       "      <td>provides</td>\n",
       "      <td>search capability</td>\n",
       "    </tr>\n",
       "    <tr>\n",
       "      <th>2306</th>\n",
       "      <td>randomised trial</td>\n",
       "      <td>found</td>\n",
       "      <td>increase</td>\n",
       "    </tr>\n",
       "  </tbody>\n",
       "</table>\n",
       "<p>2307 rows × 3 columns</p>\n",
       "</div>"
      ],
      "text/plain": [
       "                  subject   relation             object\n",
       "0       Family physicians       hold               M.D.\n",
       "1           certification   requires         five years\n",
       "2       term Primary Care    include           services\n",
       "3       Family physicians    deliver              range\n",
       "4       family physicians      treat           patients\n",
       "...                   ...        ...                ...\n",
       "2302  the British Library  announced            support\n",
       "2303              process     reveal             errors\n",
       "2304           publishers    provide                PDF\n",
       "2305               system   provides  search capability\n",
       "2306     randomised trial      found           increase\n",
       "\n",
       "[2307 rows x 3 columns]"
      ]
     },
     "execution_count": 63,
     "metadata": {},
     "output_type": "execute_result"
    }
   ],
   "source": [
    "data"
   ]
  },
  {
   "cell_type": "code",
   "execution_count": null,
   "metadata": {},
   "outputs": [],
   "source": []
  },
  {
   "cell_type": "code",
   "execution_count": null,
   "metadata": {},
   "outputs": [],
   "source": []
  },
  {
   "cell_type": "markdown",
   "metadata": {},
   "source": [
    "# prestratisfied data NAtions"
   ]
  },
  {
   "cell_type": "code",
   "execution_count": 71,
   "metadata": {},
   "outputs": [
    {
     "name": "stderr",
     "output_type": "stream",
     "text": [
      "WARNING:pykeen.pipeline.api:No random seed is specified. Setting to 355368982.\n",
      "WARNING:pykeen.utils:No cuda devices were available. The model runs on CPU\n"
     ]
    },
    {
     "data": {
      "application/vnd.jupyter.widget-view+json": {
       "model_id": "e6125664dd14437c975253bb799ccab6",
       "version_major": 2,
       "version_minor": 0
      },
      "text/plain": [
       "HBox(children=(FloatProgress(value=0.0, description='Training epochs on cpu', max=5.0, style=ProgressStyle(des…"
      ]
     },
     "metadata": {},
     "output_type": "display_data"
    },
    {
     "data": {
      "application/vnd.jupyter.widget-view+json": {
       "model_id": "",
       "version_major": 2,
       "version_minor": 0
      },
      "text/plain": [
       "HBox(children=(FloatProgress(value=0.0, description='Training batches on cpu', max=7.0, style=ProgressStyle(de…"
      ]
     },
     "metadata": {},
     "output_type": "display_data"
    },
    {
     "data": {
      "application/vnd.jupyter.widget-view+json": {
       "model_id": "",
       "version_major": 2,
       "version_minor": 0
      },
      "text/plain": [
       "HBox(children=(FloatProgress(value=0.0, description='Training batches on cpu', max=7.0, style=ProgressStyle(de…"
      ]
     },
     "metadata": {},
     "output_type": "display_data"
    },
    {
     "data": {
      "application/vnd.jupyter.widget-view+json": {
       "model_id": "",
       "version_major": 2,
       "version_minor": 0
      },
      "text/plain": [
       "HBox(children=(FloatProgress(value=0.0, description='Training batches on cpu', max=7.0, style=ProgressStyle(de…"
      ]
     },
     "metadata": {},
     "output_type": "display_data"
    },
    {
     "data": {
      "application/vnd.jupyter.widget-view+json": {
       "model_id": "",
       "version_major": 2,
       "version_minor": 0
      },
      "text/plain": [
       "HBox(children=(FloatProgress(value=0.0, description='Training batches on cpu', max=7.0, style=ProgressStyle(de…"
      ]
     },
     "metadata": {},
     "output_type": "display_data"
    },
    {
     "data": {
      "application/vnd.jupyter.widget-view+json": {
       "model_id": "",
       "version_major": 2,
       "version_minor": 0
      },
      "text/plain": [
       "HBox(children=(FloatProgress(value=0.0, description='Training batches on cpu', max=7.0, style=ProgressStyle(de…"
      ]
     },
     "metadata": {},
     "output_type": "display_data"
    },
    {
     "name": "stderr",
     "output_type": "stream",
     "text": [
      "INFO:pykeen.evaluation.evaluator:Currently automatic memory optimization only supports GPUs, but you're using a CPU. Therefore, the batch_size will be set to the default value.\n",
      "INFO:pykeen.evaluation.evaluator:No evaluation batch_size provided. Setting batch_size to '32'.\n"
     ]
    },
    {
     "name": "stdout",
     "output_type": "stream",
     "text": [
      "\n"
     ]
    },
    {
     "data": {
      "application/vnd.jupyter.widget-view+json": {
       "model_id": "15e9e90781a54470b98afe62818722bc",
       "version_major": 2,
       "version_minor": 0
      },
      "text/plain": [
       "HBox(children=(FloatProgress(value=0.0, description='Evaluating on cpu', max=201.0, style=ProgressStyle(descri…"
      ]
     },
     "metadata": {},
     "output_type": "display_data"
    },
    {
     "name": "stderr",
     "output_type": "stream",
     "text": [
      "INFO:pykeen.evaluation.evaluator:Evaluation took 0.04s seconds\n"
     ]
    },
    {
     "name": "stdout",
     "output_type": "stream",
     "text": [
      "\n"
     ]
    }
   ],
   "source": [
    "from pykeen.triples import TriplesFactory\n",
    "from pykeen.pipeline import pipeline\n",
    "from pykeen.datasets.nations import NATIONS_TRAIN_PATH, NATIONS_TEST_PATH\n",
    "result = pipeline(\n",
    "    training=NATIONS_TRAIN_PATH,\n",
    "    testing=NATIONS_TEST_PATH,\n",
    "    model='TransE',\n",
    "    training_kwargs=dict(num_epochs=5),  # short epochs for testing - you should go higher\n",
    ")\n",
    "result.save_to_directory('doctests/test_pre_stratified_transe')\n"
   ]
  },
  {
   "cell_type": "code",
   "execution_count": 72,
   "metadata": {},
   "outputs": [],
   "source": [
    "import torch\n",
    "\n",
    "my_pykeen_model = torch.load('doctests/test_pre_stratified_transe/trained_model.pkl')"
   ]
  },
  {
   "cell_type": "code",
   "execution_count": 77,
   "metadata": {},
   "outputs": [
    {
     "data": {
      "text/plain": [
       "Embedding(\n",
       "  (_embeddings): Embedding(55, 50)\n",
       ")"
      ]
     },
     "execution_count": 77,
     "metadata": {},
     "output_type": "execute_result"
    }
   ],
   "source": [
    "my_pykeen_model.relation_embeddings"
   ]
  },
  {
   "cell_type": "code",
   "execution_count": 78,
   "metadata": {},
   "outputs": [
    {
     "ename": "NameError",
     "evalue": "name 'model' is not defined",
     "output_type": "error",
     "traceback": [
      "\u001b[1;31m---------------------------------------------------------------------------\u001b[0m",
      "\u001b[1;31mNameError\u001b[0m                                 Traceback (most recent call last)",
      "\u001b[1;32m<ipython-input-78-cada4c6f666a>\u001b[0m in \u001b[0;36m<module>\u001b[1;34m\u001b[0m\n\u001b[1;32m----> 1\u001b[1;33m \u001b[0mentity_embeddings\u001b[0m\u001b[1;33m:\u001b[0m \u001b[0mtorch\u001b[0m\u001b[1;33m.\u001b[0m\u001b[0mFloatTensor\u001b[0m \u001b[1;33m=\u001b[0m \u001b[0mmodel\u001b[0m\u001b[1;33m.\u001b[0m\u001b[0mentity_embeddings\u001b[0m\u001b[1;33m(\u001b[0m\u001b[1;33m)\u001b[0m\u001b[1;33m\u001b[0m\u001b[1;33m\u001b[0m\u001b[0m\n\u001b[0m",
      "\u001b[1;31mNameError\u001b[0m: name 'model' is not defined"
     ]
    }
   ],
   "source": [
    "entity_embeddings: torch.FloatTensor = model.entity_embeddings()"
   ]
  },
  {
   "cell_type": "code",
   "execution_count": 79,
   "metadata": {},
   "outputs": [
    {
     "ename": "NameError",
     "evalue": "name 'entity_embeddings' is not defined",
     "output_type": "error",
     "traceback": [
      "\u001b[1;31m---------------------------------------------------------------------------\u001b[0m",
      "\u001b[1;31mNameError\u001b[0m                                 Traceback (most recent call last)",
      "\u001b[1;32m<ipython-input-79-8388d805b885>\u001b[0m in \u001b[0;36m<module>\u001b[1;34m\u001b[0m\n\u001b[1;32m----> 1\u001b[1;33m \u001b[0mentity_embeddings\u001b[0m\u001b[1;33m.\u001b[0m\u001b[0mshape\u001b[0m\u001b[1;33m\u001b[0m\u001b[1;33m\u001b[0m\u001b[0m\n\u001b[0m",
      "\u001b[1;31mNameError\u001b[0m: name 'entity_embeddings' is not defined"
     ]
    }
   ],
   "source": [
    "entity_embeddings.shape"
   ]
  },
  {
   "cell_type": "code",
   "execution_count": null,
   "metadata": {},
   "outputs": [],
   "source": []
  },
  {
   "cell_type": "code",
   "execution_count": 76,
   "metadata": {},
   "outputs": [
    {
     "data": {
      "text/plain": [
       "tensor([[ 0,  7,  5],\n",
       "        [ 0, 14, 11],\n",
       "        [ 0, 18, 12],\n",
       "        [ 0, 20,  3],\n",
       "        [ 0, 20, 10],\n",
       "        [ 0, 21, 12],\n",
       "        [ 1,  3, 12],\n",
       "        [ 1,  7,  0],\n",
       "        [ 1, 10, 11],\n",
       "        [ 1, 18,  5],\n",
       "        [ 1, 21,  6],\n",
       "        [ 1, 28,  7],\n",
       "        [ 1, 33,  4],\n",
       "        [ 1, 33,  6],\n",
       "        [ 1, 33, 13],\n",
       "        [ 1, 38,  4],\n",
       "        [ 1, 38,  7],\n",
       "        [ 1, 38, 12],\n",
       "        [ 1, 39,  7],\n",
       "        [ 1, 42,  2],\n",
       "        [ 1, 49,  2],\n",
       "        [ 2,  0, 11],\n",
       "        [ 2,  6,  0],\n",
       "        [ 2, 14,  1],\n",
       "        [ 2, 14,  4],\n",
       "        [ 2, 14,  6],\n",
       "        [ 2, 21,  5],\n",
       "        [ 2, 21, 12],\n",
       "        [ 2, 21, 13],\n",
       "        [ 2, 26,  5],\n",
       "        [ 2, 30,  1],\n",
       "        [ 2, 30,  6],\n",
       "        [ 2, 37,  3],\n",
       "        [ 2, 37, 13],\n",
       "        [ 2, 38,  0],\n",
       "        [ 2, 45,  0],\n",
       "        [ 3, 19, 12],\n",
       "        [ 3, 21, 11],\n",
       "        [ 3, 25, 11],\n",
       "        [ 3, 28,  7],\n",
       "        [ 3, 30,  2],\n",
       "        [ 3, 33,  2],\n",
       "        [ 3, 33,  4],\n",
       "        [ 3, 37, 13],\n",
       "        [ 3, 38,  4],\n",
       "        [ 3, 42,  2],\n",
       "        [ 3, 42, 11],\n",
       "        [ 3, 46, 12],\n",
       "        [ 3, 48, 13],\n",
       "        [ 4,  7,  0],\n",
       "        [ 4,  7, 11],\n",
       "        [ 4,  8,  5],\n",
       "        [ 4, 14,  1],\n",
       "        [ 4, 14,  3],\n",
       "        [ 4, 14, 11],\n",
       "        [ 4, 14, 13],\n",
       "        [ 4, 19,  0],\n",
       "        [ 4, 19, 12],\n",
       "        [ 4, 25,  7],\n",
       "        [ 4, 28,  0],\n",
       "        [ 4, 28,  9],\n",
       "        [ 4, 28, 12],\n",
       "        [ 4, 30, 13],\n",
       "        [ 4, 33, 12],\n",
       "        [ 4, 42, 10],\n",
       "        [ 4, 45, 13],\n",
       "        [ 4, 49,  2],\n",
       "        [ 4, 49,  6],\n",
       "        [ 5,  7,  2],\n",
       "        [ 5,  7, 10],\n",
       "        [ 5, 20,  1],\n",
       "        [ 5, 20,  4],\n",
       "        [ 5, 20,  7],\n",
       "        [ 5, 29,  2],\n",
       "        [ 5, 37, 11],\n",
       "        [ 5, 37, 12],\n",
       "        [ 5, 37, 13],\n",
       "        [ 5, 38,  0],\n",
       "        [ 5, 42, 12],\n",
       "        [ 5, 44, 12],\n",
       "        [ 5, 45,  0],\n",
       "        [ 5, 45,  3],\n",
       "        [ 6,  0, 11],\n",
       "        [ 6,  7,  9],\n",
       "        [ 6,  8,  1],\n",
       "        [ 6, 14,  1],\n",
       "        [ 6, 14,  3],\n",
       "        [ 6, 16,  3],\n",
       "        [ 6, 23, 11],\n",
       "        [ 6, 24, 12],\n",
       "        [ 6, 26,  2],\n",
       "        [ 6, 26, 11],\n",
       "        [ 6, 28,  5],\n",
       "        [ 6, 28,  9],\n",
       "        [ 6, 33,  4],\n",
       "        [ 6, 33, 11],\n",
       "        [ 6, 39,  3],\n",
       "        [ 6, 39, 12],\n",
       "        [ 6, 42,  2],\n",
       "        [ 6, 44, 12],\n",
       "        [ 6, 52, 11],\n",
       "        [ 7,  4, 13],\n",
       "        [ 7,  7,  3],\n",
       "        [ 7,  7,  9],\n",
       "        [ 7, 14,  0],\n",
       "        [ 7, 20,  4],\n",
       "        [ 7, 21,  0],\n",
       "        [ 7, 21,  4],\n",
       "        [ 7, 21, 12],\n",
       "        [ 7, 28,  0],\n",
       "        [ 7, 39,  5],\n",
       "        [ 7, 39, 12],\n",
       "        [ 7, 46,  8],\n",
       "        [ 8,  8,  6],\n",
       "        [ 8, 21,  7],\n",
       "        [ 8, 28,  9],\n",
       "        [ 8, 28, 12],\n",
       "        [ 8, 30,  4],\n",
       "        [ 8, 33, 12],\n",
       "        [ 8, 38,  3],\n",
       "        [ 8, 38, 10],\n",
       "        [ 8, 39,  0],\n",
       "        [ 8, 39, 12],\n",
       "        [ 8, 42,  6],\n",
       "        [ 8, 54, 11],\n",
       "        [ 9,  6,  2],\n",
       "        [ 9,  7,  1],\n",
       "        [ 9,  8, 11],\n",
       "        [ 9, 14,  2],\n",
       "        [ 9, 14,  5],\n",
       "        [ 9, 14, 13],\n",
       "        [ 9, 20,  6],\n",
       "        [ 9, 22,  6],\n",
       "        [ 9, 27,  5],\n",
       "        [ 9, 28,  5],\n",
       "        [ 9, 36, 11],\n",
       "        [ 9, 38, 11],\n",
       "        [ 9, 48, 11],\n",
       "        [ 9, 48, 13],\n",
       "        [ 9, 49, 12],\n",
       "        [10,  8, 13],\n",
       "        [10, 19, 11],\n",
       "        [10, 20,  7],\n",
       "        [10, 21,  7],\n",
       "        [10, 27,  5],\n",
       "        [10, 28, 13],\n",
       "        [10, 33,  3],\n",
       "        [10, 33,  5],\n",
       "        [10, 33, 12],\n",
       "        [10, 37, 12],\n",
       "        [10, 38, 12],\n",
       "        [10, 42, 13],\n",
       "        [10, 54,  9],\n",
       "        [10, 54, 11],\n",
       "        [11,  9,  6],\n",
       "        [11, 11,  6],\n",
       "        [11, 14,  9],\n",
       "        [11, 21,  0],\n",
       "        [11, 21,  9],\n",
       "        [11, 27, 10],\n",
       "        [11, 31, 13],\n",
       "        [11, 39, 12],\n",
       "        [11, 45,  3],\n",
       "        [11, 45,  4],\n",
       "        [11, 45, 12],\n",
       "        [11, 45, 13],\n",
       "        [11, 48,  4],\n",
       "        [11, 51,  8],\n",
       "        [11, 54,  3],\n",
       "        [12,  0,  3],\n",
       "        [12,  3, 13],\n",
       "        [12,  9,  6],\n",
       "        [12, 14,  0],\n",
       "        [12, 14, 11],\n",
       "        [12, 19,  2],\n",
       "        [12, 24,  9],\n",
       "        [12, 24, 11],\n",
       "        [12, 25,  4],\n",
       "        [12, 26,  0],\n",
       "        [12, 28,  9],\n",
       "        [12, 28, 11],\n",
       "        [12, 30,  6],\n",
       "        [12, 41,  4],\n",
       "        [12, 41,  5],\n",
       "        [12, 45,  3],\n",
       "        [12, 45,  9],\n",
       "        [12, 51,  7],\n",
       "        [12, 54,  3],\n",
       "        [12, 54,  7],\n",
       "        [12, 54, 13],\n",
       "        [13,  3,  1],\n",
       "        [13,  3, 11],\n",
       "        [13,  4, 12],\n",
       "        [13, 14,  9],\n",
       "        [13, 19,  2],\n",
       "        [13, 32, 12],\n",
       "        [13, 33, 12],\n",
       "        [13, 38,  0],\n",
       "        [13, 39, 10],\n",
       "        [13, 45,  0],\n",
       "        [13, 45,  2]])"
      ]
     },
     "execution_count": 76,
     "metadata": {},
     "output_type": "execute_result"
    }
   ],
   "source": [
    "Nations().testing.mapped_triples"
   ]
  },
  {
   "cell_type": "code",
   "execution_count": 102,
   "metadata": {},
   "outputs": [],
   "source": [
    "df=open(\"train.txt\")#df.split([:1000])"
   ]
  },
  {
   "cell_type": "code",
   "execution_count": 108,
   "metadata": {},
   "outputs": [],
   "source": [
    "train1=data[:2000]\n",
    "test1=data[2000:]"
   ]
  },
  {
   "cell_type": "code",
   "execution_count": 110,
   "metadata": {},
   "outputs": [],
   "source": [
    "train1.to_csv(r'train1.txt', header=None, index=None, sep='\\t')\n",
    "test1.to_csv(r'test1.txt', header=None , index=None , sep='\\t')"
   ]
  },
  {
   "cell_type": "code",
   "execution_count": 111,
   "metadata": {},
   "outputs": [],
   "source": [
    "te=open(r'train.txt')"
   ]
  },
  {
   "cell_type": "code",
   "execution_count": 112,
   "metadata": {},
   "outputs": [
    {
     "data": {
      "text/plain": [
       "<_io.TextIOWrapper name='train.txt' mode='r' encoding='cp1252'>"
      ]
     },
     "execution_count": 112,
     "metadata": {},
     "output_type": "execute_result"
    }
   ],
   "source": [
    "te"
   ]
  },
  {
   "cell_type": "markdown",
   "metadata": {},
   "source": [
    "# BYOData Prestratisfied- Test Running_ Current active section."
   ]
  },
  {
   "cell_type": "code",
   "execution_count": 81,
   "metadata": {},
   "outputs": [
    {
     "ename": "NameError",
     "evalue": "name 'pykeen' is not defined",
     "output_type": "error",
     "traceback": [
      "\u001b[1;31m---------------------------------------------------------------------------\u001b[0m",
      "\u001b[1;31mNameError\u001b[0m                                 Traceback (most recent call last)",
      "\u001b[1;32m<ipython-input-81-a11c3d1fb104>\u001b[0m in \u001b[0;36m<module>\u001b[1;34m\u001b[0m\n\u001b[1;32m----> 1\u001b[1;33m \u001b[0mpykeen\u001b[0m\u001b[1;33m.\u001b[0m\u001b[0mdatasets\u001b[0m\u001b[1;33m.\u001b[0m\u001b[0mnations\u001b[0m\u001b[1;33m.\u001b[0m\u001b[0mNATIONS_TEST_PATH\u001b[0m\u001b[1;33m\u001b[0m\u001b[1;33m\u001b[0m\u001b[0m\n\u001b[0m",
      "\u001b[1;31mNameError\u001b[0m: name 'pykeen' is not defined"
     ]
    }
   ],
   "source": [
    "pykeen.datasets.nations.NATIONS_TEST_PATH"
   ]
  },
  {
   "cell_type": "code",
   "execution_count": 249,
   "metadata": {},
   "outputs": [
    {
     "name": "stderr",
     "output_type": "stream",
     "text": [
      "WARNING:pykeen.triples.triples_factory:You're trying to map triples with 492 entities and 65 relations that are not in the training set. These triples will be excluded from the mapping.\n",
      "WARNING:pykeen.triples.triples_factory:In total 298 from 307 triples were filtered out\n"
     ]
    },
    {
     "data": {
      "application/vnd.jupyter.widget-view+json": {
       "model_id": "8110031756884d5183bca168f3618e5a",
       "version_major": 2,
       "version_minor": 0
      },
      "text/plain": [
       "HBox(children=(FloatProgress(value=0.0, description='Training epochs on cpu', style=ProgressStyle(description_…"
      ]
     },
     "metadata": {},
     "output_type": "display_data"
    },
    {
     "data": {
      "application/vnd.jupyter.widget-view+json": {
       "model_id": "",
       "version_major": 2,
       "version_minor": 0
      },
      "text/plain": [
       "HBox(children=(FloatProgress(value=0.0, description='Training batches on cpu', max=8.0, style=ProgressStyle(de…"
      ]
     },
     "metadata": {},
     "output_type": "display_data"
    },
    {
     "data": {
      "application/vnd.jupyter.widget-view+json": {
       "model_id": "",
       "version_major": 2,
       "version_minor": 0
      },
      "text/plain": [
       "HBox(children=(FloatProgress(value=0.0, description='Training batches on cpu', max=8.0, style=ProgressStyle(de…"
      ]
     },
     "metadata": {},
     "output_type": "display_data"
    },
    {
     "data": {
      "application/vnd.jupyter.widget-view+json": {
       "model_id": "",
       "version_major": 2,
       "version_minor": 0
      },
      "text/plain": [
       "HBox(children=(FloatProgress(value=0.0, description='Training batches on cpu', max=8.0, style=ProgressStyle(de…"
      ]
     },
     "metadata": {},
     "output_type": "display_data"
    },
    {
     "data": {
      "application/vnd.jupyter.widget-view+json": {
       "model_id": "",
       "version_major": 2,
       "version_minor": 0
      },
      "text/plain": [
       "HBox(children=(FloatProgress(value=0.0, description='Training batches on cpu', max=8.0, style=ProgressStyle(de…"
      ]
     },
     "metadata": {},
     "output_type": "display_data"
    },
    {
     "data": {
      "application/vnd.jupyter.widget-view+json": {
       "model_id": "",
       "version_major": 2,
       "version_minor": 0
      },
      "text/plain": [
       "HBox(children=(FloatProgress(value=0.0, description='Training batches on cpu', max=8.0, style=ProgressStyle(de…"
      ]
     },
     "metadata": {},
     "output_type": "display_data"
    },
    {
     "data": {
      "application/vnd.jupyter.widget-view+json": {
       "model_id": "",
       "version_major": 2,
       "version_minor": 0
      },
      "text/plain": [
       "HBox(children=(FloatProgress(value=0.0, description='Training batches on cpu', max=8.0, style=ProgressStyle(de…"
      ]
     },
     "metadata": {},
     "output_type": "display_data"
    },
    {
     "data": {
      "application/vnd.jupyter.widget-view+json": {
       "model_id": "",
       "version_major": 2,
       "version_minor": 0
      },
      "text/plain": [
       "HBox(children=(FloatProgress(value=0.0, description='Training batches on cpu', max=8.0, style=ProgressStyle(de…"
      ]
     },
     "metadata": {},
     "output_type": "display_data"
    },
    {
     "data": {
      "application/vnd.jupyter.widget-view+json": {
       "model_id": "",
       "version_major": 2,
       "version_minor": 0
      },
      "text/plain": [
       "HBox(children=(FloatProgress(value=0.0, description='Training batches on cpu', max=8.0, style=ProgressStyle(de…"
      ]
     },
     "metadata": {},
     "output_type": "display_data"
    },
    {
     "data": {
      "application/vnd.jupyter.widget-view+json": {
       "model_id": "",
       "version_major": 2,
       "version_minor": 0
      },
      "text/plain": [
       "HBox(children=(FloatProgress(value=0.0, description='Training batches on cpu', max=8.0, style=ProgressStyle(de…"
      ]
     },
     "metadata": {},
     "output_type": "display_data"
    },
    {
     "data": {
      "application/vnd.jupyter.widget-view+json": {
       "model_id": "",
       "version_major": 2,
       "version_minor": 0
      },
      "text/plain": [
       "HBox(children=(FloatProgress(value=0.0, description='Training batches on cpu', max=8.0, style=ProgressStyle(de…"
      ]
     },
     "metadata": {},
     "output_type": "display_data"
    },
    {
     "data": {
      "application/vnd.jupyter.widget-view+json": {
       "model_id": "",
       "version_major": 2,
       "version_minor": 0
      },
      "text/plain": [
       "HBox(children=(FloatProgress(value=0.0, description='Training batches on cpu', max=8.0, style=ProgressStyle(de…"
      ]
     },
     "metadata": {},
     "output_type": "display_data"
    },
    {
     "data": {
      "application/vnd.jupyter.widget-view+json": {
       "model_id": "",
       "version_major": 2,
       "version_minor": 0
      },
      "text/plain": [
       "HBox(children=(FloatProgress(value=0.0, description='Training batches on cpu', max=8.0, style=ProgressStyle(de…"
      ]
     },
     "metadata": {},
     "output_type": "display_data"
    },
    {
     "data": {
      "application/vnd.jupyter.widget-view+json": {
       "model_id": "",
       "version_major": 2,
       "version_minor": 0
      },
      "text/plain": [
       "HBox(children=(FloatProgress(value=0.0, description='Training batches on cpu', max=8.0, style=ProgressStyle(de…"
      ]
     },
     "metadata": {},
     "output_type": "display_data"
    },
    {
     "data": {
      "application/vnd.jupyter.widget-view+json": {
       "model_id": "",
       "version_major": 2,
       "version_minor": 0
      },
      "text/plain": [
       "HBox(children=(FloatProgress(value=0.0, description='Training batches on cpu', max=8.0, style=ProgressStyle(de…"
      ]
     },
     "metadata": {},
     "output_type": "display_data"
    },
    {
     "data": {
      "application/vnd.jupyter.widget-view+json": {
       "model_id": "",
       "version_major": 2,
       "version_minor": 0
      },
      "text/plain": [
       "HBox(children=(FloatProgress(value=0.0, description='Training batches on cpu', max=8.0, style=ProgressStyle(de…"
      ]
     },
     "metadata": {},
     "output_type": "display_data"
    },
    {
     "data": {
      "application/vnd.jupyter.widget-view+json": {
       "model_id": "",
       "version_major": 2,
       "version_minor": 0
      },
      "text/plain": [
       "HBox(children=(FloatProgress(value=0.0, description='Training batches on cpu', max=8.0, style=ProgressStyle(de…"
      ]
     },
     "metadata": {},
     "output_type": "display_data"
    },
    {
     "data": {
      "application/vnd.jupyter.widget-view+json": {
       "model_id": "",
       "version_major": 2,
       "version_minor": 0
      },
      "text/plain": [
       "HBox(children=(FloatProgress(value=0.0, description='Training batches on cpu', max=8.0, style=ProgressStyle(de…"
      ]
     },
     "metadata": {},
     "output_type": "display_data"
    },
    {
     "data": {
      "application/vnd.jupyter.widget-view+json": {
       "model_id": "",
       "version_major": 2,
       "version_minor": 0
      },
      "text/plain": [
       "HBox(children=(FloatProgress(value=0.0, description='Training batches on cpu', max=8.0, style=ProgressStyle(de…"
      ]
     },
     "metadata": {},
     "output_type": "display_data"
    },
    {
     "data": {
      "application/vnd.jupyter.widget-view+json": {
       "model_id": "",
       "version_major": 2,
       "version_minor": 0
      },
      "text/plain": [
       "HBox(children=(FloatProgress(value=0.0, description='Training batches on cpu', max=8.0, style=ProgressStyle(de…"
      ]
     },
     "metadata": {},
     "output_type": "display_data"
    },
    {
     "data": {
      "application/vnd.jupyter.widget-view+json": {
       "model_id": "",
       "version_major": 2,
       "version_minor": 0
      },
      "text/plain": [
       "HBox(children=(FloatProgress(value=0.0, description='Training batches on cpu', max=8.0, style=ProgressStyle(de…"
      ]
     },
     "metadata": {},
     "output_type": "display_data"
    },
    {
     "data": {
      "application/vnd.jupyter.widget-view+json": {
       "model_id": "",
       "version_major": 2,
       "version_minor": 0
      },
      "text/plain": [
       "HBox(children=(FloatProgress(value=0.0, description='Training batches on cpu', max=8.0, style=ProgressStyle(de…"
      ]
     },
     "metadata": {},
     "output_type": "display_data"
    },
    {
     "data": {
      "application/vnd.jupyter.widget-view+json": {
       "model_id": "",
       "version_major": 2,
       "version_minor": 0
      },
      "text/plain": [
       "HBox(children=(FloatProgress(value=0.0, description='Training batches on cpu', max=8.0, style=ProgressStyle(de…"
      ]
     },
     "metadata": {},
     "output_type": "display_data"
    },
    {
     "data": {
      "application/vnd.jupyter.widget-view+json": {
       "model_id": "",
       "version_major": 2,
       "version_minor": 0
      },
      "text/plain": [
       "HBox(children=(FloatProgress(value=0.0, description='Training batches on cpu', max=8.0, style=ProgressStyle(de…"
      ]
     },
     "metadata": {},
     "output_type": "display_data"
    },
    {
     "data": {
      "application/vnd.jupyter.widget-view+json": {
       "model_id": "",
       "version_major": 2,
       "version_minor": 0
      },
      "text/plain": [
       "HBox(children=(FloatProgress(value=0.0, description='Training batches on cpu', max=8.0, style=ProgressStyle(de…"
      ]
     },
     "metadata": {},
     "output_type": "display_data"
    },
    {
     "data": {
      "application/vnd.jupyter.widget-view+json": {
       "model_id": "",
       "version_major": 2,
       "version_minor": 0
      },
      "text/plain": [
       "HBox(children=(FloatProgress(value=0.0, description='Training batches on cpu', max=8.0, style=ProgressStyle(de…"
      ]
     },
     "metadata": {},
     "output_type": "display_data"
    },
    {
     "data": {
      "application/vnd.jupyter.widget-view+json": {
       "model_id": "",
       "version_major": 2,
       "version_minor": 0
      },
      "text/plain": [
       "HBox(children=(FloatProgress(value=0.0, description='Training batches on cpu', max=8.0, style=ProgressStyle(de…"
      ]
     },
     "metadata": {},
     "output_type": "display_data"
    },
    {
     "data": {
      "application/vnd.jupyter.widget-view+json": {
       "model_id": "",
       "version_major": 2,
       "version_minor": 0
      },
      "text/plain": [
       "HBox(children=(FloatProgress(value=0.0, description='Training batches on cpu', max=8.0, style=ProgressStyle(de…"
      ]
     },
     "metadata": {},
     "output_type": "display_data"
    },
    {
     "data": {
      "application/vnd.jupyter.widget-view+json": {
       "model_id": "",
       "version_major": 2,
       "version_minor": 0
      },
      "text/plain": [
       "HBox(children=(FloatProgress(value=0.0, description='Training batches on cpu', max=8.0, style=ProgressStyle(de…"
      ]
     },
     "metadata": {},
     "output_type": "display_data"
    },
    {
     "data": {
      "application/vnd.jupyter.widget-view+json": {
       "model_id": "",
       "version_major": 2,
       "version_minor": 0
      },
      "text/plain": [
       "HBox(children=(FloatProgress(value=0.0, description='Training batches on cpu', max=8.0, style=ProgressStyle(de…"
      ]
     },
     "metadata": {},
     "output_type": "display_data"
    },
    {
     "data": {
      "application/vnd.jupyter.widget-view+json": {
       "model_id": "",
       "version_major": 2,
       "version_minor": 0
      },
      "text/plain": [
       "HBox(children=(FloatProgress(value=0.0, description='Training batches on cpu', max=8.0, style=ProgressStyle(de…"
      ]
     },
     "metadata": {},
     "output_type": "display_data"
    },
    {
     "data": {
      "application/vnd.jupyter.widget-view+json": {
       "model_id": "",
       "version_major": 2,
       "version_minor": 0
      },
      "text/plain": [
       "HBox(children=(FloatProgress(value=0.0, description='Training batches on cpu', max=8.0, style=ProgressStyle(de…"
      ]
     },
     "metadata": {},
     "output_type": "display_data"
    },
    {
     "data": {
      "application/vnd.jupyter.widget-view+json": {
       "model_id": "",
       "version_major": 2,
       "version_minor": 0
      },
      "text/plain": [
       "HBox(children=(FloatProgress(value=0.0, description='Training batches on cpu', max=8.0, style=ProgressStyle(de…"
      ]
     },
     "metadata": {},
     "output_type": "display_data"
    },
    {
     "data": {
      "application/vnd.jupyter.widget-view+json": {
       "model_id": "",
       "version_major": 2,
       "version_minor": 0
      },
      "text/plain": [
       "HBox(children=(FloatProgress(value=0.0, description='Training batches on cpu', max=8.0, style=ProgressStyle(de…"
      ]
     },
     "metadata": {},
     "output_type": "display_data"
    },
    {
     "data": {
      "application/vnd.jupyter.widget-view+json": {
       "model_id": "",
       "version_major": 2,
       "version_minor": 0
      },
      "text/plain": [
       "HBox(children=(FloatProgress(value=0.0, description='Training batches on cpu', max=8.0, style=ProgressStyle(de…"
      ]
     },
     "metadata": {},
     "output_type": "display_data"
    },
    {
     "data": {
      "application/vnd.jupyter.widget-view+json": {
       "model_id": "",
       "version_major": 2,
       "version_minor": 0
      },
      "text/plain": [
       "HBox(children=(FloatProgress(value=0.0, description='Training batches on cpu', max=8.0, style=ProgressStyle(de…"
      ]
     },
     "metadata": {},
     "output_type": "display_data"
    },
    {
     "data": {
      "application/vnd.jupyter.widget-view+json": {
       "model_id": "",
       "version_major": 2,
       "version_minor": 0
      },
      "text/plain": [
       "HBox(children=(FloatProgress(value=0.0, description='Training batches on cpu', max=8.0, style=ProgressStyle(de…"
      ]
     },
     "metadata": {},
     "output_type": "display_data"
    },
    {
     "data": {
      "application/vnd.jupyter.widget-view+json": {
       "model_id": "",
       "version_major": 2,
       "version_minor": 0
      },
      "text/plain": [
       "HBox(children=(FloatProgress(value=0.0, description='Training batches on cpu', max=8.0, style=ProgressStyle(de…"
      ]
     },
     "metadata": {},
     "output_type": "display_data"
    },
    {
     "data": {
      "application/vnd.jupyter.widget-view+json": {
       "model_id": "",
       "version_major": 2,
       "version_minor": 0
      },
      "text/plain": [
       "HBox(children=(FloatProgress(value=0.0, description='Training batches on cpu', max=8.0, style=ProgressStyle(de…"
      ]
     },
     "metadata": {},
     "output_type": "display_data"
    },
    {
     "data": {
      "application/vnd.jupyter.widget-view+json": {
       "model_id": "",
       "version_major": 2,
       "version_minor": 0
      },
      "text/plain": [
       "HBox(children=(FloatProgress(value=0.0, description='Training batches on cpu', max=8.0, style=ProgressStyle(de…"
      ]
     },
     "metadata": {},
     "output_type": "display_data"
    },
    {
     "data": {
      "application/vnd.jupyter.widget-view+json": {
       "model_id": "",
       "version_major": 2,
       "version_minor": 0
      },
      "text/plain": [
       "HBox(children=(FloatProgress(value=0.0, description='Training batches on cpu', max=8.0, style=ProgressStyle(de…"
      ]
     },
     "metadata": {},
     "output_type": "display_data"
    },
    {
     "data": {
      "application/vnd.jupyter.widget-view+json": {
       "model_id": "",
       "version_major": 2,
       "version_minor": 0
      },
      "text/plain": [
       "HBox(children=(FloatProgress(value=0.0, description='Training batches on cpu', max=8.0, style=ProgressStyle(de…"
      ]
     },
     "metadata": {},
     "output_type": "display_data"
    },
    {
     "data": {
      "application/vnd.jupyter.widget-view+json": {
       "model_id": "",
       "version_major": 2,
       "version_minor": 0
      },
      "text/plain": [
       "HBox(children=(FloatProgress(value=0.0, description='Training batches on cpu', max=8.0, style=ProgressStyle(de…"
      ]
     },
     "metadata": {},
     "output_type": "display_data"
    },
    {
     "data": {
      "application/vnd.jupyter.widget-view+json": {
       "model_id": "",
       "version_major": 2,
       "version_minor": 0
      },
      "text/plain": [
       "HBox(children=(FloatProgress(value=0.0, description='Training batches on cpu', max=8.0, style=ProgressStyle(de…"
      ]
     },
     "metadata": {},
     "output_type": "display_data"
    },
    {
     "data": {
      "application/vnd.jupyter.widget-view+json": {
       "model_id": "",
       "version_major": 2,
       "version_minor": 0
      },
      "text/plain": [
       "HBox(children=(FloatProgress(value=0.0, description='Training batches on cpu', max=8.0, style=ProgressStyle(de…"
      ]
     },
     "metadata": {},
     "output_type": "display_data"
    },
    {
     "data": {
      "application/vnd.jupyter.widget-view+json": {
       "model_id": "",
       "version_major": 2,
       "version_minor": 0
      },
      "text/plain": [
       "HBox(children=(FloatProgress(value=0.0, description='Training batches on cpu', max=8.0, style=ProgressStyle(de…"
      ]
     },
     "metadata": {},
     "output_type": "display_data"
    },
    {
     "data": {
      "application/vnd.jupyter.widget-view+json": {
       "model_id": "",
       "version_major": 2,
       "version_minor": 0
      },
      "text/plain": [
       "HBox(children=(FloatProgress(value=0.0, description='Training batches on cpu', max=8.0, style=ProgressStyle(de…"
      ]
     },
     "metadata": {},
     "output_type": "display_data"
    },
    {
     "data": {
      "application/vnd.jupyter.widget-view+json": {
       "model_id": "",
       "version_major": 2,
       "version_minor": 0
      },
      "text/plain": [
       "HBox(children=(FloatProgress(value=0.0, description='Training batches on cpu', max=8.0, style=ProgressStyle(de…"
      ]
     },
     "metadata": {},
     "output_type": "display_data"
    },
    {
     "data": {
      "application/vnd.jupyter.widget-view+json": {
       "model_id": "",
       "version_major": 2,
       "version_minor": 0
      },
      "text/plain": [
       "HBox(children=(FloatProgress(value=0.0, description='Training batches on cpu', max=8.0, style=ProgressStyle(de…"
      ]
     },
     "metadata": {},
     "output_type": "display_data"
    },
    {
     "data": {
      "application/vnd.jupyter.widget-view+json": {
       "model_id": "",
       "version_major": 2,
       "version_minor": 0
      },
      "text/plain": [
       "HBox(children=(FloatProgress(value=0.0, description='Training batches on cpu', max=8.0, style=ProgressStyle(de…"
      ]
     },
     "metadata": {},
     "output_type": "display_data"
    },
    {
     "data": {
      "application/vnd.jupyter.widget-view+json": {
       "model_id": "",
       "version_major": 2,
       "version_minor": 0
      },
      "text/plain": [
       "HBox(children=(FloatProgress(value=0.0, description='Training batches on cpu', max=8.0, style=ProgressStyle(de…"
      ]
     },
     "metadata": {},
     "output_type": "display_data"
    },
    {
     "data": {
      "application/vnd.jupyter.widget-view+json": {
       "model_id": "",
       "version_major": 2,
       "version_minor": 0
      },
      "text/plain": [
       "HBox(children=(FloatProgress(value=0.0, description='Training batches on cpu', max=8.0, style=ProgressStyle(de…"
      ]
     },
     "metadata": {},
     "output_type": "display_data"
    },
    {
     "data": {
      "application/vnd.jupyter.widget-view+json": {
       "model_id": "",
       "version_major": 2,
       "version_minor": 0
      },
      "text/plain": [
       "HBox(children=(FloatProgress(value=0.0, description='Training batches on cpu', max=8.0, style=ProgressStyle(de…"
      ]
     },
     "metadata": {},
     "output_type": "display_data"
    },
    {
     "data": {
      "application/vnd.jupyter.widget-view+json": {
       "model_id": "",
       "version_major": 2,
       "version_minor": 0
      },
      "text/plain": [
       "HBox(children=(FloatProgress(value=0.0, description='Training batches on cpu', max=8.0, style=ProgressStyle(de…"
      ]
     },
     "metadata": {},
     "output_type": "display_data"
    },
    {
     "data": {
      "application/vnd.jupyter.widget-view+json": {
       "model_id": "",
       "version_major": 2,
       "version_minor": 0
      },
      "text/plain": [
       "HBox(children=(FloatProgress(value=0.0, description='Training batches on cpu', max=8.0, style=ProgressStyle(de…"
      ]
     },
     "metadata": {},
     "output_type": "display_data"
    },
    {
     "data": {
      "application/vnd.jupyter.widget-view+json": {
       "model_id": "",
       "version_major": 2,
       "version_minor": 0
      },
      "text/plain": [
       "HBox(children=(FloatProgress(value=0.0, description='Training batches on cpu', max=8.0, style=ProgressStyle(de…"
      ]
     },
     "metadata": {},
     "output_type": "display_data"
    },
    {
     "data": {
      "application/vnd.jupyter.widget-view+json": {
       "model_id": "",
       "version_major": 2,
       "version_minor": 0
      },
      "text/plain": [
       "HBox(children=(FloatProgress(value=0.0, description='Training batches on cpu', max=8.0, style=ProgressStyle(de…"
      ]
     },
     "metadata": {},
     "output_type": "display_data"
    },
    {
     "data": {
      "application/vnd.jupyter.widget-view+json": {
       "model_id": "",
       "version_major": 2,
       "version_minor": 0
      },
      "text/plain": [
       "HBox(children=(FloatProgress(value=0.0, description='Training batches on cpu', max=8.0, style=ProgressStyle(de…"
      ]
     },
     "metadata": {},
     "output_type": "display_data"
    },
    {
     "data": {
      "application/vnd.jupyter.widget-view+json": {
       "model_id": "",
       "version_major": 2,
       "version_minor": 0
      },
      "text/plain": [
       "HBox(children=(FloatProgress(value=0.0, description='Training batches on cpu', max=8.0, style=ProgressStyle(de…"
      ]
     },
     "metadata": {},
     "output_type": "display_data"
    },
    {
     "data": {
      "application/vnd.jupyter.widget-view+json": {
       "model_id": "",
       "version_major": 2,
       "version_minor": 0
      },
      "text/plain": [
       "HBox(children=(FloatProgress(value=0.0, description='Training batches on cpu', max=8.0, style=ProgressStyle(de…"
      ]
     },
     "metadata": {},
     "output_type": "display_data"
    },
    {
     "data": {
      "application/vnd.jupyter.widget-view+json": {
       "model_id": "",
       "version_major": 2,
       "version_minor": 0
      },
      "text/plain": [
       "HBox(children=(FloatProgress(value=0.0, description='Training batches on cpu', max=8.0, style=ProgressStyle(de…"
      ]
     },
     "metadata": {},
     "output_type": "display_data"
    },
    {
     "data": {
      "application/vnd.jupyter.widget-view+json": {
       "model_id": "",
       "version_major": 2,
       "version_minor": 0
      },
      "text/plain": [
       "HBox(children=(FloatProgress(value=0.0, description='Training batches on cpu', max=8.0, style=ProgressStyle(de…"
      ]
     },
     "metadata": {},
     "output_type": "display_data"
    },
    {
     "data": {
      "application/vnd.jupyter.widget-view+json": {
       "model_id": "",
       "version_major": 2,
       "version_minor": 0
      },
      "text/plain": [
       "HBox(children=(FloatProgress(value=0.0, description='Training batches on cpu', max=8.0, style=ProgressStyle(de…"
      ]
     },
     "metadata": {},
     "output_type": "display_data"
    },
    {
     "data": {
      "application/vnd.jupyter.widget-view+json": {
       "model_id": "",
       "version_major": 2,
       "version_minor": 0
      },
      "text/plain": [
       "HBox(children=(FloatProgress(value=0.0, description='Training batches on cpu', max=8.0, style=ProgressStyle(de…"
      ]
     },
     "metadata": {},
     "output_type": "display_data"
    },
    {
     "data": {
      "application/vnd.jupyter.widget-view+json": {
       "model_id": "",
       "version_major": 2,
       "version_minor": 0
      },
      "text/plain": [
       "HBox(children=(FloatProgress(value=0.0, description='Training batches on cpu', max=8.0, style=ProgressStyle(de…"
      ]
     },
     "metadata": {},
     "output_type": "display_data"
    },
    {
     "data": {
      "application/vnd.jupyter.widget-view+json": {
       "model_id": "",
       "version_major": 2,
       "version_minor": 0
      },
      "text/plain": [
       "HBox(children=(FloatProgress(value=0.0, description='Training batches on cpu', max=8.0, style=ProgressStyle(de…"
      ]
     },
     "metadata": {},
     "output_type": "display_data"
    },
    {
     "data": {
      "application/vnd.jupyter.widget-view+json": {
       "model_id": "",
       "version_major": 2,
       "version_minor": 0
      },
      "text/plain": [
       "HBox(children=(FloatProgress(value=0.0, description='Training batches on cpu', max=8.0, style=ProgressStyle(de…"
      ]
     },
     "metadata": {},
     "output_type": "display_data"
    },
    {
     "data": {
      "application/vnd.jupyter.widget-view+json": {
       "model_id": "",
       "version_major": 2,
       "version_minor": 0
      },
      "text/plain": [
       "HBox(children=(FloatProgress(value=0.0, description='Training batches on cpu', max=8.0, style=ProgressStyle(de…"
      ]
     },
     "metadata": {},
     "output_type": "display_data"
    },
    {
     "data": {
      "application/vnd.jupyter.widget-view+json": {
       "model_id": "",
       "version_major": 2,
       "version_minor": 0
      },
      "text/plain": [
       "HBox(children=(FloatProgress(value=0.0, description='Training batches on cpu', max=8.0, style=ProgressStyle(de…"
      ]
     },
     "metadata": {},
     "output_type": "display_data"
    },
    {
     "data": {
      "application/vnd.jupyter.widget-view+json": {
       "model_id": "",
       "version_major": 2,
       "version_minor": 0
      },
      "text/plain": [
       "HBox(children=(FloatProgress(value=0.0, description='Training batches on cpu', max=8.0, style=ProgressStyle(de…"
      ]
     },
     "metadata": {},
     "output_type": "display_data"
    },
    {
     "data": {
      "application/vnd.jupyter.widget-view+json": {
       "model_id": "",
       "version_major": 2,
       "version_minor": 0
      },
      "text/plain": [
       "HBox(children=(FloatProgress(value=0.0, description='Training batches on cpu', max=8.0, style=ProgressStyle(de…"
      ]
     },
     "metadata": {},
     "output_type": "display_data"
    },
    {
     "data": {
      "application/vnd.jupyter.widget-view+json": {
       "model_id": "",
       "version_major": 2,
       "version_minor": 0
      },
      "text/plain": [
       "HBox(children=(FloatProgress(value=0.0, description='Training batches on cpu', max=8.0, style=ProgressStyle(de…"
      ]
     },
     "metadata": {},
     "output_type": "display_data"
    },
    {
     "data": {
      "application/vnd.jupyter.widget-view+json": {
       "model_id": "",
       "version_major": 2,
       "version_minor": 0
      },
      "text/plain": [
       "HBox(children=(FloatProgress(value=0.0, description='Training batches on cpu', max=8.0, style=ProgressStyle(de…"
      ]
     },
     "metadata": {},
     "output_type": "display_data"
    },
    {
     "data": {
      "application/vnd.jupyter.widget-view+json": {
       "model_id": "",
       "version_major": 2,
       "version_minor": 0
      },
      "text/plain": [
       "HBox(children=(FloatProgress(value=0.0, description='Training batches on cpu', max=8.0, style=ProgressStyle(de…"
      ]
     },
     "metadata": {},
     "output_type": "display_data"
    },
    {
     "data": {
      "application/vnd.jupyter.widget-view+json": {
       "model_id": "",
       "version_major": 2,
       "version_minor": 0
      },
      "text/plain": [
       "HBox(children=(FloatProgress(value=0.0, description='Training batches on cpu', max=8.0, style=ProgressStyle(de…"
      ]
     },
     "metadata": {},
     "output_type": "display_data"
    },
    {
     "data": {
      "application/vnd.jupyter.widget-view+json": {
       "model_id": "",
       "version_major": 2,
       "version_minor": 0
      },
      "text/plain": [
       "HBox(children=(FloatProgress(value=0.0, description='Training batches on cpu', max=8.0, style=ProgressStyle(de…"
      ]
     },
     "metadata": {},
     "output_type": "display_data"
    },
    {
     "data": {
      "application/vnd.jupyter.widget-view+json": {
       "model_id": "",
       "version_major": 2,
       "version_minor": 0
      },
      "text/plain": [
       "HBox(children=(FloatProgress(value=0.0, description='Training batches on cpu', max=8.0, style=ProgressStyle(de…"
      ]
     },
     "metadata": {},
     "output_type": "display_data"
    },
    {
     "data": {
      "application/vnd.jupyter.widget-view+json": {
       "model_id": "",
       "version_major": 2,
       "version_minor": 0
      },
      "text/plain": [
       "HBox(children=(FloatProgress(value=0.0, description='Training batches on cpu', max=8.0, style=ProgressStyle(de…"
      ]
     },
     "metadata": {},
     "output_type": "display_data"
    },
    {
     "data": {
      "application/vnd.jupyter.widget-view+json": {
       "model_id": "",
       "version_major": 2,
       "version_minor": 0
      },
      "text/plain": [
       "HBox(children=(FloatProgress(value=0.0, description='Training batches on cpu', max=8.0, style=ProgressStyle(de…"
      ]
     },
     "metadata": {},
     "output_type": "display_data"
    },
    {
     "data": {
      "application/vnd.jupyter.widget-view+json": {
       "model_id": "",
       "version_major": 2,
       "version_minor": 0
      },
      "text/plain": [
       "HBox(children=(FloatProgress(value=0.0, description='Training batches on cpu', max=8.0, style=ProgressStyle(de…"
      ]
     },
     "metadata": {},
     "output_type": "display_data"
    },
    {
     "data": {
      "application/vnd.jupyter.widget-view+json": {
       "model_id": "",
       "version_major": 2,
       "version_minor": 0
      },
      "text/plain": [
       "HBox(children=(FloatProgress(value=0.0, description='Training batches on cpu', max=8.0, style=ProgressStyle(de…"
      ]
     },
     "metadata": {},
     "output_type": "display_data"
    },
    {
     "data": {
      "application/vnd.jupyter.widget-view+json": {
       "model_id": "",
       "version_major": 2,
       "version_minor": 0
      },
      "text/plain": [
       "HBox(children=(FloatProgress(value=0.0, description='Training batches on cpu', max=8.0, style=ProgressStyle(de…"
      ]
     },
     "metadata": {},
     "output_type": "display_data"
    },
    {
     "data": {
      "application/vnd.jupyter.widget-view+json": {
       "model_id": "",
       "version_major": 2,
       "version_minor": 0
      },
      "text/plain": [
       "HBox(children=(FloatProgress(value=0.0, description='Training batches on cpu', max=8.0, style=ProgressStyle(de…"
      ]
     },
     "metadata": {},
     "output_type": "display_data"
    },
    {
     "data": {
      "application/vnd.jupyter.widget-view+json": {
       "model_id": "",
       "version_major": 2,
       "version_minor": 0
      },
      "text/plain": [
       "HBox(children=(FloatProgress(value=0.0, description='Training batches on cpu', max=8.0, style=ProgressStyle(de…"
      ]
     },
     "metadata": {},
     "output_type": "display_data"
    },
    {
     "data": {
      "application/vnd.jupyter.widget-view+json": {
       "model_id": "",
       "version_major": 2,
       "version_minor": 0
      },
      "text/plain": [
       "HBox(children=(FloatProgress(value=0.0, description='Training batches on cpu', max=8.0, style=ProgressStyle(de…"
      ]
     },
     "metadata": {},
     "output_type": "display_data"
    },
    {
     "data": {
      "application/vnd.jupyter.widget-view+json": {
       "model_id": "",
       "version_major": 2,
       "version_minor": 0
      },
      "text/plain": [
       "HBox(children=(FloatProgress(value=0.0, description='Training batches on cpu', max=8.0, style=ProgressStyle(de…"
      ]
     },
     "metadata": {},
     "output_type": "display_data"
    },
    {
     "data": {
      "application/vnd.jupyter.widget-view+json": {
       "model_id": "",
       "version_major": 2,
       "version_minor": 0
      },
      "text/plain": [
       "HBox(children=(FloatProgress(value=0.0, description='Training batches on cpu', max=8.0, style=ProgressStyle(de…"
      ]
     },
     "metadata": {},
     "output_type": "display_data"
    },
    {
     "data": {
      "application/vnd.jupyter.widget-view+json": {
       "model_id": "",
       "version_major": 2,
       "version_minor": 0
      },
      "text/plain": [
       "HBox(children=(FloatProgress(value=0.0, description='Training batches on cpu', max=8.0, style=ProgressStyle(de…"
      ]
     },
     "metadata": {},
     "output_type": "display_data"
    },
    {
     "data": {
      "application/vnd.jupyter.widget-view+json": {
       "model_id": "",
       "version_major": 2,
       "version_minor": 0
      },
      "text/plain": [
       "HBox(children=(FloatProgress(value=0.0, description='Training batches on cpu', max=8.0, style=ProgressStyle(de…"
      ]
     },
     "metadata": {},
     "output_type": "display_data"
    },
    {
     "data": {
      "application/vnd.jupyter.widget-view+json": {
       "model_id": "",
       "version_major": 2,
       "version_minor": 0
      },
      "text/plain": [
       "HBox(children=(FloatProgress(value=0.0, description='Training batches on cpu', max=8.0, style=ProgressStyle(de…"
      ]
     },
     "metadata": {},
     "output_type": "display_data"
    },
    {
     "data": {
      "application/vnd.jupyter.widget-view+json": {
       "model_id": "",
       "version_major": 2,
       "version_minor": 0
      },
      "text/plain": [
       "HBox(children=(FloatProgress(value=0.0, description='Training batches on cpu', max=8.0, style=ProgressStyle(de…"
      ]
     },
     "metadata": {},
     "output_type": "display_data"
    },
    {
     "data": {
      "application/vnd.jupyter.widget-view+json": {
       "model_id": "",
       "version_major": 2,
       "version_minor": 0
      },
      "text/plain": [
       "HBox(children=(FloatProgress(value=0.0, description='Training batches on cpu', max=8.0, style=ProgressStyle(de…"
      ]
     },
     "metadata": {},
     "output_type": "display_data"
    },
    {
     "data": {
      "application/vnd.jupyter.widget-view+json": {
       "model_id": "",
       "version_major": 2,
       "version_minor": 0
      },
      "text/plain": [
       "HBox(children=(FloatProgress(value=0.0, description='Training batches on cpu', max=8.0, style=ProgressStyle(de…"
      ]
     },
     "metadata": {},
     "output_type": "display_data"
    },
    {
     "data": {
      "application/vnd.jupyter.widget-view+json": {
       "model_id": "",
       "version_major": 2,
       "version_minor": 0
      },
      "text/plain": [
       "HBox(children=(FloatProgress(value=0.0, description='Training batches on cpu', max=8.0, style=ProgressStyle(de…"
      ]
     },
     "metadata": {},
     "output_type": "display_data"
    },
    {
     "data": {
      "application/vnd.jupyter.widget-view+json": {
       "model_id": "",
       "version_major": 2,
       "version_minor": 0
      },
      "text/plain": [
       "HBox(children=(FloatProgress(value=0.0, description='Training batches on cpu', max=8.0, style=ProgressStyle(de…"
      ]
     },
     "metadata": {},
     "output_type": "display_data"
    },
    {
     "data": {
      "application/vnd.jupyter.widget-view+json": {
       "model_id": "",
       "version_major": 2,
       "version_minor": 0
      },
      "text/plain": [
       "HBox(children=(FloatProgress(value=0.0, description='Training batches on cpu', max=8.0, style=ProgressStyle(de…"
      ]
     },
     "metadata": {},
     "output_type": "display_data"
    },
    {
     "data": {
      "application/vnd.jupyter.widget-view+json": {
       "model_id": "",
       "version_major": 2,
       "version_minor": 0
      },
      "text/plain": [
       "HBox(children=(FloatProgress(value=0.0, description='Training batches on cpu', max=8.0, style=ProgressStyle(de…"
      ]
     },
     "metadata": {},
     "output_type": "display_data"
    },
    {
     "data": {
      "application/vnd.jupyter.widget-view+json": {
       "model_id": "",
       "version_major": 2,
       "version_minor": 0
      },
      "text/plain": [
       "HBox(children=(FloatProgress(value=0.0, description='Training batches on cpu', max=8.0, style=ProgressStyle(de…"
      ]
     },
     "metadata": {},
     "output_type": "display_data"
    },
    {
     "data": {
      "application/vnd.jupyter.widget-view+json": {
       "model_id": "",
       "version_major": 2,
       "version_minor": 0
      },
      "text/plain": [
       "HBox(children=(FloatProgress(value=0.0, description='Training batches on cpu', max=8.0, style=ProgressStyle(de…"
      ]
     },
     "metadata": {},
     "output_type": "display_data"
    },
    {
     "data": {
      "application/vnd.jupyter.widget-view+json": {
       "model_id": "",
       "version_major": 2,
       "version_minor": 0
      },
      "text/plain": [
       "HBox(children=(FloatProgress(value=0.0, description='Training batches on cpu', max=8.0, style=ProgressStyle(de…"
      ]
     },
     "metadata": {},
     "output_type": "display_data"
    },
    {
     "data": {
      "application/vnd.jupyter.widget-view+json": {
       "model_id": "",
       "version_major": 2,
       "version_minor": 0
      },
      "text/plain": [
       "HBox(children=(FloatProgress(value=0.0, description='Training batches on cpu', max=8.0, style=ProgressStyle(de…"
      ]
     },
     "metadata": {},
     "output_type": "display_data"
    },
    {
     "name": "stderr",
     "output_type": "stream",
     "text": [
      "INFO:pykeen.evaluation.evaluator:Currently automatic memory optimization only supports GPUs, but you're using a CPU. Therefore, the batch_size will be set to the default value.\n",
      "INFO:pykeen.evaluation.evaluator:No evaluation batch_size provided. Setting batch_size to '32'.\n"
     ]
    },
    {
     "name": "stdout",
     "output_type": "stream",
     "text": [
      "\n"
     ]
    },
    {
     "data": {
      "application/vnd.jupyter.widget-view+json": {
       "model_id": "1b3f2e5e9417474fab3b4fab79dad895",
       "version_major": 2,
       "version_minor": 0
      },
      "text/plain": [
       "HBox(children=(FloatProgress(value=0.0, description='Evaluating on cpu', max=8.0, style=ProgressStyle(descript…"
      ]
     },
     "metadata": {},
     "output_type": "display_data"
    },
    {
     "name": "stderr",
     "output_type": "stream",
     "text": [
      "INFO:pykeen.evaluation.evaluator:Evaluation took 0.05s seconds\n"
     ]
    },
    {
     "name": "stdout",
     "output_type": "stream",
     "text": [
      "\n"
     ]
    }
   ],
   "source": [
    "NATIONS_TRAIN_PATH='C:\\\\Users\\\\shahz\\\\KG\\\\Untitled Folder\\\\train1.txt'\n",
    "NATIONS_TEST_PATH='C:\\\\Users\\\\shahz\\\\KG\\\\Untitled Folder\\\\test1.txt'\n",
    "result = pipeline(\n",
    "    training=NATIONS_TRAIN_PATH, \n",
    "    testing=NATIONS_TEST_PATH,\n",
    "    model='TransE',\n",
    "    random_seed=1235,\n",
    "    device='cpu',\n",
    "    training_kwargs=dict(num_epochs=100),  # Shouldn't take more than a minute or two on a nice computer\n",
    ")"
   ]
  },
  {
   "cell_type": "code",
   "execution_count": 233,
   "metadata": {},
   "outputs": [
    {
     "name": "stderr",
     "output_type": "stream",
     "text": [
      "C:\\Users\\shahz\\anaconda3\\lib\\site-packages\\matplotlib\\backends\\backend_agg.py:214: RuntimeWarning: Glyph 8209 missing from current font.\n",
      "  font.set_text(s, 0.0, flags=flags)\n",
      "C:\\Users\\shahz\\anaconda3\\lib\\site-packages\\matplotlib\\backends\\backend_agg.py:183: RuntimeWarning: Glyph 8209 missing from current font.\n",
      "  font.set_text(s, 0, flags=flags)\n"
     ]
    },
    {
     "data": {
      "image/png": "[encoded data removed]",
      "text/plain": [
       "<Figure size 720x288 with 2 Axes>"
      ]
     },
     "metadata": {},
     "output_type": "display_data"
    }
   ],
   "source": [
    "result.plot()"
   ]
  },
  {
   "cell_type": "code",
   "execution_count": 250,
   "metadata": {},
   "outputs": [
    {
     "data": {
      "text/plain": [
       "['metadata.json', 'results.json', 'trained_model.pkl']"
      ]
     },
     "execution_count": 250,
     "metadata": {},
     "output_type": "execute_result"
    }
   ],
   "source": [
    "save_location = 'family_Embedding_KG'  # relative to here\n",
    "result.save_to_directory(save_location)\n",
    "os.listdir(save_location)"
   ]
  },
  {
   "cell_type": "code",
   "execution_count": 251,
   "metadata": {},
   "outputs": [
    {
     "data": {
      "text/plain": [
       "TransE(\n",
       "  (loss): MarginRankingLoss()\n",
       "  (regularizer): NoRegularizer()\n",
       "  (entity_embeddings): Embedding(\n",
       "    (_embeddings): Embedding(3143, 50)\n",
       "  )\n",
       "  (relation_embeddings): Embedding(\n",
       "    (_embeddings): Embedding(726, 50)\n",
       "  )\n",
       ")"
      ]
     },
     "execution_count": 251,
     "metadata": {},
     "output_type": "execute_result"
    }
   ],
   "source": [
    "# How to look at the model\n",
    "model = result.model\n",
    "model"
   ]
  },
  {
   "cell_type": "code",
   "execution_count": 272,
   "metadata": {},
   "outputs": [
    {
     "data": {
      "text/plain": [
       "TriplesFactory(num_entities=3143, num_relations=726, num_triples=1967, inverse_triples=False, path=\"C:\\Users\\shahz\\KG\\Untitled Folder\\train1.txt\")"
      ]
     },
     "execution_count": 272,
     "metadata": {},
     "output_type": "execute_result"
    }
   ],
   "source": [
    "# How to look at the triples\n",
    "tf = model.triples_factory\n",
    "tf"
   ]
  },
  {
   "cell_type": "code",
   "execution_count": 253,
   "metadata": {},
   "outputs": [
    {
     "ename": "AttributeError",
     "evalue": "'NoneType' object has no attribute 'set_ylabel'",
     "output_type": "error",
     "traceback": [
      "\u001b[1;31m---------------------------------------------------------------------------\u001b[0m",
      "\u001b[1;31mAttributeError\u001b[0m                            Traceback (most recent call last)",
      "\u001b[1;32m<ipython-input-253-13924318d057>\u001b[0m in \u001b[0;36m<module>\u001b[1;34m\u001b[0m\n\u001b[1;32m----> 1\u001b[1;33m \u001b[0mresult\u001b[0m\u001b[1;33m.\u001b[0m\u001b[0mplot_losses\u001b[0m\u001b[1;33m(\u001b[0m\u001b[1;33m)\u001b[0m\u001b[1;33m\u001b[0m\u001b[1;33m\u001b[0m\u001b[0m\n\u001b[0m\u001b[0;32m      2\u001b[0m \u001b[0mplt\u001b[0m\u001b[1;33m.\u001b[0m\u001b[0mshow\u001b[0m\u001b[1;33m(\u001b[0m\u001b[1;33m)\u001b[0m\u001b[1;33m\u001b[0m\u001b[1;33m\u001b[0m\u001b[0m\n",
      "\u001b[1;32m~\\anaconda3\\lib\\site-packages\\pykeen\\pipeline\\api.py\u001b[0m in \u001b[0;36mplot_losses\u001b[1;34m(self, **kwargs)\u001b[0m\n\u001b[0;32m    268\u001b[0m         \"\"\"\n\u001b[0;32m    269\u001b[0m         \u001b[1;32mfrom\u001b[0m \u001b[1;33m.\u001b[0m\u001b[0mplot_utils\u001b[0m \u001b[1;32mimport\u001b[0m \u001b[0mplot_losses\u001b[0m\u001b[1;33m\u001b[0m\u001b[1;33m\u001b[0m\u001b[0m\n\u001b[1;32m--> 270\u001b[1;33m         \u001b[1;32mreturn\u001b[0m \u001b[0mplot_losses\u001b[0m\u001b[1;33m(\u001b[0m\u001b[0mself\u001b[0m\u001b[1;33m,\u001b[0m \u001b[1;33m**\u001b[0m\u001b[0mkwargs\u001b[0m\u001b[1;33m)\u001b[0m\u001b[1;33m\u001b[0m\u001b[1;33m\u001b[0m\u001b[0m\n\u001b[0m\u001b[0;32m    271\u001b[0m \u001b[1;33m\u001b[0m\u001b[0m\n\u001b[0;32m    272\u001b[0m     \u001b[1;32mdef\u001b[0m \u001b[0mplot_early_stopping\u001b[0m\u001b[1;33m(\u001b[0m\u001b[0mself\u001b[0m\u001b[1;33m,\u001b[0m \u001b[1;33m**\u001b[0m\u001b[0mkwargs\u001b[0m\u001b[1;33m)\u001b[0m\u001b[1;33m:\u001b[0m\u001b[1;33m\u001b[0m\u001b[1;33m\u001b[0m\u001b[0m\n",
      "\u001b[1;32m~\\anaconda3\\lib\\site-packages\\pykeen\\pipeline\\plot_utils.py\u001b[0m in \u001b[0;36mplot_losses\u001b[1;34m(pipeline_result, ax)\u001b[0m\n\u001b[0;32m     30\u001b[0m \u001b[1;33m\u001b[0m\u001b[0m\n\u001b[0;32m     31\u001b[0m     \u001b[0mloss_name\u001b[0m \u001b[1;33m=\u001b[0m \u001b[0mloss_resolver\u001b[0m\u001b[1;33m.\u001b[0m\u001b[0mnormalize_inst\u001b[0m\u001b[1;33m(\u001b[0m\u001b[0mpipeline_result\u001b[0m\u001b[1;33m.\u001b[0m\u001b[0mmodel\u001b[0m\u001b[1;33m.\u001b[0m\u001b[0mloss\u001b[0m\u001b[1;33m)\u001b[0m\u001b[1;33m\u001b[0m\u001b[1;33m\u001b[0m\u001b[0m\n\u001b[1;32m---> 32\u001b[1;33m     \u001b[0max\u001b[0m\u001b[1;33m.\u001b[0m\u001b[0mset_ylabel\u001b[0m\u001b[1;33m(\u001b[0m\u001b[1;34mf'{loss_name} Loss'\u001b[0m\u001b[1;33m)\u001b[0m\u001b[1;33m\u001b[0m\u001b[1;33m\u001b[0m\u001b[0m\n\u001b[0m\u001b[0;32m     33\u001b[0m     \u001b[0max\u001b[0m\u001b[1;33m.\u001b[0m\u001b[0mset_xlabel\u001b[0m\u001b[1;33m(\u001b[0m\u001b[1;34m'Epoch'\u001b[0m\u001b[1;33m)\u001b[0m\u001b[1;33m\u001b[0m\u001b[1;33m\u001b[0m\u001b[0m\n\u001b[0;32m     34\u001b[0m     \u001b[0max\u001b[0m\u001b[1;33m.\u001b[0m\u001b[0mset_title\u001b[0m\u001b[1;33m(\u001b[0m\u001b[0mpipeline_result\u001b[0m\u001b[1;33m.\u001b[0m\u001b[0mtitle\u001b[0m \u001b[1;32mif\u001b[0m \u001b[0mpipeline_result\u001b[0m\u001b[1;33m.\u001b[0m\u001b[0mtitle\u001b[0m \u001b[1;32mis\u001b[0m \u001b[1;32mnot\u001b[0m \u001b[1;32mNone\u001b[0m \u001b[1;32melse\u001b[0m \u001b[1;34m'Losses Plot'\u001b[0m\u001b[1;33m)\u001b[0m\u001b[1;33m\u001b[0m\u001b[1;33m\u001b[0m\u001b[0m\n",
      "\u001b[1;31mAttributeError\u001b[0m: 'NoneType' object has no attribute 'set_ylabel'"
     ]
    },
    {
     "data": {
      "image/png": "[encoded data removed]",
      "text/plain": [
       "<Figure size 432x288 with 1 Axes>"
      ]
     },
     "metadata": {},
     "output_type": "display_data"
    }
   ],
   "source": [
    "result.plot_losses()\n",
    "plt.show()"
   ]
  },
  {
   "cell_type": "code",
   "execution_count": 273,
   "metadata": {},
   "outputs": [
    {
     "name": "stderr",
     "output_type": "stream",
     "text": [
      "WARNING:pykeen.triples.triples_factory:Reconstructing all label-based triples. This is expensive and rarely needed.\n"
     ]
    },
    {
     "data": {
      "text/plain": [
       "array([['\"Norwegian Herman \"\"Jackrabbit\"\" Smith-Johannsen\"',\n",
       "        'popularized', 'cross - country skiing'],\n",
       "       ['\"candidates.\"\"The university\"', 'joined', 'Project Hero'],\n",
       "       ['\"health care economy\"\".In 2016 NHS England\"', 'organised',\n",
       "        'geographical division'],\n",
       "       ...,\n",
       "       ['Überdruckmedizin e. V. German standards', 'include',\n",
       "        'Medical Examiner of Divers'],\n",
       "       ['Віцебскі', 'дзяржаўны', 'медыцынскі ўніверсітэт'],\n",
       "       ['Гродненскі', 'Russian', 'медыцынскі ўніверсітэт']], dtype='<U126')"
      ]
     },
     "execution_count": 273,
     "metadata": {},
     "output_type": "execute_result"
    }
   ],
   "source": [
    "tf.triples"
   ]
  },
  {
   "cell_type": "code",
   "execution_count": null,
   "metadata": {},
   "outputs": [],
   "source": []
  },
  {
   "cell_type": "code",
   "execution_count": 274,
   "metadata": {},
   "outputs": [
    {
     "data": {
      "text/plain": [
       "tensor([[ 0,  7,  5],\n",
       "        [ 0, 14, 11],\n",
       "        [ 0, 18, 12],\n",
       "        [ 0, 20,  3],\n",
       "        [ 0, 20, 10],\n",
       "        [ 0, 21, 12],\n",
       "        [ 1,  3, 12],\n",
       "        [ 1,  7,  0],\n",
       "        [ 1, 10, 11],\n",
       "        [ 1, 18,  5],\n",
       "        [ 1, 21,  6],\n",
       "        [ 1, 28,  7],\n",
       "        [ 1, 33,  4],\n",
       "        [ 1, 33,  6],\n",
       "        [ 1, 33, 13],\n",
       "        [ 1, 38,  4],\n",
       "        [ 1, 38,  7],\n",
       "        [ 1, 38, 12],\n",
       "        [ 1, 39,  7],\n",
       "        [ 1, 42,  2],\n",
       "        [ 1, 49,  2],\n",
       "        [ 2,  0, 11],\n",
       "        [ 2,  6,  0],\n",
       "        [ 2, 14,  1],\n",
       "        [ 2, 14,  4],\n",
       "        [ 2, 14,  6],\n",
       "        [ 2, 21,  5],\n",
       "        [ 2, 21, 12],\n",
       "        [ 2, 21, 13],\n",
       "        [ 2, 26,  5],\n",
       "        [ 2, 30,  1],\n",
       "        [ 2, 30,  6],\n",
       "        [ 2, 37,  3],\n",
       "        [ 2, 37, 13],\n",
       "        [ 2, 38,  0],\n",
       "        [ 2, 45,  0],\n",
       "        [ 3, 19, 12],\n",
       "        [ 3, 21, 11],\n",
       "        [ 3, 25, 11],\n",
       "        [ 3, 28,  7],\n",
       "        [ 3, 30,  2],\n",
       "        [ 3, 33,  2],\n",
       "        [ 3, 33,  4],\n",
       "        [ 3, 37, 13],\n",
       "        [ 3, 38,  4],\n",
       "        [ 3, 42,  2],\n",
       "        [ 3, 42, 11],\n",
       "        [ 3, 46, 12],\n",
       "        [ 3, 48, 13],\n",
       "        [ 4,  7,  0],\n",
       "        [ 4,  7, 11],\n",
       "        [ 4,  8,  5],\n",
       "        [ 4, 14,  1],\n",
       "        [ 4, 14,  3],\n",
       "        [ 4, 14, 11],\n",
       "        [ 4, 14, 13],\n",
       "        [ 4, 19,  0],\n",
       "        [ 4, 19, 12],\n",
       "        [ 4, 25,  7],\n",
       "        [ 4, 28,  0],\n",
       "        [ 4, 28,  9],\n",
       "        [ 4, 28, 12],\n",
       "        [ 4, 30, 13],\n",
       "        [ 4, 33, 12],\n",
       "        [ 4, 42, 10],\n",
       "        [ 4, 45, 13],\n",
       "        [ 4, 49,  2],\n",
       "        [ 4, 49,  6],\n",
       "        [ 5,  7,  2],\n",
       "        [ 5,  7, 10],\n",
       "        [ 5, 20,  1],\n",
       "        [ 5, 20,  4],\n",
       "        [ 5, 20,  7],\n",
       "        [ 5, 29,  2],\n",
       "        [ 5, 37, 11],\n",
       "        [ 5, 37, 12],\n",
       "        [ 5, 37, 13],\n",
       "        [ 5, 38,  0],\n",
       "        [ 5, 42, 12],\n",
       "        [ 5, 44, 12],\n",
       "        [ 5, 45,  0],\n",
       "        [ 5, 45,  3],\n",
       "        [ 6,  0, 11],\n",
       "        [ 6,  7,  9],\n",
       "        [ 6,  8,  1],\n",
       "        [ 6, 14,  1],\n",
       "        [ 6, 14,  3],\n",
       "        [ 6, 16,  3],\n",
       "        [ 6, 23, 11],\n",
       "        [ 6, 24, 12],\n",
       "        [ 6, 26,  2],\n",
       "        [ 6, 26, 11],\n",
       "        [ 6, 28,  5],\n",
       "        [ 6, 28,  9],\n",
       "        [ 6, 33,  4],\n",
       "        [ 6, 33, 11],\n",
       "        [ 6, 39,  3],\n",
       "        [ 6, 39, 12],\n",
       "        [ 6, 42,  2],\n",
       "        [ 6, 44, 12],\n",
       "        [ 6, 52, 11],\n",
       "        [ 7,  4, 13],\n",
       "        [ 7,  7,  3],\n",
       "        [ 7,  7,  9],\n",
       "        [ 7, 14,  0],\n",
       "        [ 7, 20,  4],\n",
       "        [ 7, 21,  0],\n",
       "        [ 7, 21,  4],\n",
       "        [ 7, 21, 12],\n",
       "        [ 7, 28,  0],\n",
       "        [ 7, 39,  5],\n",
       "        [ 7, 39, 12],\n",
       "        [ 7, 46,  8],\n",
       "        [ 8,  8,  6],\n",
       "        [ 8, 21,  7],\n",
       "        [ 8, 28,  9],\n",
       "        [ 8, 28, 12],\n",
       "        [ 8, 30,  4],\n",
       "        [ 8, 33, 12],\n",
       "        [ 8, 38,  3],\n",
       "        [ 8, 38, 10],\n",
       "        [ 8, 39,  0],\n",
       "        [ 8, 39, 12],\n",
       "        [ 8, 42,  6],\n",
       "        [ 8, 54, 11],\n",
       "        [ 9,  6,  2],\n",
       "        [ 9,  7,  1],\n",
       "        [ 9,  8, 11],\n",
       "        [ 9, 14,  2],\n",
       "        [ 9, 14,  5],\n",
       "        [ 9, 14, 13],\n",
       "        [ 9, 20,  6],\n",
       "        [ 9, 22,  6],\n",
       "        [ 9, 27,  5],\n",
       "        [ 9, 28,  5],\n",
       "        [ 9, 36, 11],\n",
       "        [ 9, 38, 11],\n",
       "        [ 9, 48, 11],\n",
       "        [ 9, 48, 13],\n",
       "        [ 9, 49, 12],\n",
       "        [10,  8, 13],\n",
       "        [10, 19, 11],\n",
       "        [10, 20,  7],\n",
       "        [10, 21,  7],\n",
       "        [10, 27,  5],\n",
       "        [10, 28, 13],\n",
       "        [10, 33,  3],\n",
       "        [10, 33,  5],\n",
       "        [10, 33, 12],\n",
       "        [10, 37, 12],\n",
       "        [10, 38, 12],\n",
       "        [10, 42, 13],\n",
       "        [10, 54,  9],\n",
       "        [10, 54, 11],\n",
       "        [11,  9,  6],\n",
       "        [11, 11,  6],\n",
       "        [11, 14,  9],\n",
       "        [11, 21,  0],\n",
       "        [11, 21,  9],\n",
       "        [11, 27, 10],\n",
       "        [11, 31, 13],\n",
       "        [11, 39, 12],\n",
       "        [11, 45,  3],\n",
       "        [11, 45,  4],\n",
       "        [11, 45, 12],\n",
       "        [11, 45, 13],\n",
       "        [11, 48,  4],\n",
       "        [11, 51,  8],\n",
       "        [11, 54,  3],\n",
       "        [12,  0,  3],\n",
       "        [12,  3, 13],\n",
       "        [12,  9,  6],\n",
       "        [12, 14,  0],\n",
       "        [12, 14, 11],\n",
       "        [12, 19,  2],\n",
       "        [12, 24,  9],\n",
       "        [12, 24, 11],\n",
       "        [12, 25,  4],\n",
       "        [12, 26,  0],\n",
       "        [12, 28,  9],\n",
       "        [12, 28, 11],\n",
       "        [12, 30,  6],\n",
       "        [12, 41,  4],\n",
       "        [12, 41,  5],\n",
       "        [12, 45,  3],\n",
       "        [12, 45,  9],\n",
       "        [12, 51,  7],\n",
       "        [12, 54,  3],\n",
       "        [12, 54,  7],\n",
       "        [12, 54, 13],\n",
       "        [13,  3,  1],\n",
       "        [13,  3, 11],\n",
       "        [13,  4, 12],\n",
       "        [13, 14,  9],\n",
       "        [13, 19,  2],\n",
       "        [13, 32, 12],\n",
       "        [13, 33, 12],\n",
       "        [13, 38,  0],\n",
       "        [13, 39, 10],\n",
       "        [13, 45,  0],\n",
       "        [13, 45,  2]])"
      ]
     },
     "execution_count": 274,
     "metadata": {},
     "output_type": "execute_result"
    }
   ],
   "source": [
    "Nations().testing.mapped_triples"
   ]
  },
  {
   "cell_type": "code",
   "execution_count": null,
   "metadata": {},
   "outputs": [],
   "source": []
  },
  {
   "cell_type": "code",
   "execution_count": null,
   "metadata": {},
   "outputs": [],
   "source": []
  },
  {
   "cell_type": "code",
   "execution_count": null,
   "metadata": {},
   "outputs": [],
   "source": []
  },
  {
   "cell_type": "code",
   "execution_count": 275,
   "metadata": {},
   "outputs": [
    {
     "data": {
      "text/html": [
       "<div>\n",
       "<style scoped>\n",
       "    .dataframe tbody tr th:only-of-type {\n",
       "        vertical-align: middle;\n",
       "    }\n",
       "\n",
       "    .dataframe tbody tr th {\n",
       "        vertical-align: top;\n",
       "    }\n",
       "\n",
       "    .dataframe thead th {\n",
       "        text-align: right;\n",
       "    }\n",
       "</style>\n",
       "<table border=\"1\" class=\"dataframe\">\n",
       "  <thead>\n",
       "    <tr style=\"text-align: right;\">\n",
       "      <th></th>\n",
       "      <th>Side</th>\n",
       "      <th>Type</th>\n",
       "      <th>Metric</th>\n",
       "      <th>Value</th>\n",
       "    </tr>\n",
       "  </thead>\n",
       "  <tbody>\n",
       "    <tr>\n",
       "      <th>0</th>\n",
       "      <td>both</td>\n",
       "      <td>avg</td>\n",
       "      <td>adjusted_mean_rank</td>\n",
       "      <td>0.653119</td>\n",
       "    </tr>\n",
       "    <tr>\n",
       "      <th>1</th>\n",
       "      <td>tail</td>\n",
       "      <td>avg</td>\n",
       "      <td>adjusted_mean_rank</td>\n",
       "      <td>0.664207</td>\n",
       "    </tr>\n",
       "    <tr>\n",
       "      <th>2</th>\n",
       "      <td>head</td>\n",
       "      <td>avg</td>\n",
       "      <td>adjusted_mean_rank</td>\n",
       "      <td>0.642031</td>\n",
       "    </tr>\n",
       "    <tr>\n",
       "      <th>3</th>\n",
       "      <td>both</td>\n",
       "      <td>avg</td>\n",
       "      <td>mean_rank</td>\n",
       "      <td>1026.625000</td>\n",
       "    </tr>\n",
       "    <tr>\n",
       "      <th>4</th>\n",
       "      <td>both</td>\n",
       "      <td>avg</td>\n",
       "      <td>mean_reciprocal_rank</td>\n",
       "      <td>0.094709</td>\n",
       "    </tr>\n",
       "    <tr>\n",
       "      <th>5</th>\n",
       "      <td>both</td>\n",
       "      <td>avg</td>\n",
       "      <td>hits_at_1</td>\n",
       "      <td>0.000000</td>\n",
       "    </tr>\n",
       "    <tr>\n",
       "      <th>6</th>\n",
       "      <td>both</td>\n",
       "      <td>avg</td>\n",
       "      <td>hits_at_3</td>\n",
       "      <td>0.125000</td>\n",
       "    </tr>\n",
       "    <tr>\n",
       "      <th>7</th>\n",
       "      <td>both</td>\n",
       "      <td>avg</td>\n",
       "      <td>hits_at_5</td>\n",
       "      <td>0.250000</td>\n",
       "    </tr>\n",
       "    <tr>\n",
       "      <th>8</th>\n",
       "      <td>both</td>\n",
       "      <td>avg</td>\n",
       "      <td>hits_at_10</td>\n",
       "      <td>0.250000</td>\n",
       "    </tr>\n",
       "    <tr>\n",
       "      <th>9</th>\n",
       "      <td>both</td>\n",
       "      <td>worst</td>\n",
       "      <td>mean_rank</td>\n",
       "      <td>1026.625000</td>\n",
       "    </tr>\n",
       "    <tr>\n",
       "      <th>10</th>\n",
       "      <td>both</td>\n",
       "      <td>worst</td>\n",
       "      <td>mean_reciprocal_rank</td>\n",
       "      <td>0.094709</td>\n",
       "    </tr>\n",
       "    <tr>\n",
       "      <th>11</th>\n",
       "      <td>both</td>\n",
       "      <td>worst</td>\n",
       "      <td>hits_at_1</td>\n",
       "      <td>0.000000</td>\n",
       "    </tr>\n",
       "    <tr>\n",
       "      <th>12</th>\n",
       "      <td>both</td>\n",
       "      <td>worst</td>\n",
       "      <td>hits_at_3</td>\n",
       "      <td>0.125000</td>\n",
       "    </tr>\n",
       "    <tr>\n",
       "      <th>13</th>\n",
       "      <td>both</td>\n",
       "      <td>worst</td>\n",
       "      <td>hits_at_5</td>\n",
       "      <td>0.250000</td>\n",
       "    </tr>\n",
       "    <tr>\n",
       "      <th>14</th>\n",
       "      <td>both</td>\n",
       "      <td>worst</td>\n",
       "      <td>hits_at_10</td>\n",
       "      <td>0.250000</td>\n",
       "    </tr>\n",
       "    <tr>\n",
       "      <th>15</th>\n",
       "      <td>both</td>\n",
       "      <td>best</td>\n",
       "      <td>mean_rank</td>\n",
       "      <td>1026.625000</td>\n",
       "    </tr>\n",
       "    <tr>\n",
       "      <th>16</th>\n",
       "      <td>both</td>\n",
       "      <td>best</td>\n",
       "      <td>mean_reciprocal_rank</td>\n",
       "      <td>0.094709</td>\n",
       "    </tr>\n",
       "    <tr>\n",
       "      <th>17</th>\n",
       "      <td>both</td>\n",
       "      <td>best</td>\n",
       "      <td>hits_at_1</td>\n",
       "      <td>0.000000</td>\n",
       "    </tr>\n",
       "    <tr>\n",
       "      <th>18</th>\n",
       "      <td>both</td>\n",
       "      <td>best</td>\n",
       "      <td>hits_at_3</td>\n",
       "      <td>0.125000</td>\n",
       "    </tr>\n",
       "    <tr>\n",
       "      <th>19</th>\n",
       "      <td>both</td>\n",
       "      <td>best</td>\n",
       "      <td>hits_at_5</td>\n",
       "      <td>0.250000</td>\n",
       "    </tr>\n",
       "    <tr>\n",
       "      <th>20</th>\n",
       "      <td>both</td>\n",
       "      <td>best</td>\n",
       "      <td>hits_at_10</td>\n",
       "      <td>0.250000</td>\n",
       "    </tr>\n",
       "    <tr>\n",
       "      <th>21</th>\n",
       "      <td>tail</td>\n",
       "      <td>avg</td>\n",
       "      <td>mean_rank</td>\n",
       "      <td>1044.125000</td>\n",
       "    </tr>\n",
       "    <tr>\n",
       "      <th>22</th>\n",
       "      <td>tail</td>\n",
       "      <td>avg</td>\n",
       "      <td>mean_reciprocal_rank</td>\n",
       "      <td>0.094807</td>\n",
       "    </tr>\n",
       "    <tr>\n",
       "      <th>23</th>\n",
       "      <td>tail</td>\n",
       "      <td>avg</td>\n",
       "      <td>hits_at_1</td>\n",
       "      <td>0.000000</td>\n",
       "    </tr>\n",
       "    <tr>\n",
       "      <th>24</th>\n",
       "      <td>tail</td>\n",
       "      <td>avg</td>\n",
       "      <td>hits_at_3</td>\n",
       "      <td>0.125000</td>\n",
       "    </tr>\n",
       "    <tr>\n",
       "      <th>25</th>\n",
       "      <td>tail</td>\n",
       "      <td>avg</td>\n",
       "      <td>hits_at_5</td>\n",
       "      <td>0.250000</td>\n",
       "    </tr>\n",
       "    <tr>\n",
       "      <th>26</th>\n",
       "      <td>tail</td>\n",
       "      <td>avg</td>\n",
       "      <td>hits_at_10</td>\n",
       "      <td>0.250000</td>\n",
       "    </tr>\n",
       "    <tr>\n",
       "      <th>27</th>\n",
       "      <td>tail</td>\n",
       "      <td>worst</td>\n",
       "      <td>mean_rank</td>\n",
       "      <td>1044.125000</td>\n",
       "    </tr>\n",
       "    <tr>\n",
       "      <th>28</th>\n",
       "      <td>tail</td>\n",
       "      <td>worst</td>\n",
       "      <td>mean_reciprocal_rank</td>\n",
       "      <td>0.094807</td>\n",
       "    </tr>\n",
       "    <tr>\n",
       "      <th>29</th>\n",
       "      <td>tail</td>\n",
       "      <td>worst</td>\n",
       "      <td>hits_at_1</td>\n",
       "      <td>0.000000</td>\n",
       "    </tr>\n",
       "    <tr>\n",
       "      <th>30</th>\n",
       "      <td>tail</td>\n",
       "      <td>worst</td>\n",
       "      <td>hits_at_3</td>\n",
       "      <td>0.125000</td>\n",
       "    </tr>\n",
       "    <tr>\n",
       "      <th>31</th>\n",
       "      <td>tail</td>\n",
       "      <td>worst</td>\n",
       "      <td>hits_at_5</td>\n",
       "      <td>0.250000</td>\n",
       "    </tr>\n",
       "    <tr>\n",
       "      <th>32</th>\n",
       "      <td>tail</td>\n",
       "      <td>worst</td>\n",
       "      <td>hits_at_10</td>\n",
       "      <td>0.250000</td>\n",
       "    </tr>\n",
       "    <tr>\n",
       "      <th>33</th>\n",
       "      <td>tail</td>\n",
       "      <td>best</td>\n",
       "      <td>mean_rank</td>\n",
       "      <td>1044.125000</td>\n",
       "    </tr>\n",
       "    <tr>\n",
       "      <th>34</th>\n",
       "      <td>tail</td>\n",
       "      <td>best</td>\n",
       "      <td>mean_reciprocal_rank</td>\n",
       "      <td>0.094807</td>\n",
       "    </tr>\n",
       "    <tr>\n",
       "      <th>35</th>\n",
       "      <td>tail</td>\n",
       "      <td>best</td>\n",
       "      <td>hits_at_1</td>\n",
       "      <td>0.000000</td>\n",
       "    </tr>\n",
       "    <tr>\n",
       "      <th>36</th>\n",
       "      <td>tail</td>\n",
       "      <td>best</td>\n",
       "      <td>hits_at_3</td>\n",
       "      <td>0.125000</td>\n",
       "    </tr>\n",
       "    <tr>\n",
       "      <th>37</th>\n",
       "      <td>tail</td>\n",
       "      <td>best</td>\n",
       "      <td>hits_at_5</td>\n",
       "      <td>0.250000</td>\n",
       "    </tr>\n",
       "    <tr>\n",
       "      <th>38</th>\n",
       "      <td>tail</td>\n",
       "      <td>best</td>\n",
       "      <td>hits_at_10</td>\n",
       "      <td>0.250000</td>\n",
       "    </tr>\n",
       "    <tr>\n",
       "      <th>39</th>\n",
       "      <td>head</td>\n",
       "      <td>avg</td>\n",
       "      <td>mean_rank</td>\n",
       "      <td>1009.125000</td>\n",
       "    </tr>\n",
       "    <tr>\n",
       "      <th>40</th>\n",
       "      <td>head</td>\n",
       "      <td>avg</td>\n",
       "      <td>mean_reciprocal_rank</td>\n",
       "      <td>0.094610</td>\n",
       "    </tr>\n",
       "    <tr>\n",
       "      <th>41</th>\n",
       "      <td>head</td>\n",
       "      <td>avg</td>\n",
       "      <td>hits_at_1</td>\n",
       "      <td>0.000000</td>\n",
       "    </tr>\n",
       "    <tr>\n",
       "      <th>42</th>\n",
       "      <td>head</td>\n",
       "      <td>avg</td>\n",
       "      <td>hits_at_3</td>\n",
       "      <td>0.125000</td>\n",
       "    </tr>\n",
       "    <tr>\n",
       "      <th>43</th>\n",
       "      <td>head</td>\n",
       "      <td>avg</td>\n",
       "      <td>hits_at_5</td>\n",
       "      <td>0.250000</td>\n",
       "    </tr>\n",
       "    <tr>\n",
       "      <th>44</th>\n",
       "      <td>head</td>\n",
       "      <td>avg</td>\n",
       "      <td>hits_at_10</td>\n",
       "      <td>0.250000</td>\n",
       "    </tr>\n",
       "    <tr>\n",
       "      <th>45</th>\n",
       "      <td>head</td>\n",
       "      <td>worst</td>\n",
       "      <td>mean_rank</td>\n",
       "      <td>1009.125000</td>\n",
       "    </tr>\n",
       "    <tr>\n",
       "      <th>46</th>\n",
       "      <td>head</td>\n",
       "      <td>worst</td>\n",
       "      <td>mean_reciprocal_rank</td>\n",
       "      <td>0.094610</td>\n",
       "    </tr>\n",
       "    <tr>\n",
       "      <th>47</th>\n",
       "      <td>head</td>\n",
       "      <td>worst</td>\n",
       "      <td>hits_at_1</td>\n",
       "      <td>0.000000</td>\n",
       "    </tr>\n",
       "    <tr>\n",
       "      <th>48</th>\n",
       "      <td>head</td>\n",
       "      <td>worst</td>\n",
       "      <td>hits_at_3</td>\n",
       "      <td>0.125000</td>\n",
       "    </tr>\n",
       "    <tr>\n",
       "      <th>49</th>\n",
       "      <td>head</td>\n",
       "      <td>worst</td>\n",
       "      <td>hits_at_5</td>\n",
       "      <td>0.250000</td>\n",
       "    </tr>\n",
       "    <tr>\n",
       "      <th>50</th>\n",
       "      <td>head</td>\n",
       "      <td>worst</td>\n",
       "      <td>hits_at_10</td>\n",
       "      <td>0.250000</td>\n",
       "    </tr>\n",
       "    <tr>\n",
       "      <th>51</th>\n",
       "      <td>head</td>\n",
       "      <td>best</td>\n",
       "      <td>mean_rank</td>\n",
       "      <td>1009.125000</td>\n",
       "    </tr>\n",
       "    <tr>\n",
       "      <th>52</th>\n",
       "      <td>head</td>\n",
       "      <td>best</td>\n",
       "      <td>mean_reciprocal_rank</td>\n",
       "      <td>0.094610</td>\n",
       "    </tr>\n",
       "    <tr>\n",
       "      <th>53</th>\n",
       "      <td>head</td>\n",
       "      <td>best</td>\n",
       "      <td>hits_at_1</td>\n",
       "      <td>0.000000</td>\n",
       "    </tr>\n",
       "    <tr>\n",
       "      <th>54</th>\n",
       "      <td>head</td>\n",
       "      <td>best</td>\n",
       "      <td>hits_at_3</td>\n",
       "      <td>0.125000</td>\n",
       "    </tr>\n",
       "    <tr>\n",
       "      <th>55</th>\n",
       "      <td>head</td>\n",
       "      <td>best</td>\n",
       "      <td>hits_at_5</td>\n",
       "      <td>0.250000</td>\n",
       "    </tr>\n",
       "    <tr>\n",
       "      <th>56</th>\n",
       "      <td>head</td>\n",
       "      <td>best</td>\n",
       "      <td>hits_at_10</td>\n",
       "      <td>0.250000</td>\n",
       "    </tr>\n",
       "  </tbody>\n",
       "</table>\n",
       "</div>"
      ],
      "text/plain": [
       "    Side   Type                Metric        Value\n",
       "0   both    avg    adjusted_mean_rank     0.653119\n",
       "1   tail    avg    adjusted_mean_rank     0.664207\n",
       "2   head    avg    adjusted_mean_rank     0.642031\n",
       "3   both    avg             mean_rank  1026.625000\n",
       "4   both    avg  mean_reciprocal_rank     0.094709\n",
       "5   both    avg             hits_at_1     0.000000\n",
       "6   both    avg             hits_at_3     0.125000\n",
       "7   both    avg             hits_at_5     0.250000\n",
       "8   both    avg            hits_at_10     0.250000\n",
       "9   both  worst             mean_rank  1026.625000\n",
       "10  both  worst  mean_reciprocal_rank     0.094709\n",
       "11  both  worst             hits_at_1     0.000000\n",
       "12  both  worst             hits_at_3     0.125000\n",
       "13  both  worst             hits_at_5     0.250000\n",
       "14  both  worst            hits_at_10     0.250000\n",
       "15  both   best             mean_rank  1026.625000\n",
       "16  both   best  mean_reciprocal_rank     0.094709\n",
       "17  both   best             hits_at_1     0.000000\n",
       "18  both   best             hits_at_3     0.125000\n",
       "19  both   best             hits_at_5     0.250000\n",
       "20  both   best            hits_at_10     0.250000\n",
       "21  tail    avg             mean_rank  1044.125000\n",
       "22  tail    avg  mean_reciprocal_rank     0.094807\n",
       "23  tail    avg             hits_at_1     0.000000\n",
       "24  tail    avg             hits_at_3     0.125000\n",
       "25  tail    avg             hits_at_5     0.250000\n",
       "26  tail    avg            hits_at_10     0.250000\n",
       "27  tail  worst             mean_rank  1044.125000\n",
       "28  tail  worst  mean_reciprocal_rank     0.094807\n",
       "29  tail  worst             hits_at_1     0.000000\n",
       "30  tail  worst             hits_at_3     0.125000\n",
       "31  tail  worst             hits_at_5     0.250000\n",
       "32  tail  worst            hits_at_10     0.250000\n",
       "33  tail   best             mean_rank  1044.125000\n",
       "34  tail   best  mean_reciprocal_rank     0.094807\n",
       "35  tail   best             hits_at_1     0.000000\n",
       "36  tail   best             hits_at_3     0.125000\n",
       "37  tail   best             hits_at_5     0.250000\n",
       "38  tail   best            hits_at_10     0.250000\n",
       "39  head    avg             mean_rank  1009.125000\n",
       "40  head    avg  mean_reciprocal_rank     0.094610\n",
       "41  head    avg             hits_at_1     0.000000\n",
       "42  head    avg             hits_at_3     0.125000\n",
       "43  head    avg             hits_at_5     0.250000\n",
       "44  head    avg            hits_at_10     0.250000\n",
       "45  head  worst             mean_rank  1009.125000\n",
       "46  head  worst  mean_reciprocal_rank     0.094610\n",
       "47  head  worst             hits_at_1     0.000000\n",
       "48  head  worst             hits_at_3     0.125000\n",
       "49  head  worst             hits_at_5     0.250000\n",
       "50  head  worst            hits_at_10     0.250000\n",
       "51  head   best             mean_rank  1009.125000\n",
       "52  head   best  mean_reciprocal_rank     0.094610\n",
       "53  head   best             hits_at_1     0.000000\n",
       "54  head   best             hits_at_3     0.125000\n",
       "55  head   best             hits_at_5     0.250000\n",
       "56  head   best            hits_at_10     0.250000"
      ]
     },
     "execution_count": 275,
     "metadata": {},
     "output_type": "execute_result"
    }
   ],
   "source": [
    "result.metric_results.to_df()"
   ]
  },
  {
   "cell_type": "code",
   "execution_count": 276,
   "metadata": {},
   "outputs": [
    {
     "data": {
      "text/plain": [
       "TransE(\n",
       "  (loss): MarginRankingLoss()\n",
       "  (regularizer): NoRegularizer()\n",
       "  (entity_embeddings): Embedding(\n",
       "    (_embeddings): Embedding(3143, 50)\n",
       "  )\n",
       "  (relation_embeddings): Embedding(\n",
       "    (_embeddings): Embedding(726, 50)\n",
       "  )\n",
       ")"
      ]
     },
     "execution_count": 276,
     "metadata": {},
     "output_type": "execute_result"
    }
   ],
   "source": [
    "model"
   ]
  },
  {
   "cell_type": "markdown",
   "metadata": {},
   "source": [
    "##Turn it around: make predictions"
   ]
  },
  {
   "cell_type": "code",
   "execution_count": 277,
   "metadata": {},
   "outputs": [
    {
     "name": "stderr",
     "output_type": "stream",
     "text": [
      "WARNING:pykeen.triples.triples_factory:Could not import module `word_cloud`. Try installing it with `pip install git+https://github.com/kavgan/word_cloud.git`\n"
     ]
    }
   ],
   "source": [
    "tf.entity_word_cloud()"
   ]
  },
  {
   "cell_type": "code",
   "execution_count": 278,
   "metadata": {},
   "outputs": [
    {
     "name": "stderr",
     "output_type": "stream",
     "text": [
      "WARNING:pykeen.triples.triples_factory:Could not import module `word_cloud`. Try installing it with `pip install git+https://github.com/kavgan/word_cloud.git`\n"
     ]
    }
   ],
   "source": [
    "\n",
    "tf.relation_word_cloud()"
   ]
  },
  {
   "cell_type": "code",
   "execution_count": 279,
   "metadata": {
    "scrolled": true
   },
   "outputs": [
    {
     "ename": "KeyError",
     "evalue": "'surgical pioneer Denton Cooley'",
     "output_type": "error",
     "traceback": [
      "\u001b[1;31m---------------------------------------------------------------------------\u001b[0m",
      "\u001b[1;31mKeyError\u001b[0m                                  Traceback (most recent call last)",
      "\u001b[1;32m<ipython-input-279-abeb7c2bebb5>\u001b[0m in \u001b[0;36m<module>\u001b[1;34m\u001b[0m\n\u001b[0;32m      1\u001b[0m \u001b[1;31m# Who do we predict brazil participates in inter-governmental organizations with?\u001b[0m\u001b[1;33m\u001b[0m\u001b[1;33m\u001b[0m\u001b[1;33m\u001b[0m\u001b[0m\n\u001b[1;32m----> 2\u001b[1;33m \u001b[0mq\u001b[0m\u001b[1;33m=\u001b[0m\u001b[0mmodel\u001b[0m\u001b[1;33m.\u001b[0m\u001b[0mget_tail_prediction_df\u001b[0m\u001b[1;33m(\u001b[0m\u001b[0mhead_label\u001b[0m \u001b[1;33m=\u001b[0m\u001b[1;34m'surgical pioneer Denton Cooley'\u001b[0m\u001b[1;33m,\u001b[0m \u001b[0mrelation_label\u001b[0m\u001b[1;33m=\u001b[0m\u001b[1;34m'performed'\u001b[0m\u001b[1;33m,\u001b[0m\u001b[0mremove_known\u001b[0m\u001b[1;33m=\u001b[0m \u001b[1;32mTrue\u001b[0m\u001b[1;33m)\u001b[0m\u001b[1;33m\u001b[0m\u001b[1;33m\u001b[0m\u001b[0m\n\u001b[0m",
      "\u001b[1;32m~\\anaconda3\\lib\\site-packages\\pykeen\\models\\base.py\u001b[0m in \u001b[0;36mget_tail_prediction_df\u001b[1;34m(self, head_label, relation_label, **kwargs)\u001b[0m\n\u001b[0;32m    499\u001b[0m         \u001b[1;32mfrom\u001b[0m \u001b[1;33m.\u001b[0m\u001b[0mpredict\u001b[0m \u001b[1;32mimport\u001b[0m \u001b[0mget_tail_prediction_df\u001b[0m\u001b[1;33m\u001b[0m\u001b[1;33m\u001b[0m\u001b[0m\n\u001b[0;32m    500\u001b[0m         \u001b[0mwarnings\u001b[0m\u001b[1;33m.\u001b[0m\u001b[0mwarn\u001b[0m\u001b[1;33m(\u001b[0m\u001b[1;34m'Use pykeen.models.predict.get_tail_prediction_df'\u001b[0m\u001b[1;33m,\u001b[0m \u001b[0mDeprecationWarning\u001b[0m\u001b[1;33m)\u001b[0m\u001b[1;33m\u001b[0m\u001b[1;33m\u001b[0m\u001b[0m\n\u001b[1;32m--> 501\u001b[1;33m         \u001b[1;32mreturn\u001b[0m \u001b[0mget_tail_prediction_df\u001b[0m\u001b[1;33m(\u001b[0m\u001b[0mself\u001b[0m\u001b[1;33m,\u001b[0m \u001b[0mhead_label\u001b[0m\u001b[1;33m=\u001b[0m\u001b[0mhead_label\u001b[0m\u001b[1;33m,\u001b[0m \u001b[0mrelation_label\u001b[0m\u001b[1;33m=\u001b[0m\u001b[0mrelation_label\u001b[0m\u001b[1;33m,\u001b[0m \u001b[1;33m**\u001b[0m\u001b[0mkwargs\u001b[0m\u001b[1;33m)\u001b[0m\u001b[1;33m\u001b[0m\u001b[1;33m\u001b[0m\u001b[0m\n\u001b[0m\u001b[0;32m    502\u001b[0m \u001b[1;33m\u001b[0m\u001b[0m\n\u001b[0;32m    503\u001b[0m     \u001b[1;34m\"\"\"Inverse scoring\"\"\"\u001b[0m\u001b[1;33m\u001b[0m\u001b[1;33m\u001b[0m\u001b[0m\n",
      "\u001b[1;32m~\\anaconda3\\lib\\site-packages\\pykeen\\models\\predict.py\u001b[0m in \u001b[0;36mget_tail_prediction_df\u001b[1;34m(model, head_label, relation_label, add_novelties, remove_known, testing)\u001b[0m\n\u001b[0;32m    123\u001b[0m     \u001b[1;33m>>\u001b[0m\u001b[1;33m>\u001b[0m \u001b[0mdf\u001b[0m \u001b[1;33m=\u001b[0m \u001b[0mget_tail_prediction_df\u001b[0m\u001b[1;33m(\u001b[0m\u001b[0mresult\u001b[0m\u001b[1;33m.\u001b[0m\u001b[0mmodel\u001b[0m\u001b[1;33m,\u001b[0m \u001b[1;34m'brazil'\u001b[0m\u001b[1;33m,\u001b[0m \u001b[1;34m'accusation'\u001b[0m\u001b[1;33m)\u001b[0m\u001b[1;33m\u001b[0m\u001b[1;33m\u001b[0m\u001b[0m\n\u001b[0;32m    124\u001b[0m     \"\"\"\n\u001b[1;32m--> 125\u001b[1;33m     \u001b[0mhead_id\u001b[0m \u001b[1;33m=\u001b[0m \u001b[0mmodel\u001b[0m\u001b[1;33m.\u001b[0m\u001b[0mtriples_factory\u001b[0m\u001b[1;33m.\u001b[0m\u001b[0mentity_to_id\u001b[0m\u001b[1;33m[\u001b[0m\u001b[0mhead_label\u001b[0m\u001b[1;33m]\u001b[0m\u001b[1;33m\u001b[0m\u001b[1;33m\u001b[0m\u001b[0m\n\u001b[0m\u001b[0;32m    126\u001b[0m     \u001b[0mrelation_id\u001b[0m \u001b[1;33m=\u001b[0m \u001b[0mmodel\u001b[0m\u001b[1;33m.\u001b[0m\u001b[0mtriples_factory\u001b[0m\u001b[1;33m.\u001b[0m\u001b[0mrelation_to_id\u001b[0m\u001b[1;33m[\u001b[0m\u001b[0mrelation_label\u001b[0m\u001b[1;33m]\u001b[0m\u001b[1;33m\u001b[0m\u001b[1;33m\u001b[0m\u001b[0m\n\u001b[0;32m    127\u001b[0m     \u001b[0mbatch\u001b[0m \u001b[1;33m=\u001b[0m \u001b[0mtorch\u001b[0m\u001b[1;33m.\u001b[0m\u001b[0mas_tensor\u001b[0m\u001b[1;33m(\u001b[0m\u001b[1;33m[\u001b[0m\u001b[1;33m[\u001b[0m\u001b[0mhead_id\u001b[0m\u001b[1;33m,\u001b[0m \u001b[0mrelation_id\u001b[0m\u001b[1;33m]\u001b[0m\u001b[1;33m]\u001b[0m\u001b[1;33m,\u001b[0m \u001b[0mdtype\u001b[0m\u001b[1;33m=\u001b[0m\u001b[0mtorch\u001b[0m\u001b[1;33m.\u001b[0m\u001b[0mlong\u001b[0m\u001b[1;33m,\u001b[0m \u001b[0mdevice\u001b[0m\u001b[1;33m=\u001b[0m\u001b[0mmodel\u001b[0m\u001b[1;33m.\u001b[0m\u001b[0mdevice\u001b[0m\u001b[1;33m)\u001b[0m\u001b[1;33m\u001b[0m\u001b[1;33m\u001b[0m\u001b[0m\n",
      "\u001b[1;31mKeyError\u001b[0m: 'surgical pioneer Denton Cooley'"
     ]
    }
   ],
   "source": [
    "# Who do we predict brazil participates in inter-governmental organizations with?\n",
    "q=model.get_tail_prediction_df(head_label ='surgical pioneer Denton Cooley', relation_label='performed',remove_known= True)"
   ]
  },
  {
   "cell_type": "code",
   "execution_count": 280,
   "metadata": {},
   "outputs": [],
   "source": [
    "#q"
   ]
  },
  {
   "cell_type": "code",
   "execution_count": 281,
   "metadata": {},
   "outputs": [
    {
     "name": "stdout",
     "output_type": "stream",
     "text": [
      "     tail_id                                         tail_label      score\n",
      "440      440                     surgical pioneer Denton Cooley  -5.950322\n",
      "325      325                                          mechanism  -7.077862\n",
      "262      262                                          existence  -7.544301\n",
      "207      207                 comprehensive continuing education  -7.733488\n",
      "28        28                                             Celsus  -7.942384\n",
      "416      416                             significant proportion  -7.963131\n",
      "401      401                                recent developments  -7.967103\n",
      "426      426                                      spine surgery  -7.971506\n",
      "387      387                 pre - eclampsia following delivery  -7.993447\n",
      "190      190                                               book  -8.021110\n",
      "107      107  Northumbria Healthcare NHS Foundation Trust No...  -8.047964\n",
      "120      120                                           Patients  -8.051235\n",
      "293      293                                              ideas  -8.054929\n",
      "106      106        Northumbria Healthcare NHS Foundation Trust  -8.070271\n",
      "122      122                                      Peter Medawar  -8.074262\n",
      "379      379                               physical examination  -8.077537\n",
      "29        29                          Certain infectious agents  -8.085601\n",
      "113      113                                       Optometrists  -8.113939\n",
      "392      392                                         procedures  -8.114587\n",
      "153      153                        Total postgraduate training  -8.163985\n",
      "136      136                                   Skilled midwives  -8.191007\n",
      "147      147  The Optometrists Board of the Supplementary Me...  -8.231833\n",
      "13        13                                             A.O.I.  -8.232464\n",
      "33        33                                  Chronic leukemias  -8.239689\n",
      "183      183                                          attention  -8.243629\n",
      "173      173                                           advances  -8.257032\n",
      "271      271                                              field  -8.270628\n",
      "64        64                      Hospital Guide 2013.The Trust  -8.271748\n",
      "189      189                                  blood circulation  -8.299121\n",
      "139      139                                   Tadeusz Krwawicz  -8.307859\n",
      "418      418  single dual qualified oral maxillofacial surgeons  -8.328783\n",
      "433      433                               successful treatment  -8.332704\n",
      "187      187                                  benefit component  -8.334539\n",
      "4          4                              1880s mortality rates  -8.368357\n",
      "73        73                                     Jacques Daviel  -8.383728\n",
      "274      274                                         five years  -8.388575\n",
      "441      441                                surgical treatments  -8.390009\n",
      "473      473                                              woman  -8.396331\n",
      "220      220                                  definite interest  -8.412836\n",
      "32        32                                 Christiaan Barnard  -8.434221\n",
      "17        17                                Alcohol consumption  -8.463279\n",
      "126      126                         Professional organizations  -8.465386\n",
      "425      425                                      spine fusions  -8.467914\n",
      "249      249                                            elderly  -8.471755\n",
      "269      269                                   fertility clinic  -8.494485\n",
      "197      197                           certain low paid workers  -8.495323\n",
      "436      436                                         surfactant  -8.500797\n",
      "342      342                                             muscle  -8.515863\n",
      "229      229                                         department  -8.520393\n",
      "431      431                                 subsidiary company  -8.525435\n",
      "215      215                                        course work  -8.537954\n",
      "374      374                                   patient recovery  -8.540624\n",
      "127      127                       Professor Ioannis Pallikaris  -8.560733\n",
      "7          7                                            3 years  -8.567398\n",
      "138      138                                           Sushruta  -8.580423\n",
      "208      208             comprehensive optical medical eye care  -8.581320\n",
      "414      414                              seven optical muscles  -8.591635\n",
      "407      407                                          residents  -8.593609\n",
      "80        80                                    LASIK procedure  -8.598677\n",
      "388      388                                          pregnancy  -8.604911\n",
      "352      352                           neurosurgical conditions  -8.607570\n",
      "2          2                                           11th ADA  -8.608184\n",
      "101      101                                         Nephrology  -8.615823\n",
      "211      211                                      contributions  -8.625359\n",
      "155      155                                    Transplantation  -8.634708\n",
      "471      471                            wholly owned subsidiary  -8.638549\n",
      "178      178                                              array  -8.639897\n",
      "404      404                              representative leader  -8.640881\n",
      "152      152                                    Thyroid disease  -8.649520\n",
      "18        18                       American Medical Association  -8.651625\n",
      "444      444                                    tax liabilities  -8.652359\n",
      "132      132                                     Richard Canton  -8.656061\n",
      "281      281                                         gamma rays  -8.662518\n",
      "346      346             national written practical board exams  -8.664894\n",
      "357      357                                    numerous awards  -8.671049\n",
      "223      223                                            degrees  -8.672709\n",
      "355      355                                   normal gestation  -8.673545\n",
      "30        30                                 Certain techniques  -8.685776\n",
      "193      193                                               care  -8.701904\n",
      "298      298                                     increased rate  -8.709644\n",
      "364      364                                        optometrist  -8.734805\n",
      "180      180                                            aspects  -8.745054\n",
      "474      474                                    work experience  -8.749933\n",
      "227      227                         dental practice parameters  -8.756099\n",
      "79        79                     King Edward Medical University  -8.758230\n",
      "356      356                                             number  -8.761164\n",
      "343      343                                      muscle fibers  -8.768419\n",
      "254      254               endovascular image guided procedures  -8.770947\n",
      "322      322                                  level 1 hospitals  -8.790242\n",
      "361      361                                   ophthalmologists  -8.791709\n",
      "373      373                                            patient  -8.792595\n",
      "279      279                                free periodic tests  -8.796936\n",
      "71        71                                    Isra University  -8.805122\n",
      "459      459                             transplant experiments  -8.806260\n",
      "309      309                                          invention  -8.807132\n",
      "386      386                                      practitioners  -8.807524\n",
      "35        35                              Clinical developments  -8.813519\n",
      "74        74                                  James Marion Sims  -8.829959\n",
      "54        54                   Experienced OB-GYN professionals  -8.830668\n",
      "42        42                              De Curtorum Chirurgia  -8.838811\n",
      "266      266                                             father  -8.850422\n",
      "359      359                ophthalmologist Albrecht von Graefe  -8.853517\n",
      "331      331                                        microscopes  -8.854579\n",
      "307      307                                       introduction  -8.855386\n",
      "291      291                                            history  -8.868660\n",
      "75        75                  James Marion Sims surgical skills  -8.872673\n",
      "363      363                           optical medical eye care  -8.876395\n",
      "337      337                                     modern concept  -8.880493\n",
      "163      163                                               Wald  -8.886188\n",
      "195      195                                certain authorities  -8.897120\n",
      "456      456                                      time sequence  -8.903595\n",
      "365      365                                   optometry school  -8.924809\n",
      "469      469                                 vision development  -8.927439\n",
      "66        66                                  Ignacio Barraquer  -8.934293\n",
      "432      432          successful deceased donor lung transplant  -8.956334\n",
      "92        92                                            Members  -8.961154\n",
      "146      146                        The National Health Service  -8.961721\n",
      "86        86                                              Lupus  -8.961816\n",
      "62        62                     Hellenic Ministry of Education  -8.970779\n",
      "303      303                  infective developmental aetiology  -8.974854\n",
      "203      203                                   common bone scan  -8.980039\n",
      "179      179                                             aspect  -8.981036\n",
      "289      289                                   heart transplant  -8.982286\n",
      "301      301                                        individuals  -8.993795\n",
      "280      280                                   free sight tests  -8.997759\n",
      "161      161                                               UNOS  -8.999553\n",
      "38        38                              Common tissue samples  -9.002509\n",
      "85        85                                      Louis Pasteur  -9.004874\n",
      "202      202                       chronic lymphocytic leukemia  -9.005993\n",
      "434      434                                             suffix  -9.009237\n",
      "112      112              Optometric Association of Philippines  -9.017991\n",
      "36        36                                  Clinical training  -9.018731\n",
      "40        40                                             Cornea  -9.018747\n",
      "217      217                                           criteria  -9.018787\n",
      "69        69                                 Ioannis Pallikaris  -9.025895\n",
      "212      212                              contributory benefits  -9.027023\n",
      "438      438                                            surgery  -9.032222\n",
      "143      143                           The American Kidney Fund  -9.035583\n",
      "104      104                                       Neuroscience  -9.052226\n",
      "259      259                                      establishment  -9.058707\n",
      "222      222                                     degree program  -9.058751\n",
      "250      250                                 electrical signals  -9.063454\n",
      "429      429                                            studies  -9.063910\n",
      "242      242                             donor submental artery  -9.071067\n",
      "394      394                                         profession  -9.074737\n",
      "225      225                                      demonstration  -9.080060\n",
      "148      148                    The Transplant Ethics Committee  -9.081037\n",
      "226      226                              dental oral condition  -9.085861\n",
      "164      164                                     William Harvey  -9.100203\n",
      "446      446                       the 'Société de Néphrologie'  -9.113921\n",
      "52        52                                           Examples  -9.117796\n",
      "273      273                                  financial support  -9.122129\n",
      "419      419                                               site  -9.132244\n",
      "257      257                                                era  -9.144484\n",
      "372      372                                           partners  -9.144585\n",
      "47        47                             Dr. Varaztad Kazanjian  -9.147491\n",
      "121      121                                        Performance  -9.152016\n",
      "218      218                                          cryoprobe  -9.152884\n",
      "480      480                            year residency training  -9.154900\n",
      "375      375                                           patients  -9.155753\n",
      "358      358               online National Insurance Calculator  -9.159702\n",
      "82        82                  La Salle University first Faculty  -9.164520\n",
      "170      170                                  additional degree  -9.167573\n",
      "247      247                                          education  -9.171947\n",
      "142      142                                   The 19th century  -9.174673\n",
      "482      482                                        £75 million  -9.178862\n",
      "20        20                                          Aristotle  -9.180652\n",
      "391      391                                          procedure  -9.185371\n",
      "251      251                                          emergence  -9.185946\n",
      "366      366                                      oral medicine  -9.186062\n",
      "390      390                                           problems  -9.186558\n",
      "248      248                                     effective dose  -9.192063\n",
      "283      283                                    gestational sac  -9.195761\n",
      "186      186                                            benefit  -9.196856\n",
      "477      477                                    year internship  -9.205101\n",
      "58        58                                   General Hospital  -9.209771\n",
      "16        16                                         Al-Zahrawi  -9.214486\n",
      "461      461                                          treatment  -9.216105\n",
      "347      347                                      nephrologists  -9.216327\n",
      "191      191                                    broad knowledge  -9.236598\n",
      "447      447                      the Australian Dental Council  -9.241097\n",
      "0          0                            \"FRCDC\"\".Some colleges\"  -9.242187\n",
      "460      460                              transplant recipients  -9.247464\n",
      "310      310                                        involvement  -9.258329\n",
      "324      324                                               lump  -9.262683\n",
      "408      408                                          resources  -9.272151\n",
      "37        37                              Common eye conditions  -9.275587\n",
      "177      177                                        application  -9.277645\n",
      "166      166                            a few thousand years BC  -9.278971\n",
      "8          8                                                 35  -9.279579\n",
      "245      245                         ear ear canal inflammation  -9.279808\n",
      "278      278                       four-year residency programs  -9.280330\n",
      "396      396                                         publishers  -9.284289\n",
      "244      244                                 dual qualification  -9.288859\n",
      "231      231                           diagnostic radionuclides  -9.289822\n",
      "243      243                                             donors  -9.310183\n",
      "381      381                                    plastic surgery  -9.311342\n",
      "116      116                                             Organs  -9.313822\n",
      "93        93                   Minimally invasive spine surgery  -9.320167\n",
      "154      154                                           Training  -9.325483\n",
      "282      282                               gestational diabetes  -9.329562\n",
      "162      162                               University of Ulster  -9.330606\n",
      "43        43                        Doctor of Optometry Program  -9.334340\n",
      "90        90                                    MSc PhD degrees  -9.334911\n",
      "351      351                              neurosurgeon training  -9.336194\n",
      "475      475                 world human human heart transplant  -9.342812\n",
      "221      221                                             degree  -9.349984\n",
      "72        72                             Isra University Lahore  -9.350778\n",
      "205      205                            complex instrumentation  -9.351120\n",
      "235      235                                         difficulty  -9.355039\n",
      "129      129                                        Regulations  -9.356614\n",
      "315      315                              lactate dehydrogenase  -9.365669\n",
      "435      435                                            support  -9.368068\n",
      "158      158                                Twelve universities  -9.369322\n",
      "265      265                                    fasting glucose  -9.377615\n",
      "256      256                                              entry  -9.378484\n",
      "353      353                                    new optometrist  -9.380252\n",
      "393      393                                            process  -9.380770\n",
      "45        45                               Doctors of Optometry  -9.383115\n",
      "297      297                   increased physiological function  -9.385692\n",
      "165      165                                              Women  -9.385857\n",
      "348      348                                         nephrology  -9.392246\n",
      "312      312                                             kidney  -9.400589\n",
      "308      308                                   invasive testing  -9.406531\n",
      "95        95                                   Multiple lesions  -9.408477\n",
      "171      171                    additional specialized training  -9.410027\n",
      "267      267                                         fellowship  -9.410590\n",
      "70        70                                               Iran  -9.413011\n",
      "5          5                                        2010 police  -9.415658\n",
      "319      319                                       legal market  -9.416463\n",
      "109      109                                                 OD  -9.416838\n",
      "305      305                                           interest  -9.422006\n",
      "224      224                                             demand  -9.422951\n",
      "210      210                                consultative status  -9.427339\n",
      "316      316                                lamellar techniques  -9.427556\n",
      "284      284                         graduating ophthalmologist  -9.428457\n",
      "455      455                      tiered service delivery level  -9.430201\n",
      "399      399                                radiopharmaceutical  -9.432907\n",
      "252      252                             employee contributions  -9.435173\n",
      "481      481                                              years  -9.444608\n",
      "448      448                               the Barraquer Clinic  -9.447625\n",
      "150      150                                      Theodor Leber  -9.450919\n",
      "22        22                           Brain Computer Interface  -9.456061\n",
      "87        87                                           Lymphoma  -9.470912\n",
      "140      140                                        Taro Takemi  -9.474298\n",
      "10        10                        5 gracilis vascular pedicle  -9.476269\n",
      "350      350                                       neurosurgeon  -9.476742\n",
      "241      241                                donor cornea tissue  -9.480766\n",
      "41        41                                             D.M.D.  -9.485985\n",
      "264      264                                        experiments  -9.492170\n",
      "188      188                                benefit entitlement  -9.497539\n",
      "65        65                                        Igersheimer  -9.504480\n",
      "253      253                                           employer  -9.508164\n",
      "182      182                                at least five years  -9.511350\n",
      "219      219                              deceased organ donors  -9.512414\n",
      "239      239                                       distribution  -9.512665\n",
      "406      406                                 residency programs  -9.519147\n",
      "296      296                            increased concentration  -9.520823\n",
      "204      204                                         completion  -9.520924\n",
      "145      145                   The Ghana Optometric Association  -9.521774\n",
      "63        63                                   Hodgkin lymphoma  -9.525199\n",
      "78        78                       Kidney disease organizations  -9.529967\n",
      "400      400                                   randomised trial  -9.534211\n",
      "360      360                        ophthalmologist Eduard Zirm  -9.535618\n",
      "81        81                                La Salle University  -9.535687\n",
      "59        59                               General neurosurgery  -9.536617\n",
      "206      206                                          component  -9.544364\n",
      "114      114                                          Optometry  -9.545946\n",
      "233      233                                   different groups  -9.557441\n",
      "314      314                                           labeling  -9.557734\n",
      "317      317  laser assisted intrastromal keratomileusis LAS...  -9.563111\n",
      "367      367                             oral medicine programs  -9.566669\n",
      "88        88                                 MBBS qualification  -9.567287\n",
      "50        50               Endovascular surgical neuroradiology  -9.569666\n",
      "277      277                                         four years  -9.575861\n",
      "336      336                                      modern clinic  -9.579404\n",
      "68        68                                     Indian surgeon  -9.588855\n",
      "57        57                                         Gabapentin  -9.589623\n",
      "230      230                               detailed description  -9.590487\n",
      "260      260                                              event  -9.596778\n",
      "263      263                                          expansion  -9.597240\n",
      "201      201                                            chisels  -9.606617\n",
      "141      141                                 Tertiary education  -9.610053\n",
      "194      194                                        certain age  -9.612811\n",
      "330      330                                         metabolism  -9.616857\n",
      "430      430                                            subject  -9.618795\n",
      "454      454                                     three colleges  -9.621078\n",
      "119      119                                                PDF  -9.629949\n",
      "130      130                        Residency training programs  -9.630068\n",
      "176      176                                     an intern year  -9.631555\n",
      "24        24                             CBOO Brazilian Council  -9.631789\n",
      "21        21                               Blood investigations  -9.636062\n",
      "102      102                                Nephrology training  -9.638250\n",
      "326      326                                     media interest  -9.638801\n",
      "213      213                         controversial medical past  -9.653481\n",
      "472      472                          widespread media coverage  -9.655683\n",
      "443      443                                   systemic effects  -9.659853\n",
      "288      288                                heart lung donation  -9.662765\n",
      "405      405                          researcher Philip Kennedy  -9.665027\n",
      "300      300                                        indications  -9.672759\n",
      "19        19                                  American teenager  -9.688344\n",
      "383      383         post - residency sub specialty fellowships  -9.694288\n",
      "1          1                    \"The \"\"Good Samaritan\"\" kidney\"  -9.696733\n",
      "468      468                                           versions  -9.700400\n",
      "275      275                                  following outline  -9.701599\n",
      "98        98                   National Insurance contributions  -9.707218\n",
      "237      237                                        disciplines  -9.710093\n",
      "412      412                                  search capability  -9.713411\n",
      "214      214                                          countries  -9.715604\n",
      "196      196                                  certain diagnosis  -9.721379\n",
      "209      209      computer assisted imaging computed tomography  -9.721601\n",
      "476      476                                        year degree  -9.734862\n",
      "354      354                                      new treatment  -9.735776\n",
      "421      421                                               sort  -9.740829\n",
      "185      185                                          beginning  -9.747430\n",
      "53        53                   Experienced OB GYN professionals  -9.748772\n",
      "61        61                                               Hand  -9.748876\n",
      "134      134                                              Rufus  -9.751618\n",
      "428      428                                           students  -9.761049\n",
      "439      439                                surgical management  -9.784984\n",
      "39        39                                        Consultants  -9.808188\n",
      "49        49                                        ENT surgery  -9.812628\n",
      "184      184                                       bacteriology  -9.816941\n",
      "332      332                                           midwives  -9.817603\n",
      "449      449                                the British Library  -9.818202\n",
      "465      465                                      understanding  -9.822786\n",
      "174      174                                    adverse effects  -9.828753\n",
      "402      402                                          recipient  -9.830643\n",
      "369      369                                             organs  -9.834244\n",
      "370      370                                            origins  -9.837301\n",
      "478      478                           year pediatric residency  -9.837766\n",
      "268      268                                        fellowships  -9.845332\n",
      "334      334                                        miscarriage  -9.849360\n",
      "103      103                             Neuroradiology methods  -9.850051\n",
      "427      427                         structured training system  -9.850878\n",
      "167      167                               accidental discovery  -9.852045\n",
      "94        94                         Modern neurosurgical tools  -9.854012\n",
      "452      452                          the University of Toronto  -9.854093\n",
      "313      313                                               kind  -9.857302\n",
      "175      175                     an American Dental Association  -9.867544\n",
      "290      290                                         historians  -9.869474\n",
      "410      410                                               role  -9.880578\n",
      "181      181                                         assessment  -9.882810\n",
      "368      368                              oral written portions  -9.890924\n",
      "67        67                           Impaired kidney function  -9.892754\n",
      "398      398                                          radiation  -9.895511\n",
      "311      311                                         iridectomy  -9.896023\n",
      "44        44                                            Doctors  -9.902518\n",
      "380      380                                              place  -9.908239\n",
      "117      117                                             Otitis  -9.914401\n",
      "26        26                                             Canada  -9.916439\n",
      "192      192                                             cancer  -9.920234\n",
      "409      409                                               risk  -9.927690\n",
      "413      413                                second blood screen  -9.928548\n",
      "124      124                        Potentially unstable spines  -9.936171\n",
      "382      382                                            portion  -9.952099\n",
      "149      149    The World Federation of Neurosurgical Societies  -9.953049\n",
      "470      470                                           vomiting  -9.953150\n",
      "91        91                     Massachusetts General Hospital  -9.962909\n",
      "31        31                       China's transplant programme  -9.969843\n",
      "151      151                                      Thomas E Bond  -9.974223\n",
      "199      199                                     certifications  -9.976254\n",
      "261      261                               excellent size match  -9.977801\n",
      "285      285                                               head  -9.978456\n",
      "160      160                       UK oral medicine specialists  -9.993667\n",
      "6          6                                  254 scintillators  -9.995576\n",
      "76        76                                     Jean Hamburger  -9.995826\n",
      "236      236                                  direct assessment -10.006520\n",
      "77        77                       Johns Hopkins Medical Center -10.008556\n",
      "306      306                               international bodies -10.017579\n",
      "378      378                             pediatric neurosurgery -10.017653\n",
      "48        48                     Dublin Institute of Technology -10.025392\n",
      "100      100                                      Nephrologists -10.030007\n",
      "466      466                                             uterus -10.037093\n",
      "46        46                                      Dr. Hasbrouck -10.037427\n",
      "415      415                              significant attention -10.041184\n",
      "14        14                                   About 100 people -10.047152\n",
      "60        60                                               HMRC -10.053686\n",
      "286      286                                       head surgeon -10.056182\n",
      "376      376                                            payment -10.059391\n",
      "135      135                        Six-year residency programs -10.060294\n",
      "84        84                                        Leeuwenhoek -10.068137\n",
      "105      105                                      Neurosurgeons -10.070847\n",
      "384      384                               postgraduate degrees -10.079233\n",
      "349      349                                       neurologists -10.083412\n",
      "83        83                       Leber's congenital amaurosis -10.091640\n",
      "287      287                                              heart -10.097088\n",
      "423      423                              specialty certificate -10.099710\n",
      "422      422                                              spate -10.107684\n",
      "321      321                                             letter -10.118250\n",
      "144      144                               The Beveridge Report -10.120532\n",
      "450      450                           the Colombian Government -10.120860\n",
      "25        25                                   Cadaveric donors -10.122147\n",
      "304      304                                  inferior outcomes -10.135571\n",
      "420      420                                             skills -10.136889\n",
      "27        27                                             Carrel -10.147943\n",
      "451      451                             the Ministry of Health -10.154099\n",
      "110      110                                  Obese individuals -10.164102\n",
      "464      464                           unacceptably high levels -10.170817\n",
      "240      240                                              donor -10.180659\n",
      "318      318                                               laws -10.182490\n",
      "377      377                             pediatric nephrologist -10.185802\n",
      "457      457                                 topical medication -10.192792\n",
      "246      246                            economist Alex Tabarrok -10.202111\n",
      "333      333                                     minimum period -10.211179\n",
      "403      403                                            release -10.220499\n",
      "328      328                                        medications -10.225245\n",
      "385      385                                           practice -10.227372\n",
      "339      339                                  more than $10,000 -10.229938\n",
      "294      294                                             impact -10.245148\n",
      "111      111                            Occupational physicians -10.252722\n",
      "395      395                                           programs -10.256189\n",
      "340      340                                  more than 30 days -10.268021\n",
      "108      108                                   Nuclear Medicine -10.272269\n",
      "327      327                 medical school adult nephrologists -10.288928\n",
      "258      258                                             errors -10.306335\n",
      "323      323                    living donor kidney transplants -10.309943\n",
      "424      424                            spinal cord compression -10.310606\n",
      "292      292            humanitarian oral maxillofacial surgery -10.311604\n",
      "479      479                                     year residency -10.327838\n",
      "320      320                              legislative reactions -10.328938\n",
      "97        97                                                NLM -10.346749\n",
      "56        56                                        Fellowships -10.350946\n",
      "344      344                                    muscular branch -10.353531\n",
      "12        12                                  99 % success rate -10.355970\n",
      "118      118                                                PAO -10.358192\n",
      "99        99                                  Nepalese citizens -10.362963\n",
      "445      445                                         techniques -10.386218\n",
      "411      411                                              rules -10.391809\n",
      "169      169                       acute lymphoblastic leukemia -10.393748\n",
      "131      131                                          Rhinology -10.394905\n",
      "397      397                                    qualifying exam -10.397326\n",
      "234      234                                    different roles -10.407638\n",
      "123      123                                  Physical medicine -10.426373\n",
      "467      467                                            variety -10.443021\n",
      "341      341                        motorized vacuum instrument -10.450426\n",
      "232      232                                dietary preparation -10.451599\n",
      "437      437                                            surgeon -10.455914\n",
      "389      389                                    present illness -10.461580\n",
      "128      128                                          Radiology -10.472775\n",
      "463      463                                               type -10.483701\n",
      "156      156                                  Treatment options -10.487750\n",
      "302      302                                         infections -10.491129\n",
      "137      137                                              Spain -10.493462\n",
      "238      238                                          discovery -10.495571\n",
      "270      270                                              fetus -10.502540\n",
      "198      198                                        certificate -10.508554\n",
      "299      299                                     increased risk -10.512968\n",
      "295      295                                           increase -10.513170\n",
      "23        23                             Brazilian optometrists -10.524917\n",
      "362      362                   ophthalmology residency programs -10.531484\n",
      "329      329                                         membership -10.553340\n",
      "157      157                                         Treatments -10.595436\n",
      "125      125                         Pre - imaging preparations -10.599834\n",
      "172      172                                additional training -10.601094\n",
      "15        15                                    Acute leukemias -10.609777\n",
      "159      159                    U.S. President Grover Cleveland -10.613070\n",
      "51        51                                        Examination -10.657451\n",
      "11        11                    7217 full-time equivalent staff -10.675090\n",
      "115      115                         Oral maxillofacial surgery -10.681581\n",
      "335      335                              mistaken descriptions -10.684341\n",
      "34        34                             Class 1A contributions -10.688420\n",
      "55        55                                               FOVS -10.688921\n",
      "338      338                                              money -10.691239\n",
      "168      168                                acquired conditions -10.747085\n",
      "453      453                     the Wenzhou Medical University -10.775564\n",
      "345      345                                  nasal dysfunction -10.776750\n",
      "255      255                                        entitlement -10.777817\n",
      "458      458                                           trainees -10.790275\n",
      "9          9                                                35% -10.803299\n",
      "371      371                                 outstanding rating -10.811035\n",
      "89        89                             MDCM).After completion -10.821076\n",
      "96        96                                 Muslim authorities -10.860488\n",
      "133      133                                              Risks -10.862572\n",
      "272      272                       final specialty examinations -10.900342\n",
      "417      417                    single dual qualified graduates -10.963632\n",
      "216      216                                        credentials -11.020517\n",
      "462      462                                 two to three years -11.024015\n",
      "442      442                                             system -11.175345\n",
      "276      276                                  four to six years -11.215145\n",
      "200      200                                       chemotherapy -11.387436\n",
      "228      228                                   dental specialty -11.438501\n"
     ]
    }
   ],
   "source": [
    "with pd.option_context('display.max_rows', None, 'display.max_columns', None):  # more options can be specified also\n",
    "    print(q)"
   ]
  },
  {
   "cell_type": "code",
   "execution_count": 282,
   "metadata": {},
   "outputs": [
    {
     "data": {
      "text/plain": [
       "tensor([[   0,  488, 1594],\n",
       "        [   1,  381,  906],\n",
       "        [   2,  458, 1869],\n",
       "        ...,\n",
       "        [3137,  349,  751],\n",
       "        [3138,  724, 3141],\n",
       "        [3139,   16, 3141]])"
      ]
     },
     "execution_count": 282,
     "metadata": {},
     "output_type": "execute_result"
    }
   ],
   "source": [
    "tf.mapped_triples.to(model.device)"
   ]
  },
  {
   "cell_type": "code",
   "execution_count": 284,
   "metadata": {},
   "outputs": [
    {
     "data": {
      "text/plain": [
       "TriplesFactory(num_entities=3143, num_relations=726, num_triples=1967, inverse_triples=False, path=\"C:\\Users\\shahz\\KG\\Untitled Folder\\train1.txt\")"
      ]
     },
     "execution_count": 284,
     "metadata": {},
     "output_type": "execute_result"
    }
   ],
   "source": [
    "tf"
   ]
  },
  {
   "cell_type": "code",
   "execution_count": 286,
   "metadata": {},
   "outputs": [
    {
     "data": {
      "text/plain": [
       "TriplesFactory(num_entities=3143, num_relations=726, num_triples=1967, inverse_triples=False, path=\"C:\\Users\\shahz\\KG\\Untitled Folder\\train1.txt\")"
      ]
     },
     "execution_count": 286,
     "metadata": {},
     "output_type": "execute_result"
    }
   ],
   "source": [
    "model.triples_factory"
   ]
  },
  {
   "cell_type": "code",
   "execution_count": 301,
   "metadata": {
    "scrolled": true
   },
   "outputs": [
    {
     "ename": "ValueError",
     "evalue": "could not convert string to float: 'neurologists'",
     "output_type": "error",
     "traceback": [
      "\u001b[1;31m---------------------------------------------------------------------------\u001b[0m",
      "\u001b[1;31mValueError\u001b[0m                                Traceback (most recent call last)",
      "\u001b[1;32m<ipython-input-301-1a4bb27a525a>\u001b[0m in \u001b[0;36m<module>\u001b[1;34m\u001b[0m\n\u001b[0;32m      1\u001b[0m \u001b[1;32mimport\u001b[0m \u001b[0mnumpy\u001b[0m \u001b[1;32mas\u001b[0m \u001b[0mnp\u001b[0m\u001b[1;33m\u001b[0m\u001b[1;33m\u001b[0m\u001b[0m\n\u001b[1;32m----> 2\u001b[1;33m \u001b[0mnp\u001b[0m\u001b[1;33m.\u001b[0m\u001b[0mloadtxt\u001b[0m\u001b[1;33m(\u001b[0m\u001b[1;34m'test1.txt'\u001b[0m\u001b[1;33m)\u001b[0m\u001b[1;33m\u001b[0m\u001b[1;33m\u001b[0m\u001b[0m\n\u001b[0m",
      "\u001b[1;32m~\\anaconda3\\lib\\site-packages\\numpy\\lib\\npyio.py\u001b[0m in \u001b[0;36mloadtxt\u001b[1;34m(fname, dtype, comments, delimiter, converters, skiprows, usecols, unpack, ndmin, encoding, max_rows)\u001b[0m\n\u001b[0;32m   1157\u001b[0m         \u001b[1;31m# converting the data\u001b[0m\u001b[1;33m\u001b[0m\u001b[1;33m\u001b[0m\u001b[1;33m\u001b[0m\u001b[0m\n\u001b[0;32m   1158\u001b[0m         \u001b[0mX\u001b[0m \u001b[1;33m=\u001b[0m \u001b[1;32mNone\u001b[0m\u001b[1;33m\u001b[0m\u001b[1;33m\u001b[0m\u001b[0m\n\u001b[1;32m-> 1159\u001b[1;33m         \u001b[1;32mfor\u001b[0m \u001b[0mx\u001b[0m \u001b[1;32min\u001b[0m \u001b[0mread_data\u001b[0m\u001b[1;33m(\u001b[0m\u001b[0m_loadtxt_chunksize\u001b[0m\u001b[1;33m)\u001b[0m\u001b[1;33m:\u001b[0m\u001b[1;33m\u001b[0m\u001b[1;33m\u001b[0m\u001b[0m\n\u001b[0m\u001b[0;32m   1160\u001b[0m             \u001b[1;32mif\u001b[0m \u001b[0mX\u001b[0m \u001b[1;32mis\u001b[0m \u001b[1;32mNone\u001b[0m\u001b[1;33m:\u001b[0m\u001b[1;33m\u001b[0m\u001b[1;33m\u001b[0m\u001b[0m\n\u001b[0;32m   1161\u001b[0m                 \u001b[0mX\u001b[0m \u001b[1;33m=\u001b[0m \u001b[0mnp\u001b[0m\u001b[1;33m.\u001b[0m\u001b[0marray\u001b[0m\u001b[1;33m(\u001b[0m\u001b[0mx\u001b[0m\u001b[1;33m,\u001b[0m \u001b[0mdtype\u001b[0m\u001b[1;33m)\u001b[0m\u001b[1;33m\u001b[0m\u001b[1;33m\u001b[0m\u001b[0m\n",
      "\u001b[1;32m~\\anaconda3\\lib\\site-packages\\numpy\\lib\\npyio.py\u001b[0m in \u001b[0;36mread_data\u001b[1;34m(chunk_size)\u001b[0m\n\u001b[0;32m   1085\u001b[0m \u001b[1;33m\u001b[0m\u001b[0m\n\u001b[0;32m   1086\u001b[0m             \u001b[1;31m# Convert each value according to its column and store\u001b[0m\u001b[1;33m\u001b[0m\u001b[1;33m\u001b[0m\u001b[1;33m\u001b[0m\u001b[0m\n\u001b[1;32m-> 1087\u001b[1;33m             \u001b[0mitems\u001b[0m \u001b[1;33m=\u001b[0m \u001b[1;33m[\u001b[0m\u001b[0mconv\u001b[0m\u001b[1;33m(\u001b[0m\u001b[0mval\u001b[0m\u001b[1;33m)\u001b[0m \u001b[1;32mfor\u001b[0m \u001b[1;33m(\u001b[0m\u001b[0mconv\u001b[0m\u001b[1;33m,\u001b[0m \u001b[0mval\u001b[0m\u001b[1;33m)\u001b[0m \u001b[1;32min\u001b[0m \u001b[0mzip\u001b[0m\u001b[1;33m(\u001b[0m\u001b[0mconverters\u001b[0m\u001b[1;33m,\u001b[0m \u001b[0mvals\u001b[0m\u001b[1;33m)\u001b[0m\u001b[1;33m]\u001b[0m\u001b[1;33m\u001b[0m\u001b[1;33m\u001b[0m\u001b[0m\n\u001b[0m\u001b[0;32m   1088\u001b[0m \u001b[1;33m\u001b[0m\u001b[0m\n\u001b[0;32m   1089\u001b[0m             \u001b[1;31m# Then pack it according to the dtype's nesting\u001b[0m\u001b[1;33m\u001b[0m\u001b[1;33m\u001b[0m\u001b[1;33m\u001b[0m\u001b[0m\n",
      "\u001b[1;32m~\\anaconda3\\lib\\site-packages\\numpy\\lib\\npyio.py\u001b[0m in \u001b[0;36m<listcomp>\u001b[1;34m(.0)\u001b[0m\n\u001b[0;32m   1085\u001b[0m \u001b[1;33m\u001b[0m\u001b[0m\n\u001b[0;32m   1086\u001b[0m             \u001b[1;31m# Convert each value according to its column and store\u001b[0m\u001b[1;33m\u001b[0m\u001b[1;33m\u001b[0m\u001b[1;33m\u001b[0m\u001b[0m\n\u001b[1;32m-> 1087\u001b[1;33m             \u001b[0mitems\u001b[0m \u001b[1;33m=\u001b[0m \u001b[1;33m[\u001b[0m\u001b[0mconv\u001b[0m\u001b[1;33m(\u001b[0m\u001b[0mval\u001b[0m\u001b[1;33m)\u001b[0m \u001b[1;32mfor\u001b[0m \u001b[1;33m(\u001b[0m\u001b[0mconv\u001b[0m\u001b[1;33m,\u001b[0m \u001b[0mval\u001b[0m\u001b[1;33m)\u001b[0m \u001b[1;32min\u001b[0m \u001b[0mzip\u001b[0m\u001b[1;33m(\u001b[0m\u001b[0mconverters\u001b[0m\u001b[1;33m,\u001b[0m \u001b[0mvals\u001b[0m\u001b[1;33m)\u001b[0m\u001b[1;33m]\u001b[0m\u001b[1;33m\u001b[0m\u001b[1;33m\u001b[0m\u001b[0m\n\u001b[0m\u001b[0;32m   1088\u001b[0m \u001b[1;33m\u001b[0m\u001b[0m\n\u001b[0;32m   1089\u001b[0m             \u001b[1;31m# Then pack it according to the dtype's nesting\u001b[0m\u001b[1;33m\u001b[0m\u001b[1;33m\u001b[0m\u001b[1;33m\u001b[0m\u001b[0m\n",
      "\u001b[1;32m~\\anaconda3\\lib\\site-packages\\numpy\\lib\\npyio.py\u001b[0m in \u001b[0;36mfloatconv\u001b[1;34m(x)\u001b[0m\n\u001b[0;32m    792\u001b[0m         \u001b[1;32mif\u001b[0m \u001b[1;34m'0x'\u001b[0m \u001b[1;32min\u001b[0m \u001b[0mx\u001b[0m\u001b[1;33m:\u001b[0m\u001b[1;33m\u001b[0m\u001b[1;33m\u001b[0m\u001b[0m\n\u001b[0;32m    793\u001b[0m             \u001b[1;32mreturn\u001b[0m \u001b[0mfloat\u001b[0m\u001b[1;33m.\u001b[0m\u001b[0mfromhex\u001b[0m\u001b[1;33m(\u001b[0m\u001b[0mx\u001b[0m\u001b[1;33m)\u001b[0m\u001b[1;33m\u001b[0m\u001b[1;33m\u001b[0m\u001b[0m\n\u001b[1;32m--> 794\u001b[1;33m         \u001b[1;32mreturn\u001b[0m \u001b[0mfloat\u001b[0m\u001b[1;33m(\u001b[0m\u001b[0mx\u001b[0m\u001b[1;33m)\u001b[0m\u001b[1;33m\u001b[0m\u001b[1;33m\u001b[0m\u001b[0m\n\u001b[0m\u001b[0;32m    795\u001b[0m \u001b[1;33m\u001b[0m\u001b[0m\n\u001b[0;32m    796\u001b[0m     \u001b[0mtyp\u001b[0m \u001b[1;33m=\u001b[0m \u001b[0mdtype\u001b[0m\u001b[1;33m.\u001b[0m\u001b[0mtype\u001b[0m\u001b[1;33m\u001b[0m\u001b[1;33m\u001b[0m\u001b[0m\n",
      "\u001b[1;31mValueError\u001b[0m: could not convert string to float: 'neurologists'"
     ]
    }
   ],
   "source": [
    "import numpy as np\n",
    "np.loadtxt('test1.txt')"
   ]
  },
  {
   "cell_type": "code",
   "execution_count": 303,
   "metadata": {},
   "outputs": [],
   "source": [
    "from pykeen.triples import TriplesFactory\n",
    "test_tf=TriplesFactory.from_path('test1.txt')"
   ]
  },
  {
   "cell_type": "code",
   "execution_count": null,
   "metadata": {},
   "outputs": [],
   "source": []
  },
  {
   "cell_type": "code",
   "execution_count": 285,
   "metadata": {},
   "outputs": [
    {
     "name": "stderr",
     "output_type": "stream",
     "text": [
      "WARNING:pykeen.models.predict:_predict is an expensive operation, involving 7171753974 score evaluations.\n"
     ]
    },
    {
     "ename": "KeyboardInterrupt",
     "evalue": "",
     "output_type": "error",
     "traceback": [
      "\u001b[1;31m---------------------------------------------------------------------------\u001b[0m",
      "\u001b[1;31mKeyboardInterrupt\u001b[0m                         Traceback (most recent call last)",
      "\u001b[1;32m<ipython-input-285-a3b93edb9698>\u001b[0m in \u001b[0;36m<module>\u001b[1;34m\u001b[0m\n\u001b[1;32m----> 1\u001b[1;33m \u001b[0mmodel\u001b[0m\u001b[1;33m.\u001b[0m\u001b[0mget_all_prediction_df\u001b[0m\u001b[1;33m(\u001b[0m\u001b[0mtesting\u001b[0m\u001b[1;33m=\u001b[0m\u001b[0mtf\u001b[0m\u001b[1;33m,\u001b[0m \u001b[0mk\u001b[0m\u001b[1;33m=\u001b[0m\u001b[1;36m5\u001b[0m\u001b[1;33m)\u001b[0m\u001b[1;33m\u001b[0m\u001b[1;33m\u001b[0m\u001b[0m\n\u001b[0m",
      "\u001b[1;32m~\\anaconda3\\lib\\site-packages\\pykeen\\models\\base.py\u001b[0m in \u001b[0;36mget_all_prediction_df\u001b[1;34m(self, k, batch_size, **kwargs)\u001b[0m\n\u001b[0;32m    431\u001b[0m         \u001b[1;32mfrom\u001b[0m \u001b[1;33m.\u001b[0m\u001b[0mpredict\u001b[0m \u001b[1;32mimport\u001b[0m \u001b[0mget_all_prediction_df\u001b[0m\u001b[1;33m\u001b[0m\u001b[1;33m\u001b[0m\u001b[0m\n\u001b[0;32m    432\u001b[0m         \u001b[0mwarnings\u001b[0m\u001b[1;33m.\u001b[0m\u001b[0mwarn\u001b[0m\u001b[1;33m(\u001b[0m\u001b[1;34m'Use pykeen.models.predict.get_all_prediction_df'\u001b[0m\u001b[1;33m,\u001b[0m \u001b[0mDeprecationWarning\u001b[0m\u001b[1;33m)\u001b[0m\u001b[1;33m\u001b[0m\u001b[1;33m\u001b[0m\u001b[0m\n\u001b[1;32m--> 433\u001b[1;33m         \u001b[1;32mreturn\u001b[0m \u001b[0mget_all_prediction_df\u001b[0m\u001b[1;33m(\u001b[0m\u001b[0mmodel\u001b[0m\u001b[1;33m=\u001b[0m\u001b[0mself\u001b[0m\u001b[1;33m,\u001b[0m \u001b[0mk\u001b[0m\u001b[1;33m=\u001b[0m\u001b[0mk\u001b[0m\u001b[1;33m,\u001b[0m \u001b[0mbatch_size\u001b[0m\u001b[1;33m=\u001b[0m\u001b[0mbatch_size\u001b[0m\u001b[1;33m,\u001b[0m \u001b[1;33m**\u001b[0m\u001b[0mkwargs\u001b[0m\u001b[1;33m)\u001b[0m\u001b[1;33m\u001b[0m\u001b[1;33m\u001b[0m\u001b[0m\n\u001b[0m\u001b[0;32m    434\u001b[0m \u001b[1;33m\u001b[0m\u001b[0m\n\u001b[0;32m    435\u001b[0m     def get_head_prediction_df(\n",
      "\u001b[1;32m~\\anaconda3\\lib\\site-packages\\pykeen\\models\\predict.py\u001b[0m in \u001b[0;36mget_all_prediction_df\u001b[1;34m(model, k, batch_size, return_tensors, add_novelties, remove_known, testing)\u001b[0m\n\u001b[0;32m    257\u001b[0m         \u001b[0mtop_df\u001b[0m \u001b[1;33m=\u001b[0m \u001b[0mget_all_prediction_df\u001b[0m\u001b[1;33m(\u001b[0m\u001b[0mmodel\u001b[0m\u001b[1;33m,\u001b[0m \u001b[0mk\u001b[0m\u001b[1;33m=\u001b[0m\u001b[1;36m15\u001b[0m\u001b[1;33m)\u001b[0m\u001b[1;33m\u001b[0m\u001b[1;33m\u001b[0m\u001b[0m\n\u001b[0;32m    258\u001b[0m     \"\"\"\n\u001b[1;32m--> 259\u001b[1;33m     \u001b[0mscore_pack\u001b[0m \u001b[1;33m=\u001b[0m \u001b[0mpredict\u001b[0m\u001b[1;33m(\u001b[0m\u001b[0mmodel\u001b[0m\u001b[1;33m=\u001b[0m\u001b[0mmodel\u001b[0m\u001b[1;33m,\u001b[0m \u001b[0mk\u001b[0m\u001b[1;33m=\u001b[0m\u001b[0mk\u001b[0m\u001b[1;33m,\u001b[0m \u001b[0mbatch_size\u001b[0m\u001b[1;33m=\u001b[0m\u001b[0mbatch_size\u001b[0m\u001b[1;33m)\u001b[0m\u001b[1;33m\u001b[0m\u001b[1;33m\u001b[0m\u001b[0m\n\u001b[0m\u001b[0;32m    260\u001b[0m     \u001b[1;32mif\u001b[0m \u001b[0mreturn_tensors\u001b[0m\u001b[1;33m:\u001b[0m\u001b[1;33m\u001b[0m\u001b[1;33m\u001b[0m\u001b[0m\n\u001b[0;32m    261\u001b[0m         \u001b[1;32mreturn\u001b[0m \u001b[0mscore_pack\u001b[0m\u001b[1;33m\u001b[0m\u001b[1;33m\u001b[0m\u001b[0m\n",
      "\u001b[1;32m~\\anaconda3\\lib\\site-packages\\pykeen\\models\\predict.py\u001b[0m in \u001b[0;36mpredict\u001b[1;34m(model, k, batch_size)\u001b[0m\n\u001b[0;32m    285\u001b[0m \u001b[1;33m\u001b[0m\u001b[0m\n\u001b[0;32m    286\u001b[0m     \u001b[1;32mif\u001b[0m \u001b[0mk\u001b[0m \u001b[1;32mis\u001b[0m \u001b[1;32mnot\u001b[0m \u001b[1;32mNone\u001b[0m\u001b[1;33m:\u001b[0m\u001b[1;33m\u001b[0m\u001b[1;33m\u001b[0m\u001b[0m\n\u001b[1;32m--> 287\u001b[1;33m         \u001b[1;32mreturn\u001b[0m \u001b[0m_predict_k\u001b[0m\u001b[1;33m(\u001b[0m\u001b[0mmodel\u001b[0m\u001b[1;33m=\u001b[0m\u001b[0mmodel\u001b[0m\u001b[1;33m,\u001b[0m \u001b[0mk\u001b[0m\u001b[1;33m=\u001b[0m\u001b[0mk\u001b[0m\u001b[1;33m,\u001b[0m \u001b[0mbatch_size\u001b[0m\u001b[1;33m=\u001b[0m\u001b[0mbatch_size\u001b[0m\u001b[1;33m)\u001b[0m\u001b[1;33m\u001b[0m\u001b[1;33m\u001b[0m\u001b[0m\n\u001b[0m\u001b[0;32m    288\u001b[0m \u001b[1;33m\u001b[0m\u001b[0m\n\u001b[0;32m    289\u001b[0m     logger.warning(\n",
      "\u001b[1;32m~\\anaconda3\\lib\\site-packages\\torch\\autograd\\grad_mode.py\u001b[0m in \u001b[0;36mdecorate_context\u001b[1;34m(*args, **kwargs)\u001b[0m\n\u001b[0;32m     24\u001b[0m         \u001b[1;32mdef\u001b[0m \u001b[0mdecorate_context\u001b[0m\u001b[1;33m(\u001b[0m\u001b[1;33m*\u001b[0m\u001b[0margs\u001b[0m\u001b[1;33m,\u001b[0m \u001b[1;33m**\u001b[0m\u001b[0mkwargs\u001b[0m\u001b[1;33m)\u001b[0m\u001b[1;33m:\u001b[0m\u001b[1;33m\u001b[0m\u001b[1;33m\u001b[0m\u001b[0m\n\u001b[0;32m     25\u001b[0m             \u001b[1;32mwith\u001b[0m \u001b[0mself\u001b[0m\u001b[1;33m.\u001b[0m\u001b[0m__class__\u001b[0m\u001b[1;33m(\u001b[0m\u001b[1;33m)\u001b[0m\u001b[1;33m:\u001b[0m\u001b[1;33m\u001b[0m\u001b[1;33m\u001b[0m\u001b[0m\n\u001b[1;32m---> 26\u001b[1;33m                 \u001b[1;32mreturn\u001b[0m \u001b[0mfunc\u001b[0m\u001b[1;33m(\u001b[0m\u001b[1;33m*\u001b[0m\u001b[0margs\u001b[0m\u001b[1;33m,\u001b[0m \u001b[1;33m**\u001b[0m\u001b[0mkwargs\u001b[0m\u001b[1;33m)\u001b[0m\u001b[1;33m\u001b[0m\u001b[1;33m\u001b[0m\u001b[0m\n\u001b[0m\u001b[0;32m     27\u001b[0m         \u001b[1;32mreturn\u001b[0m \u001b[0mcast\u001b[0m\u001b[1;33m(\u001b[0m\u001b[0mF\u001b[0m\u001b[1;33m,\u001b[0m \u001b[0mdecorate_context\u001b[0m\u001b[1;33m)\u001b[0m\u001b[1;33m\u001b[0m\u001b[1;33m\u001b[0m\u001b[0m\n\u001b[0;32m     28\u001b[0m \u001b[1;33m\u001b[0m\u001b[0m\n",
      "\u001b[1;32m~\\anaconda3\\lib\\site-packages\\pykeen\\models\\predict.py\u001b[0m in \u001b[0;36m_predict_k\u001b[1;34m(model, k, batch_size)\u001b[0m\n\u001b[0;32m    356\u001b[0m             \u001b[0mhs\u001b[0m\u001b[1;33m.\u001b[0m\u001b[0mnew_empty\u001b[0m\u001b[1;33m(\u001b[0m\u001b[1;36m1\u001b[0m\u001b[1;33m)\u001b[0m\u001b[1;33m.\u001b[0m\u001b[0mfill_\u001b[0m\u001b[1;33m(\u001b[0m\u001b[0mvalue\u001b[0m\u001b[1;33m=\u001b[0m\u001b[0mr\u001b[0m\u001b[1;33m)\u001b[0m\u001b[1;33m.\u001b[0m\u001b[0mrepeat\u001b[0m\u001b[1;33m(\u001b[0m\u001b[0mreal_batch_size\u001b[0m\u001b[1;33m)\u001b[0m\u001b[1;33m,\u001b[0m\u001b[1;33m\u001b[0m\u001b[1;33m\u001b[0m\u001b[0m\n\u001b[0;32m    357\u001b[0m         ], dim=-1)\n\u001b[1;32m--> 358\u001b[1;33m         \u001b[0mtop_scores\u001b[0m \u001b[1;33m=\u001b[0m \u001b[0mmodel\u001b[0m\u001b[1;33m.\u001b[0m\u001b[0mpredict_t\u001b[0m\u001b[1;33m(\u001b[0m\u001b[0mhr_batch\u001b[0m\u001b[1;33m=\u001b[0m\u001b[0mhr_batch\u001b[0m\u001b[1;33m)\u001b[0m\u001b[1;33m.\u001b[0m\u001b[0mview\u001b[0m\u001b[1;33m(\u001b[0m\u001b[1;33m-\u001b[0m\u001b[1;36m1\u001b[0m\u001b[1;33m)\u001b[0m\u001b[1;33m\u001b[0m\u001b[1;33m\u001b[0m\u001b[0m\n\u001b[0m\u001b[0;32m    359\u001b[0m \u001b[1;33m\u001b[0m\u001b[0m\n\u001b[0;32m    360\u001b[0m         \u001b[1;31m# get top scores within batch\u001b[0m\u001b[1;33m\u001b[0m\u001b[1;33m\u001b[0m\u001b[1;33m\u001b[0m\u001b[0m\n",
      "\u001b[1;32m~\\anaconda3\\lib\\site-packages\\pykeen\\models\\base.py\u001b[0m in \u001b[0;36mpredict_t\u001b[1;34m(self, hr_batch, slice_size)\u001b[0m\n\u001b[0;32m    374\u001b[0m         \u001b[0mself\u001b[0m\u001b[1;33m.\u001b[0m\u001b[0meval\u001b[0m\u001b[1;33m(\u001b[0m\u001b[1;33m)\u001b[0m  \u001b[1;31m# Enforce evaluation mode\u001b[0m\u001b[1;33m\u001b[0m\u001b[1;33m\u001b[0m\u001b[0m\n\u001b[0;32m    375\u001b[0m         \u001b[1;32mif\u001b[0m \u001b[0mslice_size\u001b[0m \u001b[1;32mis\u001b[0m \u001b[1;32mNone\u001b[0m\u001b[1;33m:\u001b[0m\u001b[1;33m\u001b[0m\u001b[1;33m\u001b[0m\u001b[0m\n\u001b[1;32m--> 376\u001b[1;33m             \u001b[0mscores\u001b[0m \u001b[1;33m=\u001b[0m \u001b[0mself\u001b[0m\u001b[1;33m.\u001b[0m\u001b[0mscore_t\u001b[0m\u001b[1;33m(\u001b[0m\u001b[0mhr_batch\u001b[0m\u001b[1;33m)\u001b[0m\u001b[1;33m\u001b[0m\u001b[1;33m\u001b[0m\u001b[0m\n\u001b[0m\u001b[0;32m    377\u001b[0m         \u001b[1;32melse\u001b[0m\u001b[1;33m:\u001b[0m\u001b[1;33m\u001b[0m\u001b[1;33m\u001b[0m\u001b[0m\n\u001b[0;32m    378\u001b[0m             \u001b[0mscores\u001b[0m \u001b[1;33m=\u001b[0m \u001b[0mself\u001b[0m\u001b[1;33m.\u001b[0m\u001b[0mscore_t\u001b[0m\u001b[1;33m(\u001b[0m\u001b[0mhr_batch\u001b[0m\u001b[1;33m,\u001b[0m \u001b[0mslice_size\u001b[0m\u001b[1;33m=\u001b[0m\u001b[0mslice_size\u001b[0m\u001b[1;33m)\u001b[0m  \u001b[1;31m# type: ignore\u001b[0m\u001b[1;33m\u001b[0m\u001b[1;33m\u001b[0m\u001b[0m\n",
      "\u001b[1;32m~\\anaconda3\\lib\\site-packages\\pykeen\\models\\unimodal\\trans_e.py\u001b[0m in \u001b[0;36mscore_t\u001b[1;34m(self, hr_batch)\u001b[0m\n\u001b[0;32m    112\u001b[0m \u001b[1;33m\u001b[0m\u001b[0m\n\u001b[0;32m    113\u001b[0m         \u001b[1;31m# TODO: Use torch.cdist\u001b[0m\u001b[1;33m\u001b[0m\u001b[1;33m\u001b[0m\u001b[1;33m\u001b[0m\u001b[0m\n\u001b[1;32m--> 114\u001b[1;33m         \u001b[1;32mreturn\u001b[0m \u001b[1;33m-\u001b[0m\u001b[0mtorch\u001b[0m\u001b[1;33m.\u001b[0m\u001b[0mnorm\u001b[0m\u001b[1;33m(\u001b[0m\u001b[0mh\u001b[0m\u001b[1;33m[\u001b[0m\u001b[1;33m:\u001b[0m\u001b[1;33m,\u001b[0m \u001b[1;32mNone\u001b[0m\u001b[1;33m,\u001b[0m \u001b[1;33m:\u001b[0m\u001b[1;33m]\u001b[0m \u001b[1;33m+\u001b[0m \u001b[0mr\u001b[0m\u001b[1;33m[\u001b[0m\u001b[1;33m:\u001b[0m\u001b[1;33m,\u001b[0m \u001b[1;32mNone\u001b[0m\u001b[1;33m,\u001b[0m \u001b[1;33m:\u001b[0m\u001b[1;33m]\u001b[0m \u001b[1;33m-\u001b[0m \u001b[0mt\u001b[0m\u001b[1;33m[\u001b[0m\u001b[1;32mNone\u001b[0m\u001b[1;33m,\u001b[0m \u001b[1;33m:\u001b[0m\u001b[1;33m,\u001b[0m \u001b[1;33m:\u001b[0m\u001b[1;33m]\u001b[0m\u001b[1;33m,\u001b[0m \u001b[0mdim\u001b[0m\u001b[1;33m=\u001b[0m\u001b[1;33m-\u001b[0m\u001b[1;36m1\u001b[0m\u001b[1;33m,\u001b[0m \u001b[0mp\u001b[0m\u001b[1;33m=\u001b[0m\u001b[0mself\u001b[0m\u001b[1;33m.\u001b[0m\u001b[0mscoring_fct_norm\u001b[0m\u001b[1;33m)\u001b[0m\u001b[1;33m\u001b[0m\u001b[1;33m\u001b[0m\u001b[0m\n\u001b[0m\u001b[0;32m    115\u001b[0m \u001b[1;33m\u001b[0m\u001b[0m\n\u001b[0;32m    116\u001b[0m     \u001b[1;32mdef\u001b[0m \u001b[0mscore_h\u001b[0m\u001b[1;33m(\u001b[0m\u001b[0mself\u001b[0m\u001b[1;33m,\u001b[0m \u001b[0mrt_batch\u001b[0m\u001b[1;33m:\u001b[0m \u001b[0mtorch\u001b[0m\u001b[1;33m.\u001b[0m\u001b[0mLongTensor\u001b[0m\u001b[1;33m)\u001b[0m \u001b[1;33m->\u001b[0m \u001b[0mtorch\u001b[0m\u001b[1;33m.\u001b[0m\u001b[0mFloatTensor\u001b[0m\u001b[1;33m:\u001b[0m  \u001b[1;31m# noqa: D102\u001b[0m\u001b[1;33m\u001b[0m\u001b[1;33m\u001b[0m\u001b[0m\n",
      "\u001b[1;31mKeyboardInterrupt\u001b[0m: "
     ]
    }
   ],
   "source": [
    "model.get_all_prediction_df(testing=tf, k=5)"
   ]
  },
  {
   "cell_type": "code",
   "execution_count": null,
   "metadata": {},
   "outputs": [],
   "source": [
    "# Below cod efor checking the above real code and acts as a refrence."
   ]
  },
  {
   "cell_type": "code",
   "execution_count": 268,
   "metadata": {},
   "outputs": [
    {
     "data": {
      "text/plain": [
       "TriplesFactory(num_entities=14, num_relations=55, num_triples=201, inverse_triples=False, path=\"C:\\Users\\shahz\\anaconda3\\lib\\site-packages\\pykeen\\datasets\\nations\\test.txt\")"
      ]
     },
     "execution_count": 268,
     "metadata": {},
     "output_type": "execute_result"
    }
   ],
   "source": [
    "Nations().testing"
   ]
  },
  {
   "cell_type": "code",
   "execution_count": 213,
   "metadata": {},
   "outputs": [],
   "source": [
    "from pykeen.datasets import Nations\n",
    "testing_mapped_triples = Nations().testing.mapped_triples.to(model.device)"
   ]
  },
  {
   "cell_type": "code",
   "execution_count": 215,
   "metadata": {},
   "outputs": [
    {
     "data": {
      "text/plain": [
       "[[0, 7, 5],\n",
       " [0, 14, 11],\n",
       " [0, 18, 12],\n",
       " [0, 20, 3],\n",
       " [0, 20, 10],\n",
       " [0, 21, 12],\n",
       " [1, 3, 12],\n",
       " [1, 7, 0],\n",
       " [1, 10, 11],\n",
       " [1, 18, 5],\n",
       " [1, 21, 6],\n",
       " [1, 28, 7],\n",
       " [1, 33, 4],\n",
       " [1, 33, 6],\n",
       " [1, 33, 13],\n",
       " [1, 38, 4],\n",
       " [1, 38, 7],\n",
       " [1, 38, 12],\n",
       " [1, 39, 7],\n",
       " [1, 42, 2],\n",
       " [1, 49, 2],\n",
       " [2, 0, 11],\n",
       " [2, 6, 0],\n",
       " [2, 14, 1],\n",
       " [2, 14, 4],\n",
       " [2, 14, 6],\n",
       " [2, 21, 5],\n",
       " [2, 21, 12],\n",
       " [2, 21, 13],\n",
       " [2, 26, 5],\n",
       " [2, 30, 1],\n",
       " [2, 30, 6],\n",
       " [2, 37, 3],\n",
       " [2, 37, 13],\n",
       " [2, 38, 0],\n",
       " [2, 45, 0],\n",
       " [3, 19, 12],\n",
       " [3, 21, 11],\n",
       " [3, 25, 11],\n",
       " [3, 28, 7],\n",
       " [3, 30, 2],\n",
       " [3, 33, 2],\n",
       " [3, 33, 4],\n",
       " [3, 37, 13],\n",
       " [3, 38, 4],\n",
       " [3, 42, 2],\n",
       " [3, 42, 11],\n",
       " [3, 46, 12],\n",
       " [3, 48, 13],\n",
       " [4, 7, 0],\n",
       " [4, 7, 11],\n",
       " [4, 8, 5],\n",
       " [4, 14, 1],\n",
       " [4, 14, 3],\n",
       " [4, 14, 11],\n",
       " [4, 14, 13],\n",
       " [4, 19, 0],\n",
       " [4, 19, 12],\n",
       " [4, 25, 7],\n",
       " [4, 28, 0],\n",
       " [4, 28, 9],\n",
       " [4, 28, 12],\n",
       " [4, 30, 13],\n",
       " [4, 33, 12],\n",
       " [4, 42, 10],\n",
       " [4, 45, 13],\n",
       " [4, 49, 2],\n",
       " [4, 49, 6],\n",
       " [5, 7, 2],\n",
       " [5, 7, 10],\n",
       " [5, 20, 1],\n",
       " [5, 20, 4],\n",
       " [5, 20, 7],\n",
       " [5, 29, 2],\n",
       " [5, 37, 11],\n",
       " [5, 37, 12],\n",
       " [5, 37, 13],\n",
       " [5, 38, 0],\n",
       " [5, 42, 12],\n",
       " [5, 44, 12],\n",
       " [5, 45, 0],\n",
       " [5, 45, 3],\n",
       " [6, 0, 11],\n",
       " [6, 7, 9],\n",
       " [6, 8, 1],\n",
       " [6, 14, 1],\n",
       " [6, 14, 3],\n",
       " [6, 16, 3],\n",
       " [6, 23, 11],\n",
       " [6, 24, 12],\n",
       " [6, 26, 2],\n",
       " [6, 26, 11],\n",
       " [6, 28, 5],\n",
       " [6, 28, 9],\n",
       " [6, 33, 4],\n",
       " [6, 33, 11],\n",
       " [6, 39, 3],\n",
       " [6, 39, 12],\n",
       " [6, 42, 2],\n",
       " [6, 44, 12],\n",
       " [6, 52, 11],\n",
       " [7, 4, 13],\n",
       " [7, 7, 3],\n",
       " [7, 7, 9],\n",
       " [7, 14, 0],\n",
       " [7, 20, 4],\n",
       " [7, 21, 0],\n",
       " [7, 21, 4],\n",
       " [7, 21, 12],\n",
       " [7, 28, 0],\n",
       " [7, 39, 5],\n",
       " [7, 39, 12],\n",
       " [7, 46, 8],\n",
       " [8, 8, 6],\n",
       " [8, 21, 7],\n",
       " [8, 28, 9],\n",
       " [8, 28, 12],\n",
       " [8, 30, 4],\n",
       " [8, 33, 12],\n",
       " [8, 38, 3],\n",
       " [8, 38, 10],\n",
       " [8, 39, 0],\n",
       " [8, 39, 12],\n",
       " [8, 42, 6],\n",
       " [8, 54, 11],\n",
       " [9, 6, 2],\n",
       " [9, 7, 1],\n",
       " [9, 8, 11],\n",
       " [9, 14, 2],\n",
       " [9, 14, 5],\n",
       " [9, 14, 13],\n",
       " [9, 20, 6],\n",
       " [9, 22, 6],\n",
       " [9, 27, 5],\n",
       " [9, 28, 5],\n",
       " [9, 36, 11],\n",
       " [9, 38, 11],\n",
       " [9, 48, 11],\n",
       " [9, 48, 13],\n",
       " [9, 49, 12],\n",
       " [10, 8, 13],\n",
       " [10, 19, 11],\n",
       " [10, 20, 7],\n",
       " [10, 21, 7],\n",
       " [10, 27, 5],\n",
       " [10, 28, 13],\n",
       " [10, 33, 3],\n",
       " [10, 33, 5],\n",
       " [10, 33, 12],\n",
       " [10, 37, 12],\n",
       " [10, 38, 12],\n",
       " [10, 42, 13],\n",
       " [10, 54, 9],\n",
       " [10, 54, 11],\n",
       " [11, 9, 6],\n",
       " [11, 11, 6],\n",
       " [11, 14, 9],\n",
       " [11, 21, 0],\n",
       " [11, 21, 9],\n",
       " [11, 27, 10],\n",
       " [11, 31, 13],\n",
       " [11, 39, 12],\n",
       " [11, 45, 3],\n",
       " [11, 45, 4],\n",
       " [11, 45, 12],\n",
       " [11, 45, 13],\n",
       " [11, 48, 4],\n",
       " [11, 51, 8],\n",
       " [11, 54, 3],\n",
       " [12, 0, 3],\n",
       " [12, 3, 13],\n",
       " [12, 9, 6],\n",
       " [12, 14, 0],\n",
       " [12, 14, 11],\n",
       " [12, 19, 2],\n",
       " [12, 24, 9],\n",
       " [12, 24, 11],\n",
       " [12, 25, 4],\n",
       " [12, 26, 0],\n",
       " [12, 28, 9],\n",
       " [12, 28, 11],\n",
       " [12, 30, 6],\n",
       " [12, 41, 4],\n",
       " [12, 41, 5],\n",
       " [12, 45, 3],\n",
       " [12, 45, 9],\n",
       " [12, 51, 7],\n",
       " [12, 54, 3],\n",
       " [12, 54, 7],\n",
       " [12, 54, 13],\n",
       " [13, 3, 1],\n",
       " [13, 3, 11],\n",
       " [13, 4, 12],\n",
       " [13, 14, 9],\n",
       " [13, 19, 2],\n",
       " [13, 32, 12],\n",
       " [13, 33, 12],\n",
       " [13, 38, 0],\n",
       " [13, 39, 10],\n",
       " [13, 45, 0],\n",
       " [13, 45, 2]]"
      ]
     },
     "execution_count": 215,
     "metadata": {},
     "output_type": "execute_result"
    }
   ],
   "source": [
    "testing_mapped_triples.tolist()"
   ]
  },
  {
   "cell_type": "code",
   "execution_count": 216,
   "metadata": {},
   "outputs": [
    {
     "data": {
      "text/plain": [
       "tensor([[ 0,  7,  5],\n",
       "        [ 0, 14, 11],\n",
       "        [ 0, 18, 12],\n",
       "        [ 0, 20,  3],\n",
       "        [ 0, 20, 10],\n",
       "        [ 0, 21, 12],\n",
       "        [ 1,  3, 12],\n",
       "        [ 1,  7,  0],\n",
       "        [ 1, 10, 11],\n",
       "        [ 1, 18,  5],\n",
       "        [ 1, 21,  6],\n",
       "        [ 1, 28,  7],\n",
       "        [ 1, 33,  4],\n",
       "        [ 1, 33,  6],\n",
       "        [ 1, 33, 13],\n",
       "        [ 1, 38,  4],\n",
       "        [ 1, 38,  7],\n",
       "        [ 1, 38, 12],\n",
       "        [ 1, 39,  7],\n",
       "        [ 1, 42,  2],\n",
       "        [ 1, 49,  2],\n",
       "        [ 2,  0, 11],\n",
       "        [ 2,  6,  0],\n",
       "        [ 2, 14,  1],\n",
       "        [ 2, 14,  4],\n",
       "        [ 2, 14,  6],\n",
       "        [ 2, 21,  5],\n",
       "        [ 2, 21, 12],\n",
       "        [ 2, 21, 13],\n",
       "        [ 2, 26,  5],\n",
       "        [ 2, 30,  1],\n",
       "        [ 2, 30,  6],\n",
       "        [ 2, 37,  3],\n",
       "        [ 2, 37, 13],\n",
       "        [ 2, 38,  0],\n",
       "        [ 2, 45,  0],\n",
       "        [ 3, 19, 12],\n",
       "        [ 3, 21, 11],\n",
       "        [ 3, 25, 11],\n",
       "        [ 3, 28,  7],\n",
       "        [ 3, 30,  2],\n",
       "        [ 3, 33,  2],\n",
       "        [ 3, 33,  4],\n",
       "        [ 3, 37, 13],\n",
       "        [ 3, 38,  4],\n",
       "        [ 3, 42,  2],\n",
       "        [ 3, 42, 11],\n",
       "        [ 3, 46, 12],\n",
       "        [ 3, 48, 13],\n",
       "        [ 4,  7,  0],\n",
       "        [ 4,  7, 11],\n",
       "        [ 4,  8,  5],\n",
       "        [ 4, 14,  1],\n",
       "        [ 4, 14,  3],\n",
       "        [ 4, 14, 11],\n",
       "        [ 4, 14, 13],\n",
       "        [ 4, 19,  0],\n",
       "        [ 4, 19, 12],\n",
       "        [ 4, 25,  7],\n",
       "        [ 4, 28,  0],\n",
       "        [ 4, 28,  9],\n",
       "        [ 4, 28, 12],\n",
       "        [ 4, 30, 13],\n",
       "        [ 4, 33, 12],\n",
       "        [ 4, 42, 10],\n",
       "        [ 4, 45, 13],\n",
       "        [ 4, 49,  2],\n",
       "        [ 4, 49,  6],\n",
       "        [ 5,  7,  2],\n",
       "        [ 5,  7, 10],\n",
       "        [ 5, 20,  1],\n",
       "        [ 5, 20,  4],\n",
       "        [ 5, 20,  7],\n",
       "        [ 5, 29,  2],\n",
       "        [ 5, 37, 11],\n",
       "        [ 5, 37, 12],\n",
       "        [ 5, 37, 13],\n",
       "        [ 5, 38,  0],\n",
       "        [ 5, 42, 12],\n",
       "        [ 5, 44, 12],\n",
       "        [ 5, 45,  0],\n",
       "        [ 5, 45,  3],\n",
       "        [ 6,  0, 11],\n",
       "        [ 6,  7,  9],\n",
       "        [ 6,  8,  1],\n",
       "        [ 6, 14,  1],\n",
       "        [ 6, 14,  3],\n",
       "        [ 6, 16,  3],\n",
       "        [ 6, 23, 11],\n",
       "        [ 6, 24, 12],\n",
       "        [ 6, 26,  2],\n",
       "        [ 6, 26, 11],\n",
       "        [ 6, 28,  5],\n",
       "        [ 6, 28,  9],\n",
       "        [ 6, 33,  4],\n",
       "        [ 6, 33, 11],\n",
       "        [ 6, 39,  3],\n",
       "        [ 6, 39, 12],\n",
       "        [ 6, 42,  2],\n",
       "        [ 6, 44, 12],\n",
       "        [ 6, 52, 11],\n",
       "        [ 7,  4, 13],\n",
       "        [ 7,  7,  3],\n",
       "        [ 7,  7,  9],\n",
       "        [ 7, 14,  0],\n",
       "        [ 7, 20,  4],\n",
       "        [ 7, 21,  0],\n",
       "        [ 7, 21,  4],\n",
       "        [ 7, 21, 12],\n",
       "        [ 7, 28,  0],\n",
       "        [ 7, 39,  5],\n",
       "        [ 7, 39, 12],\n",
       "        [ 7, 46,  8],\n",
       "        [ 8,  8,  6],\n",
       "        [ 8, 21,  7],\n",
       "        [ 8, 28,  9],\n",
       "        [ 8, 28, 12],\n",
       "        [ 8, 30,  4],\n",
       "        [ 8, 33, 12],\n",
       "        [ 8, 38,  3],\n",
       "        [ 8, 38, 10],\n",
       "        [ 8, 39,  0],\n",
       "        [ 8, 39, 12],\n",
       "        [ 8, 42,  6],\n",
       "        [ 8, 54, 11],\n",
       "        [ 9,  6,  2],\n",
       "        [ 9,  7,  1],\n",
       "        [ 9,  8, 11],\n",
       "        [ 9, 14,  2],\n",
       "        [ 9, 14,  5],\n",
       "        [ 9, 14, 13],\n",
       "        [ 9, 20,  6],\n",
       "        [ 9, 22,  6],\n",
       "        [ 9, 27,  5],\n",
       "        [ 9, 28,  5],\n",
       "        [ 9, 36, 11],\n",
       "        [ 9, 38, 11],\n",
       "        [ 9, 48, 11],\n",
       "        [ 9, 48, 13],\n",
       "        [ 9, 49, 12],\n",
       "        [10,  8, 13],\n",
       "        [10, 19, 11],\n",
       "        [10, 20,  7],\n",
       "        [10, 21,  7],\n",
       "        [10, 27,  5],\n",
       "        [10, 28, 13],\n",
       "        [10, 33,  3],\n",
       "        [10, 33,  5],\n",
       "        [10, 33, 12],\n",
       "        [10, 37, 12],\n",
       "        [10, 38, 12],\n",
       "        [10, 42, 13],\n",
       "        [10, 54,  9],\n",
       "        [10, 54, 11],\n",
       "        [11,  9,  6],\n",
       "        [11, 11,  6],\n",
       "        [11, 14,  9],\n",
       "        [11, 21,  0],\n",
       "        [11, 21,  9],\n",
       "        [11, 27, 10],\n",
       "        [11, 31, 13],\n",
       "        [11, 39, 12],\n",
       "        [11, 45,  3],\n",
       "        [11, 45,  4],\n",
       "        [11, 45, 12],\n",
       "        [11, 45, 13],\n",
       "        [11, 48,  4],\n",
       "        [11, 51,  8],\n",
       "        [11, 54,  3],\n",
       "        [12,  0,  3],\n",
       "        [12,  3, 13],\n",
       "        [12,  9,  6],\n",
       "        [12, 14,  0],\n",
       "        [12, 14, 11],\n",
       "        [12, 19,  2],\n",
       "        [12, 24,  9],\n",
       "        [12, 24, 11],\n",
       "        [12, 25,  4],\n",
       "        [12, 26,  0],\n",
       "        [12, 28,  9],\n",
       "        [12, 28, 11],\n",
       "        [12, 30,  6],\n",
       "        [12, 41,  4],\n",
       "        [12, 41,  5],\n",
       "        [12, 45,  3],\n",
       "        [12, 45,  9],\n",
       "        [12, 51,  7],\n",
       "        [12, 54,  3],\n",
       "        [12, 54,  7],\n",
       "        [12, 54, 13],\n",
       "        [13,  3,  1],\n",
       "        [13,  3, 11],\n",
       "        [13,  4, 12],\n",
       "        [13, 14,  9],\n",
       "        [13, 19,  2],\n",
       "        [13, 32, 12],\n",
       "        [13, 33, 12],\n",
       "        [13, 38,  0],\n",
       "        [13, 39, 10],\n",
       "        [13, 45,  0],\n",
       "        [13, 45,  2]])"
      ]
     },
     "execution_count": 216,
     "metadata": {},
     "output_type": "execute_result"
    }
   ],
   "source": [
    "testing_mapped_triples"
   ]
  },
  {
   "cell_type": "markdown",
   "metadata": {},
   "source": [
    "# unstratisfied \n"
   ]
  },
  {
   "cell_type": "code",
   "execution_count": 96,
   "metadata": {},
   "outputs": [
    {
     "name": "stderr",
     "output_type": "stream",
     "text": [
      "WARNING:pykeen.pipeline.api:No random seed is specified. Setting to 4145379089.\n",
      "WARNING:pykeen.utils:No cuda devices were available. The model runs on CPU\n"
     ]
    },
    {
     "data": {
      "application/vnd.jupyter.widget-view+json": {
       "model_id": "c464da3d1c5f4131a0c8fbe14781c40c",
       "version_major": 2,
       "version_minor": 0
      },
      "text/plain": [
       "HBox(children=(FloatProgress(value=0.0, description='Training epochs on cpu', max=5.0, style=ProgressStyle(des…"
      ]
     },
     "metadata": {},
     "output_type": "display_data"
    },
    {
     "data": {
      "application/vnd.jupyter.widget-view+json": {
       "model_id": "",
       "version_major": 2,
       "version_minor": 0
      },
      "text/plain": [
       "HBox(children=(FloatProgress(value=0.0, description='Training batches on cpu', max=5.0, style=ProgressStyle(de…"
      ]
     },
     "metadata": {},
     "output_type": "display_data"
    },
    {
     "data": {
      "application/vnd.jupyter.widget-view+json": {
       "model_id": "",
       "version_major": 2,
       "version_minor": 0
      },
      "text/plain": [
       "HBox(children=(FloatProgress(value=0.0, description='Training batches on cpu', max=5.0, style=ProgressStyle(de…"
      ]
     },
     "metadata": {},
     "output_type": "display_data"
    },
    {
     "data": {
      "application/vnd.jupyter.widget-view+json": {
       "model_id": "",
       "version_major": 2,
       "version_minor": 0
      },
      "text/plain": [
       "HBox(children=(FloatProgress(value=0.0, description='Training batches on cpu', max=5.0, style=ProgressStyle(de…"
      ]
     },
     "metadata": {},
     "output_type": "display_data"
    },
    {
     "data": {
      "application/vnd.jupyter.widget-view+json": {
       "model_id": "",
       "version_major": 2,
       "version_minor": 0
      },
      "text/plain": [
       "HBox(children=(FloatProgress(value=0.0, description='Training batches on cpu', max=5.0, style=ProgressStyle(de…"
      ]
     },
     "metadata": {},
     "output_type": "display_data"
    },
    {
     "data": {
      "application/vnd.jupyter.widget-view+json": {
       "model_id": "",
       "version_major": 2,
       "version_minor": 0
      },
      "text/plain": [
       "HBox(children=(FloatProgress(value=0.0, description='Training batches on cpu', max=5.0, style=ProgressStyle(de…"
      ]
     },
     "metadata": {},
     "output_type": "display_data"
    },
    {
     "name": "stderr",
     "output_type": "stream",
     "text": [
      "INFO:pykeen.evaluation.evaluator:Currently automatic memory optimization only supports GPUs, but you're using a CPU. Therefore, the batch_size will be set to the default value.\n",
      "INFO:pykeen.evaluation.evaluator:No evaluation batch_size provided. Setting batch_size to '32'.\n"
     ]
    },
    {
     "name": "stdout",
     "output_type": "stream",
     "text": [
      "\n"
     ]
    },
    {
     "data": {
      "application/vnd.jupyter.widget-view+json": {
       "model_id": "a376514d629448e6a12d84f757db8752",
       "version_major": 2,
       "version_minor": 0
      },
      "text/plain": [
       "HBox(children=(FloatProgress(value=0.0, description='Evaluating on cpu', max=319.0, style=ProgressStyle(descri…"
      ]
     },
     "metadata": {},
     "output_type": "display_data"
    },
    {
     "name": "stderr",
     "output_type": "stream",
     "text": [
      "INFO:pykeen.evaluation.evaluator:Evaluation took 0.05s seconds\n"
     ]
    },
    {
     "name": "stdout",
     "output_type": "stream",
     "text": [
      "\n"
     ]
    }
   ],
   "source": [
    "from pykeen.triples import TriplesFactory\n",
    "from pykeen.pipeline import pipeline\n",
    "from pykeen.datasets.nations import NATIONS_TRAIN_PATH\n",
    "new=open('train.txt')\n",
    "tf = TriplesFactory.from_path('C:\\\\Users\\\\shahz\\\\KG\\\\Untitled Folder\\\\train.txt')\n",
    "tf\n",
    "#training= tf[:1000]\n",
    "#testing \n",
    "result = pipeline(\n",
    "    training=training,\n",
    "    testing=testing,\n",
    "    model='TransE',\n",
    "    training_kwargs=dict(num_epochs=5),  # short epochs for testing - you should go higher\n",
    ")\n",
    "result.save_to_directory('doctests/test_unstratified_transe')"
   ]
  },
  {
   "cell_type": "code",
   "execution_count": 92,
   "metadata": {},
   "outputs": [],
   "source": [
    "from pykeen.datasets import Nations\n",
    "dataset = Nations()\n",
    "training_triples_factory = dataset.training"
   ]
  },
  {
   "cell_type": "code",
   "execution_count": 99,
   "metadata": {},
   "outputs": [
    {
     "data": {
      "text/plain": [
       "TriplesFactory(num_entities=3546, num_relations=783, num_triples=2231, inverse_triples=False, path=\"C:\\Users\\shahz\\KG\\Untitled Folder\\train.txt\")"
      ]
     },
     "execution_count": 99,
     "metadata": {},
     "output_type": "execute_result"
    }
   ],
   "source": [
    "tf"
   ]
  },
  {
   "cell_type": "code",
   "execution_count": 97,
   "metadata": {},
   "outputs": [
    {
     "data": {
      "text/plain": [
       "TriplesFactory(num_entities=14, num_relations=55, num_triples=319, inverse_triples=False, path=\"C:\\Users\\shahz\\anaconda3\\lib\\site-packages\\pykeen\\datasets\\nations\\train.txt\")"
      ]
     },
     "execution_count": 97,
     "metadata": {},
     "output_type": "execute_result"
    }
   ],
   "source": [
    "testing"
   ]
  },
  {
   "cell_type": "code",
   "execution_count": 98,
   "metadata": {},
   "outputs": [
    {
     "data": {
      "text/plain": [
       "TriplesFactory(num_entities=14, num_relations=55, num_triples=1273, inverse_triples=False, path=\"C:\\Users\\shahz\\anaconda3\\lib\\site-packages\\pykeen\\datasets\\nations\\train.txt\")"
      ]
     },
     "execution_count": 98,
     "metadata": {},
     "output_type": "execute_result"
    }
   ],
   "source": [
    "training"
   ]
  },
  {
   "cell_type": "raw",
   "metadata": {},
   "source": []
  },
  {
   "cell_type": "code",
   "execution_count": 100,
   "metadata": {},
   "outputs": [
    {
     "data": {
      "text/plain": [
       "[TriplesFactory(num_entities=14, num_relations=55, num_triples=1114, inverse_triples=False, path=\"C:\\Users\\shahz\\anaconda3\\lib\\site-packages\\pykeen\\datasets\\nations\\train.txt\"),\n",
       " TriplesFactory(num_entities=14, num_relations=55, num_triples=478, inverse_triples=False, path=\"C:\\Users\\shahz\\anaconda3\\lib\\site-packages\\pykeen\\datasets\\nations\\train.txt\")]"
      ]
     },
     "execution_count": 100,
     "metadata": {},
     "output_type": "execute_result"
    }
   ],
   "source": [
    "train"
   ]
  },
  {
   "cell_type": "code",
   "execution_count": 94,
   "metadata": {},
   "outputs": [
    {
     "name": "stderr",
     "output_type": "stream",
     "text": [
      "WARNING:pykeen.utils:using automatically assigned random_state=3124897840\n",
      "INFO:pykeen.triples.splitting:done splitting triples to groups of sizes [1047, 478]\n"
     ]
    }
   ],
   "source": [
    "train=training_triples_factory.split([.7,.3])"
   ]
  },
  {
   "cell_type": "code",
   "execution_count": 95,
   "metadata": {},
   "outputs": [
    {
     "data": {
      "text/plain": [
       "[TriplesFactory(num_entities=14, num_relations=55, num_triples=1114, inverse_triples=False, path=\"C:\\Users\\shahz\\anaconda3\\lib\\site-packages\\pykeen\\datasets\\nations\\train.txt\"),\n",
       " TriplesFactory(num_entities=14, num_relations=55, num_triples=478, inverse_triples=False, path=\"C:\\Users\\shahz\\anaconda3\\lib\\site-packages\\pykeen\\datasets\\nations\\train.txt\")]"
      ]
     },
     "execution_count": 95,
     "metadata": {},
     "output_type": "execute_result"
    }
   ],
   "source": [
    "train"
   ]
  },
  {
   "cell_type": "code",
   "execution_count": null,
   "metadata": {},
   "outputs": [],
   "source": []
  },
  {
   "cell_type": "code",
   "execution_count": null,
   "metadata": {},
   "outputs": [],
   "source": []
  },
  {
   "cell_type": "code",
   "execution_count": null,
   "metadata": {},
   "outputs": [],
   "source": [
    "os.listdir('doctests')"
   ]
  },
  {
   "cell_type": "code",
   "execution_count": null,
   "metadata": {},
   "outputs": [],
   "source": [
    "# How to look at the model\n",
    "model = result.model\n",
    "model"
   ]
  },
  {
   "cell_type": "code",
   "execution_count": null,
   "metadata": {},
   "outputs": [],
   "source": [
    "entity_embeddings: torch.FloatTensor = model.entity_embeddings(indices=None)"
   ]
  },
  {
   "cell_type": "code",
   "execution_count": null,
   "metadata": {},
   "outputs": [],
   "source": [
    "entity_embeddings"
   ]
  },
  {
   "cell_type": "code",
   "execution_count": null,
   "metadata": {},
   "outputs": [],
   "source": []
  },
  {
   "cell_type": "code",
   "execution_count": 53,
   "metadata": {},
   "outputs": [],
   "source": [
    "training_triples_factory=open('train.txt')"
   ]
  },
  {
   "cell_type": "code",
   "execution_count": 50,
   "metadata": {},
   "outputs": [],
   "source": [
    "#Individually pipeline\n",
    "import pandas as pd\n",
    "with open('train.txt', encoding='utf-8') as f:\n",
    "    training_triples_factory=list(f)"
   ]
  },
  {
   "cell_type": "code",
   "execution_count": 54,
   "metadata": {},
   "outputs": [
    {
     "name": "stdout",
     "output_type": "stream",
     "text": [
      "<_io.TextIOWrapper name='train.txt' mode='r' encoding='cp1252'>\n"
     ]
    }
   ],
   "source": [
    "print(training_triples_factory)"
   ]
  },
  {
   "cell_type": "code",
   "execution_count": 55,
   "metadata": {},
   "outputs": [
    {
     "name": "stderr",
     "output_type": "stream",
     "text": [
      "WARNING:pykeen.utils:No cuda devices were available. The model runs on CPU\n",
      "WARNING:pykeen.models.base:No random seed is specified. This may lead to non-reproducible results.\n"
     ]
    },
    {
     "ename": "AttributeError",
     "evalue": "'_io.TextIOWrapper' object has no attribute 'num_entities'",
     "output_type": "error",
     "traceback": [
      "\u001b[1;31m---------------------------------------------------------------------------\u001b[0m",
      "\u001b[1;31mAttributeError\u001b[0m                            Traceback (most recent call last)",
      "\u001b[1;32m<ipython-input-55-af72a9705b11>\u001b[0m in \u001b[0;36m<module>\u001b[1;34m\u001b[0m\n\u001b[0;32m      1\u001b[0m \u001b[1;32mfrom\u001b[0m \u001b[0mpykeen\u001b[0m\u001b[1;33m.\u001b[0m\u001b[0mmodels\u001b[0m \u001b[1;32mimport\u001b[0m \u001b[0mTransE\u001b[0m\u001b[1;33m\u001b[0m\u001b[1;33m\u001b[0m\u001b[0m\n\u001b[1;32m----> 2\u001b[1;33m \u001b[0mmodel\u001b[0m \u001b[1;33m=\u001b[0m \u001b[0mTransE\u001b[0m\u001b[1;33m(\u001b[0m\u001b[0mtriples_factory\u001b[0m\u001b[1;33m=\u001b[0m\u001b[0mtraining_triples_factory\u001b[0m\u001b[1;33m)\u001b[0m\u001b[1;33m\u001b[0m\u001b[1;33m\u001b[0m\u001b[0m\n\u001b[0m",
      "\u001b[1;32m~\\anaconda3\\lib\\site-packages\\pykeen\\models\\base.py\u001b[0m in \u001b[0;36m_new_init\u001b[1;34m(self, *args, **kwargs)\u001b[0m\n\u001b[0;32m    835\u001b[0m     \u001b[1;33m@\u001b[0m\u001b[0mfunctools\u001b[0m\u001b[1;33m.\u001b[0m\u001b[0mwraps\u001b[0m\u001b[1;33m(\u001b[0m\u001b[0m_original_init\u001b[0m\u001b[1;33m)\u001b[0m\u001b[1;33m\u001b[0m\u001b[1;33m\u001b[0m\u001b[0m\n\u001b[0;32m    836\u001b[0m     \u001b[1;32mdef\u001b[0m \u001b[0m_new_init\u001b[0m\u001b[1;33m(\u001b[0m\u001b[0mself\u001b[0m\u001b[1;33m,\u001b[0m \u001b[1;33m*\u001b[0m\u001b[0margs\u001b[0m\u001b[1;33m,\u001b[0m \u001b[1;33m**\u001b[0m\u001b[0mkwargs\u001b[0m\u001b[1;33m)\u001b[0m\u001b[1;33m:\u001b[0m\u001b[1;33m\u001b[0m\u001b[1;33m\u001b[0m\u001b[0m\n\u001b[1;32m--> 837\u001b[1;33m         \u001b[0m_original_init\u001b[0m\u001b[1;33m(\u001b[0m\u001b[0mself\u001b[0m\u001b[1;33m,\u001b[0m \u001b[1;33m*\u001b[0m\u001b[0margs\u001b[0m\u001b[1;33m,\u001b[0m \u001b[1;33m**\u001b[0m\u001b[0mkwargs\u001b[0m\u001b[1;33m)\u001b[0m\u001b[1;33m\u001b[0m\u001b[1;33m\u001b[0m\u001b[0m\n\u001b[0m\u001b[0;32m    838\u001b[0m         \u001b[0mself\u001b[0m\u001b[1;33m.\u001b[0m\u001b[0mreset_parameters_\u001b[0m\u001b[1;33m(\u001b[0m\u001b[1;33m)\u001b[0m\u001b[1;33m\u001b[0m\u001b[1;33m\u001b[0m\u001b[0m\n\u001b[0;32m    839\u001b[0m \u001b[1;33m\u001b[0m\u001b[0m\n",
      "\u001b[1;32m~\\anaconda3\\lib\\site-packages\\pykeen\\models\\unimodal\\trans_e.py\u001b[0m in \u001b[0;36m__init__\u001b[1;34m(self, triples_factory, embedding_dim, scoring_fct_norm, loss, preferred_device, random_seed, regularizer, entity_initializer, entity_constrainer, relation_initializer)\u001b[0m\n\u001b[0;32m     78\u001b[0m            \u001b[1;33m-\u001b[0m \u001b[0mOpenKE\u001b[0m\u001b[0;31m \u001b[0m\u001b[0;31m`\u001b[0m\u001b[0mimplementation\u001b[0m \u001b[0mof\u001b[0m \u001b[0mTransE\u001b[0m \u001b[1;33m<\u001b[0m\u001b[0mhttps\u001b[0m\u001b[1;33m:\u001b[0m\u001b[1;33m//\u001b[0m\u001b[0mgithub\u001b[0m\u001b[1;33m.\u001b[0m\u001b[0mcom\u001b[0m\u001b[1;33m/\u001b[0m\u001b[0mthunlp\u001b[0m\u001b[1;33m/\u001b[0m\u001b[0mOpenKE\u001b[0m\u001b[1;33m/\u001b[0m\u001b[0mblob\u001b[0m\u001b[1;33m/\u001b[0m\u001b[0mOpenKE\u001b[0m\u001b[1;33m-\u001b[0m\u001b[0mPyTorch\u001b[0m\u001b[1;33m/\u001b[0m\u001b[0mmodels\u001b[0m\u001b[1;33m/\u001b[0m\u001b[0mTransE\u001b[0m\u001b[1;33m.\u001b[0m\u001b[0mpy\u001b[0m\u001b[1;33m>\u001b[0m\u001b[0;31m`\u001b[0m\u001b[0m_\u001b[0m\u001b[1;33m\u001b[0m\u001b[1;33m\u001b[0m\u001b[0m\n\u001b[0;32m     79\u001b[0m         \"\"\"\n\u001b[1;32m---> 80\u001b[1;33m         super().__init__(\n\u001b[0m\u001b[0;32m     81\u001b[0m             \u001b[0mtriples_factory\u001b[0m\u001b[1;33m=\u001b[0m\u001b[0mtriples_factory\u001b[0m\u001b[1;33m,\u001b[0m\u001b[1;33m\u001b[0m\u001b[1;33m\u001b[0m\u001b[0m\n\u001b[0;32m     82\u001b[0m             \u001b[0mloss\u001b[0m\u001b[1;33m=\u001b[0m\u001b[0mloss\u001b[0m\u001b[1;33m,\u001b[0m\u001b[1;33m\u001b[0m\u001b[1;33m\u001b[0m\u001b[0m\n",
      "\u001b[1;32m~\\anaconda3\\lib\\site-packages\\pykeen\\models\\base.py\u001b[0m in \u001b[0;36m__init__\u001b[1;34m(self, triples_factory, entity_representations, relation_representations, loss, predict_with_sigmoid, preferred_device, random_seed, regularizer)\u001b[0m\n\u001b[0;32m    783\u001b[0m         )\n\u001b[0;32m    784\u001b[0m         self.entity_embeddings = entity_representations.make(\n\u001b[1;32m--> 785\u001b[1;33m             \u001b[0mnum_embeddings\u001b[0m\u001b[1;33m=\u001b[0m\u001b[0mtriples_factory\u001b[0m\u001b[1;33m.\u001b[0m\u001b[0mnum_entities\u001b[0m\u001b[1;33m,\u001b[0m\u001b[1;33m\u001b[0m\u001b[1;33m\u001b[0m\u001b[0m\n\u001b[0m\u001b[0;32m    786\u001b[0m             \u001b[0mdevice\u001b[0m\u001b[1;33m=\u001b[0m\u001b[0mself\u001b[0m\u001b[1;33m.\u001b[0m\u001b[0mdevice\u001b[0m\u001b[1;33m,\u001b[0m\u001b[1;33m\u001b[0m\u001b[1;33m\u001b[0m\u001b[0m\n\u001b[0;32m    787\u001b[0m         )\n",
      "\u001b[1;31mAttributeError\u001b[0m: '_io.TextIOWrapper' object has no attribute 'num_entities'"
     ]
    }
   ],
   "source": [
    "from pykeen.models import TransE\n",
    "model = TransE(triples_factory=training_triples_factory)"
   ]
  },
  {
   "cell_type": "code",
   "execution_count": null,
   "metadata": {},
   "outputs": [],
   "source": [
    "from torch.optim import Adam\n",
    "optimizer = Adam(params=model.get_grad_params())"
   ]
  },
  {
   "cell_type": "code",
   "execution_count": null,
   "metadata": {},
   "outputs": [],
   "source": [
    "from pykeen.training import SLCWATrainingLoop\n",
    "training_loop = SLCWATrainingLoop(model=model, optimizer=optimizer)"
   ]
  },
  {
   "cell_type": "code",
   "execution_count": null,
   "metadata": {},
   "outputs": [],
   "source": [
    "training_loop.train(num_epochs=5, batch_size=256)"
   ]
  },
  {
   "cell_type": "code",
   "execution_count": null,
   "metadata": {},
   "outputs": [],
   "source": [
    "from pykeen.evaluation import RankBasedEvaluator\n",
    "evaluator = RankBasedEvaluator()"
   ]
  },
  {
   "cell_type": "code",
   "execution_count": null,
   "metadata": {},
   "outputs": [],
   "source": [
    "# Get triples to test\n",
    "mapped_triples = dataset.testing.mapped_triples"
   ]
  },
  {
   "cell_type": "code",
   "execution_count": null,
   "metadata": {},
   "outputs": [],
   "source": [
    "mapped_triples"
   ]
  },
  {
   "cell_type": "code",
   "execution_count": null,
   "metadata": {},
   "outputs": [],
   "source": [
    "results = evaluator.evaluate(model, mapped_triples, batch_size=1024)\n",
    "print(results)"
   ]
  },
  {
   "cell_type": "code",
   "execution_count": null,
   "metadata": {},
   "outputs": [],
   "source": [
    "\n",
    "results.plot_losses()\n",
    "plt.show()"
   ]
  },
  {
   "cell_type": "code",
   "execution_count": null,
   "metadata": {},
   "outputs": [],
   "source": [
    "results"
   ]
  },
  {
   "cell_type": "code",
   "execution_count": 15,
   "metadata": {},
   "outputs": [],
   "source": [
    "# Get a training dataset\n",
    "from pykeen.datasets import Nations\n",
    "dataset = Nations()\n",
    "training_triples_factory = dataset.training"
   ]
  },
  {
   "cell_type": "code",
   "execution_count": 16,
   "metadata": {},
   "outputs": [
    {
     "data": {
      "text/plain": [
       "pykeen.triples.triples_factory.TriplesFactory"
      ]
     },
     "execution_count": 16,
     "metadata": {},
     "output_type": "execute_result"
    }
   ],
   "source": [
    "type(training_triples_factory)"
   ]
  },
  {
   "cell_type": "code",
   "execution_count": 17,
   "metadata": {},
   "outputs": [
    {
     "name": "stdout",
     "output_type": "stream",
     "text": [
      "Nations(num_entities=14, num_relations=55)\n"
     ]
    }
   ],
   "source": [
    "print(dataset)"
   ]
  },
  {
   "cell_type": "code",
   "execution_count": null,
   "metadata": {},
   "outputs": [],
   "source": [
    "type(training_triples_factory)"
   ]
  },
  {
   "cell_type": "code",
   "execution_count": null,
   "metadata": {},
   "outputs": [],
   "source": [
    "f = open(\"C:\\\\Users\\\\shahz\\\\anaconda3\\\\lib\\\\site-packages\\\\pykeen\\\\datasets\\\\nations\\\\train.txt\", \"r\")\n",
    "print(f.read())"
   ]
  },
  {
   "cell_type": "code",
   "execution_count": null,
   "metadata": {},
   "outputs": [],
   "source": [
    "f = open(\"test.txt\", \"r\", encoding=\"utf-8\")\n",
    "print(f.read())"
   ]
  },
  {
   "cell_type": "code",
   "execution_count": null,
   "metadata": {},
   "outputs": [],
   "source": [
    "type(f)"
   ]
  },
  {
   "cell_type": "code",
   "execution_count": null,
   "metadata": {
    "scrolled": true
   },
   "outputs": [],
   "source": [
    "from pykeen.models import TransE\n",
    "model = TransE(triples_factory='test.txt')"
   ]
  },
  {
   "cell_type": "code",
   "execution_count": null,
   "metadata": {
    "scrolled": true
   },
   "outputs": [],
   "source": [
    "import numpy as np\n",
    "np.savetxt(r'np.txt', data.values, fmt='%s')\n"
   ]
  },
  {
   "cell_type": "code",
   "execution_count": null,
   "metadata": {},
   "outputs": [],
   "source": [
    "data.to_csv('test.txt', index = False, header=False, sep='\\t')"
   ]
  },
  {
   "cell_type": "code",
   "execution_count": null,
   "metadata": {},
   "outputs": [],
   "source": [
    "pd.read_csv('test.txt')"
   ]
  },
  {
   "cell_type": "code",
   "execution_count": null,
   "metadata": {},
   "outputs": [],
   "source": []
  },
  {
   "cell_type": "code",
   "execution_count": null,
   "metadata": {},
   "outputs": [],
   "source": []
  },
  {
   "cell_type": "code",
   "execution_count": null,
   "metadata": {},
   "outputs": [],
   "source": []
  }
 ],
 "metadata": {
  "kernelspec": {
   "display_name": "Python 3",
   "language": "python",
   "name": "python3"
  },
  "language_info": {
   "codemirror_mode": {
    "name": "ipython",
    "version": 3
   },
   "file_extension": ".py",
   "mimetype": "text/x-python",
   "name": "python",
   "nbconvert_exporter": "python",
   "pygments_lexer": "ipython3",
   "version": "3.8.3"
  }
 },
 "nbformat": 4,
 "nbformat_minor": 4
}
